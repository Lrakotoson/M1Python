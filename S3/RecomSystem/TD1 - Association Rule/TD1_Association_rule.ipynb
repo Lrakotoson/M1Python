{
 "cells": [
  {
   "cell_type": "markdown",
   "metadata": {},
   "source": [
    "# Fouille d’itemsets et de règles d’association"
   ]
  },
  {
   "cell_type": "code",
   "execution_count": 1,
   "metadata": {},
   "outputs": [],
   "source": [
    "from armining import itemset as its, associationrule as ar"
   ]
  },
  {
   "cell_type": "markdown",
   "metadata": {},
   "source": [
    "## Prise en main du squelette Python\n",
    "### Manipulation 1.\n",
    "Construire un `ItemSet` ne contenant qu’un élément. Ajouter à cet `ItemSet` des éléments, un à un, à l’aide de la méthode `add` (héritée de la classe set) , puis afficher le contenu de l’ `ItemSet` ainsi que sa cardinalité."
   ]
  },
  {
   "cell_type": "code",
   "execution_count": 2,
   "metadata": {},
   "outputs": [
    {
     "name": "stdout",
     "output_type": "stream",
     "text": [
      "Itemset: {'Sasuke', 'Itachi', 'Madara', 'Shisui'}\n",
      "Cardinalité: 4\n"
     ]
    }
   ],
   "source": [
    "its_0 = its.ItemSet(\"Madara\")\n",
    "for uchiha in [\"Sasuke\", \"Itachi\", \"Shisui\"]:\n",
    "    its_0.add(uchiha)\n",
    "    \n",
    "print(f'Itemset: {its_0}\\nCardinalité: {len(its_0)}')"
   ]
  },
  {
   "cell_type": "markdown",
   "metadata": {},
   "source": [
    "### Manupulation 2.\n",
    "Importez, à l’aide de la fonction `readItemSets` du module `itemset`, les données contenues dans le fichier `\"data/beer_diapers.txt\"`."
   ]
  },
  {
   "cell_type": "code",
   "execution_count": 3,
   "metadata": {},
   "outputs": [
    {
     "data": {
      "text/plain": [
       "[{'Milk', 'Bread'},\n",
       " {'Diapers', 'Eggs', 'Beer', 'Bread'},\n",
       " {'Milk', 'Diapers', 'Coke', 'Beer'},\n",
       " {'Milk', 'Diapers', 'Beer', 'Bread'},\n",
       " {'Milk', 'Diapers', 'Coke', 'Bread'}]"
      ]
     },
     "execution_count": 3,
     "metadata": {},
     "output_type": "execute_result"
    }
   ],
   "source": [
    "dataset = its.readItemSets(\"data/beer_diapers.txt\")\n",
    "dataset"
   ]
  },
  {
   "cell_type": "markdown",
   "metadata": {},
   "source": [
    "### Manipulation 3.\n",
    "Calculez, à l’aide de la méthode adaptée, le support de l’`ItemSet` créé à la Manipulation 1 dans le jeu de données de la Manipulation 2. Répétez l’expérience avec un `ItemSet` plus adapté aux données du fichier `\"data/beer_diapers.txt\"`."
   ]
  },
  {
   "cell_type": "code",
   "execution_count": 4,
   "metadata": {},
   "outputs": [
    {
     "data": {
      "text/plain": [
       "2"
      ]
     },
     "execution_count": 4,
     "metadata": {},
     "output_type": "execute_result"
    }
   ],
   "source": [
    "its_0.support(dataset)\n",
    "its_1 = its.ItemSet(('Bread', 'Beer'))\n",
    "its_1.support(dataset)"
   ]
  },
  {
   "cell_type": "markdown",
   "metadata": {},
   "source": [
    "### Manipulation 4.\n",
    "Observez, pour quelques `ItemSet` de votre création, que la règle vue en cours selon laquelle si un `ItemSet` $I_1$ est inclus dans un autre `ItemSet` $I_2$ , alors on a support($I_1$) ≥ support($I_2$)."
   ]
  },
  {
   "cell_type": "code",
   "execution_count": 5,
   "metadata": {},
   "outputs": [
    {
     "data": {
      "text/plain": [
       "True"
      ]
     },
     "execution_count": 5,
     "metadata": {},
     "output_type": "execute_result"
    }
   ],
   "source": [
    "its_2 = its_1\n",
    "its_2.add('Coke')\n",
    "\n",
    "its_1.support(dataset) >= its_2.support(dataset)"
   ]
  },
  {
   "cell_type": "markdown",
   "metadata": {},
   "source": [
    "### Manipulation 5.\n",
    "\n",
    "Implémentez la méthode `associationRules` de la classe `AssociationRule` qui renvoie une liste de toutes les règles d’associations dérivées de l’`Itemset` fourni (on ne considèrera que les règles d’association dont le conséquent est de cardinalité 1 et l’antécédent de cardinalité $k−1$ où $k$ est la cardinalité de l’`ItemSet`)."
   ]
  },
  {
   "cell_type": "code",
   "execution_count": 6,
   "metadata": {},
   "outputs": [
    {
     "data": {
      "text/plain": [
       "[({'Beer', 'Bread'}, {'Coke'}),\n",
       " ({'Coke', 'Bread'}, {'Beer'}),\n",
       " ({'Coke', 'Beer'}, {'Bread'})]"
      ]
     },
     "execution_count": 6,
     "metadata": {},
     "output_type": "execute_result"
    }
   ],
   "source": [
    "ar.associationRules(its_2)"
   ]
  },
  {
   "cell_type": "markdown",
   "metadata": {},
   "source": [
    "### Manipulation 6.\n",
    "Pour un `ItemSet` de votre choix (de cardinalité au moins égale à 2), générez l’ensemble des règles d’association dérivées (à l’aide de la méthode `associationRules` implémentée à la question précédente) et calculez la confiance de chacune d’entre elles pour le jeu de données de la Manipulation 2"
   ]
  },
  {
   "cell_type": "code",
   "execution_count": 7,
   "metadata": {},
   "outputs": [
    {
     "data": {
      "text/plain": [
       "[0.6666666666666666, 1.0, 0.6666666666666666]"
      ]
     },
     "execution_count": 7,
     "metadata": {},
     "output_type": "execute_result"
    }
   ],
   "source": [
    "its_3 = its.ItemSet(['Beer', 'Diapers', 'Milk'])\n",
    "ar.confidence(its_3, dataset)"
   ]
  },
  {
   "cell_type": "markdown",
   "metadata": {},
   "source": [
    "## Implémentations des fonctions de fouille des règles d’association\n",
    "### Manipulation 7.\n",
    "Implémenter la fonction `allSingletons` prenant en premier argument un dataset et en second argument optionnel un seuil de support minimum, et qui renvoie une liste de tous les items contenus dans le dataset (sous forme d’une liste d’`ItemSet` singletons) ayant un support au moins égal au seuil fourni en second argument. Si ce second argument n’est pas fourni, tous les singletons sont renvoyés quel que soit leur support."
   ]
  },
  {
   "cell_type": "code",
   "execution_count": 8,
   "metadata": {},
   "outputs": [
    {
     "data": {
      "text/plain": [
       "[{'Milk'}, {'Coke'}, {'Beer'}, {'Bread'}, {'Diapers'}]"
      ]
     },
     "execution_count": 8,
     "metadata": {},
     "output_type": "execute_result"
    }
   ],
   "source": [
    "its.allSingletons(dataset, 2)"
   ]
  },
  {
   "cell_type": "markdown",
   "metadata": {},
   "source": [
    "### Manipulation 8.\n",
    "Implémentez la fonction `candidateGeneration` qui prend en entrée la liste $L_k$ des `ItemSet` de taille $k$ et retourne la liste des `ItemSet` candidats de taille $k + 1$ tels que tous leurs sous-ItemSet de taille $k$ sont dans $L_k$. Notez pour cela qu’un `ItemSet` de l’ensemble de sortie ne peut être composé que comme l’union de deux ItemSet de $L_k$.  \n",
    "Vérifiez sur la liste suivante que la valeur de retour de la fonction précédente est correcte : `[{'Beer', 'Diapers'}, {'Beer', 'Coke'}, {'Coke', 'Diapers'}, {'Beer', 'Milk'}]`"
   ]
  },
  {
   "cell_type": "code",
   "execution_count": 9,
   "metadata": {},
   "outputs": [
    {
     "data": {
      "text/plain": [
       "[{'Diapers', 'Coke', 'Beer'}]"
      ]
     },
     "execution_count": 9,
     "metadata": {},
     "output_type": "execute_result"
    }
   ],
   "source": [
    "list_k = list(map(its.ItemSet, [{'Beer', 'Diapers'}, {\n",
    "              'Beer', 'Coke'}, {'Coke', 'Diapers'}, {'Beer', 'Milk'}]))\n",
    "its.candidateGeneration(list_k)"
   ]
  },
  {
   "cell_type": "markdown",
   "metadata": {},
   "source": [
    "### Manipulation 9.\n",
    "Implémentez l’algorithme A priori de découverte d’`ItemSet` fréquents dans la fonction `aPriori` du module `itemset`. Cette fonction fera appel à celles développées lors des manipulations 7 et 8."
   ]
  },
  {
   "cell_type": "code",
   "execution_count": 10,
   "metadata": {},
   "outputs": [
    {
     "data": {
      "text/plain": [
       "[{'Milk'},\n",
       " {'Diapers'},\n",
       " {'Coke'},\n",
       " {'Beer'},\n",
       " {'Diapers', 'Beer'},\n",
       " {'Milk', 'Beer'},\n",
       " {'Diapers', 'Coke'},\n",
       " {'Coke', 'Beer'}]"
      ]
     },
     "execution_count": 10,
     "metadata": {},
     "output_type": "execute_result"
    }
   ],
   "source": [
    "its.aPriori(list_k, 1)"
   ]
  },
  {
   "cell_type": "markdown",
   "metadata": {},
   "source": [
    "### Manipulation 10.\n",
    "Implémentez la fonction `mineAssociationRules` du module `assoiationrule` qui appelle `aPriori`, puis génère, pour chaque `ItemSet` fréquent de taille au moins égale à 2, l’ensemble des règles d’association dérivées. Pour chaque règle dérivée, on vérifiera qu’elle remplit la condition de confiance et, si c’est le cas, on la retiendra comme règle valable.\n",
    "\n",
    "Vérifier le bon fonctionnement de cette fonction en prenant un support minimum de 3 et une confiance minimum de 0.9."
   ]
  },
  {
   "cell_type": "code",
   "execution_count": 11,
   "metadata": {},
   "outputs": [],
   "source": [
    "list_k = list(\n",
    "    map(its.ItemSet, [{'Bread', 'Milk'}, {'Bread', 'Diapers', 'Beer', 'Eggs'},\n",
    "                      {'Milk', 'Diapers', 'Beer', 'Coke'},\n",
    "                      {'Bread', 'Milk', 'Diapers', 'Beer'},\n",
    "                      {'Bread', 'Milk', 'Diapers', 'Coke'}]))"
   ]
  },
  {
   "cell_type": "code",
   "execution_count": 12,
   "metadata": {},
   "outputs": [
    {
     "data": {
      "text/plain": [
       "[{'Beer'} -> {'Diapers'}]"
      ]
     },
     "execution_count": 12,
     "metadata": {},
     "output_type": "execute_result"
    }
   ],
   "source": [
    "ar.mineAssociationRules(list_k, 3, .9)"
   ]
  }
 ],
 "metadata": {
  "kernelspec": {
   "display_name": "Python 3",
   "language": "python",
   "name": "python3"
  },
  "language_info": {
   "codemirror_mode": {
    "name": "ipython",
    "version": 3
   },
   "file_extension": ".py",
   "mimetype": "text/x-python",
   "name": "python",
   "nbconvert_exporter": "python",
   "pygments_lexer": "ipython3",
   "version": "3.7.9"
  },
  "latex_envs": {
   "LaTeX_envs_menu_present": true,
   "autoclose": false,
   "autocomplete": true,
   "bibliofile": "biblio.bib",
   "cite_by": "apalike",
   "current_citInitial": 1,
   "eqLabelWithNumbers": true,
   "eqNumInitial": 1,
   "hotkeys": {
    "equation": "Ctrl-E",
    "itemize": "Ctrl-I"
   },
   "labels_anchors": false,
   "latex_user_defs": false,
   "report_style_numbering": false,
   "user_envs_cfg": false
  }
 },
 "nbformat": 4,
 "nbformat_minor": 4
}
