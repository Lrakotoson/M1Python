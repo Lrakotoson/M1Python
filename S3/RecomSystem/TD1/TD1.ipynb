{
 "cells": [
  {
   "cell_type": "markdown",
   "metadata": {},
   "source": [
    "# Fouille d’itemsets et de règles d’association"
   ]
  },
  {
   "cell_type": "code",
   "execution_count": 11,
   "metadata": {},
   "outputs": [],
   "source": [
    "from armining import itemset as its, associationrule as ar"
   ]
  },
  {
   "cell_type": "markdown",
   "metadata": {},
   "source": [
    "### Manipulation 1.\n",
    "Construire un `ItemSet` ne contenant qu’un élément. Ajouter à cet `ItemSet` des éléments, un à un, à l’aide de la méthode `add` (héritée de la classe set) , puis afficher le contenu de l’ `ItemSet` ainsi que sa cardinalité."
   ]
  },
  {
   "cell_type": "code",
   "execution_count": 28,
   "metadata": {},
   "outputs": [
    {
     "name": "stdout",
     "output_type": "stream",
     "text": [
      "Itemset: {'Itachi', 'Sasuke', 'Madara', 'Shisui'}\n",
      "Cardinalité: 4\n"
     ]
    }
   ],
   "source": [
    "its_0 = its.ItemSet(\"Madara\")\n",
    "for uchiha in [\"Sasuke\", \"Itachi\", \"Shisui\"]:\n",
    "    its_0.add(uchiha)\n",
    "    \n",
    "print(f'Itemset: {its_0}\\nCardinalité: {len(its_0)}')"
   ]
  },
  {
   "cell_type": "markdown",
   "metadata": {},
   "source": [
    "### Manupulation 2.\n",
    "Importez, à l’aide de la fonction `readItemSets` du module `itemset`, les données contenues dans le fichier `\"data/beer_diapers.txt\"`."
   ]
  },
  {
   "cell_type": "code",
   "execution_count": 29,
   "metadata": {},
   "outputs": [
    {
     "data": {
      "text/plain": [
       "[{'Milk', 'Bread'},\n",
       " {'Diapers', 'Bread', 'Beer', 'Eggs'},\n",
       " {'Milk', 'Diapers', 'Beer', 'Coke'},\n",
       " {'Milk', 'Bread', 'Beer', 'Diapers'},\n",
       " {'Milk', 'Bread', 'Diapers', 'Coke'}]"
      ]
     },
     "execution_count": 29,
     "metadata": {},
     "output_type": "execute_result"
    }
   ],
   "source": [
    "dataset = its.readItemSets(\"data/beer_diapers.txt\")\n",
    "dataset"
   ]
  },
  {
   "cell_type": "markdown",
   "metadata": {},
   "source": [
    "### Manipulation 3.\n",
    "Calculez, à l’aide de la méthode adaptée, le support de l’`ItemSet` créé à la Manipulation 1 dans le jeu de données de la Manipulation 2. Répétez l’expérience avec un `ItemSet` plus adapté aux données du fichier `\"data/beer_diapers.txt\"`."
   ]
  },
  {
   "cell_type": "code",
   "execution_count": 36,
   "metadata": {},
   "outputs": [
    {
     "data": {
      "text/plain": [
       "2"
      ]
     },
     "execution_count": 36,
     "metadata": {},
     "output_type": "execute_result"
    }
   ],
   "source": [
    "its_0.support(dataset)\n",
    "its_1 = its.ItemSet(('Bread', 'Beer'))\n",
    "its_1.support(dataset)"
   ]
  },
  {
   "cell_type": "markdown",
   "metadata": {},
   "source": [
    "### Manipulation 4.\n",
    "Observez, pour quelques `ItemSet` de votre création, que la règle vue en cours selon laquelle si un `ItemSet` $I_1$ est inclus dans un autre `ItemSet` $I_2$ , alors on a support($I_1$) ≥ support($I_2$)."
   ]
  },
  {
   "cell_type": "code",
   "execution_count": 52,
   "metadata": {},
   "outputs": [],
   "source": [
    "its_2 = its_1\n",
    "its_2.add('Coke')\n",
    "\n",
    "its_1.support(dataset) >= its_2.support(dataset)"
   ]
  },
  {
   "cell_type": "markdown",
   "metadata": {},
   "source": [
    "### Manipulation 5."
   ]
  },
  {
   "cell_type": "markdown",
   "metadata": {},
   "source": [
    "Implémentez la méthode `associationRules` de la classe `AssociationRule` qui renvoie une liste de toutes les règles d’associations dérivées de l’`Itemset` fourni (on ne considèrera que les règles d’association dont le conséquent est de cardinalité 1 et l’antécédent de cardinalité $k−1$ où $k$ est la cardinalité de l’`ItemSet`)."
   ]
  }
 ],
 "metadata": {
  "kernelspec": {
   "display_name": "Python 3",
   "language": "python",
   "name": "python3"
  },
  "language_info": {
   "codemirror_mode": {
    "name": "ipython",
    "version": 3
   },
   "file_extension": ".py",
   "mimetype": "text/x-python",
   "name": "python",
   "nbconvert_exporter": "python",
   "pygments_lexer": "ipython3",
   "version": "3.7.7"
  }
 },
 "nbformat": 4,
 "nbformat_minor": 4
}
