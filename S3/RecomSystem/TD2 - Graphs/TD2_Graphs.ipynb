{
 "cells": [
  {
   "cell_type": "markdown",
   "metadata": {},
   "source": [
    "# Fouille de graphes"
   ]
  },
  {
   "cell_type": "code",
   "execution_count": 1,
   "metadata": {},
   "outputs": [],
   "source": [
    "import networkx as nx\n",
    "import matplotlib.pyplot as plt\n",
    "import math"
   ]
  },
  {
   "cell_type": "code",
   "execution_count": 2,
   "metadata": {},
   "outputs": [],
   "source": [
    "%matplotlib inline"
   ]
  },
  {
   "cell_type": "markdown",
   "metadata": {},
   "source": [
    "## Graphes non orientés\n",
    "Stockez dans une variable le graphe non orienté contenu dans le fichier `data/graph1.txt` (le format de ce fichier est appelé Edge List dans la nomenclature NetworkX).  \n",
    "Affichez la liste de ses noeuds et la liste de ses liens."
   ]
  },
  {
   "cell_type": "code",
   "execution_count": 3,
   "metadata": {},
   "outputs": [],
   "source": [
    "with open('data/graph1.txt') as f:\n",
    "    data_1 = list(map(lambda x: x.split(), f.readlines()))"
   ]
  },
  {
   "cell_type": "code",
   "execution_count": 4,
   "metadata": {},
   "outputs": [
    {
     "name": "stdout",
     "output_type": "stream",
     "text": [
      "nodes :{'B', 'C', 'E', 'D', 'A'}\n",
      "edges: [['A', 'B'], ['B', 'C'], ['A', 'D'], ['D', 'E'], ['C', 'D']]\n"
     ]
    }
   ],
   "source": [
    "print(f'nodes :{set(sum(data_1, []))}\\nedges: {data_1}')"
   ]
  },
  {
   "cell_type": "code",
   "execution_count": 5,
   "metadata": {},
   "outputs": [
    {
     "data": {
      "image/png": "[encoded data removed]",
      "text/plain": [
       "<Figure size 432x288 with 1 Axes>"
      ]
     },
     "metadata": {},
     "output_type": "display_data"
    }
   ],
   "source": [
    "graph_1 = nx.Graph()\n",
    "graph_1.add_edges_from(data_1)\n",
    "nx.draw(graph_1)"
   ]
  },
  {
   "cell_type": "markdown",
   "metadata": {},
   "source": [
    "Affichez, pour chacun des noeuds de ce graphe, son degré et la liste de ses voisins dans le graphe"
   ]
  },
  {
   "cell_type": "code",
   "execution_count": 6,
   "metadata": {},
   "outputs": [
    {
     "data": {
      "text/plain": [
       "{'A': (2, ['B', 'D']),\n",
       " 'B': (2, ['A', 'C']),\n",
       " 'C': (2, ['B', 'D']),\n",
       " 'D': (3, ['A', 'E', 'C']),\n",
       " 'E': (1, ['D'])}"
      ]
     },
     "execution_count": 6,
     "metadata": {},
     "output_type": "execute_result"
    }
   ],
   "source": [
    "nodes = dict()\n",
    "for node1, node2 in data_1:\n",
    "    nodes[node1] = nodes.get(node1,[]) + [node2]\n",
    "    nodes[node2] = nodes.get(node2,[]) + [node1]\n",
    "{node: (len(k),k) for node,k in nodes.items()}"
   ]
  },
  {
   "cell_type": "markdown",
   "metadata": {},
   "source": [
    "Affichez, pour chaque paire de noeuds du graphe, un chemin menant d'un noeud à l'autre dans le graphe, s'il en existe."
   ]
  },
  {
   "cell_type": "code",
   "execution_count": 7,
   "metadata": {},
   "outputs": [
    {
     "data": {
      "text/plain": [
       "[('A',\n",
       "  {'A': ['A'],\n",
       "   'B': ['A', 'B'],\n",
       "   'D': ['A', 'D'],\n",
       "   'C': ['A', 'B', 'C'],\n",
       "   'E': ['A', 'D', 'E']}),\n",
       " ('B',\n",
       "  {'B': ['B'],\n",
       "   'A': ['B', 'A'],\n",
       "   'C': ['B', 'C'],\n",
       "   'D': ['B', 'A', 'D'],\n",
       "   'E': ['B', 'A', 'D', 'E']}),\n",
       " ('C',\n",
       "  {'C': ['C'],\n",
       "   'B': ['C', 'B'],\n",
       "   'D': ['C', 'D'],\n",
       "   'A': ['C', 'B', 'A'],\n",
       "   'E': ['C', 'D', 'E']}),\n",
       " ('D',\n",
       "  {'D': ['D'],\n",
       "   'A': ['D', 'A'],\n",
       "   'E': ['D', 'E'],\n",
       "   'C': ['D', 'C'],\n",
       "   'B': ['D', 'A', 'B']}),\n",
       " ('E',\n",
       "  {'E': ['E'],\n",
       "   'D': ['E', 'D'],\n",
       "   'A': ['E', 'D', 'A'],\n",
       "   'C': ['E', 'D', 'C'],\n",
       "   'B': ['E', 'D', 'A', 'B']})]"
      ]
     },
     "execution_count": 7,
     "metadata": {},
     "output_type": "execute_result"
    }
   ],
   "source": [
    "list(nx.all_pairs_shortest_path(graph_1))"
   ]
  }
 ],
 "metadata": {
  "kernelspec": {
   "display_name": "Python 3",
   "language": "python",
   "name": "python3"
  },
  "language_info": {
   "codemirror_mode": {
    "name": "ipython",
    "version": 3
   },
   "file_extension": ".py",
   "mimetype": "text/x-python",
   "name": "python",
   "nbconvert_exporter": "python",
   "pygments_lexer": "ipython3",
   "version": "3.7.9"
  },
  "latex_envs": {
   "LaTeX_envs_menu_present": true,
   "autoclose": false,
   "autocomplete": true,
   "bibliofile": "biblio.bib",
   "cite_by": "apalike",
   "current_citInitial": 1,
   "eqLabelWithNumbers": true,
   "eqNumInitial": 1,
   "hotkeys": {
    "equation": "Ctrl-E",
    "itemize": "Ctrl-I"
   },
   "labels_anchors": false,
   "latex_user_defs": false,
   "report_style_numbering": false,
   "user_envs_cfg": false
  }
 },
 "nbformat": 4,
 "nbformat_minor": 4
}
