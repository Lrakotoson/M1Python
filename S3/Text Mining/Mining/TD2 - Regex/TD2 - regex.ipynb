{
 "cells": [
  {
   "cell_type": "markdown",
   "metadata": {},
   "source": [
    "Utilisation des expressions régulières\n",
    "--"
   ]
  },
  {
   "cell_type": "code",
   "execution_count": 1,
   "metadata": {},
   "outputs": [],
   "source": [
    "import re"
   ]
  },
  {
   "cell_type": "markdown",
   "metadata": {},
   "source": [
    "## 1. Extraction d'URL\n",
    "À partir du fichier `extrait.html` fourni, écrire un programme Python qui extrait dans un nouveau fichier texte, la liste de tous les liens de la page HTML ainsi que le texte du lien associé à chaque URL."
   ]
  },
  {
   "cell_type": "code",
   "execution_count": 2,
   "metadata": {},
   "outputs": [
    {
     "name": "stdout",
     "output_type": "stream",
     "text": [
      "kde-linux.html = L'environnement graphique KDE\n",
      "install-mandrake-cfipen.html = Exemple d'installation\n",
      "install-reseau.html = installation par NFS\n",
      "demarrage-linux.html = Démarrer (sous) Linux\n",
      "systemes-fichiers.html = système de fichiers\n",
      "commandes-generales.html = Principales commandes utilisateurs\n",
      "tp-extension-systeme.html = TP Extension du système\n",
      "install-archivage.html = Installation d'applications et archivage\n",
      "impression-linux.html = Le service d'impression\n",
      "x11r6-linux.html = Installation et réglages du serveur X\n"
     ]
    }
   ],
   "source": [
    "with open(\"data/extrait.html\", encoding=\"utf-8\") as r, open(\"data/links.txt\", 'w', encoding='utf-8') as w:\n",
    "    for line in r.readlines():\n",
    "        link = re.findall(r'<a\\s*(href=.+)>\\s*(.+)\\s*</a>', line, re.I)\n",
    "        if len(link):\n",
    "            link = link[0]\n",
    "            w.write(f'{link[0][6:-1]} = {link[1].strip()}\\n')\n",
    "            print(f'{link[0][6:-1]} = {link[1].strip()}')"
   ]
  },
  {
   "cell_type": "markdown",
   "metadata": {},
   "source": [
    "## 2. Traitement d'emails\n",
    "Écrire un programme Python qui permet à l'utilisateur de saisir une adresse e-mail et extrait et affiche à partir de cette adresse les 4 éléments suivants:  \n",
    "- nom\n",
    "- prénom *(facultatif)*\n",
    "- serveur\n",
    "- domaine"
   ]
  },
  {
   "cell_type": "code",
   "execution_count": 3,
   "metadata": {},
   "outputs": [
    {
     "name": "stdout",
     "output_type": "stream",
     "text": [
      "Marie.Dupond@esbs.u-strasbg.fr\n",
      "> {'nom': 'Marie', 'prenom': 'Dupond', 'serveur': 'esbs.u-strasbg', 'domaine': 'fr'}\n",
      "Arnaud.Dupuis@yahoo.es\n",
      "> {'nom': 'Arnaud', 'prenom': 'Dupuis', 'serveur': 'yahoo', 'domaine': 'es'}\n",
      "nelly.rousseau@univ-rennes2.fr\n",
      "> {'nom': 'nelly', 'prenom': 'rousseau', 'serveur': 'univ-rennes2', 'domaine': 'fr'}\n",
      "octavia-edie.efraim@univ-rennes2.fr\n",
      "> {'nom': 'octavia-edie', 'prenom': 'efraim', 'serveur': 'univ-rennes2', 'domaine': 'fr'}\n",
      "laurent.lahaye@gmail.com\n",
      "> {'nom': 'laurent', 'prenom': 'lahaye', 'serveur': 'gmail', 'domaine': 'com'}\n",
      "GILLES.LEPENTE@iut.u-bordeaux3.fr\n",
      "> {'nom': 'GILLES', 'prenom': 'LEPENTE', 'serveur': 'iut.u-bordeaux3', 'domaine': 'fr'}\n",
      "accueil@uhb.fr\n",
      "> {'nom': 'accueil', 'prenom': '', 'serveur': 'uhb', 'domaine': 'fr'}\n"
     ]
    }
   ],
   "source": [
    "with open(\"data/td3_exo2_adressesMail.txt\") as f:\n",
    "    for line in f.readlines():\n",
    "        parse = re.findall(r\"([\\w-]+)\\.*([\\w-]+)*@(.+)\\.(.{2,3})\", line)[0]\n",
    "        print(\n",
    "            f\"{line}> {dict(zip(['nom','prenom','serveur','domaine'], parse))}\"\n",
    "        )"
   ]
  },
  {
   "cell_type": "markdown",
   "metadata": {},
   "source": [
    "## 3. Traitement de logs\n",
    "Extraire depuis `log.txt` vers `log_out`, pour une ouverture se session, le nom, la date et l'heure.  \n",
    "`Jul 26 20:06:34  PAM_unix[15771]: (system-auth) session opened for user brejeon by (uid=0)` $\\to$ `brejeon: Jul 26 (20h06)`"
   ]
  },
  {
   "cell_type": "code",
   "execution_count": 4,
   "metadata": {},
   "outputs": [],
   "source": [
    "with open(\"data/log.txt\") as r, open(\"data/log_out\", 'w') as w:\n",
    "    for line in r.readlines():\n",
    "        parse = re.findall(\"([a-zA-Z]{3})\\s+(\\d{1,2}) (\\d{2}:\\d{2}).*?opened for user (\\w+) by.*\", line)\n",
    "        if len(parse):\n",
    "            parse = parse[0]\n",
    "            print(f\"{parse[3]}: {parse[0]} {parse[1]} ({parse[2].replace(':','h')})\", file = w)"
   ]
  },
  {
   "cell_type": "markdown",
   "metadata": {},
   "source": [
    "## 4. Nettoyage de page HTML\n",
    "### Question 1:\n",
    "Écrire un programme Python qui procède au nettoyage complet du document `Sigles.txt` (suppression de tous les éléments liés au langage HTML ou autres codages Web, élimination des lignes vides, etc.) et récupère dans un nouveau fichier le texte brut.\n",
    "### Question 2:\n",
    "Modifier votre programme pour qu'il puisse extraire également dans un nouveau fichier texte nommé `liste_sigles` toutes les abréviations (en majuscule) qui sont contenues dans ce document."
   ]
  },
  {
   "cell_type": "code",
   "execution_count": 5,
   "metadata": {},
   "outputs": [],
   "source": [
    "htag = re.compile(\"<\\/?[\\w\\s]*>|<.+[\\W]>|[\\n\\t\\ufeff]+\")\n",
    "with open(\"data/Sigles.txt\", encoding = \"utf-8\") as f:\n",
    "    file = re.sub('\\s+', ' ', htag.sub(' ', f.read())).strip()"
   ]
  },
  {
   "cell_type": "code",
   "execution_count": 6,
   "metadata": {},
   "outputs": [
    {
     "name": "stdout",
     "output_type": "stream",
     "text": [
      "RTT GTI SAR IP LCD PPD VIH HLM MMORPG PDF RAS\n"
     ]
    }
   ],
   "source": [
    "with open(\"data/liste_sigles\", 'w') as f:\n",
    "    print(*set(re.findall('([A-Z]{2,})[\\s+|\\.$]', file))) # sep='\\n', file=f, to write in liste_sigles"
   ]
  }
 ],
 "metadata": {
  "kernelspec": {
   "display_name": "Python 3",
   "language": "python",
   "name": "python3"
  },
  "language_info": {
   "codemirror_mode": {
    "name": "ipython",
    "version": 3
   },
   "file_extension": ".py",
   "mimetype": "text/x-python",
   "name": "python",
   "nbconvert_exporter": "python",
   "pygments_lexer": "ipython3",
   "version": "3.7.9"
  },
  "latex_envs": {
   "LaTeX_envs_menu_present": true,
   "autoclose": false,
   "autocomplete": true,
   "bibliofile": "biblio.bib",
   "cite_by": "apalike",
   "current_citInitial": 1,
   "eqLabelWithNumbers": true,
   "eqNumInitial": 1,
   "hotkeys": {
    "equation": "Ctrl-E",
    "itemize": "Ctrl-I"
   },
   "labels_anchors": false,
   "latex_user_defs": false,
   "report_style_numbering": false,
   "user_envs_cfg": false
  }
 },
 "nbformat": 4,
 "nbformat_minor": 4
}
