{
 "cells": [
  {
   "cell_type": "code",
   "execution_count": 26,
   "metadata": {},
   "outputs": [],
   "source": [
    "import numpy as np\n",
    "import pandas as pd\n",
    "import re\n",
    "import spacy\n",
    "from nltk.tokenize import word_tokenize\n",
    "from nltk.stem.snowball import FrenchStemmer\n",
    "from nltk.corpus import stopwords\n",
    "from sklearn.model_selection import train_test_split"
   ]
  },
  {
   "cell_type": "code",
   "execution_count": 31,
   "metadata": {},
   "outputs": [],
   "source": [
    "def get_dataset(data_path = \"../data/\", train = True):\n",
    "    \"\"\"\n",
    "    Read data from DEFT\n",
    "    :return: DataFrame\n",
    "    \"\"\"\n",
    "    _set = \"train\" if train else \"test\"\n",
    "    with open(f\"{data_path}references/{_set}.txt\") as f:\n",
    "        labels = dict(map(lambda x: x[:-1].split('\\t'), f.readlines()))\n",
    "    for _id in list(labels.keys()):\n",
    "        try:\n",
    "            with open(f\"{data_path}tweets/{_set}/{_id}.txt\",\n",
    "                      encoding = \"utf8\") as f:\n",
    "                tweet = f.read()[:-1]\n",
    "        except:\n",
    "            del labels[_id]\n",
    "        else:\n",
    "            labels[_id] = {\"label\": labels[_id], \"tweet\": tweet}\n",
    "    return pd.DataFrame.from_dict(labels, orient = 'index')"
   ]
  },
  {
   "cell_type": "code",
   "execution_count": 3,
   "metadata": {},
   "outputs": [],
   "source": [
    "train = get_dataset()\n",
    "test = get_dataset(train = False)\n",
    "train, val = train_test_split(train, test_size = .2, stratify = train.label, random_state = 42069)"
   ]
  },
  {
   "cell_type": "code",
   "execution_count": 27,
   "metadata": {},
   "outputs": [],
   "source": [
    "nlp = spacy.load('fr_core_news_sm')\n",
    "stemmer = FrenchStemmer()"
   ]
  },
  {
   "cell_type": "code",
   "execution_count": 35,
   "metadata": {},
   "outputs": [],
   "source": [
    "def clean_tweet(text, **kwargs):\n",
    "    \"\"\"\n",
    "    Clean tweet content. All **kwargs are bool\n",
    "    text: (str) tweet to be cleaned\n",
    "    **kwargs: lower, url, hashtag, user, symbol, digit, lemma, stopwords, stem\n",
    "    :return: (str) cleaned content\n",
    "    \"\"\"\n",
    "    global nlp, stemmer\n",
    "    text = text.lower() if kwargs.get('lower', True) else text\n",
    "    text = re.sub('http[s]?://\\S+', '', text) if kwargs.get('url', True) else text\n",
    "    text = re.sub('#\\S+', '', text) if kwargs.get('hashtag', False) else text\n",
    "    text = re.sub('@\\S+', '', text) if kwargs.get('user', False) else text\n",
    "    text = re.sub('[^0-9A-zÀ-ÿ +_]', ' ', text) if kwargs.get('symbol', True) else text\n",
    "    text = re.sub('\\d+', ' ', text) if kwargs.get('digit', False) else text\n",
    "\n",
    "    text = re.sub(' +', ' ', text)\n",
    "    text = map(lambda x: x.lemma_, nlp(text)) if kwargs.get(\n",
    "        'lemma', True) else word_tokenize(text, language = 'french')\n",
    "    text = filter(lambda x: x not in stopwords.words('french'),\n",
    "                  text) if kwargs.get('stopwords', True) else text\n",
    "    text = map(stemmer.stem, text) if kwargs.get('stem', True) else text\n",
    "    return ' '.join(text)"
   ]
  },
  {
   "cell_type": "code",
   "execution_count": 55,
   "metadata": {},
   "outputs": [],
   "source": [
    "train_basic = train.copy()\n",
    "val_basic = val.copy()\n",
    "test_basic = test.copy()"
   ]
  },
  {
   "cell_type": "code",
   "execution_count": 56,
   "metadata": {},
   "outputs": [],
   "source": [
    "train_basic.tweet = train_basic.tweet.apply(clean_tweet, lemma = False, stem = False, lower = False, stopwords = False)\n",
    "val_basic.tweet = val_basic.tweet.apply(clean_tweet, lemma = False, stem = False, lower = False, stopwords = False)\n",
    "test_basic.tweet = test_basic.tweet.apply(clean_tweet, lemma = False, stem = False, lower = False, stopwords = False)"
   ]
  },
  {
   "cell_type": "code",
   "execution_count": 57,
   "metadata": {},
   "outputs": [
    {
     "data": {
      "text/html": [
       "<div>\n",
       "<style scoped>\n",
       "    .dataframe tbody tr th:only-of-type {\n",
       "        vertical-align: middle;\n",
       "    }\n",
       "\n",
       "    .dataframe tbody tr th {\n",
       "        vertical-align: top;\n",
       "    }\n",
       "\n",
       "    .dataframe thead th {\n",
       "        text-align: right;\n",
       "    }\n",
       "</style>\n",
       "<table border=\"1\" class=\"dataframe\">\n",
       "  <thead>\n",
       "    <tr style=\"text-align: right;\">\n",
       "      <th></th>\n",
       "      <th>label</th>\n",
       "      <th>tweet</th>\n",
       "    </tr>\n",
       "  </thead>\n",
       "  <tbody>\n",
       "    <tr>\n",
       "      <th>520701162891137024</th>\n",
       "      <td>INFORMATION</td>\n",
       "      <td>Affichageenvironnemental sur les produits de c...</td>\n",
       "    </tr>\n",
       "    <tr>\n",
       "      <th>506710752598573057</th>\n",
       "      <td>INFORMATION</td>\n",
       "      <td>Dossier npaconseil M paiement m wallet un écos...</td>\n",
       "    </tr>\n",
       "    <tr>\n",
       "      <th>488740999301443585</th>\n",
       "      <td>OPINION</td>\n",
       "      <td>Un bel article qui montre que la culture est u...</td>\n",
       "    </tr>\n",
       "    <tr>\n",
       "      <th>520498601299300352</th>\n",
       "      <td>INFORMATION</td>\n",
       "      <td>Quelques exemples d actions d agendas 21 locau...</td>\n",
       "    </tr>\n",
       "    <tr>\n",
       "      <th>520220253251698688</th>\n",
       "      <td>OPINION</td>\n",
       "      <td>_PhMartin_ clamajakri L écologie fiscale punit...</td>\n",
       "    </tr>\n",
       "    <tr>\n",
       "      <th>...</th>\n",
       "      <td>...</td>\n",
       "      <td>...</td>\n",
       "    </tr>\n",
       "    <tr>\n",
       "      <th>489334928124153856</th>\n",
       "      <td>OPINION</td>\n",
       "      <td>Agriculture Des éleveurs s engagent pour la bi...</td>\n",
       "    </tr>\n",
       "    <tr>\n",
       "      <th>507328152616841216</th>\n",
       "      <td>INFORMATION</td>\n",
       "      <td>Développement durable et biotech 3ème rencontr...</td>\n",
       "    </tr>\n",
       "    <tr>\n",
       "      <th>487618646412230656</th>\n",
       "      <td>OPINION</td>\n",
       "      <td>Impressionnante petite élise d éoliennes Wow d...</td>\n",
       "    </tr>\n",
       "    <tr>\n",
       "      <th>519002774084677632</th>\n",
       "      <td>OPINION</td>\n",
       "      <td>Présidentielle au Brésil Rousseff et Neves au ...</td>\n",
       "    </tr>\n",
       "    <tr>\n",
       "      <th>518393503530102784</th>\n",
       "      <td>OPINION</td>\n",
       "      <td>Éoliennes volantes le vent d enthousiasme Éner...</td>\n",
       "    </tr>\n",
       "  </tbody>\n",
       "</table>\n",
       "<p>5118 rows × 2 columns</p>\n",
       "</div>"
      ],
      "text/plain": [
       "                          label  \\\n",
       "520701162891137024  INFORMATION   \n",
       "506710752598573057  INFORMATION   \n",
       "488740999301443585      OPINION   \n",
       "520498601299300352  INFORMATION   \n",
       "520220253251698688      OPINION   \n",
       "...                         ...   \n",
       "489334928124153856      OPINION   \n",
       "507328152616841216  INFORMATION   \n",
       "487618646412230656      OPINION   \n",
       "519002774084677632      OPINION   \n",
       "518393503530102784      OPINION   \n",
       "\n",
       "                                                                tweet  \n",
       "520701162891137024  Affichageenvironnemental sur les produits de c...  \n",
       "506710752598573057  Dossier npaconseil M paiement m wallet un écos...  \n",
       "488740999301443585  Un bel article qui montre que la culture est u...  \n",
       "520498601299300352  Quelques exemples d actions d agendas 21 locau...  \n",
       "520220253251698688  _PhMartin_ clamajakri L écologie fiscale punit...  \n",
       "...                                                               ...  \n",
       "489334928124153856  Agriculture Des éleveurs s engagent pour la bi...  \n",
       "507328152616841216  Développement durable et biotech 3ème rencontr...  \n",
       "487618646412230656  Impressionnante petite élise d éoliennes Wow d...  \n",
       "519002774084677632  Présidentielle au Brésil Rousseff et Neves au ...  \n",
       "518393503530102784  Éoliennes volantes le vent d enthousiasme Éner...  \n",
       "\n",
       "[5118 rows x 2 columns]"
      ]
     },
     "execution_count": 57,
     "metadata": {},
     "output_type": "execute_result"
    }
   ],
   "source": [
    "train_basic"
   ]
  },
  {
   "cell_type": "code",
   "execution_count": 60,
   "metadata": {},
   "outputs": [],
   "source": [
    "test_basic.to_pickle(\"../data/datasets/test_basic.pkl\")"
   ]
  }
 ],
 "metadata": {
  "kernelspec": {
   "display_name": "Python 3",
   "language": "python",
   "name": "python3"
  },
  "language_info": {
   "codemirror_mode": {
    "name": "ipython",
    "version": 3
   },
   "file_extension": ".py",
   "mimetype": "text/x-python",
   "name": "python",
   "nbconvert_exporter": "python",
   "pygments_lexer": "ipython3",
   "version": "3.7.9"
  },
  "latex_envs": {
   "LaTeX_envs_menu_present": true,
   "autoclose": false,
   "autocomplete": true,
   "bibliofile": "biblio.bib",
   "cite_by": "apalike",
   "current_citInitial": 1,
   "eqLabelWithNumbers": true,
   "eqNumInitial": 1,
   "hotkeys": {
    "equation": "Ctrl-E",
    "itemize": "Ctrl-I"
   },
   "labels_anchors": false,
   "latex_user_defs": false,
   "report_style_numbering": false,
   "user_envs_cfg": false
  }
 },
 "nbformat": 4,
 "nbformat_minor": 4
}
