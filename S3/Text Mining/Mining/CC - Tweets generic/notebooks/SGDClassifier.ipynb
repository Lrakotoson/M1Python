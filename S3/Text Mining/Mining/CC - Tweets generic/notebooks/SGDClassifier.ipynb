{
 "cells": [
  {
   "cell_type": "code",
   "execution_count": 1,
   "metadata": {},
   "outputs": [],
   "source": [
    "import numpy as np\n",
    "import pandas as pd\n",
    "import matplotlib.pyplot as plt\n",
    "\n",
    "from sklearn.feature_extraction.text import TfidfVectorizer\n",
    "from sklearn.model_selection import GridSearchCV, KFold, cross_val_score, StratifiedKFold\n",
    "from sklearn.preprocessing import StandardScaler, LabelBinarizer, LabelEncoder\n",
    "from sklearn.linear_model import SGDClassifier\n",
    "from sklearn.pipeline import Pipeline\n",
    "from sklearn.metrics import (\n",
    "    f1_score, roc_auc_score, plot_confusion_matrix,\n",
    "    accuracy_score, classification_report\n",
    ")\n",
    "\n",
    "from imblearn.pipeline import Pipeline as ImbPipeline\n",
    "from imblearn.over_sampling import RandomOverSampler, SMOTE\n",
    "from imblearn.combine import SMOTETomek"
   ]
  },
  {
   "cell_type": "code",
   "execution_count": 2,
   "metadata": {},
   "outputs": [],
   "source": [
    "def nestedCV(estimator, param_grid, x_train, y_train, inner_cv, outer_cv,\n",
    "             **kwargs):\n",
    "    n_jobs = kwargs.get('n_jobs', 6)\n",
    "    scoring = kwargs.get('scoring', 'f1')\n",
    "    verbose = kwargs.get('verbose', 0)\n",
    "    name = kwargs.get('name')\n",
    "    results = list()\n",
    "    x_train = x_train\n",
    "    binarizer = LabelBinarizer()\n",
    "\n",
    "    for train, val in outer_cv.split(x_train, y_train):\n",
    "        search = GridSearchCV(estimator,\n",
    "                              param_grid,\n",
    "                              cv=inner_cv,\n",
    "                              scoring=scoring,\n",
    "                              n_jobs=n_jobs,\n",
    "                              verbose=verbose,\n",
    "                              refit=True).fit(x_train[train],\n",
    "                                              y_train[train])\n",
    "        y_pred = search.predict(x_train[val])\n",
    "        result = search.best_params_\n",
    "        result['name'] = name\n",
    "        result['f1_score'] = f1_score(y_train[val], y_pred, average = \"macro\")\n",
    "        result['inner_score'] = search.best_score_\n",
    "        result['auc'] = roc_auc_score(\n",
    "                binarizer.fit_transform(y_train[val]),\n",
    "                binarizer.fit_transform(y_pred),\n",
    "                average = \"macro\", multi_class = 'ovr')\n",
    "        result['accuracy'] = accuracy_score(y_train[val], y_pred)\n",
    "        results.append(result)\n",
    "\n",
    "    aggregate = pd.DataFrame(results).groupby(list(param_grid.keys()) +\n",
    "                                              ['name'],\n",
    "                                              as_index=False)\n",
    "    table = aggregate.mean()\n",
    "    table['count'] = aggregate.count().f1_score\n",
    "\n",
    "    best_params = {\n",
    "        k: v\n",
    "        for k, v in table.sort_values(\n",
    "            ['f1_score'], ascending=False).iloc[0].to_dict().items()\n",
    "        if k in param_grid.keys()\n",
    "    }\n",
    "\n",
    "    return table, best_params"
   ]
  },
  {
   "cell_type": "code",
   "execution_count": 3,
   "metadata": {},
   "outputs": [],
   "source": [
    "train = pd.concat([\n",
    "    pd.read_pickle(\"../data/datasets/train_classic.pkl\"),\n",
    "    pd.read_pickle(\"../data/datasets/val_classic.pkl\")\n",
    "])\n",
    "test = pd.read_pickle(\"../data/datasets/test_classic.pkl\")"
   ]
  },
  {
   "cell_type": "code",
   "execution_count": 4,
   "metadata": {},
   "outputs": [],
   "source": [
    "encoder = LabelEncoder()"
   ]
  },
  {
   "cell_type": "code",
   "execution_count": 5,
   "metadata": {},
   "outputs": [],
   "source": [
    "cv_inner = StratifiedKFold(n_splits = 3, shuffle = True, random_state = 42069)\n",
    "cv_outer = StratifiedKFold(n_splits = 5, shuffle = True, random_state = 42069)"
   ]
  },
  {
   "cell_type": "code",
   "execution_count": 6,
   "metadata": {},
   "outputs": [],
   "source": [
    "x_train = train.tweet.to_numpy()\n",
    "x_test = test.tweet.to_numpy()\n",
    "\n",
    "y_train = encoder.fit_transform(train.label)\n",
    "y_test = test.label"
   ]
  },
  {
   "cell_type": "markdown",
   "metadata": {},
   "source": [
    "# Entrainement\n",
    "## Modèle avec Standard Scaler"
   ]
  },
  {
   "cell_type": "code",
   "execution_count": 7,
   "metadata": {},
   "outputs": [],
   "source": [
    "model_1 = Pipeline([\n",
    "    ('vect', TfidfVectorizer(\n",
    "        sublinear_tf = True, max_df = 0.5,\n",
    "        stop_words = None)),\n",
    "    ('preprocess', StandardScaler(with_mean = False)),\n",
    "    ('clf', SGDClassifier(\n",
    "        early_stopping = True,\n",
    "        n_iter_no_change = 6,\n",
    "        penalty = 'l2',\n",
    "        max_iter = 3000\n",
    "    ))\n",
    "])"
   ]
  },
  {
   "cell_type": "code",
   "execution_count": 8,
   "metadata": {},
   "outputs": [],
   "source": [
    "grid_1 = {\n",
    "    'clf__loss': ['hinge', 'log', 'modified_huber'],\n",
    "    'clf__learning_rate': ['invscaling', 'optimal'],\n",
    "    'clf__eta0': [.01, .001],\n",
    "    'clf__alpha': [1e-2, 1e-4]\n",
    "}"
   ]
  },
  {
   "cell_type": "code",
   "execution_count": 9,
   "metadata": {},
   "outputs": [],
   "source": [
    "results_1, params_1 = nestedCV(\n",
    "    model_1, grid_1, x_train, y_train,\n",
    "    cv_inner, cv_outer, name = \"Sd_SGDClassifier\",\n",
    "    scoring = 'f1_macro'\n",
    ")"
   ]
  },
  {
   "cell_type": "code",
   "execution_count": 10,
   "metadata": {},
   "outputs": [
    {
     "data": {
      "text/html": [
       "<div>\n",
       "<style scoped>\n",
       "    .dataframe tbody tr th:only-of-type {\n",
       "        vertical-align: middle;\n",
       "    }\n",
       "\n",
       "    .dataframe tbody tr th {\n",
       "        vertical-align: top;\n",
       "    }\n",
       "\n",
       "    .dataframe thead th {\n",
       "        text-align: right;\n",
       "    }\n",
       "</style>\n",
       "<table border=\"1\" class=\"dataframe\">\n",
       "  <thead>\n",
       "    <tr style=\"text-align: right;\">\n",
       "      <th></th>\n",
       "      <th>clf__loss</th>\n",
       "      <th>clf__learning_rate</th>\n",
       "      <th>clf__eta0</th>\n",
       "      <th>clf__alpha</th>\n",
       "      <th>name</th>\n",
       "      <th>f1_score</th>\n",
       "      <th>inner_score</th>\n",
       "      <th>auc</th>\n",
       "      <th>accuracy</th>\n",
       "      <th>count</th>\n",
       "    </tr>\n",
       "  </thead>\n",
       "  <tbody>\n",
       "    <tr>\n",
       "      <th>0</th>\n",
       "      <td>hinge</td>\n",
       "      <td>invscaling</td>\n",
       "      <td>0.010</td>\n",
       "      <td>0.0001</td>\n",
       "      <td>Sd_SGDClassifier</td>\n",
       "      <td>0.523612</td>\n",
       "      <td>0.511313</td>\n",
       "      <td>0.691406</td>\n",
       "      <td>0.650781</td>\n",
       "      <td>1</td>\n",
       "    </tr>\n",
       "    <tr>\n",
       "      <th>1</th>\n",
       "      <td>modified_huber</td>\n",
       "      <td>invscaling</td>\n",
       "      <td>0.001</td>\n",
       "      <td>0.0001</td>\n",
       "      <td>Sd_SGDClassifier</td>\n",
       "      <td>0.519098</td>\n",
       "      <td>0.520651</td>\n",
       "      <td>0.669877</td>\n",
       "      <td>0.656890</td>\n",
       "      <td>2</td>\n",
       "    </tr>\n",
       "    <tr>\n",
       "      <th>2</th>\n",
       "      <td>modified_huber</td>\n",
       "      <td>invscaling</td>\n",
       "      <td>0.001</td>\n",
       "      <td>0.0100</td>\n",
       "      <td>Sd_SGDClassifier</td>\n",
       "      <td>0.518021</td>\n",
       "      <td>0.518131</td>\n",
       "      <td>0.670298</td>\n",
       "      <td>0.651036</td>\n",
       "      <td>2</td>\n",
       "    </tr>\n",
       "  </tbody>\n",
       "</table>\n",
       "</div>"
      ],
      "text/plain": [
       "        clf__loss clf__learning_rate  clf__eta0  clf__alpha              name  \\\n",
       "0           hinge         invscaling      0.010      0.0001  Sd_SGDClassifier   \n",
       "1  modified_huber         invscaling      0.001      0.0001  Sd_SGDClassifier   \n",
       "2  modified_huber         invscaling      0.001      0.0100  Sd_SGDClassifier   \n",
       "\n",
       "   f1_score  inner_score       auc  accuracy  count  \n",
       "0  0.523612     0.511313  0.691406  0.650781      1  \n",
       "1  0.519098     0.520651  0.669877  0.656890      2  \n",
       "2  0.518021     0.518131  0.670298  0.651036      2  "
      ]
     },
     "execution_count": 10,
     "metadata": {},
     "output_type": "execute_result"
    }
   ],
   "source": [
    "results_1"
   ]
  },
  {
   "cell_type": "markdown",
   "metadata": {},
   "source": [
    "## Modèle sans standardisation"
   ]
  },
  {
   "cell_type": "code",
   "execution_count": 11,
   "metadata": {},
   "outputs": [],
   "source": [
    "model_2 = Pipeline([\n",
    "    ('vect', TfidfVectorizer(\n",
    "        sublinear_tf = True, max_df = 0.5,\n",
    "        stop_words = None)),\n",
    "    ('clf', SGDClassifier(\n",
    "        early_stopping = True,\n",
    "        n_iter_no_change = 6,\n",
    "        penalty = 'l2',\n",
    "        max_iter = 3000\n",
    "    ))\n",
    "])"
   ]
  },
  {
   "cell_type": "code",
   "execution_count": 12,
   "metadata": {},
   "outputs": [],
   "source": [
    "grid_2 = {\n",
    "    'clf__loss': ['hinge', 'log', 'modified_huber'],\n",
    "    'clf__learning_rate': ['invscaling', 'optimal'],\n",
    "    'clf__eta0': [.01, .001, 1e-100],\n",
    "    'clf__alpha': [1e-2, 1e-4, 1e-5]\n",
    "}"
   ]
  },
  {
   "cell_type": "code",
   "execution_count": 13,
   "metadata": {},
   "outputs": [],
   "source": [
    "results_2, params_2 = nestedCV(\n",
    "    model_2, grid_2, x_train, y_train,\n",
    "    cv_inner, cv_outer, name = \"SGDClassifier\",\n",
    "    scoring = 'f1_macro'\n",
    ")"
   ]
  },
  {
   "cell_type": "code",
   "execution_count": 14,
   "metadata": {},
   "outputs": [
    {
     "data": {
      "text/html": [
       "<div>\n",
       "<style scoped>\n",
       "    .dataframe tbody tr th:only-of-type {\n",
       "        vertical-align: middle;\n",
       "    }\n",
       "\n",
       "    .dataframe tbody tr th {\n",
       "        vertical-align: top;\n",
       "    }\n",
       "\n",
       "    .dataframe thead th {\n",
       "        text-align: right;\n",
       "    }\n",
       "</style>\n",
       "<table border=\"1\" class=\"dataframe\">\n",
       "  <thead>\n",
       "    <tr style=\"text-align: right;\">\n",
       "      <th></th>\n",
       "      <th>clf__loss</th>\n",
       "      <th>clf__learning_rate</th>\n",
       "      <th>clf__eta0</th>\n",
       "      <th>clf__alpha</th>\n",
       "      <th>name</th>\n",
       "      <th>f1_score</th>\n",
       "      <th>inner_score</th>\n",
       "      <th>auc</th>\n",
       "      <th>accuracy</th>\n",
       "      <th>count</th>\n",
       "    </tr>\n",
       "  </thead>\n",
       "  <tbody>\n",
       "    <tr>\n",
       "      <th>0</th>\n",
       "      <td>hinge</td>\n",
       "      <td>optimal</td>\n",
       "      <td>1.000000e-100</td>\n",
       "      <td>0.00001</td>\n",
       "      <td>SGDClassifier</td>\n",
       "      <td>0.582424</td>\n",
       "      <td>0.583338</td>\n",
       "      <td>0.715422</td>\n",
       "      <td>0.669273</td>\n",
       "      <td>1</td>\n",
       "    </tr>\n",
       "    <tr>\n",
       "      <th>1</th>\n",
       "      <td>hinge</td>\n",
       "      <td>optimal</td>\n",
       "      <td>1.000000e-03</td>\n",
       "      <td>0.00010</td>\n",
       "      <td>SGDClassifier</td>\n",
       "      <td>0.629941</td>\n",
       "      <td>0.559474</td>\n",
       "      <td>0.727996</td>\n",
       "      <td>0.721094</td>\n",
       "      <td>1</td>\n",
       "    </tr>\n",
       "    <tr>\n",
       "      <th>2</th>\n",
       "      <td>hinge</td>\n",
       "      <td>optimal</td>\n",
       "      <td>1.000000e-02</td>\n",
       "      <td>0.00010</td>\n",
       "      <td>SGDClassifier</td>\n",
       "      <td>0.580161</td>\n",
       "      <td>0.583668</td>\n",
       "      <td>0.703173</td>\n",
       "      <td>0.706916</td>\n",
       "      <td>2</td>\n",
       "    </tr>\n",
       "    <tr>\n",
       "      <th>3</th>\n",
       "      <td>log</td>\n",
       "      <td>optimal</td>\n",
       "      <td>1.000000e-03</td>\n",
       "      <td>0.00001</td>\n",
       "      <td>SGDClassifier</td>\n",
       "      <td>0.513476</td>\n",
       "      <td>0.592333</td>\n",
       "      <td>0.664370</td>\n",
       "      <td>0.680469</td>\n",
       "      <td>1</td>\n",
       "    </tr>\n",
       "  </tbody>\n",
       "</table>\n",
       "</div>"
      ],
      "text/plain": [
       "  clf__loss clf__learning_rate      clf__eta0  clf__alpha           name  \\\n",
       "0     hinge            optimal  1.000000e-100     0.00001  SGDClassifier   \n",
       "1     hinge            optimal   1.000000e-03     0.00010  SGDClassifier   \n",
       "2     hinge            optimal   1.000000e-02     0.00010  SGDClassifier   \n",
       "3       log            optimal   1.000000e-03     0.00001  SGDClassifier   \n",
       "\n",
       "   f1_score  inner_score       auc  accuracy  count  \n",
       "0  0.582424     0.583338  0.715422  0.669273      1  \n",
       "1  0.629941     0.559474  0.727996  0.721094      1  \n",
       "2  0.580161     0.583668  0.703173  0.706916      2  \n",
       "3  0.513476     0.592333  0.664370  0.680469      1  "
      ]
     },
     "execution_count": 14,
     "metadata": {},
     "output_type": "execute_result"
    }
   ],
   "source": [
    "results_2"
   ]
  },
  {
   "cell_type": "markdown",
   "metadata": {},
   "source": [
    "## Modèle avec sur-échantillonnage"
   ]
  },
  {
   "cell_type": "code",
   "execution_count": 15,
   "metadata": {},
   "outputs": [],
   "source": [
    "model_3 = ImbPipeline([\n",
    "    ('vect', TfidfVectorizer(\n",
    "        sublinear_tf = True, max_df = 0.5,\n",
    "        stop_words = None)),\n",
    "    ('aug', RandomOverSampler(random_state = 42069)),\n",
    "    ('clf', SGDClassifier(\n",
    "        early_stopping = True,\n",
    "        n_iter_no_change = 6,\n",
    "        penalty = 'l2',\n",
    "        max_iter = 3000\n",
    "    ))\n",
    "])"
   ]
  },
  {
   "cell_type": "code",
   "execution_count": 16,
   "metadata": {},
   "outputs": [],
   "source": [
    "grid_3 = {\n",
    "    'clf__loss': ['hinge', 'log', 'modified_huber'],\n",
    "    'clf__learning_rate': ['invscaling', 'optimal'],\n",
    "    'clf__eta0': [.01, .001, 1e-100],\n",
    "    'clf__alpha': [1e-2, 1e-4, 1e-5]\n",
    "}"
   ]
  },
  {
   "cell_type": "code",
   "execution_count": 17,
   "metadata": {},
   "outputs": [],
   "source": [
    "results_3, params_3 = nestedCV(\n",
    "    model_3, grid_3, x_train, y_train,\n",
    "    cv_inner, cv_outer, name = \"ROS_SGDClassifier\",\n",
    "    scoring = 'f1_macro'\n",
    ")"
   ]
  },
  {
   "cell_type": "code",
   "execution_count": 18,
   "metadata": {},
   "outputs": [
    {
     "data": {
      "text/html": [
       "<div>\n",
       "<style scoped>\n",
       "    .dataframe tbody tr th:only-of-type {\n",
       "        vertical-align: middle;\n",
       "    }\n",
       "\n",
       "    .dataframe tbody tr th {\n",
       "        vertical-align: top;\n",
       "    }\n",
       "\n",
       "    .dataframe thead th {\n",
       "        text-align: right;\n",
       "    }\n",
       "</style>\n",
       "<table border=\"1\" class=\"dataframe\">\n",
       "  <thead>\n",
       "    <tr style=\"text-align: right;\">\n",
       "      <th></th>\n",
       "      <th>clf__loss</th>\n",
       "      <th>clf__learning_rate</th>\n",
       "      <th>clf__eta0</th>\n",
       "      <th>clf__alpha</th>\n",
       "      <th>name</th>\n",
       "      <th>f1_score</th>\n",
       "      <th>inner_score</th>\n",
       "      <th>auc</th>\n",
       "      <th>accuracy</th>\n",
       "      <th>count</th>\n",
       "    </tr>\n",
       "  </thead>\n",
       "  <tbody>\n",
       "    <tr>\n",
       "      <th>0</th>\n",
       "      <td>hinge</td>\n",
       "      <td>optimal</td>\n",
       "      <td>1.000000e-02</td>\n",
       "      <td>0.00010</td>\n",
       "      <td>ROS_SGDClassifier</td>\n",
       "      <td>0.528270</td>\n",
       "      <td>0.589074</td>\n",
       "      <td>0.692098</td>\n",
       "      <td>0.681250</td>\n",
       "      <td>1</td>\n",
       "    </tr>\n",
       "    <tr>\n",
       "      <th>1</th>\n",
       "      <td>log</td>\n",
       "      <td>optimal</td>\n",
       "      <td>1.000000e-100</td>\n",
       "      <td>0.00001</td>\n",
       "      <td>ROS_SGDClassifier</td>\n",
       "      <td>0.596063</td>\n",
       "      <td>0.599029</td>\n",
       "      <td>0.735687</td>\n",
       "      <td>0.681001</td>\n",
       "      <td>1</td>\n",
       "    </tr>\n",
       "    <tr>\n",
       "      <th>2</th>\n",
       "      <td>log</td>\n",
       "      <td>optimal</td>\n",
       "      <td>1.000000e-03</td>\n",
       "      <td>0.00001</td>\n",
       "      <td>ROS_SGDClassifier</td>\n",
       "      <td>0.592342</td>\n",
       "      <td>0.607160</td>\n",
       "      <td>0.728046</td>\n",
       "      <td>0.704688</td>\n",
       "      <td>1</td>\n",
       "    </tr>\n",
       "    <tr>\n",
       "      <th>3</th>\n",
       "      <td>log</td>\n",
       "      <td>optimal</td>\n",
       "      <td>1.000000e-02</td>\n",
       "      <td>0.00001</td>\n",
       "      <td>ROS_SGDClassifier</td>\n",
       "      <td>0.593769</td>\n",
       "      <td>0.572633</td>\n",
       "      <td>0.735584</td>\n",
       "      <td>0.689718</td>\n",
       "      <td>2</td>\n",
       "    </tr>\n",
       "  </tbody>\n",
       "</table>\n",
       "</div>"
      ],
      "text/plain": [
       "  clf__loss clf__learning_rate      clf__eta0  clf__alpha               name  \\\n",
       "0     hinge            optimal   1.000000e-02     0.00010  ROS_SGDClassifier   \n",
       "1       log            optimal  1.000000e-100     0.00001  ROS_SGDClassifier   \n",
       "2       log            optimal   1.000000e-03     0.00001  ROS_SGDClassifier   \n",
       "3       log            optimal   1.000000e-02     0.00001  ROS_SGDClassifier   \n",
       "\n",
       "   f1_score  inner_score       auc  accuracy  count  \n",
       "0  0.528270     0.589074  0.692098  0.681250      1  \n",
       "1  0.596063     0.599029  0.735687  0.681001      1  \n",
       "2  0.592342     0.607160  0.728046  0.704688      1  \n",
       "3  0.593769     0.572633  0.735584  0.689718      2  "
      ]
     },
     "execution_count": 18,
     "metadata": {},
     "output_type": "execute_result"
    }
   ],
   "source": [
    "results_3"
   ]
  },
  {
   "cell_type": "markdown",
   "metadata": {},
   "source": [
    "## Modèle avec SMOTE"
   ]
  },
  {
   "cell_type": "code",
   "execution_count": 19,
   "metadata": {},
   "outputs": [],
   "source": [
    "model_4 = ImbPipeline([\n",
    "    ('vect', TfidfVectorizer(\n",
    "        sublinear_tf = True, max_df = 0.5,\n",
    "        stop_words = None)),\n",
    "    ('aug', SMOTE(random_state = 42069, n_jobs = -1)),\n",
    "    ('clf', SGDClassifier(\n",
    "        early_stopping = True,\n",
    "        n_iter_no_change = 6,\n",
    "        penalty = 'l2',\n",
    "        max_iter = 3000\n",
    "    ))\n",
    "])"
   ]
  },
  {
   "cell_type": "code",
   "execution_count": 28,
   "metadata": {},
   "outputs": [],
   "source": [
    "grid_4 = {\n",
    "    'aug__k_neighbors': [5, 10, 15, 25],\n",
    "    'clf__loss': ['hinge', 'log', 'modified_huber'],\n",
    "    'clf__learning_rate': ['invscaling', 'optimal'],\n",
    "    'clf__eta0': [.01, .001, 1e-100],\n",
    "    'clf__alpha': [1e-2, 1e-4, 1e-5]\n",
    "}"
   ]
  },
  {
   "cell_type": "code",
   "execution_count": 29,
   "metadata": {},
   "outputs": [],
   "source": [
    "results_4, params_4 = nestedCV(\n",
    "    model_4, grid_4, x_train, y_train,\n",
    "    cv_inner, cv_outer, name = \"SMOTE_SGDClassifier\",\n",
    "    scoring = 'f1_macro'\n",
    ")"
   ]
  },
  {
   "cell_type": "code",
   "execution_count": 30,
   "metadata": {},
   "outputs": [
    {
     "data": {
      "text/html": [
       "<div>\n",
       "<style scoped>\n",
       "    .dataframe tbody tr th:only-of-type {\n",
       "        vertical-align: middle;\n",
       "    }\n",
       "\n",
       "    .dataframe tbody tr th {\n",
       "        vertical-align: top;\n",
       "    }\n",
       "\n",
       "    .dataframe thead th {\n",
       "        text-align: right;\n",
       "    }\n",
       "</style>\n",
       "<table border=\"1\" class=\"dataframe\">\n",
       "  <thead>\n",
       "    <tr style=\"text-align: right;\">\n",
       "      <th></th>\n",
       "      <th>aug__k_neighbors</th>\n",
       "      <th>clf__loss</th>\n",
       "      <th>clf__learning_rate</th>\n",
       "      <th>clf__eta0</th>\n",
       "      <th>clf__alpha</th>\n",
       "      <th>name</th>\n",
       "      <th>f1_score</th>\n",
       "      <th>inner_score</th>\n",
       "      <th>auc</th>\n",
       "      <th>accuracy</th>\n",
       "      <th>count</th>\n",
       "    </tr>\n",
       "  </thead>\n",
       "  <tbody>\n",
       "    <tr>\n",
       "      <th>0</th>\n",
       "      <td>5</td>\n",
       "      <td>log</td>\n",
       "      <td>optimal</td>\n",
       "      <td>1.000000e-100</td>\n",
       "      <td>0.00001</td>\n",
       "      <td>SMOTE_SGDClassifier</td>\n",
       "      <td>0.561657</td>\n",
       "      <td>0.594661</td>\n",
       "      <td>0.709538</td>\n",
       "      <td>0.686719</td>\n",
       "      <td>1</td>\n",
       "    </tr>\n",
       "    <tr>\n",
       "      <th>1</th>\n",
       "      <td>5</td>\n",
       "      <td>log</td>\n",
       "      <td>optimal</td>\n",
       "      <td>1.000000e-03</td>\n",
       "      <td>0.00001</td>\n",
       "      <td>SMOTE_SGDClassifier</td>\n",
       "      <td>0.603359</td>\n",
       "      <td>0.600421</td>\n",
       "      <td>0.738723</td>\n",
       "      <td>0.688038</td>\n",
       "      <td>1</td>\n",
       "    </tr>\n",
       "    <tr>\n",
       "      <th>2</th>\n",
       "      <td>10</td>\n",
       "      <td>log</td>\n",
       "      <td>optimal</td>\n",
       "      <td>1.000000e-100</td>\n",
       "      <td>0.00001</td>\n",
       "      <td>SMOTE_SGDClassifier</td>\n",
       "      <td>0.592570</td>\n",
       "      <td>0.613417</td>\n",
       "      <td>0.731044</td>\n",
       "      <td>0.703125</td>\n",
       "      <td>1</td>\n",
       "    </tr>\n",
       "    <tr>\n",
       "      <th>3</th>\n",
       "      <td>15</td>\n",
       "      <td>log</td>\n",
       "      <td>optimal</td>\n",
       "      <td>1.000000e-100</td>\n",
       "      <td>0.00001</td>\n",
       "      <td>SMOTE_SGDClassifier</td>\n",
       "      <td>0.607808</td>\n",
       "      <td>0.577312</td>\n",
       "      <td>0.750511</td>\n",
       "      <td>0.701562</td>\n",
       "      <td>1</td>\n",
       "    </tr>\n",
       "    <tr>\n",
       "      <th>4</th>\n",
       "      <td>15</td>\n",
       "      <td>log</td>\n",
       "      <td>optimal</td>\n",
       "      <td>1.000000e-03</td>\n",
       "      <td>0.00001</td>\n",
       "      <td>SMOTE_SGDClassifier</td>\n",
       "      <td>0.601785</td>\n",
       "      <td>0.582724</td>\n",
       "      <td>0.734275</td>\n",
       "      <td>0.690383</td>\n",
       "      <td>1</td>\n",
       "    </tr>\n",
       "  </tbody>\n",
       "</table>\n",
       "</div>"
      ],
      "text/plain": [
       "   aug__k_neighbors clf__loss clf__learning_rate      clf__eta0  clf__alpha  \\\n",
       "0                 5       log            optimal  1.000000e-100     0.00001   \n",
       "1                 5       log            optimal   1.000000e-03     0.00001   \n",
       "2                10       log            optimal  1.000000e-100     0.00001   \n",
       "3                15       log            optimal  1.000000e-100     0.00001   \n",
       "4                15       log            optimal   1.000000e-03     0.00001   \n",
       "\n",
       "                  name  f1_score  inner_score       auc  accuracy  count  \n",
       "0  SMOTE_SGDClassifier  0.561657     0.594661  0.709538  0.686719      1  \n",
       "1  SMOTE_SGDClassifier  0.603359     0.600421  0.738723  0.688038      1  \n",
       "2  SMOTE_SGDClassifier  0.592570     0.613417  0.731044  0.703125      1  \n",
       "3  SMOTE_SGDClassifier  0.607808     0.577312  0.750511  0.701562      1  \n",
       "4  SMOTE_SGDClassifier  0.601785     0.582724  0.734275  0.690383      1  "
      ]
     },
     "execution_count": 30,
     "metadata": {},
     "output_type": "execute_result"
    }
   ],
   "source": [
    "results_4"
   ]
  },
  {
   "cell_type": "markdown",
   "metadata": {},
   "source": [
    "## Modèle avec SMOTE et nettoyage avec les liens de Tomek"
   ]
  },
  {
   "cell_type": "code",
   "execution_count": 23,
   "metadata": {},
   "outputs": [],
   "source": [
    "model_5 = ImbPipeline([\n",
    "    ('vect', TfidfVectorizer(\n",
    "        sublinear_tf = True, max_df = 0.5,\n",
    "        stop_words = None)),\n",
    "    ('aug', SMOTETomek(random_state = 42069, n_jobs = -1)),\n",
    "    ('clf', SGDClassifier(\n",
    "        early_stopping = True,\n",
    "        n_iter_no_change = 6,\n",
    "        penalty = 'l2',\n",
    "        max_iter = 3000\n",
    "    ))\n",
    "])"
   ]
  },
  {
   "cell_type": "code",
   "execution_count": 24,
   "metadata": {},
   "outputs": [],
   "source": [
    "grid_5 = {\n",
    "    'clf__loss': ['hinge', 'log', 'modified_huber'],\n",
    "    'clf__learning_rate': ['invscaling', 'optimal'],\n",
    "    'clf__eta0': [.01, .001, 1e-100],\n",
    "    'clf__alpha': [1e-2, 1e-4, 1e-5]\n",
    "}"
   ]
  },
  {
   "cell_type": "code",
   "execution_count": 25,
   "metadata": {},
   "outputs": [],
   "source": [
    "results_5, params_5 = nestedCV(\n",
    "    model_5, grid_5, x_train, y_train,\n",
    "    cv_inner, cv_outer, name = \"SMOTETomek_SGDClassifier\",\n",
    "    scoring = 'f1_macro'\n",
    ")"
   ]
  },
  {
   "cell_type": "code",
   "execution_count": 26,
   "metadata": {},
   "outputs": [
    {
     "data": {
      "text/html": [
       "<div>\n",
       "<style scoped>\n",
       "    .dataframe tbody tr th:only-of-type {\n",
       "        vertical-align: middle;\n",
       "    }\n",
       "\n",
       "    .dataframe tbody tr th {\n",
       "        vertical-align: top;\n",
       "    }\n",
       "\n",
       "    .dataframe thead th {\n",
       "        text-align: right;\n",
       "    }\n",
       "</style>\n",
       "<table border=\"1\" class=\"dataframe\">\n",
       "  <thead>\n",
       "    <tr style=\"text-align: right;\">\n",
       "      <th></th>\n",
       "      <th>clf__loss</th>\n",
       "      <th>clf__learning_rate</th>\n",
       "      <th>clf__eta0</th>\n",
       "      <th>clf__alpha</th>\n",
       "      <th>name</th>\n",
       "      <th>f1_score</th>\n",
       "      <th>inner_score</th>\n",
       "      <th>auc</th>\n",
       "      <th>accuracy</th>\n",
       "      <th>count</th>\n",
       "    </tr>\n",
       "  </thead>\n",
       "  <tbody>\n",
       "    <tr>\n",
       "      <th>0</th>\n",
       "      <td>log</td>\n",
       "      <td>optimal</td>\n",
       "      <td>1.000000e-100</td>\n",
       "      <td>0.00001</td>\n",
       "      <td>SMOTETomek_SGDClassifier</td>\n",
       "      <td>0.609440</td>\n",
       "      <td>0.580918</td>\n",
       "      <td>0.737351</td>\n",
       "      <td>0.716185</td>\n",
       "      <td>1</td>\n",
       "    </tr>\n",
       "    <tr>\n",
       "      <th>1</th>\n",
       "      <td>log</td>\n",
       "      <td>optimal</td>\n",
       "      <td>1.000000e-02</td>\n",
       "      <td>0.00001</td>\n",
       "      <td>SMOTETomek_SGDClassifier</td>\n",
       "      <td>0.589285</td>\n",
       "      <td>0.584020</td>\n",
       "      <td>0.728459</td>\n",
       "      <td>0.689499</td>\n",
       "      <td>3</td>\n",
       "    </tr>\n",
       "    <tr>\n",
       "      <th>2</th>\n",
       "      <td>modified_huber</td>\n",
       "      <td>optimal</td>\n",
       "      <td>1.000000e-03</td>\n",
       "      <td>0.00010</td>\n",
       "      <td>SMOTETomek_SGDClassifier</td>\n",
       "      <td>0.553195</td>\n",
       "      <td>0.607964</td>\n",
       "      <td>0.705004</td>\n",
       "      <td>0.692187</td>\n",
       "      <td>1</td>\n",
       "    </tr>\n",
       "  </tbody>\n",
       "</table>\n",
       "</div>"
      ],
      "text/plain": [
       "        clf__loss clf__learning_rate      clf__eta0  clf__alpha  \\\n",
       "0             log            optimal  1.000000e-100     0.00001   \n",
       "1             log            optimal   1.000000e-02     0.00001   \n",
       "2  modified_huber            optimal   1.000000e-03     0.00010   \n",
       "\n",
       "                       name  f1_score  inner_score       auc  accuracy  count  \n",
       "0  SMOTETomek_SGDClassifier  0.609440     0.580918  0.737351  0.716185      1  \n",
       "1  SMOTETomek_SGDClassifier  0.589285     0.584020  0.728459  0.689499      3  \n",
       "2  SMOTETomek_SGDClassifier  0.553195     0.607964  0.705004  0.692187      1  "
      ]
     },
     "execution_count": 26,
     "metadata": {},
     "output_type": "execute_result"
    }
   ],
   "source": [
    "results_5"
   ]
  },
  {
   "cell_type": "markdown",
   "metadata": {},
   "source": [
    "# Performances sur les sets de validation\n",
    "## Top 5 par rapport au F1-score"
   ]
  },
  {
   "cell_type": "code",
   "execution_count": 34,
   "metadata": {},
   "outputs": [
    {
     "data": {
      "text/html": [
       "<div>\n",
       "<style scoped>\n",
       "    .dataframe tbody tr th:only-of-type {\n",
       "        vertical-align: middle;\n",
       "    }\n",
       "\n",
       "    .dataframe tbody tr th {\n",
       "        vertical-align: top;\n",
       "    }\n",
       "\n",
       "    .dataframe thead th {\n",
       "        text-align: right;\n",
       "    }\n",
       "</style>\n",
       "<table border=\"1\" class=\"dataframe\">\n",
       "  <thead>\n",
       "    <tr style=\"text-align: right;\">\n",
       "      <th></th>\n",
       "      <th>clf__loss</th>\n",
       "      <th>clf__learning_rate</th>\n",
       "      <th>clf__eta0</th>\n",
       "      <th>clf__alpha</th>\n",
       "      <th>name</th>\n",
       "      <th>f1_score</th>\n",
       "      <th>inner_score</th>\n",
       "      <th>auc</th>\n",
       "      <th>accuracy</th>\n",
       "      <th>count</th>\n",
       "      <th>aug__k_neighbors</th>\n",
       "    </tr>\n",
       "  </thead>\n",
       "  <tbody>\n",
       "    <tr>\n",
       "      <th>1</th>\n",
       "      <td>hinge</td>\n",
       "      <td>optimal</td>\n",
       "      <td>1.000000e-03</td>\n",
       "      <td>0.00010</td>\n",
       "      <td>SGDClassifier</td>\n",
       "      <td>0.629941</td>\n",
       "      <td>0.559474</td>\n",
       "      <td>0.727996</td>\n",
       "      <td>0.721094</td>\n",
       "      <td>1</td>\n",
       "      <td>NaN</td>\n",
       "    </tr>\n",
       "    <tr>\n",
       "      <th>0</th>\n",
       "      <td>log</td>\n",
       "      <td>optimal</td>\n",
       "      <td>1.000000e-100</td>\n",
       "      <td>0.00001</td>\n",
       "      <td>SMOTETomek_SGDClassifier</td>\n",
       "      <td>0.609440</td>\n",
       "      <td>0.580918</td>\n",
       "      <td>0.737351</td>\n",
       "      <td>0.716185</td>\n",
       "      <td>1</td>\n",
       "      <td>NaN</td>\n",
       "    </tr>\n",
       "    <tr>\n",
       "      <th>3</th>\n",
       "      <td>log</td>\n",
       "      <td>optimal</td>\n",
       "      <td>1.000000e-100</td>\n",
       "      <td>0.00001</td>\n",
       "      <td>SMOTE_SGDClassifier</td>\n",
       "      <td>0.607808</td>\n",
       "      <td>0.577312</td>\n",
       "      <td>0.750511</td>\n",
       "      <td>0.701562</td>\n",
       "      <td>1</td>\n",
       "      <td>15.0</td>\n",
       "    </tr>\n",
       "    <tr>\n",
       "      <th>1</th>\n",
       "      <td>log</td>\n",
       "      <td>optimal</td>\n",
       "      <td>1.000000e-03</td>\n",
       "      <td>0.00001</td>\n",
       "      <td>SMOTE_SGDClassifier</td>\n",
       "      <td>0.603359</td>\n",
       "      <td>0.600421</td>\n",
       "      <td>0.738723</td>\n",
       "      <td>0.688038</td>\n",
       "      <td>1</td>\n",
       "      <td>5.0</td>\n",
       "    </tr>\n",
       "    <tr>\n",
       "      <th>4</th>\n",
       "      <td>log</td>\n",
       "      <td>optimal</td>\n",
       "      <td>1.000000e-03</td>\n",
       "      <td>0.00001</td>\n",
       "      <td>SMOTE_SGDClassifier</td>\n",
       "      <td>0.601785</td>\n",
       "      <td>0.582724</td>\n",
       "      <td>0.734275</td>\n",
       "      <td>0.690383</td>\n",
       "      <td>1</td>\n",
       "      <td>15.0</td>\n",
       "    </tr>\n",
       "  </tbody>\n",
       "</table>\n",
       "</div>"
      ],
      "text/plain": [
       "  clf__loss clf__learning_rate      clf__eta0  clf__alpha  \\\n",
       "1     hinge            optimal   1.000000e-03     0.00010   \n",
       "0       log            optimal  1.000000e-100     0.00001   \n",
       "3       log            optimal  1.000000e-100     0.00001   \n",
       "1       log            optimal   1.000000e-03     0.00001   \n",
       "4       log            optimal   1.000000e-03     0.00001   \n",
       "\n",
       "                       name  f1_score  inner_score       auc  accuracy  count  \\\n",
       "1             SGDClassifier  0.629941     0.559474  0.727996  0.721094      1   \n",
       "0  SMOTETomek_SGDClassifier  0.609440     0.580918  0.737351  0.716185      1   \n",
       "3       SMOTE_SGDClassifier  0.607808     0.577312  0.750511  0.701562      1   \n",
       "1       SMOTE_SGDClassifier  0.603359     0.600421  0.738723  0.688038      1   \n",
       "4       SMOTE_SGDClassifier  0.601785     0.582724  0.734275  0.690383      1   \n",
       "\n",
       "   aug__k_neighbors  \n",
       "1               NaN  \n",
       "0               NaN  \n",
       "3              15.0  \n",
       "1               5.0  \n",
       "4              15.0  "
      ]
     },
     "execution_count": 34,
     "metadata": {},
     "output_type": "execute_result"
    }
   ],
   "source": [
    "pd.concat([results_1, results_2, results_3, results_4, results_5]).sort_values(by=['f1_score'], ascending=False)[:5]"
   ]
  },
  {
   "cell_type": "markdown",
   "metadata": {},
   "source": [
    "## Top 5 par rapport à l'AUC"
   ]
  },
  {
   "cell_type": "code",
   "execution_count": 33,
   "metadata": {},
   "outputs": [
    {
     "data": {
      "text/html": [
       "<div>\n",
       "<style scoped>\n",
       "    .dataframe tbody tr th:only-of-type {\n",
       "        vertical-align: middle;\n",
       "    }\n",
       "\n",
       "    .dataframe tbody tr th {\n",
       "        vertical-align: top;\n",
       "    }\n",
       "\n",
       "    .dataframe thead th {\n",
       "        text-align: right;\n",
       "    }\n",
       "</style>\n",
       "<table border=\"1\" class=\"dataframe\">\n",
       "  <thead>\n",
       "    <tr style=\"text-align: right;\">\n",
       "      <th></th>\n",
       "      <th>clf__loss</th>\n",
       "      <th>clf__learning_rate</th>\n",
       "      <th>clf__eta0</th>\n",
       "      <th>clf__alpha</th>\n",
       "      <th>name</th>\n",
       "      <th>f1_score</th>\n",
       "      <th>inner_score</th>\n",
       "      <th>auc</th>\n",
       "      <th>accuracy</th>\n",
       "      <th>count</th>\n",
       "      <th>aug__k_neighbors</th>\n",
       "    </tr>\n",
       "  </thead>\n",
       "  <tbody>\n",
       "    <tr>\n",
       "      <th>3</th>\n",
       "      <td>log</td>\n",
       "      <td>optimal</td>\n",
       "      <td>1.000000e-100</td>\n",
       "      <td>0.00001</td>\n",
       "      <td>SMOTE_SGDClassifier</td>\n",
       "      <td>0.607808</td>\n",
       "      <td>0.577312</td>\n",
       "      <td>0.750511</td>\n",
       "      <td>0.701562</td>\n",
       "      <td>1</td>\n",
       "      <td>15.0</td>\n",
       "    </tr>\n",
       "    <tr>\n",
       "      <th>1</th>\n",
       "      <td>log</td>\n",
       "      <td>optimal</td>\n",
       "      <td>1.000000e-03</td>\n",
       "      <td>0.00001</td>\n",
       "      <td>SMOTE_SGDClassifier</td>\n",
       "      <td>0.603359</td>\n",
       "      <td>0.600421</td>\n",
       "      <td>0.738723</td>\n",
       "      <td>0.688038</td>\n",
       "      <td>1</td>\n",
       "      <td>5.0</td>\n",
       "    </tr>\n",
       "    <tr>\n",
       "      <th>0</th>\n",
       "      <td>log</td>\n",
       "      <td>optimal</td>\n",
       "      <td>1.000000e-100</td>\n",
       "      <td>0.00001</td>\n",
       "      <td>SMOTETomek_SGDClassifier</td>\n",
       "      <td>0.609440</td>\n",
       "      <td>0.580918</td>\n",
       "      <td>0.737351</td>\n",
       "      <td>0.716185</td>\n",
       "      <td>1</td>\n",
       "      <td>NaN</td>\n",
       "    </tr>\n",
       "    <tr>\n",
       "      <th>1</th>\n",
       "      <td>log</td>\n",
       "      <td>optimal</td>\n",
       "      <td>1.000000e-100</td>\n",
       "      <td>0.00001</td>\n",
       "      <td>ROS_SGDClassifier</td>\n",
       "      <td>0.596063</td>\n",
       "      <td>0.599029</td>\n",
       "      <td>0.735687</td>\n",
       "      <td>0.681001</td>\n",
       "      <td>1</td>\n",
       "      <td>NaN</td>\n",
       "    </tr>\n",
       "    <tr>\n",
       "      <th>3</th>\n",
       "      <td>log</td>\n",
       "      <td>optimal</td>\n",
       "      <td>1.000000e-02</td>\n",
       "      <td>0.00001</td>\n",
       "      <td>ROS_SGDClassifier</td>\n",
       "      <td>0.593769</td>\n",
       "      <td>0.572633</td>\n",
       "      <td>0.735584</td>\n",
       "      <td>0.689718</td>\n",
       "      <td>2</td>\n",
       "      <td>NaN</td>\n",
       "    </tr>\n",
       "  </tbody>\n",
       "</table>\n",
       "</div>"
      ],
      "text/plain": [
       "  clf__loss clf__learning_rate      clf__eta0  clf__alpha  \\\n",
       "3       log            optimal  1.000000e-100     0.00001   \n",
       "1       log            optimal   1.000000e-03     0.00001   \n",
       "0       log            optimal  1.000000e-100     0.00001   \n",
       "1       log            optimal  1.000000e-100     0.00001   \n",
       "3       log            optimal   1.000000e-02     0.00001   \n",
       "\n",
       "                       name  f1_score  inner_score       auc  accuracy  count  \\\n",
       "3       SMOTE_SGDClassifier  0.607808     0.577312  0.750511  0.701562      1   \n",
       "1       SMOTE_SGDClassifier  0.603359     0.600421  0.738723  0.688038      1   \n",
       "0  SMOTETomek_SGDClassifier  0.609440     0.580918  0.737351  0.716185      1   \n",
       "1         ROS_SGDClassifier  0.596063     0.599029  0.735687  0.681001      1   \n",
       "3         ROS_SGDClassifier  0.593769     0.572633  0.735584  0.689718      2   \n",
       "\n",
       "   aug__k_neighbors  \n",
       "3              15.0  \n",
       "1               5.0  \n",
       "0               NaN  \n",
       "1               NaN  \n",
       "3               NaN  "
      ]
     },
     "execution_count": 33,
     "metadata": {},
     "output_type": "execute_result"
    }
   ],
   "source": [
    "pd.concat([results_1, results_2, results_3, results_4, results_5]).sort_values(by=['auc'], ascending=False)[:5]"
   ]
  },
  {
   "cell_type": "markdown",
   "metadata": {},
   "source": [
    "# Evaluation des deux meilleurs modèles\n",
    "## Simple SGD"
   ]
  },
  {
   "cell_type": "code",
   "execution_count": 74,
   "metadata": {},
   "outputs": [],
   "source": [
    "binarizer = LabelBinarizer()"
   ]
  },
  {
   "cell_type": "code",
   "execution_count": 36,
   "metadata": {},
   "outputs": [
    {
     "data": {
      "text/plain": [
       "Pipeline(steps=[('vect', TfidfVectorizer(max_df=0.5, sublinear_tf=True)),\n",
       "                ('clf',\n",
       "                 SGDClassifier(early_stopping=True, max_iter=3000,\n",
       "                               n_iter_no_change=6))])"
      ]
     },
     "execution_count": 36,
     "metadata": {},
     "output_type": "execute_result"
    }
   ],
   "source": [
    "final_model_1 = Pipeline([\n",
    "    ('vect', TfidfVectorizer(\n",
    "        sublinear_tf = True, max_df = 0.5,\n",
    "        stop_words = None)),\n",
    "    ('clf', SGDClassifier(\n",
    "        loss = 'hinge',\n",
    "        learning_rate = 'optimal',\n",
    "        alpha = 1e-4,\n",
    "        early_stopping = True,\n",
    "        n_iter_no_change = 6,\n",
    "        penalty = 'l2',\n",
    "        max_iter = 3000\n",
    "    ))\n",
    "])\n",
    "\n",
    "final_model_1.fit(x_train, y_train)"
   ]
  },
  {
   "cell_type": "code",
   "execution_count": 76,
   "metadata": {},
   "outputs": [
    {
     "name": "stdout",
     "output_type": "stream",
     "text": [
      "              precision    recall  f1-score   support\n",
      "\n",
      "     EMOTION       0.57      0.36      0.44       337\n",
      " INFORMATION       0.61      0.86      0.72      1473\n",
      "     OPINION       0.55      0.56      0.55       950\n",
      "   SENTIMENT       0.47      0.03      0.05       523\n",
      "\n",
      "    accuracy                           0.59      3283\n",
      "   macro avg       0.55      0.45      0.44      3283\n",
      "weighted avg       0.57      0.59      0.53      3283\n",
      "\n"
     ]
    }
   ],
   "source": [
    "y_pred = final_model_1.predict(x_test)\n",
    "\n",
    "print(classification_report(\n",
    "    y_test,\n",
    "    encoder.inverse_transform(y_pred)\n",
    "))"
   ]
  },
  {
   "cell_type": "code",
   "execution_count": 77,
   "metadata": {},
   "outputs": [
    {
     "data": {
      "text/plain": [
       "<sklearn.metrics._plot.confusion_matrix.ConfusionMatrixDisplay at 0x1210542d348>"
      ]
     },
     "execution_count": 77,
     "metadata": {},
     "output_type": "execute_result"
    },
    {
     "data": {
      "image/png": "[encoded data removed]",
      "text/plain": [
       "<Figure size 432x288 with 2 Axes>"
      ]
     },
     "metadata": {
      "needs_background": "light"
     },
     "output_type": "display_data"
    }
   ],
   "source": [
    "plot_confusion_matrix(\n",
    "    final_model_1,\n",
    "    x_test, encoder.transform(y_test),\n",
    "    display_labels = encoder.classes_,\n",
    "    normalize = 'true'\n",
    ")"
   ]
  },
  {
   "cell_type": "code",
   "execution_count": 78,
   "metadata": {},
   "outputs": [
    {
     "name": "stdout",
     "output_type": "stream",
     "text": [
      "F1-score: 0.43919626478822693\n",
      "AUC: 0.6418289252067279\n",
      "Accuracy: 0.5893999390801097\n"
     ]
    }
   ],
   "source": [
    "print(\"F1-score: {}\\nAUC: {}\\nAccuracy: {}\".format(\n",
    "    f1_score(y_test, encoder.inverse_transform(y_pred), average = \"macro\"),\n",
    "    roc_auc_score(binarizer.fit_transform(y_test), binarizer.transform(encoder.inverse_transform(y_pred)), average = \"macro\", multi_class = \"ovr\"),\n",
    "    accuracy_score(y_test, encoder.inverse_transform(y_pred))\n",
    "))"
   ]
  },
  {
   "cell_type": "markdown",
   "metadata": {},
   "source": [
    "## SGD avec SMOTE"
   ]
  },
  {
   "cell_type": "code",
   "execution_count": 71,
   "metadata": {},
   "outputs": [
    {
     "data": {
      "text/plain": [
       "Pipeline(steps=[('vect', TfidfVectorizer(max_df=0.5, sublinear_tf=True)),\n",
       "                ('aug', SMOTE(k_neighbors=15, n_jobs=-1, random_state=42069)),\n",
       "                ('clf',\n",
       "                 SGDClassifier(alpha=1e-05, early_stopping=True, loss='log',\n",
       "                               max_iter=100, n_iter_no_change=6))])"
      ]
     },
     "execution_count": 71,
     "metadata": {},
     "output_type": "execute_result"
    }
   ],
   "source": [
    "final_model_2 = ImbPipeline([\n",
    "    ('vect', TfidfVectorizer(\n",
    "        sublinear_tf = True, max_df = 0.5,\n",
    "        stop_words = None)),\n",
    "    ('aug', SMOTE(\n",
    "        k_neighbors = 15,\n",
    "        random_state = 42069,\n",
    "        n_jobs = -1)),\n",
    "    ('clf', SGDClassifier(\n",
    "        loss = 'log',\n",
    "        learning_rate = 'optimal',\n",
    "        alpha = 1e-5,\n",
    "        early_stopping = True,\n",
    "        n_iter_no_change = 6,\n",
    "        penalty = 'l2',\n",
    "        max_iter = 100\n",
    "    ))\n",
    "])\n",
    "\n",
    "final_model_2.fit(x_train, y_train)"
   ]
  },
  {
   "cell_type": "code",
   "execution_count": 72,
   "metadata": {},
   "outputs": [
    {
     "name": "stdout",
     "output_type": "stream",
     "text": [
      "              precision    recall  f1-score   support\n",
      "\n",
      "     EMOTION       0.45      0.47      0.46       337\n",
      " INFORMATION       0.65      0.80      0.72      1473\n",
      "     OPINION       0.53      0.60      0.56       950\n",
      "   SENTIMENT       0.43      0.04      0.07       523\n",
      "\n",
      "    accuracy                           0.59      3283\n",
      "   macro avg       0.51      0.48      0.45      3283\n",
      "weighted avg       0.56      0.59      0.54      3283\n",
      "\n"
     ]
    }
   ],
   "source": [
    "y_pred = final_model_2.predict(x_test)\n",
    "\n",
    "print(classification_report(\n",
    "    y_test,\n",
    "    encoder.inverse_transform(y_pred)\n",
    "))"
   ]
  },
  {
   "cell_type": "code",
   "execution_count": 73,
   "metadata": {},
   "outputs": [
    {
     "data": {
      "text/plain": [
       "<sklearn.metrics._plot.confusion_matrix.ConfusionMatrixDisplay at 0x12104237148>"
      ]
     },
     "execution_count": 73,
     "metadata": {},
     "output_type": "execute_result"
    },
    {
     "data": {
      "image/png": "[encoded data removed]",
      "text/plain": [
       "<Figure size 432x288 with 2 Axes>"
      ]
     },
     "metadata": {
      "needs_background": "light"
     },
     "output_type": "display_data"
    }
   ],
   "source": [
    "plot_confusion_matrix(\n",
    "    final_model_2,\n",
    "    x_test, encoder.transform(y_test),\n",
    "    display_labels = encoder.classes_,\n",
    "    normalize = 'true'\n",
    ")"
   ]
  },
  {
   "cell_type": "code",
   "execution_count": 75,
   "metadata": {},
   "outputs": [
    {
     "name": "stdout",
     "output_type": "stream",
     "text": [
      "F1-score: 0.4516235519906816\n",
      "AUC: 0.65737977001712\n",
      "Accuracy: 0.5851355467560159\n"
     ]
    }
   ],
   "source": [
    "print(\"F1-score: {}\\nAUC: {}\\nAccuracy: {}\".format(\n",
    "    f1_score(y_test, encoder.inverse_transform(y_pred), average = \"macro\"),\n",
    "    roc_auc_score(binarizer.fit_transform(y_test), binarizer.transform(encoder.inverse_transform(y_pred)), average = \"macro\", multi_class = \"ovr\"),\n",
    "    accuracy_score(y_test, encoder.inverse_transform(y_pred))\n",
    "))"
   ]
  }
 ],
 "metadata": {
  "kernelspec": {
   "display_name": "Python 3",
   "language": "python",
   "name": "python3"
  },
  "language_info": {
   "codemirror_mode": {
    "name": "ipython",
    "version": 3
   },
   "file_extension": ".py",
   "mimetype": "text/x-python",
   "name": "python",
   "nbconvert_exporter": "python",
   "pygments_lexer": "ipython3",
   "version": "3.7.9"
  },
  "latex_envs": {
   "LaTeX_envs_menu_present": true,
   "autoclose": false,
   "autocomplete": true,
   "bibliofile": "biblio.bib",
   "cite_by": "apalike",
   "current_citInitial": 1,
   "eqLabelWithNumbers": true,
   "eqNumInitial": 1,
   "hotkeys": {
    "equation": "Ctrl-E",
    "itemize": "Ctrl-I"
   },
   "labels_anchors": false,
   "latex_user_defs": false,
   "report_style_numbering": false,
   "user_envs_cfg": false
  }
 },
 "nbformat": 4,
 "nbformat_minor": 4
}
