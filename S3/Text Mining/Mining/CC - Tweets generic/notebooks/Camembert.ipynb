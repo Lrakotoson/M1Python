{
  "nbformat": 4,
  "nbformat_minor": 0,
  "metadata": {
    "colab": {
      "name": "Camembert",
      "provenance": [],
      "collapsed_sections": [],
      "machine_shape": "hm"
    },
    "kernelspec": {
      "name": "python3",
      "display_name": "Python 3"
    },
    "accelerator": "TPU"
  },
  "cells": [
    {
      "cell_type": "code",
      "metadata": {
        "colab": {
          "base_uri": "https://localhost:8080/"
        },
        "id": "qJO3nR1UT8vj",
        "outputId": "8c3c4e63-bcca-4b51-f529-0238fb848af5"
      },
      "source": [
        "from google.colab import drive\r\n",
        "drive.mount('/content/gdrive')"
      ],
      "execution_count": 1,
      "outputs": [
        {
          "output_type": "stream",
          "text": [
            "Drive already mounted at /content/gdrive; to attempt to forcibly remount, call drive.mount(\"/content/gdrive\", force_remount=True).\n"
          ],
          "name": "stdout"
        }
      ]
    },
    {
      "cell_type": "code",
      "metadata": {
        "id": "mSZShK44T9oM"
      },
      "source": [
        "import os\r\n",
        "os.chdir(\"/content/gdrive/My Drive/Studies/tweets/\")"
      ],
      "execution_count": 2,
      "outputs": []
    },
    {
      "cell_type": "code",
      "metadata": {
        "id": "2raiuJ9DUc3i"
      },
      "source": [
        "pip install transformers sentencepiece imblearn --quiet"
      ],
      "execution_count": 3,
      "outputs": []
    },
    {
      "cell_type": "code",
      "metadata": {
        "id": "Yc399LzqU0D0",
        "colab": {
          "base_uri": "https://localhost:8080/"
        },
        "outputId": "be7ea2b9-b70d-4099-afac-f006cf58af2e"
      },
      "source": [
        "import gc\r\n",
        "from glob import glob\r\n",
        "\r\n",
        "import numpy as np\r\n",
        "import pandas as pd\r\n",
        "import matplotlib.pyplot as plt\r\n",
        "import tensorflow as tf\r\n",
        "import seaborn as sns\r\n",
        "\r\n",
        "from tensorflow.keras import layers, backend as K\r\n",
        "from tensorflow.keras.callbacks import EarlyStopping, Callback\r\n",
        "from tensorflow.keras import backend as K\r\n",
        "\r\n",
        "from sklearn.model_selection import train_test_split\r\n",
        "from sklearn.preprocessing import LabelBinarizer, LabelEncoder\r\n",
        "from sklearn.metrics import (\r\n",
        "    f1_score, roc_auc_score, confusion_matrix,\r\n",
        "    accuracy_score, classification_report\r\n",
        ")\r\n",
        "\r\n",
        "from imblearn.keras import balanced_batch_generator\r\n",
        "from imblearn.over_sampling import RandomOverSampler\r\n",
        "\r\n",
        "import transformers as tr\r\n",
        "from transformers import TFAutoModel, AutoTokenizer\r\n",
        "from transformers.modeling_tf_utils import TFSequenceClassificationLoss"
      ],
      "execution_count": 4,
      "outputs": [
        {
          "output_type": "stream",
          "text": [
            "/usr/local/lib/python3.6/dist-packages/sklearn/externals/six.py:31: FutureWarning: The module is deprecated in version 0.21 and will be removed in version 0.23 since we've dropped support for Python 2.7. Please rely on the official version of six (https://pypi.org/project/six/).\n",
            "  \"(https://pypi.org/project/six/).\", FutureWarning)\n",
            "/usr/local/lib/python3.6/dist-packages/sklearn/utils/deprecation.py:144: FutureWarning: The sklearn.neighbors.base module is  deprecated in version 0.22 and will be removed in version 0.24. The corresponding classes / functions should instead be imported from sklearn.neighbors. Anything that cannot be imported from sklearn.neighbors is now part of the private API.\n",
            "  warnings.warn(message, FutureWarning)\n",
            "/usr/local/lib/python3.6/dist-packages/sklearn/utils/deprecation.py:144: FutureWarning: The sklearn.utils.testing module is  deprecated in version 0.22 and will be removed in version 0.24. The corresponding classes / functions should instead be imported from sklearn.utils. Anything that cannot be imported from sklearn.utils is now part of the private API.\n",
            "  warnings.warn(message, FutureWarning)\n"
          ],
          "name": "stderr"
        }
      ]
    },
    {
      "cell_type": "code",
      "metadata": {
        "colab": {
          "base_uri": "https://localhost:8080/"
        },
        "id": "ICat1pIfVYxm",
        "outputId": "eb7cdb5c-18c1-4523-efcb-c1f0ccae2058"
      },
      "source": [
        "tf.get_logger().setLevel('ERROR')\r\n",
        "try:\r\n",
        "    tpu = tf.distribute.cluster_resolver.TPUClusterResolver()\r\n",
        "    print('Running on TPU ', tpu.master())\r\n",
        "except ValueError:\r\n",
        "    tpu = None\r\n",
        "\r\n",
        "if tpu:\r\n",
        "    tf.config.experimental_connect_to_cluster(tpu)\r\n",
        "    tf.tpu.experimental.initialize_tpu_system(tpu)\r\n",
        "    strategy = tf.distribute.TPUStrategy(tpu)\r\n",
        "else:\r\n",
        "    strategy = tf.distribute.get_strategy()\r\n",
        "\r\n",
        "print(f\"{'='*80}\\nREPLICAS: {strategy.num_replicas_in_sync}\\n{'='*80}\")"
      ],
      "execution_count": 5,
      "outputs": [
        {
          "output_type": "stream",
          "text": [
            "INFO:absl:Entering into master device scope: /job:worker/replica:0/task:0/device:CPU:0\n"
          ],
          "name": "stderr"
        },
        {
          "output_type": "stream",
          "text": [
            "Running on TPU  grpc://10.17.49.242:8470\n",
            "================================================================================\n",
            "REPLICAS: 8\n",
            "================================================================================\n"
          ],
          "name": "stdout"
        }
      ]
    },
    {
      "cell_type": "code",
      "metadata": {
        "id": "dz6OxDqhWnbn"
      },
      "source": [
        "class Camembert(tr.TFRobertaPreTrainedModel, TFSequenceClassificationLoss):\r\n",
        "    \"\"\"\r\n",
        "    Classic classifier w/ transformer layer: Camembert\r\n",
        "    Using CLS token representation\r\n",
        "    Output: array of (batch_size, num_labels)\r\n",
        "    \"\"\"\r\n",
        "    config_class = tr.CamembertConfig\r\n",
        "    _keys_to_ignore_on_load_missing = [r\"pooler\", r\"lm_head\"]\r\n",
        "    \r\n",
        "    def __init__(self, config, *inputs, **kwargs):\r\n",
        "        super().__init__(config, *inputs, **kwargs)\r\n",
        "        self.camembert = tr.TFRobertaMainLayer(\r\n",
        "            config,\r\n",
        "            name = \"ro_camembert\")\r\n",
        "        self.stride = layers.Lambda(lambda x: x[:, 0, :], name = \"stride\")\r\n",
        "        self.classifier = layers.Dense(\r\n",
        "            4,\r\n",
        "            activation = tf.keras.activations.softmax,\r\n",
        "            name = \"classifier\")\r\n",
        "    \r\n",
        "    def call(self, inputs = None, **kwargs):\r\n",
        "        outputs = self.camembert(inputs, **kwargs)\r\n",
        "        sequences = outputs[0]\r\n",
        "        cls_token = self.stride(sequences)\r\n",
        "        return self.classifier(cls_token)"
      ],
      "execution_count": 6,
      "outputs": []
    },
    {
      "cell_type": "code",
      "metadata": {
        "id": "nmAEhaGjYslN"
      },
      "source": [
        "class Save(Callback):\r\n",
        "  def __init__(self, path = \"./\", monitor = 'loss'):\r\n",
        "    super(Save, self).__init__()\r\n",
        "    self.path = path\r\n",
        "    self.monitor = monitor\r\n",
        "\r\n",
        "  def on_epoch_end(self, epoch, logs = None):\r\n",
        "    path = f\"{self.path}{epoch}-{logs[self.monitor]}\"\r\n",
        "    self.model.save_pretrained(path)"
      ],
      "execution_count": 7,
      "outputs": []
    },
    {
      "cell_type": "markdown",
      "metadata": {
        "id": "OPhb4U2Hb-el"
      },
      "source": [
        "# Modèle sans prétraitement\r\n",
        "Uniquement les URLs"
      ]
    },
    {
      "cell_type": "code",
      "metadata": {
        "id": "1FdDEIQOWSAd"
      },
      "source": [
        "train = pd.read_pickle('datasets/train_basic.pkl')\r\n",
        "val = pd.read_pickle('datasets/val_basic.pkl')\r\n",
        "test = pd.read_pickle('datasets/test_basic.pkl')"
      ],
      "execution_count": 8,
      "outputs": []
    },
    {
      "cell_type": "code",
      "metadata": {
        "colab": {
          "base_uri": "https://localhost:8080/"
        },
        "id": "pJutUpDyakFE",
        "outputId": "1fc61391-8a2e-4354-b727-02251390934d"
      },
      "source": [
        "AUTO = tf.data.experimental.AUTOTUNE\r\n",
        "BATCH_SIZE = 16*strategy.num_replicas_in_sync\r\n",
        "BATCH_D = BATCH_SIZE\r\n",
        "MAX_LEN = 26\r\n",
        "N_LABELS = 4\r\n",
        "BUFFER = 300000\r\n",
        "SEED = 42069\r\n",
        "MODEL = \"cam_base\"\r\n",
        "NTRAIN = train.shape[0]\r\n",
        "NVAL = val.shape[0]\r\n",
        "STEPS = int(np.ceil(NTRAIN/BATCH_D))\r\n",
        "VAL_STEPS = int(np.ceil(NVAL/BATCH_D))\r\n",
        "\r\n",
        "print(\"Total Steps:\", STEPS)\r\n",
        "print(\"Total Validation Steps:\", VAL_STEPS)"
      ],
      "execution_count": 9,
      "outputs": [
        {
          "output_type": "stream",
          "text": [
            "Total Steps: 40\n",
            "Total Validation Steps: 10\n"
          ],
          "name": "stdout"
        }
      ]
    },
    {
      "cell_type": "code",
      "metadata": {
        "id": "a3hsfgaQjii-"
      },
      "source": [
        "tr.set_seed(SEED)"
      ],
      "execution_count": 10,
      "outputs": []
    },
    {
      "cell_type": "code",
      "metadata": {
        "colab": {
          "base_uri": "https://localhost:8080/"
        },
        "id": "2XCvRlkUZV5a",
        "outputId": "9ed13b1f-ffb6-4775-9aac-44082b1817a0"
      },
      "source": [
        "with strategy.scope():\r\n",
        "  model = Camembert.from_pretrained(f\"weights/{MODEL}\")\r\n",
        "  tokenizer = AutoTokenizer.from_pretrained(f\"weights/{MODEL}\")\r\n",
        "\r\n",
        "  save = Save(path = f\"weights/{MODEL}/epochs/\", monitor = \"val_loss\")\r\n",
        "  early = tf.keras.callbacks.EarlyStopping(\r\n",
        "      monitor = 'val_loss',\r\n",
        "      patience = 2,\r\n",
        "      restore_best_weights = True\r\n",
        "  )\r\n",
        "  callbacks = [save, early]\r\n",
        "  "
      ],
      "execution_count": 11,
      "outputs": [
        {
          "output_type": "stream",
          "text": [
            "All model checkpoint layers were used when initializing Camembert.\n",
            "\n",
            "All the layers of Camembert were initialized from the model checkpoint at weights/cam_base.\n",
            "If your task is similar to the task the model of the checkpoint was trained on, you can already use Camembert for predictions without further training.\n"
          ],
          "name": "stderr"
        }
      ]
    },
    {
      "cell_type": "code",
      "metadata": {
        "id": "sVYqDHsOiC-Y"
      },
      "source": [
        "with strategy.scope():\r\n",
        "  model.layers[0].trainable = False\r\n",
        "  optimizer = tf.keras.optimizers.Adam(lr=1e-5)\r\n",
        "  model.compile(optimizer = optimizer, loss='sparse_categorical_crossentropy', metrics=['accuracy'])"
      ],
      "execution_count": 12,
      "outputs": []
    },
    {
      "cell_type": "code",
      "metadata": {
        "id": "z5yLerz3engF"
      },
      "source": [
        "encoder = LabelEncoder()"
      ],
      "execution_count": 13,
      "outputs": []
    },
    {
      "cell_type": "code",
      "metadata": {
        "id": "UF8qkefqeV6W"
      },
      "source": [
        "x_train = tokenizer.batch_encode_plus(\r\n",
        "  train.tweet.to_list(), truncation=True, \r\n",
        "  return_tensors='tf', max_length=MAX_LEN,\r\n",
        "  return_attention_mask = False,\r\n",
        "  padding = \"max_length\")['input_ids']\r\n",
        "\r\n",
        "x_val = tokenizer.batch_encode_plus(\r\n",
        "  val.tweet.to_list(), truncation=True, \r\n",
        "  return_tensors='tf', max_length=MAX_LEN,\r\n",
        "  return_attention_mask = False,\r\n",
        "  padding = \"max_length\")['input_ids']\r\n",
        "\r\n",
        "x_test = tokenizer.batch_encode_plus(\r\n",
        "  test.tweet.to_list(), truncation=True, \r\n",
        "  return_tensors='tf', max_length=MAX_LEN,\r\n",
        "  return_attention_mask = False,\r\n",
        "  padding = \"max_length\")['input_ids']\r\n",
        "\r\n",
        "y_train = encoder.fit_transform(train.label)\r\n",
        "y_val = encoder.transform(val.label)\r\n",
        "y_test = encoder.transform(test.label)"
      ],
      "execution_count": 14,
      "outputs": []
    },
    {
      "cell_type": "code",
      "metadata": {
        "id": "qJ66jH1EfGdb"
      },
      "source": [
        "train_dataset = (\r\n",
        "    tf.data.Dataset\r\n",
        "    .from_tensor_slices((x_train, y_train))\r\n",
        "    .repeat()\r\n",
        "    .shuffle(BUFFER)\r\n",
        "    .batch(BATCH_D)\r\n",
        "    .prefetch(AUTO)\r\n",
        ")\r\n",
        "\r\n",
        "val_dataset = (\r\n",
        "    tf.data.Dataset\r\n",
        "    .from_tensor_slices((x_val, y_val))\r\n",
        "    .batch(BATCH_D)\r\n",
        "    .prefetch(AUTO)\r\n",
        ")\r\n",
        "\r\n",
        "test_dataset = (\r\n",
        "    tf.data.Dataset\r\n",
        "    .from_tensor_slices(x_test)\r\n",
        "    .batch(BATCH_D)\r\n",
        ")"
      ],
      "execution_count": 15,
      "outputs": []
    },
    {
      "cell_type": "markdown",
      "metadata": {
        "id": "xn2jLqydoSEC"
      },
      "source": [
        "## Entraînement du modèle"
      ]
    },
    {
      "cell_type": "code",
      "metadata": {
        "colab": {
          "base_uri": "https://localhost:8080/"
        },
        "id": "X4kjDjf5glDZ",
        "outputId": "b7829b45-67a6-4554-991a-3c0bd4d34dcc"
      },
      "source": [
        "epochs_done = 0\r\n",
        "history = model.fit(\r\n",
        "  train_dataset,\r\n",
        "  epochs = 200,\r\n",
        "  steps_per_epoch = STEPS,\r\n",
        "  callbacks = [early],\r\n",
        "  validation_data = val_dataset,\r\n",
        "  initial_epoch = epochs_done,\r\n",
        "  workers = 8,\r\n",
        "  use_multiprocessing = True\r\n",
        ")"
      ],
      "execution_count": 16,
      "outputs": [
        {
          "output_type": "stream",
          "text": [
            "Epoch 1/200\n",
            "40/40 [==============================] - 28s 196ms/step - loss: 3.0774 - accuracy: 0.0130 - val_loss: 3.0072 - val_accuracy: 0.0117\n",
            "Epoch 2/200\n",
            "40/40 [==============================] - 2s 50ms/step - loss: 2.7675 - accuracy: 0.0156 - val_loss: 2.6517 - val_accuracy: 0.0117\n",
            "Epoch 3/200\n",
            "40/40 [==============================] - 2s 50ms/step - loss: 2.4744 - accuracy: 0.0273 - val_loss: 2.3334 - val_accuracy: 0.0117\n",
            "Epoch 4/200\n",
            "40/40 [==============================] - 2s 51ms/step - loss: 2.2068 - accuracy: 0.0296 - val_loss: 2.0647 - val_accuracy: 0.0117\n",
            "Epoch 5/200\n",
            "40/40 [==============================] - 2s 52ms/step - loss: 2.0042 - accuracy: 0.0518 - val_loss: 1.8430 - val_accuracy: 0.0117\n",
            "Epoch 6/200\n",
            "40/40 [==============================] - 2s 51ms/step - loss: 1.8198 - accuracy: 0.1018 - val_loss: 1.6631 - val_accuracy: 0.0117\n",
            "Epoch 7/200\n",
            "40/40 [==============================] - 2s 63ms/step - loss: 1.7074 - accuracy: 0.1513 - val_loss: 1.5225 - val_accuracy: 0.0180\n",
            "Epoch 8/200\n",
            "40/40 [==============================] - 2s 51ms/step - loss: 1.5752 - accuracy: 0.2055 - val_loss: 1.4139 - val_accuracy: 0.0969\n",
            "Epoch 9/200\n",
            "40/40 [==============================] - 2s 52ms/step - loss: 1.4903 - accuracy: 0.2686 - val_loss: 1.3297 - val_accuracy: 0.3109\n",
            "Epoch 10/200\n",
            "40/40 [==============================] - 2s 50ms/step - loss: 1.4482 - accuracy: 0.2997 - val_loss: 1.2650 - val_accuracy: 0.4938\n",
            "Epoch 11/200\n",
            "40/40 [==============================] - 2s 51ms/step - loss: 1.3682 - accuracy: 0.3488 - val_loss: 1.2156 - val_accuracy: 0.5211\n",
            "Epoch 12/200\n",
            "40/40 [==============================] - 2s 50ms/step - loss: 1.3432 - accuracy: 0.3741 - val_loss: 1.1776 - val_accuracy: 0.5289\n",
            "Epoch 13/200\n",
            "40/40 [==============================] - 2s 51ms/step - loss: 1.2767 - accuracy: 0.4056 - val_loss: 1.1500 - val_accuracy: 0.5289\n",
            "Epoch 14/200\n",
            "40/40 [==============================] - 2s 50ms/step - loss: 1.2718 - accuracy: 0.4206 - val_loss: 1.1260 - val_accuracy: 0.5305\n",
            "Epoch 15/200\n",
            "40/40 [==============================] - 2s 51ms/step - loss: 1.2597 - accuracy: 0.4240 - val_loss: 1.1072 - val_accuracy: 0.5320\n",
            "Epoch 16/200\n",
            "40/40 [==============================] - 2s 52ms/step - loss: 1.2186 - accuracy: 0.4465 - val_loss: 1.0924 - val_accuracy: 0.5328\n",
            "Epoch 17/200\n",
            "40/40 [==============================] - 2s 51ms/step - loss: 1.2306 - accuracy: 0.4387 - val_loss: 1.0803 - val_accuracy: 0.5320\n",
            "Epoch 18/200\n",
            "40/40 [==============================] - 3s 65ms/step - loss: 1.2004 - accuracy: 0.4632 - val_loss: 1.0716 - val_accuracy: 0.5320\n",
            "Epoch 19/200\n",
            "40/40 [==============================] - 2s 51ms/step - loss: 1.1636 - accuracy: 0.4710 - val_loss: 1.0652 - val_accuracy: 0.5297\n",
            "Epoch 20/200\n",
            "40/40 [==============================] - 2s 52ms/step - loss: 1.1881 - accuracy: 0.4687 - val_loss: 1.0575 - val_accuracy: 0.5305\n",
            "Epoch 21/200\n",
            "40/40 [==============================] - 2s 52ms/step - loss: 1.1583 - accuracy: 0.4703 - val_loss: 1.0519 - val_accuracy: 0.5305\n",
            "Epoch 22/200\n",
            "40/40 [==============================] - 2s 54ms/step - loss: 1.1722 - accuracy: 0.4570 - val_loss: 1.0473 - val_accuracy: 0.5305\n",
            "Epoch 23/200\n",
            "40/40 [==============================] - 2s 53ms/step - loss: 1.1900 - accuracy: 0.4555 - val_loss: 1.0418 - val_accuracy: 0.5305\n",
            "Epoch 24/200\n",
            "40/40 [==============================] - 2s 52ms/step - loss: 1.1326 - accuracy: 0.4790 - val_loss: 1.0391 - val_accuracy: 0.5297\n",
            "Epoch 25/200\n",
            "40/40 [==============================] - 2s 51ms/step - loss: 1.1338 - accuracy: 0.4816 - val_loss: 1.0368 - val_accuracy: 0.5289\n",
            "Epoch 26/200\n",
            "40/40 [==============================] - 2s 51ms/step - loss: 1.1357 - accuracy: 0.4817 - val_loss: 1.0349 - val_accuracy: 0.5289\n",
            "Epoch 27/200\n",
            "40/40 [==============================] - 2s 53ms/step - loss: 1.1560 - accuracy: 0.4695 - val_loss: 1.0314 - val_accuracy: 0.5297\n",
            "Epoch 28/200\n",
            "40/40 [==============================] - 2s 51ms/step - loss: 1.1028 - accuracy: 0.4776 - val_loss: 1.0309 - val_accuracy: 0.5289\n",
            "Epoch 29/200\n",
            "40/40 [==============================] - 2s 53ms/step - loss: 1.1250 - accuracy: 0.4797 - val_loss: 1.0291 - val_accuracy: 0.5289\n",
            "Epoch 30/200\n",
            "40/40 [==============================] - 3s 65ms/step - loss: 1.1363 - accuracy: 0.4706 - val_loss: 1.0263 - val_accuracy: 0.5305\n",
            "Epoch 31/200\n",
            "40/40 [==============================] - 2s 51ms/step - loss: 1.1074 - accuracy: 0.4840 - val_loss: 1.0240 - val_accuracy: 0.5305\n",
            "Epoch 32/200\n",
            "40/40 [==============================] - 2s 52ms/step - loss: 1.1098 - accuracy: 0.4777 - val_loss: 1.0227 - val_accuracy: 0.5305\n",
            "Epoch 33/200\n",
            "40/40 [==============================] - 2s 52ms/step - loss: 1.1135 - accuracy: 0.4813 - val_loss: 1.0220 - val_accuracy: 0.5289\n",
            "Epoch 34/200\n",
            "40/40 [==============================] - 2s 53ms/step - loss: 1.1443 - accuracy: 0.4719 - val_loss: 1.0205 - val_accuracy: 0.5297\n",
            "Epoch 35/200\n",
            "40/40 [==============================] - 2s 52ms/step - loss: 1.1213 - accuracy: 0.4738 - val_loss: 1.0195 - val_accuracy: 0.5297\n",
            "Epoch 36/200\n",
            "40/40 [==============================] - 2s 52ms/step - loss: 1.1182 - accuracy: 0.4789 - val_loss: 1.0194 - val_accuracy: 0.5305\n",
            "Epoch 37/200\n",
            "40/40 [==============================] - 2s 52ms/step - loss: 1.1290 - accuracy: 0.4736 - val_loss: 1.0185 - val_accuracy: 0.5305\n",
            "Epoch 38/200\n",
            "40/40 [==============================] - 2s 52ms/step - loss: 1.1168 - accuracy: 0.4684 - val_loss: 1.0180 - val_accuracy: 0.5297\n",
            "Epoch 39/200\n",
            "40/40 [==============================] - 2s 55ms/step - loss: 1.1178 - accuracy: 0.4652 - val_loss: 1.0174 - val_accuracy: 0.5305\n",
            "Epoch 40/200\n",
            "40/40 [==============================] - 2s 53ms/step - loss: 1.1135 - accuracy: 0.4746 - val_loss: 1.0160 - val_accuracy: 0.5305\n",
            "Epoch 41/200\n",
            "40/40 [==============================] - 3s 65ms/step - loss: 1.1032 - accuracy: 0.4729 - val_loss: 1.0167 - val_accuracy: 0.5297\n",
            "Epoch 42/200\n",
            "40/40 [==============================] - 2s 52ms/step - loss: 1.0944 - accuracy: 0.4884 - val_loss: 1.0184 - val_accuracy: 0.5289\n"
          ],
          "name": "stdout"
        }
      ]
    },
    {
      "cell_type": "code",
      "metadata": {
        "id": "jYK365TCky7s"
      },
      "source": [
        "with strategy.scope():\r\n",
        "  model.layers[0].trainable = True\r\n",
        "  optimizer = tf.keras.optimizers.Adam(lr=1e-7)\r\n",
        "  model.compile(optimizer = optimizer, loss='sparse_categorical_crossentropy', metrics=['accuracy'])"
      ],
      "execution_count": 17,
      "outputs": []
    },
    {
      "cell_type": "code",
      "metadata": {
        "colab": {
          "base_uri": "https://localhost:8080/"
        },
        "id": "C0yzQP6dlNj5",
        "outputId": "d8909b54-dbed-49d8-faa9-a9a7cd66b86a"
      },
      "source": [
        "epochs_done = 42\r\n",
        "history = model.fit(\r\n",
        "  train_dataset,\r\n",
        "  epochs = 200,\r\n",
        "  steps_per_epoch = STEPS,\r\n",
        "  callbacks = [early],\r\n",
        "  validation_data = val_dataset,\r\n",
        "  initial_epoch = epochs_done,\r\n",
        "  workers = 8,\r\n",
        "  use_multiprocessing = True\r\n",
        ")"
      ],
      "execution_count": 18,
      "outputs": [
        {
          "output_type": "stream",
          "text": [
            "Epoch 43/200\n",
            "40/40 [==============================] - 73s 254ms/step - loss: 1.0975 - accuracy: 0.4689 - val_loss: 1.0151 - val_accuracy: 0.5297\n",
            "Epoch 44/200\n",
            "40/40 [==============================] - 4s 100ms/step - loss: 1.1267 - accuracy: 0.4699 - val_loss: 1.0102 - val_accuracy: 0.5312\n",
            "Epoch 45/200\n",
            "40/40 [==============================] - 4s 100ms/step - loss: 1.0906 - accuracy: 0.4769 - val_loss: 1.0142 - val_accuracy: 0.5305\n",
            "Epoch 46/200\n",
            "40/40 [==============================] - 4s 101ms/step - loss: 1.0684 - accuracy: 0.5024 - val_loss: 1.0170 - val_accuracy: 0.5297\n"
          ],
          "name": "stdout"
        }
      ]
    },
    {
      "cell_type": "code",
      "metadata": {
        "id": "TmhPsP6pqAxr"
      },
      "source": [
        "model.save_pretrained(f\"weights/{MODEL}/nopreproc\")"
      ],
      "execution_count": 19,
      "outputs": []
    },
    {
      "cell_type": "markdown",
      "metadata": {
        "id": "hRtgnphInxP7"
      },
      "source": [
        "## Evaluation du modèle"
      ]
    },
    {
      "cell_type": "code",
      "metadata": {
        "id": "Rwmb8woxpUUh"
      },
      "source": [
        "train_dataset = (\r\n",
        "    tf.data.Dataset\r\n",
        "    .from_tensor_slices((\r\n",
        "        tf.concat([x_train, x_val], axis = 0),\r\n",
        "        np.concatenate([y_train, y_val])\r\n",
        "      ))\r\n",
        "    .repeat()\r\n",
        "    .shuffle(BUFFER)\r\n",
        "    .batch(BATCH_D)\r\n",
        "    .prefetch(AUTO)\r\n",
        ")"
      ],
      "execution_count": 20,
      "outputs": []
    },
    {
      "cell_type": "code",
      "metadata": {
        "colab": {
          "base_uri": "https://localhost:8080/"
        },
        "id": "YD9m2fcno0zN",
        "outputId": "9d085bb1-19aa-403a-8555-baead0ae3db0"
      },
      "source": [
        "with strategy.scope():\r\n",
        "  final_model_1 = Camembert.from_pretrained(f\"weights/{MODEL}\")\r\n",
        "  final_model_1.layers[0].trainable = False\r\n",
        "  optimizer = tf.keras.optimizers.Adam(lr=1e-5)\r\n",
        "  final_model_1.compile(optimizer = optimizer, loss='sparse_categorical_crossentropy', metrics=['accuracy'])\r\n",
        "\r\n",
        "epochs_done = 0\r\n",
        "history = final_model_1.fit(\r\n",
        "  train_dataset,\r\n",
        "  epochs = 42,\r\n",
        "  steps_per_epoch = STEPS,\r\n",
        "  initial_epoch = epochs_done,\r\n",
        "  workers = 8, verbose = 0,\r\n",
        "  use_multiprocessing = True\r\n",
        ")\r\n",
        "\r\n",
        "with strategy.scope():\r\n",
        "  final_model_1.layers[0].trainable = True\r\n",
        "  optimizer = tf.keras.optimizers.Adam(lr=1e-7)\r\n",
        "  final_model_1.compile(optimizer = optimizer, loss='sparse_categorical_crossentropy', metrics=['accuracy'])\r\n",
        "\r\n",
        "epochs_done = 42\r\n",
        "history = final_model_1.fit(\r\n",
        "  train_dataset,\r\n",
        "  epochs = epochs_done + 4,\r\n",
        "  steps_per_epoch = STEPS,\r\n",
        "  initial_epoch = epochs_done,\r\n",
        "  workers = 8, verbose = 0,\r\n",
        "  use_multiprocessing = True\r\n",
        ")"
      ],
      "execution_count": 21,
      "outputs": [
        {
          "output_type": "stream",
          "text": [
            "All model checkpoint layers were used when initializing Camembert.\n",
            "\n",
            "All the layers of Camembert were initialized from the model checkpoint at weights/cam_base.\n",
            "If your task is similar to the task the model of the checkpoint was trained on, you can already use Camembert for predictions without further training.\n"
          ],
          "name": "stderr"
        }
      ]
    },
    {
      "cell_type": "code",
      "metadata": {
        "id": "GCoiybRJo3rL"
      },
      "source": [
        "pred_1 = final_model_1.predict(x_test)\r\n",
        "y_1 = encoder.inverse_transform(np.argmax(pred_1, axis = 1))"
      ],
      "execution_count": 22,
      "outputs": []
    },
    {
      "cell_type": "code",
      "metadata": {
        "id": "pVI2Z5kOteSS"
      },
      "source": [
        "binarizer = LabelBinarizer()"
      ],
      "execution_count": 23,
      "outputs": []
    },
    {
      "cell_type": "code",
      "metadata": {
        "colab": {
          "base_uri": "https://localhost:8080/",
          "height": 594
        },
        "id": "fQj20u8lsPEw",
        "outputId": "f8a152d4-d575-4629-92c5-f37721a56022"
      },
      "source": [
        "print(classification_report(test.label, y_1))\r\n",
        "\r\n",
        "print(\"F1-score: {}\\nAUC: {}\\nAccuracy: {}\".format(\r\n",
        "    f1_score(test.label, y_1, average = \"macro\"),\r\n",
        "    roc_auc_score(binarizer.fit_transform(y_test), pred_1, average = \"macro\", multi_class = \"ovr\"),\r\n",
        "    accuracy_score(test.label, y_1)\r\n",
        "))\r\n",
        "\r\n",
        "sns.heatmap(\r\n",
        "    confusion_matrix(test.label, y_1, normalize='true'),\r\n",
        "    annot = True\r\n",
        ")"
      ],
      "execution_count": 24,
      "outputs": [
        {
          "output_type": "stream",
          "text": [
            "/usr/local/lib/python3.6/dist-packages/sklearn/metrics/_classification.py:1272: UndefinedMetricWarning: Precision and F-score are ill-defined and being set to 0.0 in labels with no predicted samples. Use `zero_division` parameter to control this behavior.\n",
            "  _warn_prf(average, modifier, msg_start, len(result))\n"
          ],
          "name": "stderr"
        },
        {
          "output_type": "stream",
          "text": [
            "              precision    recall  f1-score   support\n",
            "\n",
            "     EMOTION       0.00      0.00      0.00       337\n",
            " INFORMATION       0.45      0.98      0.62      1473\n",
            "     OPINION       0.29      0.03      0.05       950\n",
            "   SENTIMENT       0.00      0.00      0.00       523\n",
            "\n",
            "    accuracy                           0.45      3283\n",
            "   macro avg       0.19      0.25      0.17      3283\n",
            "weighted avg       0.29      0.45      0.29      3283\n",
            "\n",
            "F1-score: 0.16691491641663095\n",
            "AUC: 0.556569793051824\n",
            "Accuracy: 0.4468473956746878\n"
          ],
          "name": "stdout"
        },
        {
          "output_type": "execute_result",
          "data": {
            "text/plain": [
              "<matplotlib.axes._subplots.AxesSubplot at 0x7f25b8a55eb8>"
            ]
          },
          "metadata": {
            "tags": []
          },
          "execution_count": 24
        },
        {
          "output_type": "display_data",
          "data": {
            "image/png": "[encoded data removed]",
            "text/plain": [
              "<Figure size 432x288 with 2 Axes>"
            ]
          },
          "metadata": {
            "tags": [],
            "needs_background": "light"
          }
        }
      ]
    },
    {
      "cell_type": "markdown",
      "metadata": {
        "id": "pzpFOTHJRSpd"
      },
      "source": [
        "# Modèle sans prétraitement avec sur-échantillonnage"
      ]
    },
    {
      "cell_type": "markdown",
      "metadata": {
        "id": "8hOA4J_DkaAv"
      },
      "source": [
        "## Entraînement\r\n",
        "\r\n",
        "Sur-échantillonnage"
      ]
    },
    {
      "cell_type": "code",
      "metadata": {
        "colab": {
          "base_uri": "https://localhost:8080/"
        },
        "id": "ZqttCZQrZHQI",
        "outputId": "6add14ca-b345-4ea1-bcf0-e14932a44cab"
      },
      "source": [
        "ros = RandomOverSampler(\r\n",
        "    sampling_strategy={\r\n",
        "        0: 1746,\r\n",
        "        1: 2707,\r\n",
        "        2: 1746,\r\n",
        "        3: 1746\r\n",
        "    }\r\n",
        ")\r\n",
        "x_ros, y_ros = ros.fit_resample(x_train, y_train)"
      ],
      "execution_count": 25,
      "outputs": [
        {
          "output_type": "stream",
          "text": [
            "/usr/local/lib/python3.6/dist-packages/sklearn/utils/deprecation.py:87: FutureWarning: Function safe_indexing is deprecated; safe_indexing is deprecated in version 0.22 and will be removed in version 0.24.\n",
            "  warnings.warn(msg, category=FutureWarning)\n"
          ],
          "name": "stderr"
        }
      ]
    },
    {
      "cell_type": "code",
      "metadata": {
        "colab": {
          "base_uri": "https://localhost:8080/"
        },
        "id": "8mU7pKp2Rw2_",
        "outputId": "d2c21557-bcde-4135-da9a-06afb521ef83"
      },
      "source": [
        "with strategy.scope():\r\n",
        "  model_2 = Camembert.from_pretrained(f\"weights/{MODEL}\")\r\n",
        "  model_2.layers[0].trainable = False\r\n",
        "  optimizer = tf.keras.optimizers.Adam(lr=1e-5)\r\n",
        "  model_2.compile(optimizer = optimizer, loss='sparse_categorical_crossentropy', metrics=['accuracy'])\r\n",
        "\r\n",
        "  train_ros_dataset = (\r\n",
        "      tf.data.Dataset\r\n",
        "      .from_tensor_slices((x_ros, y_ros))\r\n",
        "      .repeat()\r\n",
        "      .shuffle(BUFFER)\r\n",
        "      .batch(BATCH_D)\r\n",
        "      .prefetch(AUTO)\r\n",
        "  )\r\n",
        "\r\n",
        "epochs_done = 0\r\n",
        "history = model_2.fit(\r\n",
        "  train_ros_dataset,\r\n",
        "  epochs = 200,\r\n",
        "  steps_per_epoch = int(np.ceil(x_ros.shape[0]/BATCH_D)),\r\n",
        "  callbacks = [early],\r\n",
        "  validation_data = val_dataset,\r\n",
        "  initial_epoch = epochs_done,\r\n",
        "  workers = 8,\r\n",
        "  use_multiprocessing = True\r\n",
        ")"
      ],
      "execution_count": 26,
      "outputs": [
        {
          "output_type": "stream",
          "text": [
            "All model checkpoint layers were used when initializing Camembert.\n",
            "\n",
            "All the layers of Camembert were initialized from the model checkpoint at weights/cam_base.\n",
            "If your task is similar to the task the model of the checkpoint was trained on, you can already use Camembert for predictions without further training.\n"
          ],
          "name": "stderr"
        },
        {
          "output_type": "stream",
          "text": [
            "Epoch 1/200\n",
            "63/63 [==============================] - 27s 132ms/step - loss: 2.3550 - accuracy: 0.2172 - val_loss: 2.8032 - val_accuracy: 0.0117\n",
            "Epoch 2/200\n",
            "63/63 [==============================] - 3s 40ms/step - loss: 2.0519 - accuracy: 0.2019 - val_loss: 2.3283 - val_accuracy: 0.0117\n",
            "Epoch 3/200\n",
            "63/63 [==============================] - 3s 41ms/step - loss: 1.8314 - accuracy: 0.2062 - val_loss: 1.9829 - val_accuracy: 0.0117\n",
            "Epoch 4/200\n",
            "63/63 [==============================] - 3s 41ms/step - loss: 1.6656 - accuracy: 0.2262 - val_loss: 1.7412 - val_accuracy: 0.0117\n",
            "Epoch 5/200\n",
            "63/63 [==============================] - 3s 41ms/step - loss: 1.6098 - accuracy: 0.2204 - val_loss: 1.5724 - val_accuracy: 0.0125\n",
            "Epoch 6/200\n",
            "63/63 [==============================] - 3s 42ms/step - loss: 1.5373 - accuracy: 0.2537 - val_loss: 1.4679 - val_accuracy: 0.0672\n",
            "Epoch 7/200\n",
            "63/63 [==============================] - 3s 42ms/step - loss: 1.5309 - accuracy: 0.2450 - val_loss: 1.3896 - val_accuracy: 0.2609\n",
            "Epoch 8/200\n",
            "63/63 [==============================] - 3s 42ms/step - loss: 1.5227 - accuracy: 0.2496 - val_loss: 1.3453 - val_accuracy: 0.4344\n",
            "Epoch 9/200\n",
            "63/63 [==============================] - 3s 41ms/step - loss: 1.5085 - accuracy: 0.2664 - val_loss: 1.3240 - val_accuracy: 0.5031\n",
            "Epoch 10/200\n",
            "63/63 [==============================] - 3s 41ms/step - loss: 1.5000 - accuracy: 0.2801 - val_loss: 1.3069 - val_accuracy: 0.5219\n",
            "Epoch 11/200\n",
            "63/63 [==============================] - 3s 41ms/step - loss: 1.5044 - accuracy: 0.2762 - val_loss: 1.2946 - val_accuracy: 0.5281\n",
            "Epoch 12/200\n",
            "63/63 [==============================] - 3s 41ms/step - loss: 1.4968 - accuracy: 0.2700 - val_loss: 1.2859 - val_accuracy: 0.5281\n",
            "Epoch 13/200\n",
            "63/63 [==============================] - 3s 41ms/step - loss: 1.4892 - accuracy: 0.2894 - val_loss: 1.2852 - val_accuracy: 0.5281\n",
            "Epoch 14/200\n",
            "63/63 [==============================] - 3s 42ms/step - loss: 1.4932 - accuracy: 0.2873 - val_loss: 1.2840 - val_accuracy: 0.5273\n",
            "Epoch 15/200\n",
            "63/63 [==============================] - 3s 41ms/step - loss: 1.5064 - accuracy: 0.2787 - val_loss: 1.2831 - val_accuracy: 0.5281\n",
            "Epoch 16/200\n",
            "63/63 [==============================] - 3s 41ms/step - loss: 1.5009 - accuracy: 0.2749 - val_loss: 1.2910 - val_accuracy: 0.5266\n",
            "Epoch 17/200\n",
            "63/63 [==============================] - 3s 42ms/step - loss: 1.5043 - accuracy: 0.2735 - val_loss: 1.2760 - val_accuracy: 0.5281\n",
            "Epoch 18/200\n",
            "63/63 [==============================] - 3s 41ms/step - loss: 1.4931 - accuracy: 0.2830 - val_loss: 1.2761 - val_accuracy: 0.5273\n",
            "Epoch 19/200\n",
            "63/63 [==============================] - 3s 41ms/step - loss: 1.4869 - accuracy: 0.2889 - val_loss: 1.2774 - val_accuracy: 0.5266\n"
          ],
          "name": "stdout"
        }
      ]
    },
    {
      "cell_type": "code",
      "metadata": {
        "colab": {
          "base_uri": "https://localhost:8080/"
        },
        "id": "95ikNSG2iGFm",
        "outputId": "ece13830-ee23-46f6-9c57-252b491a3b75"
      },
      "source": [
        "with strategy.scope():\r\n",
        "  model_2.layers[0].trainable = True\r\n",
        "  optimizer = tf.keras.optimizers.Adam(lr=1e-7)\r\n",
        "  model.compile(optimizer = optimizer, loss='sparse_categorical_crossentropy', metrics=['accuracy'])\r\n",
        "\r\n",
        "epochs_done = 16\r\n",
        "history = model_2.fit(\r\n",
        "  train_ros_dataset,\r\n",
        "  epochs = 200,\r\n",
        "  steps_per_epoch = int(np.ceil(x_ros.shape[0]/BATCH_D)),\r\n",
        "  callbacks = [early],\r\n",
        "  validation_data = val_dataset,\r\n",
        "  initial_epoch = epochs_done,\r\n",
        "  workers = 8,\r\n",
        "  use_multiprocessing = True\r\n",
        ")"
      ],
      "execution_count": 27,
      "outputs": [
        {
          "output_type": "stream",
          "text": [
            "Epoch 17/200\n",
            "63/63 [==============================] - 3s 43ms/step - loss: 1.5060 - accuracy: 0.2724 - val_loss: 1.2761 - val_accuracy: 0.5281\n",
            "Epoch 18/200\n",
            "63/63 [==============================] - 3s 43ms/step - loss: 1.4926 - accuracy: 0.2819 - val_loss: 1.2721 - val_accuracy: 0.5273\n",
            "Epoch 19/200\n",
            "63/63 [==============================] - 3s 41ms/step - loss: 1.4851 - accuracy: 0.2862 - val_loss: 1.2875 - val_accuracy: 0.5242\n",
            "Epoch 20/200\n",
            "63/63 [==============================] - 3s 41ms/step - loss: 1.4966 - accuracy: 0.2790 - val_loss: 1.2819 - val_accuracy: 0.5234\n"
          ],
          "name": "stdout"
        }
      ]
    },
    {
      "cell_type": "markdown",
      "metadata": {
        "id": "A82n99JVkohs"
      },
      "source": [
        "## Evaluation"
      ]
    },
    {
      "cell_type": "code",
      "metadata": {
        "colab": {
          "base_uri": "https://localhost:8080/"
        },
        "id": "A2lebxWwlPnl",
        "outputId": "b1ac27c6-e839-45ed-8737-f60eccc5d253"
      },
      "source": [
        "counts = np.sort(np.unique(np.concatenate([y_train, y_val]), return_counts = True)[1])\r\n",
        "ros = RandomOverSampler(sampling_strategy={\r\n",
        "    0: counts[-2],\r\n",
        "    1: counts[-1],\r\n",
        "    2: counts[-2],\r\n",
        "    3: counts[-2]\r\n",
        "})\r\n",
        "\r\n",
        "x_ros, y_ros = ros.fit_resample(\r\n",
        "    tf.concat([x_train, x_val], axis = 0),\r\n",
        "    np.concatenate([y_train, y_val])\r\n",
        ")\r\n",
        "\r\n",
        "train_ros_dataset = (\r\n",
        "    tf.data.Dataset\r\n",
        "    .from_tensor_slices((x_ros, y_ros))\r\n",
        "    .repeat()\r\n",
        "    .shuffle(BUFFER)\r\n",
        "    .batch(BATCH_D)\r\n",
        "    .prefetch(AUTO)\r\n",
        ")"
      ],
      "execution_count": 28,
      "outputs": [
        {
          "output_type": "stream",
          "text": [
            "/usr/local/lib/python3.6/dist-packages/sklearn/utils/deprecation.py:87: FutureWarning: Function safe_indexing is deprecated; safe_indexing is deprecated in version 0.22 and will be removed in version 0.24.\n",
            "  warnings.warn(msg, category=FutureWarning)\n"
          ],
          "name": "stderr"
        }
      ]
    },
    {
      "cell_type": "code",
      "metadata": {
        "colab": {
          "base_uri": "https://localhost:8080/"
        },
        "id": "Zjz9IrPjm32x",
        "outputId": "417a03f5-09b8-40cd-8eaa-18ab044c2b7d"
      },
      "source": [
        "with strategy.scope():\r\n",
        "  final_model_2 = Camembert.from_pretrained(f\"weights/{MODEL}\")\r\n",
        "  final_model_2.layers[0].trainable = False\r\n",
        "  optimizer = tf.keras.optimizers.Adam(lr=1e-5)\r\n",
        "  final_model_2.compile(optimizer = optimizer, loss='sparse_categorical_crossentropy', metrics=['accuracy'])\r\n",
        "\r\n",
        "epochs_done = 0\r\n",
        "history = final_model_2.fit(\r\n",
        "  train_ros_dataset,\r\n",
        "  epochs = 14,\r\n",
        "  steps_per_epoch = int(np.ceil(x_ros.shape[0]/BATCH_D)),\r\n",
        "  initial_epoch = epochs_done,\r\n",
        "  workers = 8, verbose = 0,\r\n",
        "  use_multiprocessing = True\r\n",
        ")\r\n",
        "\r\n",
        "with strategy.scope():\r\n",
        "  final_model_2.layers[0].trainable = True\r\n",
        "  optimizer = tf.keras.optimizers.Adam(lr=1e-7)\r\n",
        "  final_model_2.compile(optimizer = optimizer, loss='sparse_categorical_crossentropy', metrics=['accuracy'])\r\n",
        "\r\n",
        "epochs_done = 14\r\n",
        "history = final_model_2.fit(\r\n",
        "  train_ros_dataset,\r\n",
        "  epochs = epochs_done + 2,\r\n",
        "  steps_per_epoch = int(np.ceil(x_ros.shape[0]/BATCH_D)),\r\n",
        "  initial_epoch = epochs_done,\r\n",
        "  workers = 8, verbose = 0,\r\n",
        "  use_multiprocessing = True\r\n",
        ")"
      ],
      "execution_count": 29,
      "outputs": [
        {
          "output_type": "stream",
          "text": [
            "All model checkpoint layers were used when initializing Camembert.\n",
            "\n",
            "All the layers of Camembert were initialized from the model checkpoint at weights/cam_base.\n",
            "If your task is similar to the task the model of the checkpoint was trained on, you can already use Camembert for predictions without further training.\n"
          ],
          "name": "stderr"
        }
      ]
    },
    {
      "cell_type": "code",
      "metadata": {
        "colab": {
          "base_uri": "https://localhost:8080/",
          "height": 538
        },
        "id": "7o9nc79ao2wX",
        "outputId": "b8cde6e4-24f1-4ba2-d8f5-88c26591ac16"
      },
      "source": [
        "pred_2 = final_model_2.predict(x_test)\r\n",
        "y_2 = encoder.inverse_transform(np.argmax(pred_2, axis = 1))\r\n",
        "\r\n",
        "print(classification_report(test.label, y_2))\r\n",
        "\r\n",
        "print(\"F1-score: {}\\nAUC: {}\\nAccuracy: {}\".format(\r\n",
        "    f1_score(test.label, y_2, average = \"macro\"),\r\n",
        "    roc_auc_score(binarizer.fit_transform(y_test), pred_2, average = \"macro\", multi_class = \"ovr\"),\r\n",
        "    accuracy_score(test.label, y_2)\r\n",
        "))\r\n",
        "\r\n",
        "sns.heatmap(\r\n",
        "    confusion_matrix(test.label, y_2, normalize='true'),\r\n",
        "    annot = True\r\n",
        ")"
      ],
      "execution_count": 30,
      "outputs": [
        {
          "output_type": "stream",
          "text": [
            "              precision    recall  f1-score   support\n",
            "\n",
            "     EMOTION       0.14      0.02      0.03       337\n",
            " INFORMATION       0.45      0.98      0.62      1473\n",
            "     OPINION       0.24      0.00      0.01       950\n",
            "   SENTIMENT       0.19      0.01      0.02       523\n",
            "\n",
            "    accuracy                           0.44      3283\n",
            "   macro avg       0.25      0.25      0.17      3283\n",
            "weighted avg       0.32      0.44      0.29      3283\n",
            "\n",
            "F1-score: 0.16961180650050448\n",
            "AUC: 0.5760699559595379\n",
            "Accuracy: 0.44319220225403594\n"
          ],
          "name": "stdout"
        },
        {
          "output_type": "execute_result",
          "data": {
            "text/plain": [
              "<matplotlib.axes._subplots.AxesSubplot at 0x7f259549cc88>"
            ]
          },
          "metadata": {
            "tags": []
          },
          "execution_count": 30
        },
        {
          "output_type": "display_data",
          "data": {
            "image/png": "[encoded data removed]",
            "text/plain": [
              "<Figure size 432x288 with 2 Axes>"
            ]
          },
          "metadata": {
            "tags": [],
            "needs_background": "light"
          }
        }
      ]
    },
    {
      "cell_type": "markdown",
      "metadata": {
        "id": "BDrLVED1vfWC"
      },
      "source": [
        "# Modèle avec prétraitement mais sans Lem-Stem\r\n",
        "Données classic_nos_nol"
      ]
    },
    {
      "cell_type": "code",
      "metadata": {
        "id": "LEEEnsjqrmbh"
      },
      "source": [
        "train = pd.read_pickle('datasets/train_classic_nos_nol.pkl')\r\n",
        "val = pd.read_pickle('datasets/val_classic_nos_nol.pkl')\r\n",
        "test = pd.read_pickle('datasets/test_classic_nos_nol.pkl')"
      ],
      "execution_count": 31,
      "outputs": []
    },
    {
      "cell_type": "code",
      "metadata": {
        "colab": {
          "base_uri": "https://localhost:8080/"
        },
        "id": "xrNRFvp8rmbi",
        "outputId": "9ef55448-0285-4e1f-ba37-9457cb1a5974"
      },
      "source": [
        "AUTO = tf.data.experimental.AUTOTUNE\r\n",
        "BATCH_SIZE = 16*strategy.num_replicas_in_sync\r\n",
        "BATCH_D = BATCH_SIZE\r\n",
        "MAX_LEN = 26\r\n",
        "N_LABELS = 4\r\n",
        "BUFFER = 300000\r\n",
        "SEED = 42069\r\n",
        "MODEL = \"cam_base\"\r\n",
        "NTRAIN = train.shape[0]\r\n",
        "NVAL = val.shape[0]\r\n",
        "STEPS = int(np.ceil(NTRAIN/BATCH_D))\r\n",
        "VAL_STEPS = int(np.ceil(NVAL/BATCH_D))\r\n",
        "\r\n",
        "print(\"Total Steps:\", STEPS)\r\n",
        "print(\"Total Validation Steps:\", VAL_STEPS)"
      ],
      "execution_count": 32,
      "outputs": [
        {
          "output_type": "stream",
          "text": [
            "Total Steps: 40\n",
            "Total Validation Steps: 10\n"
          ],
          "name": "stdout"
        }
      ]
    },
    {
      "cell_type": "code",
      "metadata": {
        "colab": {
          "base_uri": "https://localhost:8080/"
        },
        "id": "3C1tniFyrmbj",
        "outputId": "a76ea34d-bdec-474c-ff31-2fa3d8d71a02"
      },
      "source": [
        "with strategy.scope():\r\n",
        "  model_3 = Camembert.from_pretrained(f\"weights/{MODEL}\")\r\n",
        "  tokenizer = AutoTokenizer.from_pretrained(f\"weights/{MODEL}\")\r\n",
        "\r\n",
        "  save = Save(path = f\"weights/{MODEL}/epochs/\", monitor = \"val_loss\")\r\n",
        "  early = tf.keras.callbacks.EarlyStopping(\r\n",
        "      monitor = 'val_loss',\r\n",
        "      patience = 2,\r\n",
        "      restore_best_weights = True\r\n",
        "  )\r\n",
        "  callbacks = [save, early]\r\n",
        "  "
      ],
      "execution_count": 33,
      "outputs": [
        {
          "output_type": "stream",
          "text": [
            "All model checkpoint layers were used when initializing Camembert.\n",
            "\n",
            "All the layers of Camembert were initialized from the model checkpoint at weights/cam_base.\n",
            "If your task is similar to the task the model of the checkpoint was trained on, you can already use Camembert for predictions without further training.\n"
          ],
          "name": "stderr"
        }
      ]
    },
    {
      "cell_type": "code",
      "metadata": {
        "id": "L-riFGHprmbk"
      },
      "source": [
        "with strategy.scope():\r\n",
        "  model_3.layers[0].trainable = False\r\n",
        "  optimizer = tf.keras.optimizers.Adam(lr=1e-5)\r\n",
        "  model_3.compile(optimizer = optimizer, loss='sparse_categorical_crossentropy', metrics=['accuracy'])"
      ],
      "execution_count": 34,
      "outputs": []
    },
    {
      "cell_type": "code",
      "metadata": {
        "id": "nkr0d59nrmbk"
      },
      "source": [
        "x_train = tokenizer.batch_encode_plus(\r\n",
        "  train.tweet.to_list(), truncation=True, \r\n",
        "  return_tensors='tf', max_length=MAX_LEN,\r\n",
        "  return_attention_mask = False,\r\n",
        "  padding = \"max_length\")['input_ids']\r\n",
        "\r\n",
        "x_val = tokenizer.batch_encode_plus(\r\n",
        "  val.tweet.to_list(), truncation=True, \r\n",
        "  return_tensors='tf', max_length=MAX_LEN,\r\n",
        "  return_attention_mask = False,\r\n",
        "  padding = \"max_length\")['input_ids']\r\n",
        "\r\n",
        "x_test = tokenizer.batch_encode_plus(\r\n",
        "  test.tweet.to_list(), truncation=True, \r\n",
        "  return_tensors='tf', max_length=MAX_LEN,\r\n",
        "  return_attention_mask = False,\r\n",
        "  padding = \"max_length\")['input_ids']\r\n",
        "\r\n",
        "y_train = encoder.fit_transform(train.label)\r\n",
        "y_val = encoder.transform(val.label)\r\n",
        "y_test = encoder.transform(test.label)"
      ],
      "execution_count": 35,
      "outputs": []
    },
    {
      "cell_type": "code",
      "metadata": {
        "id": "fGqYDInmrmbk"
      },
      "source": [
        "train_dataset = (\r\n",
        "    tf.data.Dataset\r\n",
        "    .from_tensor_slices((x_train, y_train))\r\n",
        "    .repeat()\r\n",
        "    .shuffle(BUFFER)\r\n",
        "    .batch(BATCH_D)\r\n",
        "    .prefetch(AUTO)\r\n",
        ")\r\n",
        "\r\n",
        "val_dataset = (\r\n",
        "    tf.data.Dataset\r\n",
        "    .from_tensor_slices((x_val, y_val))\r\n",
        "    .batch(BATCH_D)\r\n",
        "    .prefetch(AUTO)\r\n",
        ")\r\n",
        "\r\n",
        "test_dataset = (\r\n",
        "    tf.data.Dataset\r\n",
        "    .from_tensor_slices(x_test)\r\n",
        "    .batch(BATCH_D)\r\n",
        ")"
      ],
      "execution_count": 36,
      "outputs": []
    },
    {
      "cell_type": "markdown",
      "metadata": {
        "id": "mHZgM8KWrmbl"
      },
      "source": [
        "## Entraînement du modèle"
      ]
    },
    {
      "cell_type": "code",
      "metadata": {
        "colab": {
          "base_uri": "https://localhost:8080/"
        },
        "id": "-cejIwyirmbl",
        "outputId": "c1d59d41-e2f5-4de9-a4fe-7730e9722a18"
      },
      "source": [
        "epochs_done = 0\r\n",
        "history = model_3.fit(\r\n",
        "  train_dataset,\r\n",
        "  epochs = 200,\r\n",
        "  steps_per_epoch = STEPS,\r\n",
        "  callbacks = [early],\r\n",
        "  validation_data = val_dataset,\r\n",
        "  initial_epoch = epochs_done,\r\n",
        "  workers = 8,\r\n",
        "  use_multiprocessing = True\r\n",
        ")"
      ],
      "execution_count": 37,
      "outputs": [
        {
          "output_type": "stream",
          "text": [
            "Epoch 1/200\n",
            "40/40 [==============================] - 25s 196ms/step - loss: 3.1365 - accuracy: 0.0121 - val_loss: 3.0849 - val_accuracy: 0.0117\n",
            "Epoch 2/200\n",
            "40/40 [==============================] - 2s 52ms/step - loss: 2.8501 - accuracy: 0.0132 - val_loss: 2.7224 - val_accuracy: 0.0117\n",
            "Epoch 3/200\n",
            "40/40 [==============================] - 2s 54ms/step - loss: 2.4882 - accuracy: 0.0212 - val_loss: 2.3979 - val_accuracy: 0.0117\n",
            "Epoch 4/200\n",
            "40/40 [==============================] - 2s 53ms/step - loss: 2.2791 - accuracy: 0.0295 - val_loss: 2.1221 - val_accuracy: 0.0117\n",
            "Epoch 5/200\n",
            "40/40 [==============================] - 2s 51ms/step - loss: 2.0670 - accuracy: 0.0557 - val_loss: 1.8888 - val_accuracy: 0.0117\n",
            "Epoch 6/200\n",
            "40/40 [==============================] - 2s 51ms/step - loss: 1.8647 - accuracy: 0.0895 - val_loss: 1.6993 - val_accuracy: 0.0117\n",
            "Epoch 7/200\n",
            "40/40 [==============================] - 2s 53ms/step - loss: 1.7000 - accuracy: 0.1464 - val_loss: 1.5528 - val_accuracy: 0.0133\n",
            "Epoch 8/200\n",
            "40/40 [==============================] - 2s 51ms/step - loss: 1.6138 - accuracy: 0.1908 - val_loss: 1.4379 - val_accuracy: 0.0359\n",
            "Epoch 9/200\n",
            "40/40 [==============================] - 2s 51ms/step - loss: 1.5121 - accuracy: 0.2582 - val_loss: 1.3482 - val_accuracy: 0.2539\n",
            "Epoch 10/200\n",
            "40/40 [==============================] - 3s 88ms/step - loss: 1.4247 - accuracy: 0.3129 - val_loss: 1.2787 - val_accuracy: 0.4883\n",
            "Epoch 11/200\n",
            "40/40 [==============================] - 2s 52ms/step - loss: 1.3517 - accuracy: 0.3490 - val_loss: 1.2266 - val_accuracy: 0.5063\n",
            "Epoch 12/200\n",
            "40/40 [==============================] - 2s 52ms/step - loss: 1.3251 - accuracy: 0.3743 - val_loss: 1.1864 - val_accuracy: 0.5266\n",
            "Epoch 13/200\n",
            "40/40 [==============================] - 2s 52ms/step - loss: 1.3019 - accuracy: 0.4051 - val_loss: 1.1560 - val_accuracy: 0.5312\n",
            "Epoch 14/200\n",
            "40/40 [==============================] - 2s 53ms/step - loss: 1.2566 - accuracy: 0.4299 - val_loss: 1.1310 - val_accuracy: 0.5289\n",
            "Epoch 15/200\n",
            "40/40 [==============================] - 2s 51ms/step - loss: 1.2333 - accuracy: 0.4509 - val_loss: 1.1117 - val_accuracy: 0.5289\n",
            "Epoch 16/200\n",
            "40/40 [==============================] - 2s 52ms/step - loss: 1.2190 - accuracy: 0.4508 - val_loss: 1.0966 - val_accuracy: 0.5289\n",
            "Epoch 17/200\n",
            "40/40 [==============================] - 2s 54ms/step - loss: 1.1915 - accuracy: 0.4727 - val_loss: 1.0845 - val_accuracy: 0.5281\n",
            "Epoch 18/200\n",
            "40/40 [==============================] - 2s 52ms/step - loss: 1.2227 - accuracy: 0.4398 - val_loss: 1.0739 - val_accuracy: 0.5289\n",
            "Epoch 19/200\n",
            "40/40 [==============================] - 2s 53ms/step - loss: 1.1747 - accuracy: 0.4688 - val_loss: 1.0656 - val_accuracy: 0.5281\n",
            "Epoch 20/200\n",
            "40/40 [==============================] - 2s 51ms/step - loss: 1.1599 - accuracy: 0.4653 - val_loss: 1.0591 - val_accuracy: 0.5289\n",
            "Epoch 21/200\n",
            "40/40 [==============================] - 2s 52ms/step - loss: 1.1814 - accuracy: 0.4604 - val_loss: 1.0531 - val_accuracy: 0.5281\n",
            "Epoch 22/200\n",
            "40/40 [==============================] - 2s 52ms/step - loss: 1.1422 - accuracy: 0.4800 - val_loss: 1.0492 - val_accuracy: 0.5281\n",
            "Epoch 23/200\n",
            "40/40 [==============================] - 2s 53ms/step - loss: 1.1535 - accuracy: 0.4788 - val_loss: 1.0443 - val_accuracy: 0.5281\n",
            "Epoch 24/200\n",
            "40/40 [==============================] - 2s 52ms/step - loss: 1.1380 - accuracy: 0.4784 - val_loss: 1.0408 - val_accuracy: 0.5281\n",
            "Epoch 25/200\n",
            "40/40 [==============================] - 2s 52ms/step - loss: 1.1319 - accuracy: 0.4730 - val_loss: 1.0387 - val_accuracy: 0.5281\n",
            "Epoch 26/200\n",
            "40/40 [==============================] - 2s 52ms/step - loss: 1.1316 - accuracy: 0.4720 - val_loss: 1.0359 - val_accuracy: 0.5281\n",
            "Epoch 27/200\n",
            "40/40 [==============================] - 2s 52ms/step - loss: 1.1127 - accuracy: 0.4832 - val_loss: 1.0340 - val_accuracy: 0.5281\n",
            "Epoch 28/200\n",
            "40/40 [==============================] - 2s 54ms/step - loss: 1.1464 - accuracy: 0.4636 - val_loss: 1.0314 - val_accuracy: 0.5281\n",
            "Epoch 29/200\n",
            "40/40 [==============================] - 2s 51ms/step - loss: 1.1289 - accuracy: 0.4787 - val_loss: 1.0292 - val_accuracy: 0.5281\n",
            "Epoch 30/200\n",
            "40/40 [==============================] - 2s 52ms/step - loss: 1.1545 - accuracy: 0.4698 - val_loss: 1.0271 - val_accuracy: 0.5281\n",
            "Epoch 31/200\n",
            "40/40 [==============================] - 2s 52ms/step - loss: 1.1387 - accuracy: 0.4760 - val_loss: 1.0268 - val_accuracy: 0.5289\n",
            "Epoch 32/200\n",
            "40/40 [==============================] - 2s 52ms/step - loss: 1.1093 - accuracy: 0.4866 - val_loss: 1.0259 - val_accuracy: 0.5281\n",
            "Epoch 33/200\n",
            "40/40 [==============================] - 2s 52ms/step - loss: 1.1052 - accuracy: 0.4756 - val_loss: 1.0261 - val_accuracy: 0.5281\n",
            "Epoch 34/200\n",
            "40/40 [==============================] - 2s 52ms/step - loss: 1.1610 - accuracy: 0.4489 - val_loss: 1.0236 - val_accuracy: 0.5289\n",
            "Epoch 35/200\n",
            "40/40 [==============================] - 2s 52ms/step - loss: 1.1295 - accuracy: 0.4542 - val_loss: 1.0230 - val_accuracy: 0.5289\n",
            "Epoch 36/200\n",
            "40/40 [==============================] - 2s 53ms/step - loss: 1.1114 - accuracy: 0.4696 - val_loss: 1.0216 - val_accuracy: 0.5281\n",
            "Epoch 37/200\n",
            "40/40 [==============================] - 2s 53ms/step - loss: 1.1145 - accuracy: 0.4704 - val_loss: 1.0208 - val_accuracy: 0.5289\n",
            "Epoch 38/200\n",
            "40/40 [==============================] - 2s 52ms/step - loss: 1.1011 - accuracy: 0.4732 - val_loss: 1.0212 - val_accuracy: 0.5281\n",
            "Epoch 39/200\n",
            "40/40 [==============================] - 2s 51ms/step - loss: 1.1283 - accuracy: 0.4635 - val_loss: 1.0218 - val_accuracy: 0.5281\n"
          ],
          "name": "stdout"
        }
      ]
    },
    {
      "cell_type": "code",
      "metadata": {
        "id": "-ercU9Kprmbl"
      },
      "source": [
        "with strategy.scope():\r\n",
        "  model_3.layers[0].trainable = True\r\n",
        "  optimizer = tf.keras.optimizers.Adam(lr=1e-7)\r\n",
        "  model_3.compile(optimizer = optimizer, loss='sparse_categorical_crossentropy', metrics=['accuracy'])"
      ],
      "execution_count": 38,
      "outputs": []
    },
    {
      "cell_type": "code",
      "metadata": {
        "colab": {
          "base_uri": "https://localhost:8080/"
        },
        "id": "cvgyLxlVrmbm",
        "outputId": "a06839f8-7491-4594-c8e9-f90b4fa647f9"
      },
      "source": [
        "epochs_done = 40\r\n",
        "history = model_3.fit(\r\n",
        "  train_dataset,\r\n",
        "  epochs = 200,\r\n",
        "  steps_per_epoch = STEPS,\r\n",
        "  callbacks = [early],\r\n",
        "  validation_data = val_dataset,\r\n",
        "  initial_epoch = epochs_done,\r\n",
        "  workers = 8,\r\n",
        "  use_multiprocessing = True\r\n",
        ")"
      ],
      "execution_count": 39,
      "outputs": [
        {
          "output_type": "stream",
          "text": [
            "Epoch 41/200\n",
            "40/40 [==============================] - 77s 242ms/step - loss: 1.1093 - accuracy: 0.4798 - val_loss: 1.0229 - val_accuracy: 0.5273\n",
            "Epoch 42/200\n",
            "40/40 [==============================] - 4s 100ms/step - loss: 1.0965 - accuracy: 0.4831 - val_loss: 1.0205 - val_accuracy: 0.5266\n",
            "Epoch 43/200\n",
            "40/40 [==============================] - 4s 100ms/step - loss: 1.1030 - accuracy: 0.4745 - val_loss: 1.0169 - val_accuracy: 0.5273\n",
            "Epoch 44/200\n",
            "40/40 [==============================] - 4s 102ms/step - loss: 1.1059 - accuracy: 0.4699 - val_loss: 1.0168 - val_accuracy: 0.5281\n",
            "Epoch 45/200\n",
            "40/40 [==============================] - 4s 101ms/step - loss: 1.1202 - accuracy: 0.4640 - val_loss: 1.0296 - val_accuracy: 0.5289\n",
            "Epoch 46/200\n",
            "40/40 [==============================] - 4s 100ms/step - loss: 1.0938 - accuracy: 0.4913 - val_loss: 1.0202 - val_accuracy: 0.5273\n"
          ],
          "name": "stdout"
        }
      ]
    },
    {
      "cell_type": "code",
      "metadata": {
        "id": "RTPCc-urrmbm"
      },
      "source": [
        "model_3.save_pretrained(f\"weights/{MODEL}/nos_nol\")"
      ],
      "execution_count": 40,
      "outputs": []
    },
    {
      "cell_type": "markdown",
      "metadata": {
        "id": "wmBFxukfrmbm"
      },
      "source": [
        "## Evaluation du modèle"
      ]
    },
    {
      "cell_type": "code",
      "metadata": {
        "id": "RI3AYZKYrmbm"
      },
      "source": [
        "train_dataset = (\r\n",
        "    tf.data.Dataset\r\n",
        "    .from_tensor_slices((\r\n",
        "        tf.concat([x_train, x_val], axis = 0),\r\n",
        "        np.concatenate([y_train, y_val])\r\n",
        "      ))\r\n",
        "    .repeat()\r\n",
        "    .shuffle(BUFFER)\r\n",
        "    .batch(BATCH_D)\r\n",
        "    .prefetch(AUTO)\r\n",
        ")"
      ],
      "execution_count": 41,
      "outputs": []
    },
    {
      "cell_type": "code",
      "metadata": {
        "colab": {
          "base_uri": "https://localhost:8080/"
        },
        "id": "SVwY-yR9rmbm",
        "outputId": "0e8759c3-dd64-4346-a192-6a81f2829c58"
      },
      "source": [
        "with strategy.scope():\r\n",
        "  final_model_3 = Camembert.from_pretrained(f\"weights/{MODEL}\")\r\n",
        "  final_model_3.layers[0].trainable = False\r\n",
        "  optimizer = tf.keras.optimizers.Adam(lr=1e-5)\r\n",
        "  final_model_3.compile(optimizer = optimizer, loss='sparse_categorical_crossentropy', metrics=['accuracy'])\r\n",
        "\r\n",
        "epochs_done = 0\r\n",
        "history = final_model_1.fit(\r\n",
        "  train_dataset,\r\n",
        "  epochs = 38,\r\n",
        "  steps_per_epoch = STEPS + 10,\r\n",
        "  initial_epoch = epochs_done,\r\n",
        "  workers = 8, verbose = 0,\r\n",
        "  use_multiprocessing = True\r\n",
        ")\r\n",
        "\r\n",
        "with strategy.scope():\r\n",
        "  final_model_3.layers[0].trainable = True\r\n",
        "  optimizer = tf.keras.optimizers.Adam(lr=1e-7)\r\n",
        "  final_model_3.compile(optimizer = optimizer, loss='sparse_categorical_crossentropy', metrics=['accuracy'])\r\n",
        "\r\n",
        "epochs_done = 38\r\n",
        "history = final_model_3.fit(\r\n",
        "  train_dataset,\r\n",
        "  epochs = epochs_done + 2,\r\n",
        "  steps_per_epoch = STEPS + 10,\r\n",
        "  initial_epoch = epochs_done,\r\n",
        "  workers = 8, verbose = 0,\r\n",
        "  use_multiprocessing = True\r\n",
        ")"
      ],
      "execution_count": 42,
      "outputs": [
        {
          "output_type": "stream",
          "text": [
            "All model checkpoint layers were used when initializing Camembert.\n",
            "\n",
            "All the layers of Camembert were initialized from the model checkpoint at weights/cam_base.\n",
            "If your task is similar to the task the model of the checkpoint was trained on, you can already use Camembert for predictions without further training.\n"
          ],
          "name": "stderr"
        }
      ]
    },
    {
      "cell_type": "code",
      "metadata": {
        "id": "aY8pCNkMrmbn"
      },
      "source": [
        "pred_3 = final_model_3.predict(x_test)\r\n",
        "y_3 = encoder.inverse_transform(np.argmax(pred_3, axis = 1))"
      ],
      "execution_count": 43,
      "outputs": []
    },
    {
      "cell_type": "code",
      "metadata": {
        "colab": {
          "base_uri": "https://localhost:8080/",
          "height": 598
        },
        "id": "MR7Q7AKZrmbo",
        "outputId": "1a86378d-e8d3-46c9-a891-f87ff426d027"
      },
      "source": [
        "print(classification_report(test.label, y_3))\r\n",
        "\r\n",
        "print(\"F1-score: {}\\nAUC: {}\\nAccuracy: {}\".format(\r\n",
        "    f1_score(test.label, y_3, average = \"macro\"),\r\n",
        "    roc_auc_score(binarizer.fit_transform(y_test), pred_3, average = \"macro\", multi_class = \"ovr\"),\r\n",
        "    accuracy_score(test.label, y_3)\r\n",
        "))\r\n",
        "\r\n",
        "sns.heatmap(\r\n",
        "    confusion_matrix(test.label, y_3, normalize='true'),\r\n",
        "    annot = True\r\n",
        ")"
      ],
      "execution_count": 44,
      "outputs": [
        {
          "output_type": "stream",
          "text": [
            "              precision    recall  f1-score   support\n",
            "\n",
            "     EMOTION       0.00      0.00      0.00       337\n",
            " INFORMATION       0.45      1.00      0.62      1473\n",
            "     OPINION       0.33      0.00      0.00       950\n",
            "   SENTIMENT       0.00      0.00      0.00       523\n",
            "\n",
            "    accuracy                           0.45      3283\n",
            "   macro avg       0.20      0.25      0.16      3283\n",
            "weighted avg       0.30      0.45      0.28      3283\n",
            "\n",
            "F1-score: 0.1554794243829876\n",
            "AUC: 0.5327091492978477\n",
            "Accuracy: 0.4489795918367347\n"
          ],
          "name": "stdout"
        },
        {
          "output_type": "stream",
          "text": [
            "/usr/local/lib/python3.6/dist-packages/sklearn/metrics/_classification.py:1272: UndefinedMetricWarning: Precision and F-score are ill-defined and being set to 0.0 in labels with no predicted samples. Use `zero_division` parameter to control this behavior.\n",
            "  _warn_prf(average, modifier, msg_start, len(result))\n"
          ],
          "name": "stderr"
        },
        {
          "output_type": "execute_result",
          "data": {
            "text/plain": [
              "<matplotlib.axes._subplots.AxesSubplot at 0x7f258af9a208>"
            ]
          },
          "metadata": {
            "tags": []
          },
          "execution_count": 44
        },
        {
          "output_type": "display_data",
          "data": {
            "image/png": "[encoded data removed]",
            "text/plain": [
              "<Figure size 432x288 with 2 Axes>"
            ]
          },
          "metadata": {
            "tags": [],
            "needs_background": "light"
          }
        }
      ]
    },
    {
      "cell_type": "markdown",
      "metadata": {
        "id": "imuGPUnormbo"
      },
      "source": [
        "# Modèle sans Stem-Lem avec sur-échantillonnage"
      ]
    },
    {
      "cell_type": "markdown",
      "metadata": {
        "id": "sZn87_Nirmbp"
      },
      "source": [
        "## Entraînement\r\n",
        "\r\n",
        "Sur-échantillonnage"
      ]
    },
    {
      "cell_type": "code",
      "metadata": {
        "colab": {
          "base_uri": "https://localhost:8080/"
        },
        "id": "H1ukBXEPrmbp",
        "outputId": "e8993961-de79-4182-fa3e-1a6b23d727a7"
      },
      "source": [
        "ros = RandomOverSampler(\r\n",
        "    sampling_strategy={\r\n",
        "        0: 1746,\r\n",
        "        1: 2707,\r\n",
        "        2: 1746,\r\n",
        "        3: 1746\r\n",
        "    }\r\n",
        ")\r\n",
        "x_ros, y_ros = ros.fit_resample(x_train, y_train)"
      ],
      "execution_count": 45,
      "outputs": [
        {
          "output_type": "stream",
          "text": [
            "/usr/local/lib/python3.6/dist-packages/sklearn/utils/deprecation.py:87: FutureWarning: Function safe_indexing is deprecated; safe_indexing is deprecated in version 0.22 and will be removed in version 0.24.\n",
            "  warnings.warn(msg, category=FutureWarning)\n"
          ],
          "name": "stderr"
        }
      ]
    },
    {
      "cell_type": "code",
      "metadata": {
        "colab": {
          "base_uri": "https://localhost:8080/"
        },
        "id": "rc5O5B9brmbp",
        "outputId": "46253b84-c512-4730-8fc5-c184853cd060"
      },
      "source": [
        "with strategy.scope():\r\n",
        "  model_4 = Camembert.from_pretrained(f\"weights/{MODEL}\")\r\n",
        "  model_4.layers[0].trainable = False\r\n",
        "  optimizer = tf.keras.optimizers.Adam(lr=1e-5)\r\n",
        "  model_4.compile(optimizer = optimizer, loss='sparse_categorical_crossentropy', metrics=['accuracy'])\r\n",
        "\r\n",
        "  train_ros_dataset = (\r\n",
        "      tf.data.Dataset\r\n",
        "      .from_tensor_slices((x_ros, y_ros))\r\n",
        "      .repeat()\r\n",
        "      .shuffle(BUFFER)\r\n",
        "      .batch(BATCH_D)\r\n",
        "      .prefetch(AUTO)\r\n",
        "  )\r\n",
        "\r\n",
        "epochs_done = 0\r\n",
        "history = model_4.fit(\r\n",
        "  train_ros_dataset,\r\n",
        "  epochs = 200,\r\n",
        "  steps_per_epoch = int(np.ceil(x_ros.shape[0]/BATCH_D)),\r\n",
        "  callbacks = [early],\r\n",
        "  validation_data = val_dataset,\r\n",
        "  initial_epoch = epochs_done,\r\n",
        "  workers = 8,\r\n",
        "  use_multiprocessing = True\r\n",
        ")"
      ],
      "execution_count": 46,
      "outputs": [
        {
          "output_type": "stream",
          "text": [
            "All model checkpoint layers were used when initializing Camembert.\n",
            "\n",
            "All the layers of Camembert were initialized from the model checkpoint at weights/cam_base.\n",
            "If your task is similar to the task the model of the checkpoint was trained on, you can already use Camembert for predictions without further training.\n"
          ],
          "name": "stderr"
        },
        {
          "output_type": "stream",
          "text": [
            "Epoch 1/200\n",
            "63/63 [==============================] - 26s 132ms/step - loss: 2.4046 - accuracy: 0.2219 - val_loss: 2.8758 - val_accuracy: 0.0117\n",
            "Epoch 2/200\n",
            "63/63 [==============================] - 3s 42ms/step - loss: 2.0928 - accuracy: 0.2163 - val_loss: 2.3917 - val_accuracy: 0.0117\n",
            "Epoch 3/200\n",
            "63/63 [==============================] - 3s 42ms/step - loss: 1.8293 - accuracy: 0.2261 - val_loss: 2.0349 - val_accuracy: 0.0117\n",
            "Epoch 4/200\n",
            "63/63 [==============================] - 3s 42ms/step - loss: 1.7163 - accuracy: 0.2121 - val_loss: 1.7747 - val_accuracy: 0.0117\n",
            "Epoch 5/200\n",
            "63/63 [==============================] - 3s 42ms/step - loss: 1.5968 - accuracy: 0.2357 - val_loss: 1.5943 - val_accuracy: 0.0125\n",
            "Epoch 6/200\n",
            "63/63 [==============================] - 3s 42ms/step - loss: 1.5567 - accuracy: 0.2327 - val_loss: 1.4787 - val_accuracy: 0.0266\n",
            "Epoch 7/200\n",
            "63/63 [==============================] - 3s 42ms/step - loss: 1.5251 - accuracy: 0.2506 - val_loss: 1.4126 - val_accuracy: 0.1969\n",
            "Epoch 8/200\n",
            "63/63 [==============================] - 3s 42ms/step - loss: 1.5102 - accuracy: 0.2616 - val_loss: 1.3696 - val_accuracy: 0.4352\n",
            "Epoch 9/200\n",
            "63/63 [==============================] - 3s 42ms/step - loss: 1.4964 - accuracy: 0.2685 - val_loss: 1.3296 - val_accuracy: 0.5125\n",
            "Epoch 10/200\n",
            "63/63 [==============================] - 3s 41ms/step - loss: 1.5031 - accuracy: 0.2670 - val_loss: 1.3158 - val_accuracy: 0.5211\n",
            "Epoch 11/200\n",
            "63/63 [==============================] - 3s 41ms/step - loss: 1.5071 - accuracy: 0.2638 - val_loss: 1.3040 - val_accuracy: 0.5258\n",
            "Epoch 12/200\n",
            "63/63 [==============================] - 3s 41ms/step - loss: 1.4988 - accuracy: 0.2734 - val_loss: 1.2914 - val_accuracy: 0.5273\n",
            "Epoch 13/200\n",
            "63/63 [==============================] - 3s 43ms/step - loss: 1.5067 - accuracy: 0.2613 - val_loss: 1.2864 - val_accuracy: 0.5273\n",
            "Epoch 14/200\n",
            "63/63 [==============================] - 3s 42ms/step - loss: 1.4895 - accuracy: 0.2835 - val_loss: 1.2830 - val_accuracy: 0.5273\n",
            "Epoch 15/200\n",
            "63/63 [==============================] - 3s 41ms/step - loss: 1.4954 - accuracy: 0.2812 - val_loss: 1.2842 - val_accuracy: 0.5273\n",
            "Epoch 16/200\n",
            "63/63 [==============================] - 3s 41ms/step - loss: 1.4887 - accuracy: 0.2827 - val_loss: 1.2883 - val_accuracy: 0.5273\n"
          ],
          "name": "stdout"
        }
      ]
    },
    {
      "cell_type": "code",
      "metadata": {
        "colab": {
          "base_uri": "https://localhost:8080/"
        },
        "id": "BF3sXtufrmbq",
        "outputId": "06b279b2-2e0a-4b08-dd29-520acdfdefc7"
      },
      "source": [
        "with strategy.scope():\r\n",
        "  model_4.layers[0].trainable = True\r\n",
        "  optimizer = tf.keras.optimizers.Adam(lr=1e-7)\r\n",
        "  model.compile(optimizer = optimizer, loss='sparse_categorical_crossentropy', metrics=['accuracy'])\r\n",
        "\r\n",
        "epochs_done = 20\r\n",
        "history = model_4.fit(\r\n",
        "  train_ros_dataset,\r\n",
        "  epochs = 200,\r\n",
        "  steps_per_epoch = int(np.ceil(x_ros.shape[0]/BATCH_D)),\r\n",
        "  callbacks = [early],\r\n",
        "  validation_data = val_dataset,\r\n",
        "  initial_epoch = epochs_done,\r\n",
        "  workers = 8,\r\n",
        "  use_multiprocessing = True\r\n",
        ")"
      ],
      "execution_count": 47,
      "outputs": [
        {
          "output_type": "stream",
          "text": [
            "Epoch 21/200\n",
            "63/63 [==============================] - 3s 42ms/step - loss: 1.5049 - accuracy: 0.2728 - val_loss: 1.2827 - val_accuracy: 0.5273\n",
            "Epoch 22/200\n",
            "63/63 [==============================] - 3s 44ms/step - loss: 1.4901 - accuracy: 0.2805 - val_loss: 1.2773 - val_accuracy: 0.5273\n",
            "Epoch 23/200\n",
            "63/63 [==============================] - 3s 43ms/step - loss: 1.4852 - accuracy: 0.2879 - val_loss: 1.2680 - val_accuracy: 0.5273\n",
            "Epoch 24/200\n",
            "63/63 [==============================] - 3s 43ms/step - loss: 1.4937 - accuracy: 0.2780 - val_loss: 1.2711 - val_accuracy: 0.5273\n",
            "Epoch 25/200\n",
            "63/63 [==============================] - 3s 45ms/step - loss: 1.4969 - accuracy: 0.2755 - val_loss: 1.2646 - val_accuracy: 0.5273\n",
            "Epoch 26/200\n",
            "63/63 [==============================] - 3s 42ms/step - loss: 1.5050 - accuracy: 0.2769 - val_loss: 1.2746 - val_accuracy: 0.5273\n",
            "Epoch 27/200\n",
            "63/63 [==============================] - 3s 42ms/step - loss: 1.4873 - accuracy: 0.2878 - val_loss: 1.2759 - val_accuracy: 0.5273\n"
          ],
          "name": "stdout"
        }
      ]
    },
    {
      "cell_type": "markdown",
      "metadata": {
        "id": "gtqSEO-Vrmbq"
      },
      "source": [
        "## Evaluation"
      ]
    },
    {
      "cell_type": "code",
      "metadata": {
        "colab": {
          "base_uri": "https://localhost:8080/"
        },
        "id": "ivQtR-SErmbq",
        "outputId": "9a255f7d-c265-437a-883c-4fd78ef5cf33"
      },
      "source": [
        "counts = np.sort(np.unique(np.concatenate([y_train, y_val]), return_counts = True)[1])\r\n",
        "ros = RandomOverSampler(sampling_strategy={\r\n",
        "    0: counts[-2],\r\n",
        "    1: counts[-1],\r\n",
        "    2: counts[-2],\r\n",
        "    3: counts[-2]\r\n",
        "})\r\n",
        "\r\n",
        "x_ros, y_ros = ros.fit_resample(\r\n",
        "    tf.concat([x_train, x_val], axis = 0),\r\n",
        "    np.concatenate([y_train, y_val])\r\n",
        ")\r\n",
        "\r\n",
        "train_ros_dataset = (\r\n",
        "    tf.data.Dataset\r\n",
        "    .from_tensor_slices((x_ros, y_ros))\r\n",
        "    .repeat()\r\n",
        "    .shuffle(BUFFER)\r\n",
        "    .batch(BATCH_D)\r\n",
        "    .prefetch(AUTO)\r\n",
        ")"
      ],
      "execution_count": 48,
      "outputs": [
        {
          "output_type": "stream",
          "text": [
            "/usr/local/lib/python3.6/dist-packages/sklearn/utils/deprecation.py:87: FutureWarning: Function safe_indexing is deprecated; safe_indexing is deprecated in version 0.22 and will be removed in version 0.24.\n",
            "  warnings.warn(msg, category=FutureWarning)\n"
          ],
          "name": "stderr"
        }
      ]
    },
    {
      "cell_type": "code",
      "metadata": {
        "colab": {
          "base_uri": "https://localhost:8080/"
        },
        "id": "NeHcxiKU7RMr",
        "outputId": "def15f21-39ea-4e63-b99a-18cdc97b1fb4"
      },
      "source": [
        "del final_model_4\r\n",
        "del final_model_1\r\n",
        "del final_model_2\r\n",
        "del final_model_3\r\n",
        "del model\r\n",
        "del model_2\r\n",
        "del model_3\r\n",
        "del model_4\r\n",
        "gc.collect()"
      ],
      "execution_count": 52,
      "outputs": [
        {
          "output_type": "execute_result",
          "data": {
            "text/plain": [
              "2394152"
            ]
          },
          "metadata": {
            "tags": []
          },
          "execution_count": 52
        }
      ]
    },
    {
      "cell_type": "code",
      "metadata": {
        "colab": {
          "base_uri": "https://localhost:8080/"
        },
        "id": "iYMx5BjCrmbq",
        "outputId": "5b5e8e0b-8eb5-49a0-c99b-e71015304017"
      },
      "source": [
        "with strategy.scope():\r\n",
        "  final_model_4 = Camembert.from_pretrained(f\"weights/{MODEL}\")\r\n",
        "  final_model_4.layers[0].trainable = False\r\n",
        "  optimizer = tf.keras.optimizers.Adam(lr=1e-5)\r\n",
        "  final_model_4.compile(optimizer = optimizer, loss='sparse_categorical_crossentropy', metrics=['accuracy'])\r\n",
        "\r\n",
        "epochs_done = 0\r\n",
        "history = final_model_4.fit(\r\n",
        "  train_ros_dataset,\r\n",
        "  epochs = 18,\r\n",
        "  steps_per_epoch = int(np.ceil(x_ros.shape[0]/BATCH_D)),\r\n",
        "  initial_epoch = epochs_done,\r\n",
        "  workers = 8, verbose = 0,\r\n",
        "  use_multiprocessing = True\r\n",
        ")\r\n",
        "\r\n",
        "with strategy.scope():\r\n",
        "  final_model_4.layers[0].trainable = True\r\n",
        "  optimizer = tf.keras.optimizers.Adam(lr=1e-7)\r\n",
        "  final_model_4.compile(optimizer = optimizer, loss='sparse_categorical_crossentropy', metrics=['accuracy'])\r\n",
        "\r\n",
        "epochs_done = 18\r\n",
        "history = final_model_4.fit(\r\n",
        "  train_ros_dataset,\r\n",
        "  epochs = epochs_done + 1,\r\n",
        "  steps_per_epoch = int(np.ceil(x_ros.shape[0]/BATCH_D)),\r\n",
        "  initial_epoch = epochs_done,\r\n",
        "  workers = 8, verbose = 0,\r\n",
        "  use_multiprocessing = True\r\n",
        ")"
      ],
      "execution_count": 53,
      "outputs": [
        {
          "output_type": "stream",
          "text": [
            "All model checkpoint layers were used when initializing Camembert.\n",
            "\n",
            "All the layers of Camembert were initialized from the model checkpoint at weights/cam_base.\n",
            "If your task is similar to the task the model of the checkpoint was trained on, you can already use Camembert for predictions without further training.\n"
          ],
          "name": "stderr"
        }
      ]
    },
    {
      "cell_type": "code",
      "metadata": {
        "colab": {
          "base_uri": "https://localhost:8080/",
          "height": 594
        },
        "id": "rc88cUsarmbr",
        "outputId": "ff0434da-0bba-443a-d1fb-9dc76cfcf403"
      },
      "source": [
        "pred_4 = final_model_4.predict(x_test)\r\n",
        "y_4 = encoder.inverse_transform(np.argmax(pred_4, axis = 1))\r\n",
        "\r\n",
        "print(classification_report(test.label, y_4))\r\n",
        "\r\n",
        "print(\"F1-score: {}\\nAUC: {}\\nAccuracy: {}\".format(\r\n",
        "    f1_score(test.label, y_4, average = \"macro\"),\r\n",
        "    roc_auc_score(binarizer.fit_transform(y_test), pred_4, average = \"macro\", multi_class = \"ovr\"),\r\n",
        "    accuracy_score(test.label, y_4)\r\n",
        "))\r\n",
        "\r\n",
        "sns.heatmap(\r\n",
        "    confusion_matrix(test.label, y_4, normalize='true'),\r\n",
        "    annot = True\r\n",
        ")"
      ],
      "execution_count": 54,
      "outputs": [
        {
          "output_type": "stream",
          "text": [
            "              precision    recall  f1-score   support\n",
            "\n",
            "     EMOTION       0.00      0.00      0.00       337\n",
            " INFORMATION       0.45      1.00      0.62      1473\n",
            "     OPINION       0.00      0.00      0.00       950\n",
            "   SENTIMENT       0.00      0.00      0.00       523\n",
            "\n",
            "    accuracy                           0.45      3283\n",
            "   macro avg       0.11      0.25      0.15      3283\n",
            "weighted avg       0.20      0.45      0.28      3283\n",
            "\n",
            "F1-score: 0.15468156895824547\n",
            "AUC: 0.53759796720932\n",
            "Accuracy: 0.4468473956746878\n"
          ],
          "name": "stdout"
        },
        {
          "output_type": "stream",
          "text": [
            "/usr/local/lib/python3.6/dist-packages/sklearn/metrics/_classification.py:1272: UndefinedMetricWarning: Precision and F-score are ill-defined and being set to 0.0 in labels with no predicted samples. Use `zero_division` parameter to control this behavior.\n",
            "  _warn_prf(average, modifier, msg_start, len(result))\n"
          ],
          "name": "stderr"
        },
        {
          "output_type": "execute_result",
          "data": {
            "text/plain": [
              "<matplotlib.axes._subplots.AxesSubplot at 0x7f2598829470>"
            ]
          },
          "metadata": {
            "tags": []
          },
          "execution_count": 54
        },
        {
          "output_type": "display_data",
          "data": {
            "image/png": "[encoded data removed]",
            "text/plain": [
              "<Figure size 432x288 with 2 Axes>"
            ]
          },
          "metadata": {
            "tags": [],
            "needs_background": "light"
          }
        }
      ]
    }
  ]
}