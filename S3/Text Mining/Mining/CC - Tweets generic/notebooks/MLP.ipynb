{
 "cells": [
  {
   "cell_type": "code",
   "execution_count": 1,
   "metadata": {},
   "outputs": [],
   "source": [
    "import numpy as np\n",
    "import pandas as pd\n",
    "import matplotlib.pyplot as plt\n",
    "import tensorflow as tf\n",
    "\n",
    "import tensorflow.keras as keras\n",
    "from tensorflow.keras.preprocessing.text import Tokenizer\n",
    "from tensorflow.keras.constraints import max_norm\n",
    "from tensorflow.keras import (\n",
    "    callbacks, layers,\n",
    "    backend as K,\n",
    "    Model, Sequential\n",
    ")\n",
    "\n",
    "from sklearn.preprocessing import LabelBinarizer\n",
    "from sklearn.metrics import (\n",
    "    f1_score, roc_auc_score,\n",
    "    accuracy_score, classification_report\n",
    ")\n",
    "\n",
    "from imblearn.keras import balanced_batch_generator\n",
    "from imblearn.over_sampling import RandomOverSampler\n",
    "\n",
    "from nltk.tokenize import word_tokenize"
   ]
  },
  {
   "cell_type": "code",
   "execution_count": 2,
   "metadata": {},
   "outputs": [],
   "source": [
    "physical_devices = tf.config.list_physical_devices('GPU')\n",
    "tf.config.experimental.set_memory_growth(physical_devices[0], True)"
   ]
  },
  {
   "cell_type": "code",
   "execution_count": 3,
   "metadata": {},
   "outputs": [],
   "source": [
    "def vocab_compute(serie):\n",
    "    return set(sum(map(word_tokenize, serie.to_list()), []))"
   ]
  },
  {
   "cell_type": "code",
   "execution_count": 4,
   "metadata": {},
   "outputs": [],
   "source": [
    "def build_mlp():\n",
    "    inp = layers.Input(shape = (vocab_size,))\n",
    "    x = layers.Dense(\n",
    "        4096,\n",
    "        activation = 'relu',\n",
    "        kernel_initializer = 'glorot_normal',\n",
    "        kernel_constraint=max_norm(2)\n",
    "    )(inp)\n",
    "    x = layers.Dropout(.1)(x)\n",
    "    \n",
    "    x = layers.Dense(\n",
    "        1024, kernel_initializer = 'glorot_normal',\n",
    "        activation= 'relu'\n",
    "    )(x)\n",
    "    x = layers.Dropout(.1)(x)\n",
    "    \n",
    "    x = layers.Dense(4, activation = 'softmax')(x)\n",
    "    \n",
    "    return Model(inputs = inp, outputs = x)"
   ]
  },
  {
   "cell_type": "code",
   "execution_count": 5,
   "metadata": {},
   "outputs": [],
   "source": [
    "train = pd.read_pickle(\"../data/datasets/train_classic.pkl\")\n",
    "val = pd.read_pickle(\"../data/datasets/val_classic.pkl\")\n",
    "test = pd.read_pickle(\"../data/datasets/test_classic.pkl\")"
   ]
  },
  {
   "cell_type": "code",
   "execution_count": 6,
   "metadata": {},
   "outputs": [],
   "source": [
    "vocab_size = 6000\n",
    "input_length = vocab_size + 1\n",
    "num_labels = train.label.nunique()\n",
    "batch_size = 512\n",
    "nb_epoch = 100"
   ]
  },
  {
   "cell_type": "code",
   "execution_count": 7,
   "metadata": {},
   "outputs": [],
   "source": [
    "tokenizer = Tokenizer(num_words = vocab_size)\n",
    "tokenizer.fit_on_texts(train.tweet)"
   ]
  },
  {
   "cell_type": "code",
   "execution_count": 8,
   "metadata": {},
   "outputs": [],
   "source": [
    "x_train = tokenizer.texts_to_matrix(train.tweet, mode='tfidf')\n",
    "x_val = tokenizer.texts_to_matrix(val.tweet, mode='tfidf')"
   ]
  },
  {
   "cell_type": "code",
   "execution_count": 9,
   "metadata": {},
   "outputs": [],
   "source": [
    "encoder = LabelBinarizer()\n",
    "encoder.fit(train.label)\n",
    "y_train = encoder.transform(train.label)\n",
    "y_val = encoder.transform(val.label)"
   ]
  },
  {
   "cell_type": "markdown",
   "metadata": {},
   "source": [
    "# Entraînement\n",
    "## Réseau à 2 couches simple"
   ]
  },
  {
   "cell_type": "code",
   "execution_count": 10,
   "metadata": {},
   "outputs": [],
   "source": [
    "with tf.device('/gpu:0'):\n",
    "    model_1 = build_mlp()"
   ]
  },
  {
   "cell_type": "code",
   "execution_count": 11,
   "metadata": {},
   "outputs": [],
   "source": [
    "with tf.device('/gpu:0'):\n",
    "    model_1.compile(\n",
    "        loss = 'categorical_crossentropy',\n",
    "        optimizer = tf.keras.optimizers.Adam(1e-5),\n",
    "        metrics = ['accuracy']\n",
    "    )\n",
    "    \n",
    "    early = tf.keras.callbacks.EarlyStopping(\n",
    "        monitor = 'val_loss',\n",
    "        patience = 5,\n",
    "        restore_best_weights = True\n",
    "    )"
   ]
  },
  {
   "cell_type": "code",
   "execution_count": 12,
   "metadata": {
    "scrolled": true
   },
   "outputs": [
    {
     "name": "stdout",
     "output_type": "stream",
     "text": [
      "Epoch 1/100\n",
      "10/10 [==============================] - 1s 89ms/step - loss: 1.2711 - accuracy: 0.4132 - val_loss: 1.1793 - val_accuracy: 0.5094\n",
      "Epoch 2/100\n",
      "10/10 [==============================] - 1s 73ms/step - loss: 1.1115 - accuracy: 0.5248 - val_loss: 1.0881 - val_accuracy: 0.5266\n",
      "Epoch 3/100\n",
      "10/10 [==============================] - 1s 74ms/step - loss: 1.0388 - accuracy: 0.5367 - val_loss: 1.0456 - val_accuracy: 0.5312\n",
      "Epoch 4/100\n",
      "10/10 [==============================] - 1s 75ms/step - loss: 0.9957 - accuracy: 0.5596 - val_loss: 1.0219 - val_accuracy: 0.5500\n",
      "Epoch 5/100\n",
      "10/10 [==============================] - 1s 73ms/step - loss: 0.9664 - accuracy: 0.5858 - val_loss: 1.0051 - val_accuracy: 0.5570\n",
      "Epoch 6/100\n",
      "10/10 [==============================] - 1s 74ms/step - loss: 0.9408 - accuracy: 0.6073 - val_loss: 0.9911 - val_accuracy: 0.5656\n",
      "Epoch 7/100\n",
      "10/10 [==============================] - 1s 74ms/step - loss: 0.9154 - accuracy: 0.6168 - val_loss: 0.9787 - val_accuracy: 0.5688\n",
      "Epoch 8/100\n",
      "10/10 [==============================] - 1s 74ms/step - loss: 0.8899 - accuracy: 0.6387 - val_loss: 0.9673 - val_accuracy: 0.5813\n",
      "Epoch 9/100\n",
      "10/10 [==============================] - 1s 74ms/step - loss: 0.8707 - accuracy: 0.6667 - val_loss: 0.9564 - val_accuracy: 0.5977\n",
      "Epoch 10/100\n",
      "10/10 [==============================] - 1s 74ms/step - loss: 0.8459 - accuracy: 0.6858 - val_loss: 0.9448 - val_accuracy: 0.5922\n",
      "Epoch 11/100\n",
      "10/10 [==============================] - 1s 74ms/step - loss: 0.8197 - accuracy: 0.6995 - val_loss: 0.9343 - val_accuracy: 0.6039\n",
      "Epoch 12/100\n",
      "10/10 [==============================] - 1s 74ms/step - loss: 0.7948 - accuracy: 0.7233 - val_loss: 0.9240 - val_accuracy: 0.6187\n",
      "Epoch 13/100\n",
      "10/10 [==============================] - 1s 78ms/step - loss: 0.7717 - accuracy: 0.7542 - val_loss: 0.9131 - val_accuracy: 0.6234\n",
      "Epoch 14/100\n",
      "10/10 [==============================] - 1s 80ms/step - loss: 0.7512 - accuracy: 0.7546 - val_loss: 0.9024 - val_accuracy: 0.6273\n",
      "Epoch 15/100\n",
      "10/10 [==============================] - 1s 81ms/step - loss: 0.7243 - accuracy: 0.7726 - val_loss: 0.8921 - val_accuracy: 0.6430\n",
      "Epoch 16/100\n",
      "10/10 [==============================] - 1s 75ms/step - loss: 0.6979 - accuracy: 0.7939 - val_loss: 0.8826 - val_accuracy: 0.6500\n",
      "Epoch 17/100\n",
      "10/10 [==============================] - 1s 74ms/step - loss: 0.6746 - accuracy: 0.8085 - val_loss: 0.8722 - val_accuracy: 0.6484\n",
      "Epoch 18/100\n",
      "10/10 [==============================] - 1s 74ms/step - loss: 0.6505 - accuracy: 0.8109 - val_loss: 0.8625 - val_accuracy: 0.6578\n",
      "Epoch 19/100\n",
      "10/10 [==============================] - 1s 74ms/step - loss: 0.6267 - accuracy: 0.8288 - val_loss: 0.8534 - val_accuracy: 0.6664\n",
      "Epoch 20/100\n",
      "10/10 [==============================] - 1s 74ms/step - loss: 0.6036 - accuracy: 0.8419 - val_loss: 0.8446 - val_accuracy: 0.6680\n",
      "Epoch 21/100\n",
      "10/10 [==============================] - 1s 74ms/step - loss: 0.5769 - accuracy: 0.8537 - val_loss: 0.8362 - val_accuracy: 0.6672\n",
      "Epoch 22/100\n",
      "10/10 [==============================] - 1s 74ms/step - loss: 0.5564 - accuracy: 0.8583 - val_loss: 0.8281 - val_accuracy: 0.6711\n",
      "Epoch 23/100\n",
      "10/10 [==============================] - 1s 82ms/step - loss: 0.5315 - accuracy: 0.8728 - val_loss: 0.8207 - val_accuracy: 0.6703\n",
      "Epoch 24/100\n",
      "10/10 [==============================] - 1s 75ms/step - loss: 0.5078 - accuracy: 0.8830 - val_loss: 0.8137 - val_accuracy: 0.6734\n",
      "Epoch 25/100\n",
      "10/10 [==============================] - 1s 74ms/step - loss: 0.4862 - accuracy: 0.8910 - val_loss: 0.8072 - val_accuracy: 0.6750\n",
      "Epoch 26/100\n",
      "10/10 [==============================] - 1s 74ms/step - loss: 0.4658 - accuracy: 0.8986 - val_loss: 0.8012 - val_accuracy: 0.6719\n",
      "Epoch 27/100\n",
      "10/10 [==============================] - 1s 74ms/step - loss: 0.4460 - accuracy: 0.9105 - val_loss: 0.7962 - val_accuracy: 0.6734\n",
      "Epoch 28/100\n",
      "10/10 [==============================] - 1s 74ms/step - loss: 0.4239 - accuracy: 0.9136 - val_loss: 0.7917 - val_accuracy: 0.6797\n",
      "Epoch 29/100\n",
      "10/10 [==============================] - 1s 74ms/step - loss: 0.4050 - accuracy: 0.9203 - val_loss: 0.7875 - val_accuracy: 0.6781\n",
      "Epoch 30/100\n",
      "10/10 [==============================] - 1s 75ms/step - loss: 0.3868 - accuracy: 0.9261 - val_loss: 0.7838 - val_accuracy: 0.6789\n",
      "Epoch 31/100\n",
      "10/10 [==============================] - 1s 74ms/step - loss: 0.3711 - accuracy: 0.9269 - val_loss: 0.7807 - val_accuracy: 0.6797\n",
      "Epoch 32/100\n",
      "10/10 [==============================] - 1s 74ms/step - loss: 0.3530 - accuracy: 0.9345 - val_loss: 0.7782 - val_accuracy: 0.6781\n",
      "Epoch 33/100\n",
      "10/10 [==============================] - 1s 74ms/step - loss: 0.3359 - accuracy: 0.9429 - val_loss: 0.7761 - val_accuracy: 0.6789\n",
      "Epoch 34/100\n",
      "10/10 [==============================] - 1s 74ms/step - loss: 0.3204 - accuracy: 0.9420 - val_loss: 0.7746 - val_accuracy: 0.6820\n",
      "Epoch 35/100\n",
      "10/10 [==============================] - 1s 74ms/step - loss: 0.3053 - accuracy: 0.9465 - val_loss: 0.7730 - val_accuracy: 0.6781\n",
      "Epoch 36/100\n",
      "10/10 [==============================] - 1s 75ms/step - loss: 0.2924 - accuracy: 0.9492 - val_loss: 0.7724 - val_accuracy: 0.6805\n",
      "Epoch 37/100\n",
      "10/10 [==============================] - 1s 74ms/step - loss: 0.2765 - accuracy: 0.9535 - val_loss: 0.7724 - val_accuracy: 0.6828\n",
      "Epoch 38/100\n",
      "10/10 [==============================] - 1s 74ms/step - loss: 0.2645 - accuracy: 0.9572 - val_loss: 0.7723 - val_accuracy: 0.6859\n",
      "Epoch 39/100\n",
      "10/10 [==============================] - 1s 61ms/step - loss: 0.2523 - accuracy: 0.9599 - val_loss: 0.7725 - val_accuracy: 0.6844\n",
      "Epoch 40/100\n",
      "10/10 [==============================] - 1s 61ms/step - loss: 0.2434 - accuracy: 0.9633 - val_loss: 0.7732 - val_accuracy: 0.6820\n",
      "Epoch 41/100\n",
      "10/10 [==============================] - 1s 61ms/step - loss: 0.2305 - accuracy: 0.9656 - val_loss: 0.7745 - val_accuracy: 0.6844\n",
      "Epoch 42/100\n",
      "10/10 [==============================] - 1s 61ms/step - loss: 0.2210 - accuracy: 0.9640 - val_loss: 0.7753 - val_accuracy: 0.6812\n",
      "Epoch 43/100\n",
      "10/10 [==============================] - 1s 88ms/step - loss: 0.2107 - accuracy: 0.9680 - val_loss: 0.7772 - val_accuracy: 0.6836\n"
     ]
    }
   ],
   "source": [
    "with tf.device('/gpu:0'):\n",
    "    history = model_1.fit(\n",
    "        x_train, y_train,\n",
    "        batch_size = batch_size,\n",
    "        epochs = nb_epoch,\n",
    "        verbose = 1,\n",
    "        validation_data = (x_val, y_val),\n",
    "        callbacks = [early],\n",
    "        use_multiprocessing = True\n",
    "    )"
   ]
  },
  {
   "cell_type": "code",
   "execution_count": 13,
   "metadata": {},
   "outputs": [
    {
     "data": {
      "image/png": "[encoded data removed]",
      "text/plain": [
       "<Figure size 432x288 with 1 Axes>"
      ]
     },
     "metadata": {
      "needs_background": "light"
     },
     "output_type": "display_data"
    }
   ],
   "source": [
    "plt.plot(history.history['loss'])\n",
    "plt.plot(history.history['val_loss'])\n",
    "plt.title('model loss')\n",
    "plt.ylabel('loss')\n",
    "plt.xlabel('epoch')\n",
    "plt.legend(['train', 'test'], loc='upper left')\n",
    "plt.show()"
   ]
  },
  {
   "cell_type": "markdown",
   "metadata": {},
   "source": [
    "## Réseau à 2 couches, données équilibrées"
   ]
  },
  {
   "cell_type": "code",
   "execution_count": 14,
   "metadata": {},
   "outputs": [
    {
     "name": "stderr",
     "output_type": "stream",
     "text": [
      "D:\\Programmes\\Anaconda3\\envs\\jobclf\\lib\\site-packages\\sklearn\\utils\\validation.py:70: FutureWarning: Pass classes=[0 1 2 3] as keyword args. From version 0.25 passing these as positional arguments will result in an error\n",
      "  FutureWarning)\n"
     ]
    },
    {
     "name": "stdout",
     "output_type": "stream",
     "text": [
      "Epoch 1/100\n",
      "50/50 [==============================] - ETA: 0s - loss: 1.2446 - accuracy: 0.5268WARNING:tensorflow:Callbacks method `on_test_batch_end` is slow compared to the batch time (batch time: 0.0010s vs `on_test_batch_end` time: 0.0020s). Check your callbacks.\n",
      "50/50 [==============================] - 3s 64ms/step - loss: 1.2446 - accuracy: 0.5268 - val_loss: 1.2916 - val_accuracy: 0.4391\n",
      "Epoch 2/100\n",
      "50/50 [==============================] - 3s 61ms/step - loss: 0.9659 - accuracy: 0.7784 - val_loss: 1.1564 - val_accuracy: 0.5437\n",
      "Epoch 3/100\n",
      "50/50 [==============================] - 3s 61ms/step - loss: 0.7470 - accuracy: 0.8618 - val_loss: 1.0378 - val_accuracy: 0.5859\n",
      "Epoch 4/100\n",
      "50/50 [==============================] - 4s 82ms/step - loss: 0.5757 - accuracy: 0.9080 - val_loss: 0.9465 - val_accuracy: 0.6289\n",
      "Epoch 5/100\n",
      "50/50 [==============================] - 3s 63ms/step - loss: 0.4520 - accuracy: 0.9275 - val_loss: 0.8817 - val_accuracy: 0.6516\n",
      "Epoch 6/100\n",
      "50/50 [==============================] - 3s 65ms/step - loss: 0.3561 - accuracy: 0.9446 - val_loss: 0.8399 - val_accuracy: 0.6594\n",
      "Epoch 7/100\n",
      "50/50 [==============================] - 3s 63ms/step - loss: 0.2833 - accuracy: 0.9574 - val_loss: 0.8079 - val_accuracy: 0.6648\n",
      "Epoch 8/100\n",
      "50/50 [==============================] - 3s 62ms/step - loss: 0.2274 - accuracy: 0.9680 - val_loss: 0.7923 - val_accuracy: 0.6703\n",
      "Epoch 9/100\n",
      "50/50 [==============================] - 3s 64ms/step - loss: 0.1857 - accuracy: 0.9742 - val_loss: 0.7852 - val_accuracy: 0.6695\n",
      "Epoch 10/100\n",
      "50/50 [==============================] - 3s 64ms/step - loss: 0.1527 - accuracy: 0.9797 - val_loss: 0.7833 - val_accuracy: 0.6789\n",
      "Epoch 11/100\n",
      "50/50 [==============================] - 3s 60ms/step - loss: 0.1259 - accuracy: 0.9844 - val_loss: 0.7869 - val_accuracy: 0.6766\n",
      "Epoch 12/100\n",
      "50/50 [==============================] - 3s 61ms/step - loss: 0.1064 - accuracy: 0.9870 - val_loss: 0.7943 - val_accuracy: 0.6781\n",
      "Epoch 13/100\n",
      "50/50 [==============================] - 3s 61ms/step - loss: 0.0885 - accuracy: 0.9900 - val_loss: 0.8044 - val_accuracy: 0.6766\n",
      "Epoch 14/100\n",
      "50/50 [==============================] - 3s 61ms/step - loss: 0.0769 - accuracy: 0.9911 - val_loss: 0.8154 - val_accuracy: 0.6781\n",
      "Epoch 15/100\n",
      "50/50 [==============================] - 3s 61ms/step - loss: 0.0652 - accuracy: 0.9931 - val_loss: 0.8274 - val_accuracy: 0.6812\n"
     ]
    }
   ],
   "source": [
    "with tf.device('/gpu:0'):\n",
    "    model_2 = build_mlp()\n",
    "    \n",
    "    model_2.compile(\n",
    "        loss = 'categorical_crossentropy',\n",
    "        optimizer = tf.keras.optimizers.Adam(1e-5),\n",
    "        metrics = ['accuracy']\n",
    "    )\n",
    "    \n",
    "    train_gen, train_steps = balanced_batch_generator(\n",
    "        x_train, y_train, sampler = RandomOverSampler(),\n",
    "        batch_size = batch_size, random_state = 42069, \n",
    "    )\n",
    "    \n",
    "    history = model_2.fit(\n",
    "        train_gen,\n",
    "        epochs = nb_epoch,\n",
    "        validation_data = (x_val, y_val),\n",
    "        steps_per_epoch = 50,\n",
    "        callbacks = [early],\n",
    "        verbose = 1\n",
    "    )"
   ]
  },
  {
   "cell_type": "code",
   "execution_count": 15,
   "metadata": {},
   "outputs": [
    {
     "data": {
      "image/png": "[encoded data removed]",
      "text/plain": [
       "<Figure size 432x288 with 1 Axes>"
      ]
     },
     "metadata": {
      "needs_background": "light"
     },
     "output_type": "display_data"
    }
   ],
   "source": [
    "plt.plot(history.history['loss'])\n",
    "plt.plot(history.history['val_loss'])\n",
    "plt.title('model loss')\n",
    "plt.ylabel('loss')\n",
    "plt.xlabel('epoch')\n",
    "plt.legend(['train', 'test'], loc='upper left')\n",
    "plt.show()"
   ]
  },
  {
   "cell_type": "markdown",
   "metadata": {},
   "source": [
    "# Evaluation"
   ]
  },
  {
   "cell_type": "code",
   "execution_count": 16,
   "metadata": {},
   "outputs": [],
   "source": [
    "train = pd.concat([train, val])\n",
    "val = train.sample(frac=.1)\n",
    "\n",
    "tokenizer = Tokenizer(num_words = vocab_size)\n",
    "tokenizer.fit_on_texts(train.tweet)\n",
    "x_train = tokenizer.texts_to_matrix(train.tweet, mode='tfidf')\n",
    "x_val = tokenizer.texts_to_matrix(val.tweet, mode='tfidf')\n",
    "x_test = tokenizer.texts_to_matrix(test.tweet, mode='tfidf')\n",
    "\n",
    "encoder = LabelBinarizer()\n",
    "encoder.fit(train.label)\n",
    "y_train = encoder.transform(train.label)\n",
    "y_val = encoder.transform(val.label)\n",
    "y_test = encoder.transform(test.label)\n",
    "y_true = np.argmax(y_test, axis = 1)"
   ]
  },
  {
   "cell_type": "markdown",
   "metadata": {},
   "source": [
    "## Modèle avec les données déséquilibrées"
   ]
  },
  {
   "cell_type": "code",
   "execution_count": 17,
   "metadata": {
    "scrolled": true
   },
   "outputs": [
    {
     "name": "stdout",
     "output_type": "stream",
     "text": [
      "              precision    recall  f1-score   support\n",
      "\n",
      "           0       0.50      0.30      0.38       337\n",
      "           1       0.61      0.84      0.71      1473\n",
      "           2       0.52      0.56      0.54       950\n",
      "           3       0.44      0.01      0.03       523\n",
      "\n",
      "    accuracy                           0.57      3283\n",
      "   macro avg       0.52      0.43      0.41      3283\n",
      "weighted avg       0.54      0.57      0.52      3283\n",
      "\n",
      "F1-score: 0.4122908401318044\n",
      "AUC: 0.7003205436512758\n",
      "Accuracy: 0.5726469692354553\n"
     ]
    }
   ],
   "source": [
    "with tf.device('/gpu:0'):\n",
    "    final_model_1 = build_mlp()\n",
    "    \n",
    "    final_model_1.compile(\n",
    "        loss = 'categorical_crossentropy',\n",
    "        optimizer = tf.keras.optimizers.Adam(1e-5),\n",
    "        metrics = ['accuracy']\n",
    "    )\n",
    "    \n",
    "    history = final_model_1.fit(\n",
    "        x_train, y_train,\n",
    "        batch_size = batch_size,\n",
    "        epochs = nb_epoch,\n",
    "        validation_data = (x_val, y_val),\n",
    "        callbacks = [early],\n",
    "        verbose = 0,\n",
    "        use_multiprocessing = True\n",
    "    )\n",
    "    \n",
    "    pred_1 = final_model_1.predict(x_test)\n",
    "    y_1 = np.argmax(pred_1, axis = 1)\n",
    "print(classification_report(y_true, y_1))\n",
    "\n",
    "print(\"F1-score: {}\\nAUC: {}\\nAccuracy: {}\".format(\n",
    "    f1_score(y_true, y_1, average = \"macro\"),\n",
    "    roc_auc_score(y_test, pred_1, average = \"macro\", multi_class = \"ovr\"),\n",
    "    accuracy_score(y_true, y_1)\n",
    "))"
   ]
  },
  {
   "cell_type": "markdown",
   "metadata": {},
   "source": [
    "## Modèle avec sur-échantillonnage"
   ]
  },
  {
   "cell_type": "code",
   "execution_count": 18,
   "metadata": {
    "scrolled": true
   },
   "outputs": [
    {
     "name": "stderr",
     "output_type": "stream",
     "text": [
      "D:\\Programmes\\Anaconda3\\envs\\jobclf\\lib\\site-packages\\sklearn\\utils\\validation.py:70: FutureWarning: Pass classes=[0 1 2 3] as keyword args. From version 0.25 passing these as positional arguments will result in an error\n",
      "  FutureWarning)\n"
     ]
    },
    {
     "name": "stdout",
     "output_type": "stream",
     "text": [
      "              precision    recall  f1-score   support\n",
      "\n",
      "           0       0.46      0.34      0.40       337\n",
      "           1       0.62      0.81      0.70      1473\n",
      "           2       0.52      0.58      0.55       950\n",
      "           3       0.29      0.02      0.03       523\n",
      "\n",
      "    accuracy                           0.57      3283\n",
      "   macro avg       0.47      0.44      0.42      3283\n",
      "weighted avg       0.52      0.57      0.52      3283\n",
      "\n",
      "F1-score: 0.4185482254378488\n",
      "AUC: 0.7012805926043163\n",
      "Accuracy: 0.5708193725251295\n"
     ]
    }
   ],
   "source": [
    "with tf.device('/gpu:0'):\n",
    "    final_model_2 = build_mlp()\n",
    "    \n",
    "    final_model_2.compile(\n",
    "        loss = 'categorical_crossentropy',\n",
    "        optimizer = tf.keras.optimizers.Adam(1e-5),\n",
    "        metrics = ['accuracy']\n",
    "    )\n",
    "    \n",
    "    train_gen, train_steps = balanced_batch_generator(\n",
    "        x_train, y_train, sampler = RandomOverSampler(),\n",
    "        batch_size = batch_size, random_state = 42069, \n",
    "    )\n",
    "    \n",
    "    history = final_model_2.fit(\n",
    "        train_gen,\n",
    "        epochs = nb_epoch,\n",
    "        validation_data = (x_val, y_val),\n",
    "        callbacks = [early],\n",
    "        verbose = 0,\n",
    "        steps_per_epoch = 40\n",
    "    )\n",
    "    \n",
    "    pred_2 = final_model_2.predict(x_test)\n",
    "    y_2 = np.argmax(pred_2, axis = 1)\n",
    "print(classification_report(y_true, y_2))\n",
    "\n",
    "print(\"F1-score: {}\\nAUC: {}\\nAccuracy: {}\".format(\n",
    "    f1_score(y_true, y_2, average = \"macro\"),\n",
    "    roc_auc_score(y_test, pred_2, average = \"macro\", multi_class = \"ovr\"),\n",
    "    accuracy_score(y_true, y_2)\n",
    "))"
   ]
  }
 ],
 "metadata": {
  "kernelspec": {
   "display_name": "Python 3",
   "language": "python",
   "name": "python3"
  },
  "language_info": {
   "codemirror_mode": {
    "name": "ipython",
    "version": 3
   },
   "file_extension": ".py",
   "mimetype": "text/x-python",
   "name": "python",
   "nbconvert_exporter": "python",
   "pygments_lexer": "ipython3",
   "version": "3.7.9"
  },
  "latex_envs": {
   "LaTeX_envs_menu_present": true,
   "autoclose": false,
   "autocomplete": true,
   "bibliofile": "biblio.bib",
   "cite_by": "apalike",
   "current_citInitial": 1,
   "eqLabelWithNumbers": true,
   "eqNumInitial": 1,
   "hotkeys": {
    "equation": "Ctrl-E",
    "itemize": "Ctrl-I"
   },
   "labels_anchors": false,
   "latex_user_defs": false,
   "report_style_numbering": false,
   "user_envs_cfg": false
  }
 },
 "nbformat": 4,
 "nbformat_minor": 4
}
