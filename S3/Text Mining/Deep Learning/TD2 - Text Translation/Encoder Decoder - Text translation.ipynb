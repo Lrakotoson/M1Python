{
 "cells": [
  {
   "cell_type": "markdown",
   "metadata": {},
   "source": [
    "# Traduction de texte"
   ]
  },
  {
   "cell_type": "code",
   "execution_count": 1,
   "metadata": {},
   "outputs": [],
   "source": [
    "import os\n",
    "import re\n",
    "import string\n",
    "\n",
    "import numpy as np\n",
    "import pandas as pd\n",
    "import tensorflow as tf\n",
    "import matplotlib.pyplot as plt\n",
    "\n",
    "from tensorflow.keras import Model, callbacks, layers, backend as K\n",
    "from tensorflow.keras.preprocessing.sequence import pad_sequences\n",
    "from tensorflow.keras.losses import sparse_categorical_crossentropy\n",
    "\n",
    "from unicodedata import normalize\n",
    "from collections import Counter"
   ]
  },
  {
   "cell_type": "code",
   "execution_count": 2,
   "metadata": {},
   "outputs": [
    {
     "name": "stdout",
     "output_type": "stream",
     "text": [
      "INFO:tensorflow:Using MirroredStrategy with devices ('/job:localhost/replica:0/task:0/device:GPU:0',)\n"
     ]
    }
   ],
   "source": [
    "physical_devices = tf.config.list_physical_devices('GPU')\n",
    "tf.config.experimental.set_memory_growth(physical_devices[0], True)\n",
    "strategy = tf.distribute.MirroredStrategy()"
   ]
  },
  {
   "cell_type": "markdown",
   "metadata": {},
   "source": [
    "<hr>\n",
    "\n",
    "## Fonctions"
   ]
  },
  {
   "cell_type": "code",
   "execution_count": 30,
   "metadata": {},
   "outputs": [],
   "source": [
    "def load_doc(filename):\n",
    "    file = open(filename, mode='rt', encoding='utf-8')\n",
    "    text = file.read()\n",
    "    file.close()\n",
    "    return text.strip()\n",
    "\n",
    "\n",
    "def sentence_length(sentences):\n",
    "    lengths = [len(s.split()) for s in sentences]\n",
    "    return max(lengths)\n",
    "\n",
    "\n",
    "def get_vocab(lines):\n",
    "    vocab = Counter()\n",
    "    for line in lines:\n",
    "        tokens = line.split()\n",
    "        vocab.update(tokens)\n",
    "    return vocab\n",
    "\n",
    "\n",
    "def create_dico(vocab):\n",
    "    liste_mot = [k for k in vocab.keys()] + ['unk']\n",
    "    dico_ch2int = {mot: i + 1 for i, mot in enumerate(liste_mot)}\n",
    "    dico_int2ch = {idx: mot for mot, idx in dico_ch2int.items()}\n",
    "    return dico_ch2int, dico_int2ch\n",
    "\n",
    "def decode_prediction(input_seq, encod_model, decod_model, int2ch, max_decoder_seq_length, index_bos_word):\n",
    "    states_value = encod_model.predict(input_seq)\n",
    "    target_seq = np.zeros((1, max_decoder_seq_length))\n",
    "    target_seq[0,0] = index_bos_word\n",
    "    stop_condition = False\n",
    "    decoded_sentence = ''\n",
    "\n",
    "    while not stop_condition:\n",
    "        output_tokens, h, c = decod_model.predict([target_seq] + states_value)\n",
    "        print(output_tokens.shape)\n",
    "        \n",
    "        token_index = np.argmax(output_tokens[0, 0, 1:]) +1\n",
    "        print(token_index)\n",
    "\n",
    "        pred_word = int2ch[token_index]\n",
    "        decoded_sentence += pred_word +' '\n",
    "        print(pred_word)\n",
    "\n",
    "        if (pred_word == 'eos' or len(decoded_sentence.split(' ')) > max_decoder_seq_length):\n",
    "            stop_condition = True\n",
    "            \n",
    "        target_seq = np.zeros((1, max_decoder_seq_length))\n",
    "        target_seq[0, 0] = token_index\n",
    "        states_value = [h, c]\n",
    "\n",
    "    return decoded_sentence"
   ]
  },
  {
   "cell_type": "code",
   "execution_count": 4,
   "metadata": {},
   "outputs": [
    {
     "name": "stdout",
     "output_type": "stream",
     "text": [
      "C:\\Users\\SIGMA\\.keras\\datasets\\fr-en.tgz\n"
     ]
    }
   ],
   "source": [
    "path_to_zip = tf.keras.utils.get_file(\n",
    "    'fr-en.tgz',\n",
    "    origin='https://www.statmt.org/europarl/v7/fr-en.tgz',\n",
    "    extract=True)\n",
    "print(path_to_zip)\n",
    "path_to_file = os.path.dirname(path_to_zip)\n",
    "\n",
    "texte_fr = load_doc(path_to_file + '/europarl-v7.fr-en.fr')\n",
    "texte_en = load_doc(path_to_file + '/europarl-v7.fr-en.en')"
   ]
  },
  {
   "cell_type": "markdown",
   "metadata": {},
   "source": [
    "# Préparation des données\n",
    "Les données sont des discours traduits en français et en anglais issus du parlement européen.\n",
    "\n",
    "## Preprocessing de base\n",
    "Ecrire une fonction `text_to_sentences` qui découpe le texte (sortie de la fonction `load_doc`) en phrases (liste de chaînes de caractères).  \n",
    "Cette fonction ajoutera le mot `EOS` (\"EndOfSentence\") à la fin de chaque phrase.  \n",
    "Afficher le nombre de phrases et les 5 premières phrases en français"
   ]
  },
  {
   "cell_type": "code",
   "execution_count": 5,
   "metadata": {},
   "outputs": [],
   "source": [
    "def text_to_sentences(text):\n",
    "    sentences = text.split('\\n')\n",
    "    return list(map(lambda x:x+' EOS', sentences))"
   ]
  },
  {
   "cell_type": "code",
   "execution_count": 6,
   "metadata": {},
   "outputs": [
    {
     "data": {
      "text/plain": [
       "['Reprise de la session EOS',\n",
       " 'Je déclare reprise la session du Parlement européen qui avait été interrompue le vendredi 17 décembre dernier et je vous renouvelle tous mes vux en espérant que vous avez passé de bonnes vacances. EOS',\n",
       " 'Comme vous avez pu le constater, le grand \"bogue de l\\'an 2000\" ne s\\'est pas produit. En revanche, les citoyens d\\'un certain nombre de nos pays ont été victimes de catastrophes naturelles qui ont vraiment été terribles. EOS',\n",
       " 'Vous avez souhaité un débat à ce sujet dans les prochains jours, au cours de cette période de session. EOS',\n",
       " \"En attendant, je souhaiterais, comme un certain nombre de collègues me l'ont demandé, que nous observions une minute de silence pour toutes les victimes, des tempêtes notamment, dans les différents pays de l'Union européenne qui ont été touchés. EOS\"]"
      ]
     },
     "execution_count": 6,
     "metadata": {},
     "output_type": "execute_result"
    }
   ],
   "source": [
    "sent_en = text_to_sentences(texte_en)\n",
    "sent_fr = text_to_sentences(texte_fr)\n",
    "sent_fr[:5]"
   ]
  },
  {
   "cell_type": "markdown",
   "metadata": {},
   "source": [
    "Appliquer la fonction `sentence_length` sur les textes français et anglais.  \n",
    "Cette fonction retourne la longueur de la phrase la plus longue dans un texte.  Afficher le résultat pour chacun des 2 textes."
   ]
  },
  {
   "cell_type": "code",
   "execution_count": 7,
   "metadata": {},
   "outputs": [
    {
     "data": {
      "text/plain": [
       "(694, 669)"
      ]
     },
     "execution_count": 7,
     "metadata": {},
     "output_type": "execute_result"
    }
   ],
   "source": [
    "sentence_length(sent_fr), sentence_length(sent_en)"
   ]
  },
  {
   "cell_type": "markdown",
   "metadata": {},
   "source": [
    "## Nettoyage des données\n",
    "Construire la fonction `clean_lines` en suivant les différentes étapes qui s’enchaînent successivement comme suit:\n",
    "\n",
    "- Découper la ligne (phrase) en tokens\n",
    "- Mettre chaque mot de la ligne en minuscule\n",
    "- En utilisant la méthode `translate` associée aux `string`, supprimer la ponctuation en utilisant la table de conversion nommée `table`\n",
    "- Eiminer les éléments non imprimables\n",
    "- En utilisant la méthode `isalpha` associée aux `string`, éliminer les mots contenant des chiffres\n",
    "- Convertir la ligne nettoyée en chaîne de caractères et la stocker dans une liste. Retourner la liste à la fin de la fonction."
   ]
  },
  {
   "cell_type": "code",
   "execution_count": 8,
   "metadata": {},
   "outputs": [],
   "source": [
    "def clean_lines(lines):\n",
    "    re_print = re.compile('[^%s]' % re.escape(string.printable))\n",
    "    table = str.maketrans('', '', string.punctuation)\n",
    "    \n",
    "    def clean(line):\n",
    "        line = normalize('NFD', line).encode('ascii', 'ignore')\n",
    "        line = line.decode('UTF-8').lower().split()\n",
    "        line = map(lambda x:x.translate(table), line)\n",
    "        line = map(lambda x:re_print.sub('w',x), line)\n",
    "        line = [word for word in line if word.isalpha()]\n",
    "        return ' '.join(line)\n",
    "    \n",
    "    cleaned = list(map(clean, lines))\n",
    "    return cleaned"
   ]
  },
  {
   "cell_type": "markdown",
   "metadata": {},
   "source": [
    "Appliquer la fonction `clean_lines` sur les textes français et anglais. Afficher les 5 premièresphrases en français."
   ]
  },
  {
   "cell_type": "code",
   "execution_count": 9,
   "metadata": {},
   "outputs": [
    {
     "data": {
      "text/plain": [
       "['reprise de la session eos',\n",
       " 'je declare reprise la session du parlement europeen qui avait ete interrompue le vendredi decembre dernier et je vous renouvelle tous mes vux en esperant que vous avez passe de bonnes vacances eos',\n",
       " 'comme vous avez pu le constater le grand bogue de lan ne sest pas produit en revanche les citoyens dun certain nombre de nos pays ont ete victimes de catastrophes naturelles qui ont vraiment ete terribles eos',\n",
       " 'vous avez souhaite un debat a ce sujet dans les prochains jours au cours de cette periode de session eos',\n",
       " 'en attendant je souhaiterais comme un certain nombre de collegues me lont demande que nous observions une minute de silence pour toutes les victimes des tempetes notamment dans les differents pays de lunion europeenne qui ont ete touches eos']"
      ]
     },
     "execution_count": 9,
     "metadata": {},
     "output_type": "execute_result"
    }
   ],
   "source": [
    "clean_en = clean_lines(sent_en)\n",
    "clean_fr = clean_lines(sent_fr)\n",
    "clean_fr[:5]"
   ]
  },
  {
   "cell_type": "markdown",
   "metadata": {},
   "source": [
    "## Réduction du vocabulaire\n",
    "> La taille du vocabulaire impacte la complexité du modèle et donc l’apprentissage du réseau,tant en temps qu’en performance. L’idée est de remplacer les mots les moins fréquents par un token spécial, on parle de mots hors vocabulaire (Out Of Vocabulary ou plus communémentde OOV).\n",
    "\n",
    "En utilisant la fonction `get_vocab` déterminant les occurrences de chaque mot, récupérer les dictionnaires des occurrences des mots français et anglais.  \n",
    "Afficher le nombre de mots français et anglais."
   ]
  },
  {
   "cell_type": "code",
   "execution_count": 10,
   "metadata": {},
   "outputs": [
    {
     "data": {
      "text/plain": [
       "(141643, 105358)"
      ]
     },
     "execution_count": 10,
     "metadata": {},
     "output_type": "execute_result"
    }
   ],
   "source": [
    "vocab_fr, vocab_en = map(get_vocab, [clean_fr, clean_en])\n",
    "len(vocab_fr), len(vocab_en)"
   ]
  },
  {
   "cell_type": "markdown",
   "metadata": {},
   "source": [
    "Créer une fonction `get_shortest_sentences` qui conserve les phrases dont le nombre de mot ne dépasse pas un certain seuil.  \n",
    "La longueur max doit être appliquées aux deux langues."
   ]
  },
  {
   "cell_type": "code",
   "execution_count": 11,
   "metadata": {},
   "outputs": [],
   "source": [
    "def get_shortest_sentences(lines1, lines2, thres):\n",
    "    nl1, nl2 = [], []\n",
    "    for l1,l2 in map(lambda x,y:(x.split(),y.split()), lines1, lines2):\n",
    "        if len(l1) < thres and len(l2) < thres:\n",
    "            nl1.append(' '.join(l1))\n",
    "            nl2.append(' '.join(l2))\n",
    "    return nl1, nl2"
   ]
  },
  {
   "cell_type": "markdown",
   "metadata": {},
   "source": [
    "Créer une fonction `get_mots_frequents` prenant en paramètre un dictionnaire des occurrences et une valeur d’occurrence minimale requise et qui retourne le dictionnaire ayant pour clés les tokens vérifiant l’occurrence minimale et pour valeurs leurs occurrences."
   ]
  },
  {
   "cell_type": "code",
   "execution_count": 12,
   "metadata": {},
   "outputs": [],
   "source": [
    "def get_mots_frequents(vocab, thres):\n",
    "    return {k: v for k, v in vocab.items() if v >= thres}"
   ]
  },
  {
   "cell_type": "markdown",
   "metadata": {},
   "source": [
    "Construire une fonction `reduce_vocab` qui ne conserve que les mots les plus fréquents et remplace les mots les moins fréquents par `unk` (pour \"unknown\").  \n",
    "La fonction prend en paramètre la liste des phrases et le dictionnaire des occurrences minimales et doit retourner une liste avec les phrases modifiées (une phrase = une chaîne de caractères)."
   ]
  },
  {
   "cell_type": "code",
   "execution_count": 13,
   "metadata": {},
   "outputs": [],
   "source": [
    "def reduce_vocab(lines, vocab):\n",
    "    vocab = {k:k for k in vocab.keys()}\n",
    "    return list(map(\n",
    "        lambda y: ' '.join(map(\n",
    "            lambda x: vocab.get(x,'unk'),\n",
    "            y.split()\n",
    "        )),\n",
    "        lines\n",
    "    ))"
   ]
  },
  {
   "cell_type": "markdown",
   "metadata": {},
   "source": [
    "Application:\n",
    "\n",
    "- Récupérer les phrases ayant une longueur maximale de 10 mots. On stockera cette valeur dans la variable `MAX_LEN`.\n",
    "- Avec la fonction `get_mots_frequents`, récupérer les mots ayant une occurrence minimale de 8 et les textes français et anglais réduits. Attention de l’appliquer au vocabulaire français et anglais déterminé sur les séquences les plus courtes extraites au point précédent.\n",
    "- Afficher\n",
    "    - le nombre de mots en français et anglais après réduction du vocabulaire\n",
    "    - les longueurs maximales d’une phrase en français et en anglais\n",
    "    - les 10 premières phrases en français."
   ]
  },
  {
   "cell_type": "code",
   "execution_count": 14,
   "metadata": {},
   "outputs": [
    {
     "name": "stdout",
     "output_type": "stream",
     "text": [
      "Mots\n",
      "    Français: 48378\n",
      "    Anglais: 34288\n",
      "Longueurs max\n",
      "    Français: 9\n",
      "    Anglais: 9\n",
      "********************************************************************************\n",
      "reprise de la session eos\n",
      "madame la presidente cest une motion de procedure eos\n",
      "madame la presidente cest une motion de procedure eos\n",
      "il sagit du cas dalexandre nikitin eos\n",
      "cher collegue nous allons verifier tout cela eos\n",
      "nous ne savons pas ce qui se passe eos\n",
      "ordre des travaux eos\n",
      "en ce qui concerne le mercredi eos\n",
      "applaudissements du groupe pse eos\n",
      "le parlement rejette la demande la presidente eos\n"
     ]
    }
   ],
   "source": [
    "MAX_LEN = 10\n",
    "short_fr, short_en = get_shortest_sentences(clean_fr, clean_en, MAX_LEN)\n",
    "vocab_fr, vocab_en = map(lambda x:get_mots_frequents(x,8), [vocab_fr, vocab_en])\n",
    "reduce_fr, reduce_en = reduce_vocab(short_fr, vocab_fr), reduce_vocab(short_en, vocab_en)\n",
    "\n",
    "print(\n",
    "    f'Mots\\n{\" \"*4}Français: {len(vocab_fr)}\\n{\" \"*4}Anglais: {len(vocab_en)}',\n",
    "    f'Longueurs max\\n{\" \"*4}Français: {sentence_length(reduce_fr)}\\n{\" \"*4}Anglais: {sentence_length(reduce_en)}',\n",
    "    '*'*80, *reduce_fr[:10], sep='\\n'\n",
    ")"
   ]
  },
  {
   "cell_type": "markdown",
   "metadata": {},
   "source": [
    "## Formatage des données pour le réseau\n",
    "En utilisant la fonction `create_dico`, récupérer les deux dictionnaires de conversion entre entiers et caractères."
   ]
  },
  {
   "cell_type": "code",
   "execution_count": 15,
   "metadata": {},
   "outputs": [],
   "source": [
    "ch2int_fr, int2ch_fr = create_dico(vocab_fr)\n",
    "ch2int_en, int2ch_en = create_dico(vocab_en)"
   ]
  },
  {
   "cell_type": "markdown",
   "metadata": {},
   "source": [
    "Construire fonction `sentence_to_int` qui convertit les mots en entiers de 1 à `nombre_de_mots`.<br>\n",
    "Appliquer cette fonction sur les textes français et anglais."
   ]
  },
  {
   "cell_type": "code",
   "execution_count": 16,
   "metadata": {},
   "outputs": [],
   "source": [
    "def sentence_to_int(lines, ch2int):\n",
    "    return list(map(\n",
    "        lambda y: list(map(\n",
    "            lambda x:ch2int[x],\n",
    "            y.split()\n",
    "        )), lines\n",
    "    ))"
   ]
  },
  {
   "cell_type": "code",
   "execution_count": 17,
   "metadata": {},
   "outputs": [],
   "source": [
    "token_fr = sentence_to_int(reduce_fr, ch2int_fr)\n",
    "token_en = sentence_to_int(reduce_en, ch2int_en)"
   ]
  },
  {
   "cell_type": "markdown",
   "metadata": {},
   "source": [
    "Créer une fonction `format_decoder` qui à pour but de créer la séquence d’entrée du décodeur.  \n",
    "Ainsi, à partir de la traduction anglaise, ajoute le caractère \"BOS\" (\"BeginOfSentence\") que l’on associera à la valeur `nb_mots_anglais` + 1 et ne pas conserver le dernier élément (\"EOS\").\n",
    "\n",
    "Appliquer cette fonction sur les phrases anglaises pour obtenir l’entrée du décodeur"
   ]
  },
  {
   "cell_type": "code",
   "execution_count": 18,
   "metadata": {},
   "outputs": [],
   "source": [
    "def format_decoder(lines, bos):\n",
    "    return list(map(\n",
    "        lambda x:[bos]+x[:-1],\n",
    "        lines\n",
    "    ))"
   ]
  },
  {
   "cell_type": "code",
   "execution_count": 19,
   "metadata": {},
   "outputs": [],
   "source": [
    "token_en_d = format_decoder(token_en, len(ch2int_en)+1)"
   ]
  },
  {
   "cell_type": "markdown",
   "metadata": {},
   "source": [
    "En utilisant la méthode `pad_sequences` de Keras, mettre l’ensemble des séquences (du texte français, anglais et l’entrée du décodeur) à la même longueur.  \n",
    "On précisera la longueur maximale (choisie précédemment), la valeur du padding (0) et l’attribut `padding=’post’` pour l’appliquer à la fin de la séquence."
   ]
  },
  {
   "cell_type": "code",
   "execution_count": 20,
   "metadata": {},
   "outputs": [],
   "source": [
    "pad_tok_fr = pad_sequences(token_fr, MAX_LEN, value = 0, padding = \"post\")\n",
    "pad_tok_en = pad_sequences(token_en, MAX_LEN, value = 0, padding = \"post\")\n",
    "pad_tok_en_d = pad_sequences(token_en_d, MAX_LEN, value = 0, padding = \"post\")"
   ]
  },
  {
   "cell_type": "markdown",
   "metadata": {},
   "source": [
    "# Le modèle\n",
    "## Encodeur\n",
    "Construire une architecture de réseaux pour l’encodeur. L’encodeur va analyser le texte en français. Il va contenir les couches suivantes à écrire de la forme fonctionnelle:\n",
    "\n",
    "- Input, avec pour longueur des entrées `MAX_LEN`.\n",
    "- Embedding de dimension 256.\n",
    "- LSTM, ayant 256 unités et retournant les états.\n",
    "\n",
    "On aura donc en sortie la sortie de la couche LSTM, l’état caché noté h et l’état de la cellule noté c.\n",
    "\n",
    "Connecter les différentes couches successivement.\n",
    "\n",
    "Stocker les états h et c dans une liste que l’on nommera `encoder_states`."
   ]
  },
  {
   "cell_type": "code",
   "execution_count": 21,
   "metadata": {},
   "outputs": [],
   "source": [
    "e_input = layers.Input(shape = (MAX_LEN,))\n",
    "e_embed = layers.Embedding(input_dim = len(ch2int_fr)+1, output_dim = 256, input_length = MAX_LEN)(e_input)\n",
    "e_lstm, state_h, state_c = layers.LSTM(256, return_state = True)(e_embed)\n",
    "\n",
    "encoder_states = [state_h, state_c]"
   ]
  },
  {
   "cell_type": "markdown",
   "metadata": {},
   "source": [
    "## Décodeur\n",
    "Construire une architecture de réseaux pour le décodeur. Le décodeur va analyser le texte prédit jusqu’à présent en anglais en tenant compte de la sortie de l’encodeur sur le texte français. En apprentissage, on donnera la *vérité terrain*, autrement dit la bonne traduction anglaise.  \n",
    "Construire le réseau suivant de la forme fonctionnelle:\n",
    "\n",
    "- Input, avec pour longueur des entrées `MAX_LEN` et le type `int32`.\n",
    "- Embedding de dimension `256`.\n",
    "- LSTM, ayant 256 unités, retournant une séquence et les états.\n",
    "- Totalement connectée (Dense) avec une activation softmax.\n",
    "\n",
    "Connecter les différentes couches successivement. Pour la couche LSTM, préciser que l’état initial sera la liste `encoder_states` issue de la partie Encodeur."
   ]
  },
  {
   "cell_type": "code",
   "execution_count": 22,
   "metadata": {},
   "outputs": [],
   "source": [
    "d_lstm_layer = layers.LSTM(256, return_state = True, return_sequences = True)\n",
    "d_dense_layer = layers.Dense(len(vocab_en), activation = 'softmax')\n",
    "\n",
    "d_input = layers.Input(shape = (MAX_LEN,), dtype = tf.int32)\n",
    "d_embed = layers.Embedding(input_dim = len(ch2int_en)+2, output_dim = 256, input_length = MAX_LEN)(d_input)\n",
    "d_lstm, _, _ = d_lstm_layer(d_embed, initial_state = encoder_states)\n",
    "d_dense = d_dense_layer(d_lstm)"
   ]
  },
  {
   "cell_type": "markdown",
   "metadata": {},
   "source": [
    "## Définition des modèles\n",
    "Définir le modèle que l’on nommera `encoder_decoder_model` ayant:\n",
    "\n",
    "- pour entrée une liste composée des entrées de l’encodeur et du décodeur (Input),\n",
    "- pour sortie la sortie de la dernière couche du décodeur (couche totalement connectée)"
   ]
  },
  {
   "cell_type": "code",
   "execution_count": 23,
   "metadata": {},
   "outputs": [
    {
     "name": "stdout",
     "output_type": "stream",
     "text": [
      "Model: \"functional_1\"\n",
      "__________________________________________________________________________________________________\n",
      "Layer (type)                    Output Shape         Param #     Connected to                     \n",
      "==================================================================================================\n",
      "input_1 (InputLayer)            [(None, 10)]         0                                            \n",
      "__________________________________________________________________________________________________\n",
      "input_2 (InputLayer)            [(None, 10)]         0                                            \n",
      "__________________________________________________________________________________________________\n",
      "embedding (Embedding)           (None, 10, 256)      12385280    input_1[0][0]                    \n",
      "__________________________________________________________________________________________________\n",
      "embedding_1 (Embedding)         (None, 10, 256)      8778496     input_2[0][0]                    \n",
      "__________________________________________________________________________________________________\n",
      "lstm (LSTM)                     [(None, 256), (None, 525312      embedding[0][0]                  \n",
      "__________________________________________________________________________________________________\n",
      "lstm_1 (LSTM)                   [(None, 10, 256), (N 525312      embedding_1[0][0]                \n",
      "                                                                 lstm[0][1]                       \n",
      "                                                                 lstm[0][2]                       \n",
      "__________________________________________________________________________________________________\n",
      "dense (Dense)                   (None, 10, 34288)    8812016     lstm_1[0][0]                     \n",
      "==================================================================================================\n",
      "Total params: 31,026,416\n",
      "Trainable params: 31,026,416\n",
      "Non-trainable params: 0\n",
      "__________________________________________________________________________________________________\n"
     ]
    }
   ],
   "source": [
    "with tf.device('/gpu:0'):\n",
    "    encoder_decoder_model = Model(inputs = [e_input, d_input], outputs = d_dense)\n",
    "encoder_decoder_model.summary()"
   ]
  },
  {
   "cell_type": "code",
   "execution_count": 24,
   "metadata": {},
   "outputs": [
    {
     "data": {
      "image/png": "[encoded data removed]",
      "text/plain": [
       "<IPython.core.display.Image object>"
      ]
     },
     "execution_count": 24,
     "metadata": {},
     "output_type": "execute_result"
    }
   ],
   "source": [
    "tf.keras.utils.plot_model(encoder_decoder_model)"
   ]
  },
  {
   "cell_type": "markdown",
   "metadata": {},
   "source": [
    "Définir le modèle que l’on nommera `encoder_model` ayant:\n",
    "\n",
    "- pour entrée la couche d’entrée de l’encodeur (Input),\n",
    "- pour sortie la liste des états de l’encodeur (encoder_states)"
   ]
  },
  {
   "cell_type": "code",
   "execution_count": 25,
   "metadata": {},
   "outputs": [
    {
     "name": "stdout",
     "output_type": "stream",
     "text": [
      "Model: \"functional_3\"\n",
      "_________________________________________________________________\n",
      "Layer (type)                 Output Shape              Param #   \n",
      "=================================================================\n",
      "input_1 (InputLayer)         [(None, 10)]              0         \n",
      "_________________________________________________________________\n",
      "embedding (Embedding)        (None, 10, 256)           12385280  \n",
      "_________________________________________________________________\n",
      "lstm (LSTM)                  [(None, 256), (None, 256) 525312    \n",
      "=================================================================\n",
      "Total params: 12,910,592\n",
      "Trainable params: 12,910,592\n",
      "Non-trainable params: 0\n",
      "_________________________________________________________________\n"
     ]
    }
   ],
   "source": [
    "with tf.device('/gpu:0'):\n",
    "    encoder_model = Model(inputs = e_input, outputs = encoder_states)\n",
    "encoder_model.summary()"
   ]
  },
  {
   "cell_type": "markdown",
   "metadata": {},
   "source": [
    "**Définition du décodeur pour la prédiction**  \n",
    "- Définir deux entrées de dimension 256 chacune pour les états h et c.\n",
    "- Stocker ces états h et c dans une liste que l’on nommera `decoder_states_input`\n",
    "- Indiquer que la couche LSTM prendra ici en entrée la sortie de la couche d’embedding du décodeur et pour états initiaux la liste `decoder_states_input`. La couche LSTM doit retourner les états que l’on stockera dans une liste.\n",
    "- Appliquer la couche dense sur les sorties de la couche lstm ci-dessus.\n",
    "- Définir le modèle `decodeur_model` ayant pour entrée la couche d’entrée de la partie décodeur et la liste des états et pour sortie la sortie de la couche dense obtenue au point précédent et les états de la couche LSTM."
   ]
  },
  {
   "cell_type": "code",
   "execution_count": 26,
   "metadata": {},
   "outputs": [
    {
     "name": "stdout",
     "output_type": "stream",
     "text": [
      "Model: \"functional_5\"\n",
      "__________________________________________________________________________________________________\n",
      "Layer (type)                    Output Shape         Param #     Connected to                     \n",
      "==================================================================================================\n",
      "input_2 (InputLayer)            [(None, 10)]         0                                            \n",
      "__________________________________________________________________________________________________\n",
      "embedding_1 (Embedding)         (None, 10, 256)      8778496     input_2[0][0]                    \n",
      "__________________________________________________________________________________________________\n",
      "input_3 (InputLayer)            [(None, 256)]        0                                            \n",
      "__________________________________________________________________________________________________\n",
      "input_4 (InputLayer)            [(None, 256)]        0                                            \n",
      "__________________________________________________________________________________________________\n",
      "lstm_1 (LSTM)                   [(None, 10, 256), (N 525312      embedding_1[0][0]                \n",
      "                                                                 input_3[0][0]                    \n",
      "                                                                 input_4[0][0]                    \n",
      "==================================================================================================\n",
      "Total params: 9,303,808\n",
      "Trainable params: 9,303,808\n",
      "Non-trainable params: 0\n",
      "__________________________________________________________________________________________________\n"
     ]
    }
   ],
   "source": [
    "d_state_h = layers.Input(shape = (256,))\n",
    "d_state_c = layers.Input(shape = (256,))\n",
    "decoder_state_input = [d_state_h, d_state_c]\n",
    "\n",
    "d_lstm_out, d_state_h, d_state_c = d_lstm_layer(d_embed, initial_state = decoder_state_input)\n",
    "decoder_states = [d_state_h, d_state_c]\n",
    "decoder_outputs = d_dense_layer(d_lstm_out)\n",
    "\n",
    "with tf.device('/gpu:0'):\n",
    "    decoder_model = Model(\n",
    "        inputs = [d_input] + decoder_state_input,\n",
    "        outputs = [d_lstm_out] + decoder_states\n",
    "    )\n",
    "\n",
    "decoder_model.summary()"
   ]
  },
  {
   "cell_type": "code",
   "execution_count": 27,
   "metadata": {},
   "outputs": [
    {
     "data": {
      "image/png": "[encoded data removed]",
      "text/plain": [
       "<IPython.core.display.Image object>"
      ]
     },
     "execution_count": 27,
     "metadata": {},
     "output_type": "execute_result"
    }
   ],
   "source": [
    "tf.keras.utils.plot_model(decoder_model)"
   ]
  },
  {
   "cell_type": "markdown",
   "metadata": {},
   "source": [
    "## Apprentissage\n",
    "Compiler le modèle `encoder_decoder` avec la fonction de coût **sparse_categorical_crossentropy** et l’optimisation des poids faite avec la méthode **Adam**."
   ]
  },
  {
   "cell_type": "code",
   "execution_count": 28,
   "metadata": {},
   "outputs": [],
   "source": [
    "encoder_decoder_model.compile(optimizer = 'adam', loss = sparse_categorical_crossentropy)"
   ]
  },
  {
   "cell_type": "markdown",
   "metadata": {},
   "source": [
    "En utilisant la méthode `.fit`, entraîner le modèle sur 10 epochs avec des batchs de taille 32.  \n",
    "Attention de bien renseigner les 2 entrées dans une liste (texte français et le texte anglais pour le décodeur).  \n",
    "Il faut également donner la vérité terrain (texte anglais). On restreindra l’apprentissage à quelques exemples du jeu de données (par exemple 1024 phrases)"
   ]
  },
  {
   "cell_type": "code",
   "execution_count": 29,
   "metadata": {},
   "outputs": [
    {
     "name": "stdout",
     "output_type": "stream",
     "text": [
      "Epoch 1/10\n",
      "32/32 [==============================] - 5s 162ms/step - loss: nan\n",
      "Epoch 2/10\n",
      "32/32 [==============================] - 5s 158ms/step - loss: nan\n",
      "Epoch 3/10\n",
      "32/32 [==============================] - 5s 158ms/step - loss: nan\n",
      "Epoch 4/10\n",
      "32/32 [==============================] - 5s 157ms/step - loss: nan\n",
      "Epoch 5/10\n",
      "32/32 [==============================] - 5s 158ms/step - loss: nan\n",
      "Epoch 6/10\n",
      "32/32 [==============================] - 5s 158ms/step - loss: nan\n",
      "Epoch 7/10\n",
      "32/32 [==============================] - 5s 158ms/step - loss: nan\n",
      "Epoch 8/10\n",
      "32/32 [==============================] - 5s 158ms/step - loss: nan\n",
      "Epoch 9/10\n",
      "32/32 [==============================] - 5s 158ms/step - loss: nan\n",
      "Epoch 10/10\n",
      "32/32 [==============================] - 5s 157ms/step - loss: nan\n"
     ]
    }
   ],
   "source": [
    "with tf.device('/gpu:0'):\n",
    "    history = encoder_decoder_model.fit(\n",
    "        [pad_tok_fr[:1024], pad_tok_en_d[:1024]], pad_tok_en[:1024],\n",
    "        batch_size = 32,\n",
    "        epochs = 10\n",
    "    )"
   ]
  },
  {
   "cell_type": "markdown",
   "metadata": {},
   "source": [
    "## Prédiction\n",
    "Appliquer la fonction `decode_prediction` sur une phrase du jeu de données non vue en apprentissage.  \n",
    "Afficher:\n",
    "\n",
    "- la phrase en français\n",
    "- la phrase en anglais (*vérité terrain*)\n",
    "- la phrase prédite."
   ]
  },
  {
   "cell_type": "code",
   "execution_count": 32,
   "metadata": {},
   "outputs": [
    {
     "name": "stdout",
     "output_type": "stream",
     "text": [
      "(1, 10, 256)\n",
      "1\n",
      "resumption\n",
      "(1, 10, 256)\n",
      "1\n",
      "resumption\n",
      "(1, 10, 256)\n",
      "1\n",
      "resumption\n",
      "(1, 10, 256)\n",
      "1\n",
      "resumption\n",
      "(1, 10, 256)\n",
      "1\n",
      "resumption\n",
      "(1, 10, 256)\n",
      "1\n",
      "resumption\n",
      "(1, 10, 256)\n",
      "1\n",
      "resumption\n",
      "(1, 10, 256)\n",
      "1\n",
      "resumption\n",
      "(1, 10, 256)\n",
      "1\n",
      "resumption\n",
      "(1, 10, 256)\n",
      "1\n",
      "resumption\n",
      "resumption resumption resumption resumption resumption resumption resumption resumption resumption resumption \n"
     ]
    }
   ],
   "source": [
    "index_pred = -2\n",
    "phrase_pred = decode_prediction(\n",
    "    pad_tok_fr[index_pred:index_pred + 1],\n",
    "    encoder_model,\n",
    "    decoder_model,\n",
    "    int2ch_en, MAX_LEN, len(vocab_en) + 1\n",
    ")\n",
    "print(phrase_pred)"
   ]
  }
 ],
 "metadata": {
  "kernelspec": {
   "display_name": "Python 3",
   "language": "python",
   "name": "python3"
  },
  "language_info": {
   "codemirror_mode": {
    "name": "ipython",
    "version": 3
   },
   "file_extension": ".py",
   "mimetype": "text/x-python",
   "name": "python",
   "nbconvert_exporter": "python",
   "pygments_lexer": "ipython3",
   "version": "3.7.9"
  },
  "latex_envs": {
   "LaTeX_envs_menu_present": true,
   "autoclose": false,
   "autocomplete": true,
   "bibliofile": "biblio.bib",
   "cite_by": "apalike",
   "current_citInitial": 1,
   "eqLabelWithNumbers": true,
   "eqNumInitial": 1,
   "hotkeys": {
    "equation": "Ctrl-E",
    "itemize": "Ctrl-I"
   },
   "labels_anchors": false,
   "latex_user_defs": false,
   "report_style_numbering": false,
   "user_envs_cfg": false
  }
 },
 "nbformat": 4,
 "nbformat_minor": 4
}
