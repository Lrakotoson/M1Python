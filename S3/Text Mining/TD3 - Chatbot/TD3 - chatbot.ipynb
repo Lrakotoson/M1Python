{
 "cells": [
  {
   "cell_type": "code",
   "execution_count": 1,
   "metadata": {},
   "outputs": [],
   "source": [
    "from nltk.chat.util import Chat\n",
    "from datetime import datetime"
   ]
  },
  {
   "cell_type": "code",
   "execution_count": 2,
   "metadata": {},
   "outputs": [],
   "source": [
    "art = \"\"\"\n",
    "           ,,                          ,,                          \n",
    "         `7MM                   mm    *MM                    mm    \n",
    "           MM                   MM     MM                    MM    \n",
    " ,p6\"bo    MMpMMMb.   ,6\"Yb.  mmMMmm   MM,dMMb.   ,pW\"Wq.  mmMMmm  \n",
    "6M'  OO    MM    MM  8)   MM    MM     MM    `Mb 6W'   `Wb   MM    \n",
    "8M         MM    MM   ,pm9MM    MM     MM     M8 8M     M8   MM    \n",
    "YM.    ,   MM    MM  8M   MM    MM     MM.   ,M9 YA.   ,A9   MM    \n",
    " YMbmd'  .JMML  JMML.`Moo9^Yo.  `Mbmo  P^YbmdP'   `Ybmd9'    `Mbmo \n",
    "\"\"\""
   ]
  },
  {
   "cell_type": "code",
   "execution_count": 3,
   "metadata": {},
   "outputs": [],
   "source": [
    "reflect = {\n",
    "    \"je suis\": \"tu es\",\n",
    "    \"j'ai\": \"tu as\",\n",
    "    \"j'\": \"tu\",\n",
    "    \"je serai\": \"tu seras\",\n",
    "    \"je\": \"tu\",\n",
    "    \"mon\": \"ton\",\n",
    "    \"ma\": \"ta\",\n",
    "    \"moi\": \"toi\",\n",
    "    \"notre\": \"votre\"\n",
    "}\n",
    "\n",
    "reflect.update({v:k for k,v in reflect.items()})"
   ]
  },
  {
   "cell_type": "code",
   "execution_count": 4,
   "metadata": {},
   "outputs": [],
   "source": [
    "pairs = [\n",
    "    (\n",
    "        r\"\\.*(salut|bonjour|bonsoir|hello|hey|hi|holla|coucou)\\.*\",( # pôlitesse\n",
    "            \"Salut, ça va ?\", \"Bonjour, quoi de neuf ?\", \"Hey, comment vas-tu ?\", \"Ca roule ?\"\n",
    "        )\n",
    "    ),(\n",
    "        r\".*(ça|ca) va.*\\?\",( # formules de pôlitesse\n",
    "            \"Cool, et toi ?\", \"Je vais bien merci et toi ?\", \"Très bien! Toi ?\"\n",
    "        )\n",
    "    ),(\n",
    "        r\".*et toi.*\\?\",( # relances à la machine\n",
    "            \"Je suis toujours chargé, parlons de toi\", \"Comme d'hab, mais intéressons nous à toi\"\n",
    "        )\n",
    "    ),(\n",
    "        r\"(.*).*(étais|vais|irai|allé|aller|parti|partir|venu|venir) (à|au|aux|chez) (.*)\",( # lieux\n",
    "            \"%2 ? C'est loin ça ?\", \"Pourquoi aller %3 %4 ?\",\n",
    "            \"Ca se situe où %4 ?\", \"Comment tu te rends %3 %4 ?\"\n",
    "        )\n",
    "    ),(\n",
    "        r\"j'ai fait (.*)\",( # activités\n",
    "            \"Super activité ! Explique moi un peu\",\n",
    "            \"Et ça consiste à faire quoi précisement ?\",\n",
    "            \"Alors, les résultats ?\", \"C'est quoi %1 ?\"\n",
    "        )\n",
    "    ),(\n",
    "        r\"pourquoi (.*)(\\??)\",( # question ouverte\n",
    "            \"Pourquoi pas ?\",\n",
    "            \"Tu penses que %1 ?\", \"Pourquoi d'après toi ?\",\n",
    "            \"J'ai une petite idée, et toi ?\"\n",
    "        )\n",
    "    ),(\n",
    "        r\".*(parce que|car|puisque)(.*)(\\!?)\",( # réponse ouverte\n",
    "            \"Je suis d'accord, mais développe un peu\",\n",
    "            \"Oui, en effet %1. Mais encore ?\",\n",
    "            \"Hum... continue s'il te plaît\"\n",
    "        )\n",
    "    ),(\n",
    "        r\"(.*)\\?\",( # toutes les autres questions\n",
    "            \"Toi, tu en penses quoi ?\",\n",
    "            \"%1 ... bonne question, t'en dis quoi ?\",\n",
    "            \"A ton avis ?\"\n",
    "        )\n",
    "    ),(\n",
    "        r\"oui(.*)\",( # affirmatif\n",
    "            \"T'as raison, sinon ?\",\n",
    "            \"%1 bon bon bon. Autrement ?\", \"Cool alors\"\n",
    "        )\n",
    "    ),(\n",
    "        r\"non(.*)\",( # négatif\n",
    "            \"Et pourquoi ça ?\",\n",
    "            \"%1 ah non?\", \"Oh, tu peux développer ?\"\n",
    "        )\n",
    "    ),(\n",
    "        r\"quit\",( # phrase de fin\n",
    "            \"Cool, à plus !\", \"Bonne continuation alors\", \"Tchao !\",\n",
    "            \"Salut l'ami.e !\"\n",
    "        )\n",
    "    ),(\n",
    "        r\"(.*)\",( # phrases de relances\n",
    "            \"%1 tu dis ? Développe un peu\",\n",
    "            \"Dis-m'en plus\", \"Raconte moi tout, c'est pas assez ça !\",\n",
    "            \"%1 ? C'est tout ? Et les détails ?\", \"Mais encore ?\",\n",
    "            \"Cool ça. Parle moi un peu de ta journée.\", \"Intéressant, ensuite ?\",\n",
    "            f\"Bien. Il est {datetime.now().strftime('%H:%M')}, tu fais quoi après ?\"\n",
    "        )\n",
    "    ),\n",
    "]"
   ]
  },
  {
   "cell_type": "code",
   "execution_count": 5,
   "metadata": {},
   "outputs": [],
   "source": [
    "chatbot = Chat(pairs, reflect)"
   ]
  },
  {
   "cell_type": "code",
   "execution_count": 6,
   "metadata": {},
   "outputs": [],
   "source": [
    "def chat():\n",
    "    global chatbot\n",
    "    print(art)\n",
    "    print(f\"{'='*70}\\nBonjour! Je suis le Chatbot français avec qui tu peux parler de ta journée\")\n",
    "    print(\"Tape 'quit' si tu veux partir :)\")\n",
    "    chatbot.converse()\n",
    "    print('='*70)"
   ]
  },
  {
   "cell_type": "code",
   "execution_count": 7,
   "metadata": {},
   "outputs": [
    {
     "name": "stdout",
     "output_type": "stream",
     "text": [
      "\n",
      "           ,,                          ,,                          \n",
      "         `7MM                   mm    *MM                    mm    \n",
      "           MM                   MM     MM                    MM    \n",
      " ,p6\"bo    MMpMMMb.   ,6\"Yb.  mmMMmm   MM,dMMb.   ,pW\"Wq.  mmMMmm  \n",
      "6M'  OO    MM    MM  8)   MM    MM     MM    `Mb 6W'   `Wb   MM    \n",
      "8M         MM    MM   ,pm9MM    MM     MM     M8 8M     M8   MM    \n",
      "YM.    ,   MM    MM  8M   MM    MM     MM.   ,M9 YA.   ,A9   MM    \n",
      " YMbmd'  .JMML  JMML.`Moo9^Yo.  `Mbmo  P^YbmdP'   `Ybmd9'    `Mbmo \n",
      "\n",
      "======================================================================\n",
      "Bonjour! Je suis le Chatbot français avec qui tu peux parler de ta journée\n",
      "Tape 'quit' si tu veux partir :)\n",
      ">salut\n",
      "Salut, ça va ?\n",
      ">ouais et toi ?\n",
      "Je suis toujours chargé, parlons de toi\n",
      ">et bien, je suis content\n",
      "Cool ça. Parle moi un peu de ta journée.\n",
      ">j'ai hacké la NASA en utilisant du HTML\n",
      "tu as hacké la nasa en utilisant du html tu dis ? Développe un peu\n",
      ">beh je suis MR ROBOT hackerman mdr\n",
      "Intéressant, ensuite ?\n",
      ">le FBI m'a arrêté et j'irai au tribunal\n",
      "Ca se situe où tribunal ?\n",
      ">loin\n",
      "Mais encore ?\n",
      ">très loin\n",
      "Raconte moi tout, c'est pas assez ça !\n",
      ">quit\n",
      "Bonne continuation alors\n",
      "======================================================================\n"
     ]
    }
   ],
   "source": [
    "chat()"
   ]
  }
 ],
 "metadata": {
  "kernelspec": {
   "display_name": "Python 3",
   "language": "python",
   "name": "python3"
  },
  "language_info": {
   "codemirror_mode": {
    "name": "ipython",
    "version": 3
   },
   "file_extension": ".py",
   "mimetype": "text/x-python",
   "name": "python",
   "nbconvert_exporter": "python",
   "pygments_lexer": "ipython3",
   "version": "3.7.7"
  },
  "latex_envs": {
   "LaTeX_envs_menu_present": true,
   "autoclose": false,
   "autocomplete": true,
   "bibliofile": "biblio.bib",
   "cite_by": "apalike",
   "current_citInitial": 1,
   "eqLabelWithNumbers": true,
   "eqNumInitial": 1,
   "hotkeys": {
    "equation": "Ctrl-E",
    "itemize": "Ctrl-I"
   },
   "labels_anchors": false,
   "latex_user_defs": false,
   "report_style_numbering": false,
   "user_envs_cfg": false
  }
 },
 "nbformat": 4,
 "nbformat_minor": 4
}
