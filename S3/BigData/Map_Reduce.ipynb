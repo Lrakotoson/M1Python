{
 "cells": [
  {
   "cell_type": "markdown",
   "metadata": {},
   "source": [
    "# Map Reduce\n",
    "## Weighted mean and Variance\n",
    "### Exercise 1\n",
    "Write functions to compute the average value and variance using for loops"
   ]
  },
  {
   "cell_type": "code",
   "execution_count": 1,
   "metadata": {},
   "outputs": [],
   "source": [
    "def weightedLoop(X, P):\n",
    "    mean = 0\n",
    "    term = 0\n",
    "    for x,p in zip(X,P):\n",
    "        mean += p*x\n",
    "        term += p*x**2\n",
    "    var = term - mean**2\n",
    "    return mean, var"
   ]
  },
  {
   "cell_type": "code",
   "execution_count": 2,
   "metadata": {},
   "outputs": [
    {
     "data": {
      "text/plain": [
       "(2.8, 1.9600000000000017)"
      ]
     },
     "execution_count": 2,
     "metadata": {},
     "output_type": "execute_result"
    }
   ],
   "source": [
    "X = [5, 1, 2, 3, 1, 2, 5, 4]\n",
    "P = [0.05, 0.05, 0.15, 0.05, 0.15, 0.2, 0.1, 0.25]\n",
    "weightedLoop(X,P)"
   ]
  },
  {
   "cell_type": "markdown",
   "metadata": {},
   "source": [
    "### Exercise 2\n",
    "Write functions to compute the average value and variance using `map` and `reduce`"
   ]
  },
  {
   "cell_type": "code",
   "execution_count": 3,
   "metadata": {},
   "outputs": [],
   "source": [
    "from functools import reduce"
   ]
  },
  {
   "cell_type": "code",
   "execution_count": 4,
   "metadata": {},
   "outputs": [],
   "source": [
    "def weightedMapReduce(X, P):\n",
    "    mult = lambda a,b: a*b\n",
    "    add = lambda a,b: a+b\n",
    "    \n",
    "    mean = reduce(add, (map(mult, P, X)))\n",
    "    var = reduce(add, (map(mult, P, map(lambda x:x**2, X)))) - mean**2\n",
    "    return mean, var"
   ]
  },
  {
   "cell_type": "code",
   "execution_count": 5,
   "metadata": {},
   "outputs": [
    {
     "data": {
      "text/plain": [
       "(2.8, 1.9600000000000017)"
      ]
     },
     "execution_count": 5,
     "metadata": {},
     "output_type": "execute_result"
    }
   ],
   "source": [
    "weightedMapReduce(X,P)"
   ]
  },
  {
   "cell_type": "markdown",
   "metadata": {},
   "source": [
    "## Wordcount\n",
    "## Map - Read file and return a key/value pairs\n",
    "### Exercise 3\n",
    "Write a function `mapper` with a single file name as input that returns a sorted sequence of tuples (word, 1) values."
   ]
  },
  {
   "cell_type": "code",
   "execution_count": 6,
   "metadata": {},
   "outputs": [],
   "source": [
    "def mapper(path):\n",
    "    with open(path, 'r') as f:\n",
    "        return [(word, 1)\n",
    "                for word in sorted(f.read().replace(\".\", \" \").lower().split())]"
   ]
  },
  {
   "cell_type": "code",
   "execution_count": 7,
   "metadata": {},
   "outputs": [
    {
     "data": {
      "text/plain": [
       "[('adipisci', 1),\n",
       " ('adipisci', 1),\n",
       " ('adipisci', 1),\n",
       " ('adipisci', 1),\n",
       " ('adipisci', 1)]"
      ]
     },
     "execution_count": 7,
     "metadata": {},
     "output_type": "execute_result"
    }
   ],
   "source": [
    "# Regenerate file\n",
    "from lorem import text\n",
    "with open(\"sample.txt\", \"w\") as f:\n",
    "    for i in range(100):\n",
    "        f.write(text())\n",
    "        \n",
    "mapper(\"sample.txt\")[:5]"
   ]
  },
  {
   "cell_type": "markdown",
   "metadata": {},
   "source": [
    "## Partition\n",
    "### Exercise 4\n",
    "Create a function named `partitioner` that stores the key/value pairs from mapper that group (word, 1) pairs into a list as:"
   ]
  },
  {
   "cell_type": "code",
   "execution_count": 8,
   "metadata": {},
   "outputs": [],
   "source": [
    "def partitioner(pairs):\n",
    "    partition = dict()\n",
    "    for key, val in pairs:\n",
    "        partition[key] = partition.get(key, []) + [val]\n",
    "    return partition"
   ]
  },
  {
   "cell_type": "code",
   "execution_count": 9,
   "metadata": {},
   "outputs": [],
   "source": [
    "p = partitioner(mapper(\"sample.txt\"))"
   ]
  },
  {
   "cell_type": "markdown",
   "metadata": {},
   "source": [
    "## Reduce - Sums the counts and returns a single key/value (word, sum).\n",
    "### Exercise 5\n",
    "Write the function `reducer` that read a tuple (word,[1,1,1,..,1]) and sum the occurrences of word to a final count, and then output the tuple (word,occurences)."
   ]
  },
  {
   "cell_type": "code",
   "execution_count": 10,
   "metadata": {},
   "outputs": [],
   "source": [
    "def reducer(tuplew):\n",
    "    return tuplew[0], sum(tuplew[1])"
   ]
  },
  {
   "cell_type": "code",
   "execution_count": 11,
   "metadata": {},
   "outputs": [
    {
     "data": {
      "text/plain": [
       "[('adipisci', 745),\n",
       " ('aliquam', 679),\n",
       " ('amet', 758),\n",
       " ('consectetur', 767),\n",
       " ('dolor', 772),\n",
       " ('dolore', 750),\n",
       " ('dolorem', 724),\n",
       " ('eius', 767),\n",
       " ('est', 783),\n",
       " ('etincidunt', 732),\n",
       " ('ipsum', 770),\n",
       " ('labore', 777),\n",
       " ('magnam', 771),\n",
       " ('modi', 709),\n",
       " ('neque', 759),\n",
       " ('non', 750),\n",
       " ('numquam', 736),\n",
       " ('porro', 800),\n",
       " ('quaerat', 761),\n",
       " ('quiquia', 791),\n",
       " ('quisquam', 741),\n",
       " ('sed', 779),\n",
       " ('sit', 724),\n",
       " ('tempora', 731),\n",
       " ('ut', 737),\n",
       " ('velit', 766),\n",
       " ('voluptatem', 800)]"
      ]
     },
     "execution_count": 11,
     "metadata": {},
     "output_type": "execute_result"
    }
   ],
   "source": [
    "list(map(reducer, list(p.items())))"
   ]
  },
  {
   "cell_type": "markdown",
   "metadata": {},
   "source": [
    "## Process several files"
   ]
  },
  {
   "cell_type": "code",
   "execution_count": 12,
   "metadata": {},
   "outputs": [],
   "source": [
    "from lorem import text\n",
    "for i in range(8):\n",
    "    with open(\"sample{0:02d}.txt\".format(i), \"w\") as f:\n",
    "        f.write(text())"
   ]
  },
  {
   "cell_type": "code",
   "execution_count": 13,
   "metadata": {},
   "outputs": [
    {
     "data": {
      "text/plain": [
       "['sample00.txt',\n",
       " 'sample01.txt',\n",
       " 'sample02.txt',\n",
       " 'sample03.txt',\n",
       " 'sample04.txt',\n",
       " 'sample05.txt',\n",
       " 'sample06.txt',\n",
       " 'sample07.txt']"
      ]
     },
     "execution_count": 13,
     "metadata": {},
     "output_type": "execute_result"
    }
   ],
   "source": [
    "import glob\n",
    "files = sorted(glob.glob('sample0*.txt'))\n",
    "files"
   ]
  },
  {
   "cell_type": "markdown",
   "metadata": {},
   "source": [
    "### Exercise 6\n",
    "Use functions implemented above to count (word, occurences) by using a for loops over files and partitioned data."
   ]
  },
  {
   "cell_type": "code",
   "execution_count": 14,
   "metadata": {},
   "outputs": [
    {
     "name": "stdout",
     "output_type": "stream",
     "text": [
      "Wall time: 50.9 ms\n"
     ]
    },
    {
     "data": {
      "text/plain": [
       "[('adipisci', 61),\n",
       " ('aliquam', 48),\n",
       " ('amet', 78),\n",
       " ('consectetur', 80),\n",
       " ('dolor', 53),\n",
       " ('dolore', 54),\n",
       " ('dolorem', 66),\n",
       " ('eius', 60),\n",
       " ('est', 71),\n",
       " ('etincidunt', 69),\n",
       " ('ipsum', 63),\n",
       " ('labore', 77),\n",
       " ('magnam', 60),\n",
       " ('modi', 65),\n",
       " ('neque', 65),\n",
       " ('non', 67),\n",
       " ('numquam', 85),\n",
       " ('porro', 51),\n",
       " ('quaerat', 68),\n",
       " ('quiquia', 73),\n",
       " ('quisquam', 74),\n",
       " ('sed', 72),\n",
       " ('sit', 74),\n",
       " ('tempora', 56),\n",
       " ('ut', 67),\n",
       " ('velit', 70),\n",
       " ('voluptatem', 61)]"
      ]
     },
     "execution_count": 14,
     "metadata": {},
     "output_type": "execute_result"
    }
   ],
   "source": [
    "%%time\n",
    "\n",
    "[\n",
    "    reducer(wo)\n",
    "    for wo in partitioner(sum([\n",
    "        mapper(file) \n",
    "        for file in files\n",
    "    ], [])).items()\n",
    "]"
   ]
  },
  {
   "cell_type": "markdown",
   "metadata": {},
   "source": [
    "### Exercise 7\n",
    "This time use `map` function to apply mapper and reducer"
   ]
  },
  {
   "cell_type": "code",
   "execution_count": 15,
   "metadata": {
    "scrolled": true
   },
   "outputs": [
    {
     "name": "stdout",
     "output_type": "stream",
     "text": [
      "Wall time: 2.99 ms\n"
     ]
    },
    {
     "data": {
      "text/plain": [
       "[('adipisci', 61),\n",
       " ('aliquam', 48),\n",
       " ('amet', 78),\n",
       " ('consectetur', 80),\n",
       " ('dolor', 53),\n",
       " ('dolore', 54),\n",
       " ('dolorem', 66),\n",
       " ('eius', 60),\n",
       " ('est', 71),\n",
       " ('etincidunt', 69),\n",
       " ('ipsum', 63),\n",
       " ('labore', 77),\n",
       " ('magnam', 60),\n",
       " ('modi', 65),\n",
       " ('neque', 65),\n",
       " ('non', 67),\n",
       " ('numquam', 85),\n",
       " ('porro', 51),\n",
       " ('quaerat', 68),\n",
       " ('quiquia', 73),\n",
       " ('quisquam', 74),\n",
       " ('sed', 72),\n",
       " ('sit', 74),\n",
       " ('tempora', 56),\n",
       " ('ut', 67),\n",
       " ('velit', 70),\n",
       " ('voluptatem', 61)]"
      ]
     },
     "execution_count": 15,
     "metadata": {},
     "output_type": "execute_result"
    }
   ],
   "source": [
    "%%time\n",
    "\n",
    "list(map(\n",
    "    reducer,\n",
    "    partitioner(reduce(lambda x,y: x+y, map(\n",
    "        mapper, files\n",
    "    ))).items()\n",
    "))"
   ]
  },
  {
   "cell_type": "code",
   "execution_count": 16,
   "metadata": {},
   "outputs": [],
   "source": [
    "!del *.txt"
   ]
  }
 ],
 "metadata": {
  "kernelspec": {
   "display_name": "Python 3",
   "language": "python",
   "name": "python3"
  },
  "language_info": {
   "codemirror_mode": {
    "name": "ipython",
    "version": 3
   },
   "file_extension": ".py",
   "mimetype": "text/x-python",
   "name": "python",
   "nbconvert_exporter": "python",
   "pygments_lexer": "ipython3",
   "version": "3.7.9"
  },
  "latex_envs": {
   "LaTeX_envs_menu_present": true,
   "autoclose": false,
   "autocomplete": true,
   "bibliofile": "biblio.bib",
   "cite_by": "apalike",
   "current_citInitial": 1,
   "eqLabelWithNumbers": true,
   "eqNumInitial": 1,
   "hotkeys": {
    "equation": "Ctrl-E",
    "itemize": "Ctrl-I"
   },
   "labels_anchors": false,
   "latex_user_defs": false,
   "report_style_numbering": false,
   "user_envs_cfg": false
  }
 },
 "nbformat": 4,
 "nbformat_minor": 4
}
