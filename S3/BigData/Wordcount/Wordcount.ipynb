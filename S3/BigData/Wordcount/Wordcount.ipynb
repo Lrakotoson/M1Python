{
 "cells": [
  {
   "cell_type": "markdown",
   "metadata": {},
   "source": [
    "# Wordcount\n",
    "## Create sample text file"
   ]
  },
  {
   "cell_type": "code",
   "execution_count": 13,
   "metadata": {},
   "outputs": [],
   "source": [
    "from lorem import text\n",
    "\n",
    "with open(\"sample.txt\", \"w\") as f:\n",
    "    for i in range(10000):\n",
    "        f.write(text())"
   ]
  },
  {
   "cell_type": "markdown",
   "metadata": {},
   "source": [
    "### Exercise 1\n",
    "Write a python program that counts the number of lines, different words and characters in that file."
   ]
  },
  {
   "cell_type": "code",
   "execution_count": 2,
   "metadata": {},
   "outputs": [
    {
     "name": "stdout",
     "output_type": "stream",
     "text": [
      "lines: 69716\n",
      "words: 2021214\n",
      "charachters: 14216683\n"
     ]
    }
   ],
   "source": [
    "with open(\"sample.txt\", \"r\") as f:\n",
    "    file = f.read().replace(\".\", \" \")\n",
    "    count = file.count('\\n')\n",
    "    print(\n",
    "        f'lines: {count}\\nwords: {len(file.split())}\\ncharachters: {len(file)}'\n",
    "    )"
   ]
  },
  {
   "cell_type": "markdown",
   "metadata": {},
   "source": [
    "### Exercise 2\n",
    "Create a function called `map_words` that take a file name as argument and return a lists containing all words as items."
   ]
  },
  {
   "cell_type": "code",
   "execution_count": 3,
   "metadata": {},
   "outputs": [],
   "source": [
    "def map_words(path):\n",
    "    with open(path, \"r\") as f:\n",
    "        return sorted(f.read().replace(\".\", \" \").lower().split())"
   ]
  },
  {
   "cell_type": "code",
   "execution_count": 4,
   "metadata": {},
   "outputs": [
    {
     "data": {
      "text/plain": [
       "['adipisci', 'adipisci', 'adipisci', 'adipisci', 'adipisci']"
      ]
     },
     "execution_count": 4,
     "metadata": {},
     "output_type": "execute_result"
    }
   ],
   "source": [
    "lw = map_words(\"sample.txt\")\n",
    "lw[:5]"
   ]
  },
  {
   "cell_type": "markdown",
   "metadata": {},
   "source": [
    "### Exercise 3\n",
    "Create a function `reduce` to reduce the list of words returned by `map_words` and return a dictionary containing all words as keys and number of occurrences as values."
   ]
  },
  {
   "cell_type": "code",
   "execution_count": 5,
   "metadata": {},
   "outputs": [],
   "source": [
    "def reduce(list_words):\n",
    "    dict_words = {\n",
    "        word: list_words.count(word)\n",
    "        for word in set(list_words)\n",
    "    }\n",
    "    return dict_words"
   ]
  },
  {
   "cell_type": "code",
   "execution_count": 6,
   "metadata": {},
   "outputs": [
    {
     "name": "stdout",
     "output_type": "stream",
     "text": [
      "Wall time: 2.82 s\n"
     ]
    },
    {
     "data": {
      "text/plain": [
       "{'voluptatem': 75068,\n",
       " 'ipsum': 75047,\n",
       " 'dolorem': 74743,\n",
       " 'magnam': 75077,\n",
       " 'quiquia': 74617,\n",
       " 'porro': 75192,\n",
       " 'sed': 74717,\n",
       " 'ut': 74912,\n",
       " 'neque': 74659,\n",
       " 'dolor': 75228,\n",
       " 'est': 74831,\n",
       " 'consectetur': 75422,\n",
       " 'non': 74851,\n",
       " 'numquam': 75399,\n",
       " 'tempora': 75389,\n",
       " 'dolore': 74916,\n",
       " 'etincidunt': 74955,\n",
       " 'velit': 74936,\n",
       " 'amet': 74260,\n",
       " 'modi': 74615,\n",
       " 'quaerat': 74778,\n",
       " 'adipisci': 74898,\n",
       " 'aliquam': 74385,\n",
       " 'sit': 74714,\n",
       " 'labore': 74734,\n",
       " 'quisquam': 74409,\n",
       " 'eius': 74462}"
      ]
     },
     "execution_count": 6,
     "metadata": {},
     "output_type": "execute_result"
    }
   ],
   "source": [
    "%%time\n",
    "reduce(lw)"
   ]
  },
  {
   "cell_type": "markdown",
   "metadata": {},
   "source": [
    "### Exercise 4\n",
    "Modify the `reduce` function you wrote above by using a `defaultdict` with the most suitable factory\n",
    "> Reduce function is already ok"
   ]
  },
  {
   "cell_type": "markdown",
   "metadata": {},
   "source": [
    "### Exercise 5\n",
    "Use a `Counter` object to count words occurences in the sample text file."
   ]
  },
  {
   "cell_type": "code",
   "execution_count": 7,
   "metadata": {},
   "outputs": [],
   "source": [
    "from collections import Counter"
   ]
  },
  {
   "cell_type": "code",
   "execution_count": 8,
   "metadata": {},
   "outputs": [
    {
     "name": "stdout",
     "output_type": "stream",
     "text": [
      "Wall time: 212 ms\n"
     ]
    },
    {
     "data": {
      "text/plain": [
       "Counter({'adipisci': 74898,\n",
       "         'aliquam': 74385,\n",
       "         'amet': 74260,\n",
       "         'consectetur': 75422,\n",
       "         'dolor': 75228,\n",
       "         'dolore': 74916,\n",
       "         'dolorem': 74743,\n",
       "         'eius': 74462,\n",
       "         'est': 74831,\n",
       "         'etincidunt': 74955,\n",
       "         'ipsum': 75047,\n",
       "         'labore': 74734,\n",
       "         'magnam': 75077,\n",
       "         'modi': 74615,\n",
       "         'neque': 74659,\n",
       "         'non': 74851,\n",
       "         'numquam': 75399,\n",
       "         'porro': 75192,\n",
       "         'quaerat': 74778,\n",
       "         'quiquia': 74617,\n",
       "         'quisquam': 74409,\n",
       "         'sed': 74717,\n",
       "         'sit': 74714,\n",
       "         'tempora': 75389,\n",
       "         'ut': 74912,\n",
       "         'velit': 74936,\n",
       "         'voluptatem': 75068})"
      ]
     },
     "execution_count": 8,
     "metadata": {},
     "output_type": "execute_result"
    }
   ],
   "source": [
    "%%time\n",
    "Counter(lw)"
   ]
  },
  {
   "cell_type": "markdown",
   "metadata": {},
   "source": [
    "### Exercise 6\n",
    "Write the program that creates files, processes and use `itertools.chain` to get the merged word count dictionary"
   ]
  },
  {
   "cell_type": "code",
   "execution_count": 9,
   "metadata": {},
   "outputs": [],
   "source": [
    "import itertools\n",
    "def map_words_str(char):\n",
    "    return sorted(char.replace(\".\", \" \").lower().split())"
   ]
  },
  {
   "cell_type": "code",
   "execution_count": 10,
   "metadata": {},
   "outputs": [
    {
     "data": {
      "text/plain": [
       "Counter({'adipisci': 59,\n",
       "         'aliquam': 72,\n",
       "         'amet': 72,\n",
       "         'consectetur': 69,\n",
       "         'dolor': 59,\n",
       "         'dolore': 63,\n",
       "         'dolorem': 68,\n",
       "         'eius': 76,\n",
       "         'est': 61,\n",
       "         'etincidunt': 72,\n",
       "         'ipsum': 57,\n",
       "         'labore': 65,\n",
       "         'magnam': 67,\n",
       "         'modi': 74,\n",
       "         'neque': 72,\n",
       "         'non': 48,\n",
       "         'numquam': 61,\n",
       "         'porro': 88,\n",
       "         'quaerat': 73,\n",
       "         'quiquia': 71,\n",
       "         'quisquam': 71,\n",
       "         'sed': 50,\n",
       "         'sit': 65,\n",
       "         'tempora': 73,\n",
       "         'ut': 74,\n",
       "         'velit': 66,\n",
       "         'voluptatem': 76})"
      ]
     },
     "execution_count": 10,
     "metadata": {},
     "output_type": "execute_result"
    }
   ],
   "source": [
    "ltext = [text() for i in range(10)]\n",
    "Counter(itertools.chain(*[map_words_str(char) for char in ltext]))"
   ]
  },
  {
   "cell_type": "markdown",
   "metadata": {},
   "source": [
    "### Exercise 7\n",
    "Create the `wordcount` function in order to accept several files as arguments and return the result dict."
   ]
  },
  {
   "cell_type": "code",
   "execution_count": 11,
   "metadata": {},
   "outputs": [],
   "source": [
    "def wordcount(*args, **kwargs):\n",
    "    return Counter(itertools.chain(*[map_words(path) for path in args]))"
   ]
  },
  {
   "cell_type": "code",
   "execution_count": 12,
   "metadata": {
    "scrolled": true
   },
   "outputs": [
    {
     "data": {
      "text/plain": [
       "Counter({'adipisci': 75,\n",
       "         'aliquam': 91,\n",
       "         'amet': 103,\n",
       "         'consectetur': 89,\n",
       "         'dolor': 81,\n",
       "         'dolore': 97,\n",
       "         'dolorem': 96,\n",
       "         'eius': 84,\n",
       "         'est': 85,\n",
       "         'etincidunt': 78,\n",
       "         'ipsum': 101,\n",
       "         'labore': 93,\n",
       "         'magnam': 88,\n",
       "         'modi': 96,\n",
       "         'neque': 92,\n",
       "         'non': 84,\n",
       "         'numquam': 103,\n",
       "         'porro': 100,\n",
       "         'quaerat': 79,\n",
       "         'quiquia': 84,\n",
       "         'quisquam': 82,\n",
       "         'sed': 91,\n",
       "         'sit': 94,\n",
       "         'tempora': 99,\n",
       "         'ut': 110,\n",
       "         'velit': 77,\n",
       "         'voluptatem': 90})"
      ]
     },
     "execution_count": 12,
     "metadata": {},
     "output_type": "execute_result"
    }
   ],
   "source": [
    "for i in range(10):\n",
    "    with open(f'sample{i}.txt', 'w') as f:\n",
    "        f.write(text())\n",
    "\n",
    "wordcount(*[f'sample{i}.txt' for i in range(10)])"
   ]
  }
 ],
 "metadata": {
  "kernelspec": {
   "display_name": "Python 3",
   "language": "python",
   "name": "python3"
  },
  "language_info": {
   "codemirror_mode": {
    "name": "ipython",
    "version": 3
   },
   "file_extension": ".py",
   "mimetype": "text/x-python",
   "name": "python",
   "nbconvert_exporter": "python",
   "pygments_lexer": "ipython3",
   "version": "3.7.9"
  },
  "latex_envs": {
   "LaTeX_envs_menu_present": true,
   "autoclose": false,
   "autocomplete": true,
   "bibliofile": "biblio.bib",
   "cite_by": "apalike",
   "current_citInitial": 1,
   "eqLabelWithNumbers": true,
   "eqNumInitial": 1,
   "hotkeys": {
    "equation": "Ctrl-E",
    "itemize": "Ctrl-I"
   },
   "labels_anchors": false,
   "latex_user_defs": false,
   "report_style_numbering": false,
   "user_envs_cfg": false
  }
 },
 "nbformat": 4,
 "nbformat_minor": 4
}
