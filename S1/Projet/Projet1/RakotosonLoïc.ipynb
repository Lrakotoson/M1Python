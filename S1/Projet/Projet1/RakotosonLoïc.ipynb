{
 "cells": [
  {
   "cell_type": "code",
   "execution_count": 1,
   "metadata": {},
   "outputs": [],
   "source": [
    "\"\"\"Mini projet sur les grandes marées à Saint-Malo\"\"\"\n",
    "################################################################################\n",
    "# fichier  : RakotosonLoïc.py\n",
    "# Auteur : Rakotoson Loïc\n",
    "################################################################################\n",
    "\n",
    "################################################################################\n",
    "#Importation de fonctions externes :\n",
    "\n",
    "from datetime import datetime\n",
    "import pickle\n"
   ]
  },
  {
   "cell_type": "code",
   "execution_count": 2,
   "metadata": {},
   "outputs": [],
   "source": [
    "################################################################################\n",
    "#Definition locale de fonctions :\n",
    "\n",
    "################################################################################\n",
    "#Lecture avec pickle (Récupération des variables réponses)\n",
    "\n",
    "def readData(nomFichier):\n",
    "    listeData=[]\n",
    "    try:\n",
    "        with open(nomFichier,'rb') as objet_fichier:\n",
    "            objet_fichier_depickler = pickle.Unpickler(objet_fichier)\n",
    "            while 1 :\n",
    "                try :\n",
    "                    listeData.append(objet_fichier_depickler.load())\n",
    "                except EOFError:\n",
    "                    break\n",
    "    except (IOError, OSError) :\n",
    "        print(\"Problème à l'ouverture du fichier\")\n",
    "    return listeData\n"
   ]
  },
  {
   "cell_type": "code",
   "execution_count": 3,
   "metadata": {},
   "outputs": [],
   "source": [
    "################################################################################\n",
    "#Definition de classe\n",
    "\n",
    "################################################################################\n",
    "#Récupération des données\n",
    "\n",
    "listeData=readData('data.pic')\n",
    "#La variable jour représente le jour de la semaine de la grande marée\n",
    "jour = listeData[0]\n",
    "#La variable date représente la date de la grande marée\n",
    "date = listeData[1]\n",
    "\n",
    "################################################################################\n",
    "#Corps principal du programme :"
   ]
  },
  {
   "cell_type": "markdown",
   "metadata": {},
   "source": [
    "# Les données\n",
    "## Exercice 1\n",
    "Conversion des dates en datetime."
   ]
  },
  {
   "cell_type": "code",
   "execution_count": 4,
   "metadata": {},
   "outputs": [],
   "source": [
    "dateformat = [datetime.strptime(i, '%Y-%m-%d') for i in date]"
   ]
  },
  {
   "cell_type": "markdown",
   "metadata": {},
   "source": [
    "Traduction des jours français en anglais."
   ]
  },
  {
   "cell_type": "code",
   "execution_count": 5,
   "metadata": {},
   "outputs": [],
   "source": [
    "dico_jour = {'lundi':'Monday', 'mardi':'Tuesday', 'mercredi':'Wednesday',\n",
    "           'jeudi':'Thursday', 'vendredi':'Friday', 'samedi':'Saturday',\n",
    "          'dimanche':'Sunday'}\n",
    "\n",
    "jour_en = [dico_jour[i] for i in jour]"
   ]
  },
  {
   "cell_type": "markdown",
   "metadata": {},
   "source": [
    "Vérification de la correspondance des jours."
   ]
  },
  {
   "cell_type": "code",
   "execution_count": 6,
   "metadata": {},
   "outputs": [
    {
     "name": "stdout",
     "output_type": "stream",
     "text": [
      "Erreur à la ligne 196:\n",
      " Absence de correspondance en ('Thursday', 'Tuesday')\n"
     ]
    }
   ],
   "source": [
    "ligne = 0\n",
    "for jours in zip(jour_en, [jour.strftime(\"%A\") for jour in dateformat]):\n",
    "    ligne += 1\n",
    "    if jours[0] != jours[1]:\n",
    "        print(\"Erreur à la ligne {}:\\n Absence de correspondance en {}\".format(ligne, jours))\n",
    "    "
   ]
  },
  {
   "cell_type": "markdown",
   "metadata": {},
   "source": [
    "## Exercice 2\n",
    "Triage décoissant et affichage de la prochaine grande marrée. On affichera celui le plus récent."
   ]
  },
  {
   "cell_type": "code",
   "execution_count": 7,
   "metadata": {},
   "outputs": [
    {
     "name": "stdout",
     "output_type": "stream",
     "text": [
      "30 October 2019\n"
     ]
    }
   ],
   "source": [
    "dateformat.sort(reverse=True)\n",
    "print(dateformat[0].strftime('%d %B %Y'))"
   ]
  },
  {
   "cell_type": "markdown",
   "metadata": {},
   "source": [
    "# Exploitation des données\n",
    "## Exercice 3\n",
    "Le nombre de grande marée pour chaque année."
   ]
  },
  {
   "cell_type": "code",
   "execution_count": 8,
   "metadata": {},
   "outputs": [
    {
     "name": "stdout",
     "output_type": "stream",
     "text": [
      "2014 : 37\n",
      "2015 : 43\n",
      "2016 : 39\n",
      "2017 : 34\n",
      "2018 : 37\n",
      "2019 : 35\n"
     ]
    }
   ],
   "source": [
    "annee = [i.year for i in dateformat]\n",
    "\n",
    "for year in sorted(set(annee)):\n",
    "    print(\"{} : {}\".format(year, annee.count(year)))"
   ]
  },
  {
   "cell_type": "markdown",
   "metadata": {},
   "source": [
    "## Exercice 4\n",
    "Fréquence moyenne des grandes marées par mois toutes années confondues"
   ]
  },
  {
   "cell_type": "code",
   "execution_count": 9,
   "metadata": {},
   "outputs": [
    {
     "name": "stdout",
     "output_type": "stream",
     "text": [
      "January : 3.33\n",
      "February : 3.67\n",
      "March : 5.17\n",
      "April : 4.0\n",
      "May : 2.0\n",
      "June : 1.17\n",
      "July : 1.67\n",
      "August : 4.17\n",
      "September : 4.17\n",
      "October : 4.83\n",
      "November : 2.0\n",
      "December : 1.33\n"
     ]
    }
   ],
   "source": [
    "mois = [(i.strftime('%B'), i.month) for i in dateformat]\n",
    "\n",
    "for month in sorted(set(mois), key=lambda x: x[1]):\n",
    "    print(\"{} : {}\".format(month[0], round(mois.count(month)/len(set(annee)), 2)))"
   ]
  }
 ],
 "metadata": {
  "kernelspec": {
   "display_name": "Python 3",
   "language": "python",
   "name": "python3"
  },
  "language_info": {
   "codemirror_mode": {
    "name": "ipython",
    "version": 3
   },
   "file_extension": ".py",
   "mimetype": "text/x-python",
   "name": "python",
   "nbconvert_exporter": "python",
   "pygments_lexer": "ipython3",
   "version": "3.7.3"
  },
  "toc": {
   "base_numbering": 1,
   "nav_menu": {},
   "number_sections": true,
   "sideBar": true,
   "skip_h1_title": false,
   "title_cell": "Table of Contents",
   "title_sidebar": "Contents",
   "toc_cell": false,
   "toc_position": {},
   "toc_section_display": true,
   "toc_window_display": false
  },
  "varInspector": {
   "cols": {
    "lenName": 16,
    "lenType": 16,
    "lenVar": 40
   },
   "kernels_config": {
    "python": {
     "delete_cmd_postfix": "",
     "delete_cmd_prefix": "del ",
     "library": "var_list.py",
     "varRefreshCmd": "print(var_dic_list())"
    },
    "r": {
     "delete_cmd_postfix": ") ",
     "delete_cmd_prefix": "rm(",
     "library": "var_list.r",
     "varRefreshCmd": "cat(var_dic_list()) "
    }
   },
   "types_to_exclude": [
    "module",
    "function",
    "builtin_function_or_method",
    "instance",
    "_Feature"
   ],
   "window_display": false
  }
 },
 "nbformat": 4,
 "nbformat_minor": 2
}
