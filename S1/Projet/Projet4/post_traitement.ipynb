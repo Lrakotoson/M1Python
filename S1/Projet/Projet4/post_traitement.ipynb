{
 "cells": [
  {
   "cell_type": "code",
   "execution_count": 1,
   "metadata": {},
   "outputs": [
    {
     "data": {
      "text/plain": [
       "'Mini projet sur les données de valeurs foncières en France'"
      ]
     },
     "execution_count": 1,
     "metadata": {},
     "output_type": "execute_result"
    }
   ],
   "source": [
    "\"\"\"Mini projet sur les données de valeurs foncières en France\"\"\"\n",
    "################################################################################\n",
    "# fichier  : post_traitement.py\n",
    "# Auteur : Rakotoson Loïc\n",
    "################################################################################"
   ]
  },
  {
   "cell_type": "code",
   "execution_count": 3,
   "metadata": {},
   "outputs": [],
   "source": [
    "################################################################################\n",
    "# Importation de fonctions externes :\n",
    "import folium"
   ]
  },
  {
   "cell_type": "code",
   "execution_count": 4,
   "metadata": {},
   "outputs": [],
   "source": [
    "################################################################################\n",
    "# Definition locale de fonctions :\n",
    "def creationCarteGeographique(data, points_milieu_cadastre, indices, origine):\n",
    "    c = folium.Map(location=origine, zoom_start=18)\n",
    "    html_popup = '<h1>Caractéristiques du bien</h1>' \\\n",
    "                 '<p>Adresse : {}</br>' \\\n",
    "                 'Surface reelle bati : {}m2</br>' \\\n",
    "                 'Surface du terrain : {}m2</br>' \\\n",
    "                 'Valeur foncière : {}€</br>' \\\n",
    "                 'Date mutation : {}'\n",
    "    for indice in indices:\n",
    "        folium.Marker(points_milieu_cadastre[indice],\n",
    "                      popup=html_popup.format(data[indice]['No voie']+' '+data[indice]['Type de voie']+' '+data[indice]['Voie']+' '+data[indice]['Code postal']+' '+data[indice]['Commune'],\n",
    "                                              data[indice]['Surface reelle bati'],\n",
    "                                              data[indice]['Surface terrain'],\n",
    "                                              data[indice]['Valeur fonciere'],\n",
    "                                              data[indice]['Date mutation']))\\\n",
    "            .add_to(c)\n",
    "        folium.Polygon([\n",
    "            [coord[1], coord[0]]\n",
    "            for coord in eval(data[indice]['Coordonnees GPS parcelle'])[0]\n",
    "        ]).add_to(c)\n",
    "    c.save('carteGeographiqueValeursFoncieres.html')"
   ]
  },
  {
   "cell_type": "code",
   "execution_count": 5,
   "metadata": {},
   "outputs": [],
   "source": [
    "################################################################################\n",
    "# Corps principal du programme :\n",
    "# Lecture des coordonnées GPS pour la recherche"
   ]
  },
  {
   "cell_type": "markdown",
   "metadata": {},
   "source": [
    "# Sélection des biens et affichage sur une carte géographique\n",
    "## Exercice 5 : Sélection des biens\n",
    "Écrire une fonction qui permet de renvoyer la distance en mètre entre deux coordonnées GPS (utiliser la formule de « Haversine »)"
   ]
  },
  {
   "cell_type": "code",
   "execution_count": null,
   "metadata": {},
   "outputs": [],
   "source": []
  }
 ],
 "metadata": {
  "kernelspec": {
   "display_name": "Python 3",
   "language": "python",
   "name": "python3"
  },
  "language_info": {
   "codemirror_mode": {
    "name": "ipython",
    "version": 3
   },
   "file_extension": ".py",
   "mimetype": "text/x-python",
   "name": "python",
   "nbconvert_exporter": "python",
   "pygments_lexer": "ipython3",
   "version": "3.7.5"
  },
  "latex_envs": {
   "LaTeX_envs_menu_present": true,
   "autoclose": true,
   "autocomplete": true,
   "bibliofile": "biblio.bib",
   "cite_by": "apalike",
   "current_citInitial": 1,
   "eqLabelWithNumbers": true,
   "eqNumInitial": 1,
   "hotkeys": {
    "equation": "Ctrl-E",
    "itemize": "Ctrl-I"
   },
   "labels_anchors": false,
   "latex_user_defs": false,
   "report_style_numbering": false,
   "user_envs_cfg": false
  }
 },
 "nbformat": 4,
 "nbformat_minor": 2
}
