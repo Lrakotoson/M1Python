{
 "cells": [
  {
   "cell_type": "code",
   "execution_count": 1,
   "metadata": {},
   "outputs": [],
   "source": [
    "\"\"\"Mini projet sur les données de valeurs foncières en France\"\"\"\n",
    "################################################################################\n",
    "# fichier  : pretraitement.py\n",
    "# Auteur : Rakotoson Loïc\n",
    "################################################################################\n",
    "\n",
    "################################################################################\n",
    "# Importation de fonctions externes :\n",
    "import numpy as np\n",
    "import pickle\n",
    "import csv\n",
    "from os import listdir\n",
    "from datetime import datetime\n",
    "\n",
    "################################################################################\n",
    "# Definition locale de fonctions :"
   ]
  },
  {
   "cell_type": "code",
   "execution_count": 2,
   "metadata": {},
   "outputs": [],
   "source": [
    "# Récupération des variables\n",
    "def readData(nomFichier):\n",
    "    listeData = []\n",
    "    try:\n",
    "        with open(nomFichier, 'rb') as objet_fichier:\n",
    "            objet_fichier_depickler = pickle.Unpickler(objet_fichier)\n",
    "            while 1:\n",
    "                try:\n",
    "                    listeData.append(objet_fichier_depickler.load())\n",
    "                except EOFError:\n",
    "                    break\n",
    "    except (IOError, OSError):\n",
    "        print(\"Problème à l'ouverture du fichier\")\n",
    "    return listeData"
   ]
  },
  {
   "cell_type": "code",
   "execution_count": 3,
   "metadata": {},
   "outputs": [],
   "source": [
    "# Importation des données\n",
    "def lectureArray(path, filestart, listeannee, ncol=43):\n",
    "    \"\"\"\n",
    "    filestart: nom commun des fichiers\n",
    "    :return: array\n",
    "    \"\"\"\n",
    "    i = len(filestart)\n",
    "    listfiles = [\n",
    "        path + files for files in listdir(path)\n",
    "        if (files[:i] == filestart and files[i + 1:i + 5] in listeannee)\n",
    "    ]\n",
    "    header = np.genfromtxt(listfiles[0], delimiter=\"|\", dtype=str,\n",
    "                           max_rows=1).reshape((1, ncol))\n",
    "    data = np.concatenate([\n",
    "        np.genfromtxt(file, delimiter=\"|\", dtype=str, skip_header=True)\n",
    "        for file in listfiles\n",
    "    ])\n",
    "    data = np.concatenate((header, data), axis=0)\n",
    "    return data"
   ]
  },
  {
   "cell_type": "code",
   "execution_count": 4,
   "metadata": {},
   "outputs": [],
   "source": [
    "################################################################################\n",
    "# Definition de classe\n",
    "\n",
    "################################################################################\n",
    "#Récupération des données\n",
    "\n",
    "reponses = readData('donnees/reponses.pic')\n",
    "#La variable reponses représente l'ensemble des réponses aux questions du projet\n",
    "Aide_ex14 = reponses[0]\n",
    "Aide_ex21 = reponses[1]\n",
    "Aide_ex22 = reponses[2]\n",
    "Aide_ex32 = reponses[3]\n",
    "################################################################################\n",
    "# Corps principal du programme :"
   ]
  },
  {
   "cell_type": "markdown",
   "metadata": {},
   "source": [
    "# Pretraitement\n",
    "## Exercice 1 : Lecture des données de valeurs foncières\n",
    "Faire une lecture d’un fichier de valeurs foncières (« valeursfoncieres-20XX_rennes_metropole.txt»). Le format du fichier est de type texte et le séparateur de champ est le symbole «| » (ce fichier peut-être vu comme un fichier « csv »)"
   ]
  },
  {
   "cell_type": "code",
   "execution_count": 5,
   "metadata": {},
   "outputs": [],
   "source": [
    "data = lectureArray(\"donnees/\", \"valeursfoncieres\",\n",
    "                    (\"2015\", \"2016\", \"2017\", \"2018\"))"
   ]
  },
  {
   "cell_type": "markdown",
   "metadata": {},
   "source": [
    "## Exercice 2 : Lecture des données cadastrales des parcelles\n",
    "Le rôle de ce fichier est de situer chaque bien par sa parcelle. Chaque bien des fichiers de valeursfoncières est identifié par ses références cadastrales (« Code departement », « Code commune », «Prefixe de section », « Section », « No plan »).\n",
    "\n",
    "Faire une lecture du fichier de données cadastrales en faisant en sorte d’obtenir un dictionnairedont la clé correspondra aux références cadastrales (clé : (commune, préfixe, section, numéro) ;Attention dans ce fichier « Code departement » et « Code commune » sont regroupés sous le nom « commune ») et la valeur correspondra aux coordonnées géographiques de la parcelle."
   ]
  },
  {
   "cell_type": "code",
   "execution_count": 7,
   "metadata": {},
   "outputs": [],
   "source": [
    "with open(\"donnees/cadastre.csv\", 'r', encoding=\"utf-8\") as file:\n",
    "    cadastre = [ligne for ligne in csv.reader(file, delimiter=\";\")]\n",
    "\n",
    "elt = [\n",
    "    cadastre[0].index(c)\n",
    "    for c in (\"commune\", \"prefixe\", \"section\", \"numero\", \"coordinates\")\n",
    "]\n",
    "cadastre = {(row[elt[0]], row[elt[1]], row[elt[2]], row[elt[3]]): row[elt[4]]\n",
    "            for row in cadastre[1:]}"
   ]
  }
 ],
 "metadata": {
  "kernelspec": {
   "display_name": "Python 3",
   "language": "python",
   "name": "python3"
  },
  "language_info": {
   "codemirror_mode": {
    "name": "ipython",
    "version": 3
   },
   "file_extension": ".py",
   "mimetype": "text/x-python",
   "name": "python",
   "nbconvert_exporter": "python",
   "pygments_lexer": "ipython3",
   "version": "3.7.5"
  },
  "latex_envs": {
   "LaTeX_envs_menu_present": true,
   "autoclose": true,
   "autocomplete": true,
   "bibliofile": "biblio.bib",
   "cite_by": "apalike",
   "current_citInitial": 1,
   "eqLabelWithNumbers": true,
   "eqNumInitial": 1,
   "hotkeys": {
    "equation": "Ctrl-E",
    "itemize": "Ctrl-I"
   },
   "labels_anchors": false,
   "latex_user_defs": false,
   "report_style_numbering": false,
   "user_envs_cfg": false
  },
  "varInspector": {
   "cols": {
    "lenName": 16,
    "lenType": 16,
    "lenVar": 40
   },
   "kernels_config": {
    "python": {
     "delete_cmd_postfix": "",
     "delete_cmd_prefix": "del ",
     "library": "var_list.py",
     "varRefreshCmd": "print(var_dic_list())"
    },
    "r": {
     "delete_cmd_postfix": ") ",
     "delete_cmd_prefix": "rm(",
     "library": "var_list.r",
     "varRefreshCmd": "cat(var_dic_list()) "
    }
   },
   "types_to_exclude": [
    "module",
    "function",
    "builtin_function_or_method",
    "instance",
    "_Feature"
   ],
   "window_display": false
  }
 },
 "nbformat": 4,
 "nbformat_minor": 2
}
