{
 "cells": [
  {
   "cell_type": "code",
   "execution_count": 1,
   "metadata": {},
   "outputs": [],
   "source": [
    "import os\n",
    "import csv"
   ]
  },
  {
   "cell_type": "code",
   "execution_count": 2,
   "metadata": {},
   "outputs": [],
   "source": [
    "os.chdir(\"D:\\ETUDES\\M1 MAS\\M1Python\\S1\\Projet\\Projet4\\donnees\")"
   ]
  },
  {
   "cell_type": "code",
   "execution_count": 3,
   "metadata": {},
   "outputs": [
    {
     "data": {
      "text/plain": [
       "['cadastre.csv',\n",
       " 'post_traitement.py',\n",
       " 'pretraitement.py',\n",
       " 'reponses.pic',\n",
       " 'valeursfoncieres-2015_rennes_metropole.txt',\n",
       " 'valeursfoncieres-2016_rennes_metropole.txt',\n",
       " 'valeursfoncieres-2017_rennes_metropole.txt',\n",
       " 'valeursfoncieres-2018_rennes_metropole.txt']"
      ]
     },
     "execution_count": 3,
     "metadata": {},
     "output_type": "execute_result"
    }
   ],
   "source": [
    "liste = os.listdir(os.getcwd())\n",
    "liste"
   ]
  },
  {
   "cell_type": "code",
   "execution_count": 4,
   "metadata": {},
   "outputs": [],
   "source": [
    "nom = \"valeursfoncieres\"\n",
    "listeannee = (\"2015\", \"2016\")"
   ]
  },
  {
   "cell_type": "code",
   "execution_count": 5,
   "metadata": {},
   "outputs": [],
   "source": [
    "liste2 = []\n",
    "for e in liste:\n",
    "    if e[:len(nom)] == nom and e[17:21] in listeannee:\n",
    "        liste2.append(e)"
   ]
  },
  {
   "cell_type": "code",
   "execution_count": 6,
   "metadata": {},
   "outputs": [
    {
     "data": {
      "text/plain": [
       "['valeursfoncieres-2015_rennes_metropole.txt',\n",
       " 'valeursfoncieres-2016_rennes_metropole.txt']"
      ]
     },
     "execution_count": 6,
     "metadata": {},
     "output_type": "execute_result"
    }
   ],
   "source": [
    "liste2 = [e for e in liste if e[:len(nom)] == nom and e[17:21] in listeannee] #même chose\n",
    "liste2"
   ]
  },
  {
   "cell_type": "code",
   "execution_count": 7,
   "metadata": {},
   "outputs": [],
   "source": [
    "grosseliste = []\n",
    "for e in liste2:\n",
    "    fp = open(e, \"r\", encoding=\"utf-8\")\n",
    "    for ligne in list(csv.reader(fp, delimiter=\"|\"))[1:]:\n",
    "        grosseliste.append(ligne)"
   ]
  },
  {
   "cell_type": "code",
   "execution_count": 8,
   "metadata": {},
   "outputs": [],
   "source": [
    "fp = open(liste2[0], \"r\", encoding=\"utf-8\")\n",
    "for ligne in list(csv.reader(fp, delimiter=\"|\"))[:1]:\n",
    "    header = ligne"
   ]
  },
  {
   "cell_type": "code",
   "execution_count": 9,
   "metadata": {},
   "outputs": [],
   "source": [
    "grosseliste.insert(0, header)"
   ]
  },
  {
   "cell_type": "code",
   "execution_count": 10,
   "metadata": {},
   "outputs": [],
   "source": [
    "def fonctionexo1(chemin, nom, listyear):\n",
    "    listefichiers = os.listdir(chemin)\n",
    "    \n",
    "    fichiersgardes = []\n",
    "    for e in listefichiers:\n",
    "        if e[:len(nom)] == nom and e[17:21] in listyear:\n",
    "            fichiersgardes.append(e)\n",
    "    \n",
    "    grosseliste = []\n",
    "    for file in fichiersgardes:\n",
    "        fp = open(file, \"r\", encoding=\"utf-8\")\n",
    "        for ligne in list(csv.reader(fp, delimiter=\"|\"))[1:]: #On prend tout sauf la première\n",
    "            grosseliste.append(ligne)\n",
    "        fp.close()\n",
    "    \n",
    "    fp = open(fichiersgardes[0], \"r\", encoding=\"utf-8\") #Peu importe le fichier\n",
    "    for ligne in list(csv.reader(fp, delimiter=\"|\"))[:1]: #On prend uniquement la première ligne\n",
    "        header = ligne\n",
    "    grosseliste.insert(0, header)\n",
    "    \n",
    "    return grosseliste"
   ]
  },
  {
   "cell_type": "code",
   "execution_count": 11,
   "metadata": {},
   "outputs": [],
   "source": [
    "path = os.getcwd()\n",
    "data = fonctionexo1(path, \"valeursfoncieres\", (\"2017\"))"
   ]
  },
  {
   "cell_type": "markdown",
   "metadata": {},
   "source": [
    "# EXO 2"
   ]
  },
  {
   "cell_type": "code",
   "execution_count": 12,
   "metadata": {},
   "outputs": [],
   "source": [
    "cadastre = []\n",
    "with open(\"cadastre.csv\", 'r', encoding=\"utf-8\") as file:\n",
    "    for ligne in csv.reader(file, delimiter = \";\"):\n",
    "        cadastre.append(ligne)\n",
    "\n",
    "dico = {}\n",
    "for ligne in cadastre[1:]:\n",
    "    dico[(ligne[0], ligne[7], ligne[8], ligne[2])] = ligne[3]"
   ]
  },
  {
   "cell_type": "code",
   "execution_count": 13,
   "metadata": {},
   "outputs": [],
   "source": [
    "for row in data[1:]:\n",
    "    commune = row[18]+row[19] #Les clés\n",
    "    prefixe = \"000\"\n",
    "    section = row[21]\n",
    "    numero = row[22]\n",
    "    try:\n",
    "        row.append(dico[(commune, prefixe, section, numero)])\n",
    "    except KeyError: #si la clé n'existe pas\n",
    "        row.append(\"\")\n",
    "\n",
    "data[0].append(\"GPS\")"
   ]
  },
  {
   "cell_type": "markdown",
   "metadata": {},
   "source": [
    "# EXO 3"
   ]
  }
 ],
 "metadata": {
  "kernelspec": {
   "display_name": "Python 3",
   "language": "python",
   "name": "python3"
  },
  "language_info": {
   "codemirror_mode": {
    "name": "ipython",
    "version": 3
   },
   "file_extension": ".py",
   "mimetype": "text/x-python",
   "name": "python",
   "nbconvert_exporter": "python",
   "pygments_lexer": "ipython3",
   "version": "3.7.5"
  },
  "latex_envs": {
   "LaTeX_envs_menu_present": true,
   "autoclose": true,
   "autocomplete": true,
   "bibliofile": "biblio.bib",
   "cite_by": "apalike",
   "current_citInitial": 1,
   "eqLabelWithNumbers": true,
   "eqNumInitial": 1,
   "hotkeys": {
    "equation": "Ctrl-E",
    "itemize": "Ctrl-I"
   },
   "labels_anchors": false,
   "latex_user_defs": false,
   "report_style_numbering": false,
   "user_envs_cfg": false
  }
 },
 "nbformat": 4,
 "nbformat_minor": 2
}
