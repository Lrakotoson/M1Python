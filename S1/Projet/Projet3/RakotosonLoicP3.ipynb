{
 "cells": [
  {
   "cell_type": "code",
   "execution_count": 1,
   "metadata": {},
   "outputs": [],
   "source": [
    "\"\"\"Mini projet sur les menus des cantines de Rennes métropole\"\"\"\n",
    "################################################################################\n",
    "# fichier  : RakotosonLoic.py\n",
    "# Auteur : Rakotoson Loïc\n",
    "################################################################################\n",
    "\n",
    "################################################################################\n",
    "# Importation de fonctions externes :\n",
    "import pickle\n",
    "import csv\n",
    "from datetime import datetime\n",
    "from fuzzywuzzy import fuzz, process\n",
    "\n",
    "################################################################################\n",
    "# Definition locale de fonctions :"
   ]
  },
  {
   "cell_type": "code",
   "execution_count": 2,
   "metadata": {},
   "outputs": [],
   "source": [
    "# Récupération des variables\n",
    "def readData(nomFichier):\n",
    "    listeData = []\n",
    "    try:\n",
    "        with open(nomFichier, 'rb') as objet_fichier:\n",
    "            objet_fichier_depickler = pickle.Unpickler(objet_fichier)\n",
    "            while 1:\n",
    "                try:\n",
    "                    listeData.append(objet_fichier_depickler.load())\n",
    "                except EOFError:\n",
    "                    break\n",
    "    except (IOError, OSError):\n",
    "        print(\"Problème à l'ouverture du fichier\")\n",
    "    return listeData"
   ]
  },
  {
   "cell_type": "code",
   "execution_count": 3,
   "metadata": {},
   "outputs": [],
   "source": [
    "# Afficher joliment le menu pour un age et une date précis\n",
    "def affiche_menu(date, age, data):\n",
    "    for ligne in data[1:]:\n",
    "        if ligne[0] == age and ligne[1] == datetime.strptime(\n",
    "                date, '%Y-%m-%d').date():\n",
    "            print(\n",
    "                \"Age: {}\\nDate: {}\\nEntrée: {}\\nPlat: {}\\nLégume: {}\\nLaitage: {}\\nDéssert: {}\\nGoûter :{}\\n\"\n",
    "                .format(age, date, ligne[3], ligne[5], ligne[7], ligne[8],\n",
    "                        ligne[10], ligne[11]))"
   ]
  },
  {
   "cell_type": "code",
   "execution_count": 4,
   "metadata": {},
   "outputs": [],
   "source": [
    "# Extraire une colonne\n",
    "def colonne_extract(col, data):\n",
    "    if isinstance(col, str):  # Si le nom est donné\n",
    "        col = data[0].index(col)  # Changer en numéro de colonne\n",
    "\n",
    "    colonne = [ligne[col] for ligne in data[1:]]\n",
    "    return colonne"
   ]
  },
  {
   "cell_type": "code",
   "execution_count": 5,
   "metadata": {},
   "outputs": [],
   "source": [
    "# Dictionnaire des mots semblables\n",
    "def mot_semblable(col, data, rate=91):\n",
    "    colonne = colonne_extract(col, data)\n",
    "    lensemble = list(set(colonne))\n",
    "    dico = {}\n",
    "    index = 1\n",
    "    for elt1 in lensemble[1:]:\n",
    "        index += 1\n",
    "        for elt2 in lensemble[index:]:\n",
    "            if fuzz.ratio(elt1, elt2) >= rate:\n",
    "                elt1, elt2 = min([elt1, elt2],\n",
    "                                 key=colonne.count), max([elt1, elt2],\n",
    "                                                         key=colonne.count)\n",
    "                dico[elt1] = elt2\n",
    "    return dico"
   ]
  },
  {
   "cell_type": "code",
   "execution_count": 6,
   "metadata": {},
   "outputs": [],
   "source": [
    "# Extraire menu en fonction de l'age\n",
    "def menu_age(age, data):\n",
    "    donnees = [ligne for ligne in data[1:] if ligne[0] == age]\n",
    "    donnees.insert(0, data[0]) # entête\n",
    "    return donnees"
   ]
  },
  {
   "cell_type": "code",
   "execution_count": 7,
   "metadata": {},
   "outputs": [],
   "source": [
    "# Extraire menu entre deux dates\n",
    "def menu_date(debut, fin, data):\n",
    "    debut = datetime.strptime(debut, '%Y-%m-%d').date()\n",
    "    fin = datetime.strptime(fin, '%Y-%m-%d').date()\n",
    "    donnees = [ligne for ligne in data[1:] if debut <= ligne[1] <= fin]\n",
    "    donnees.insert(0, data[0]) #entête\n",
    "    return donnees"
   ]
  },
  {
   "cell_type": "code",
   "execution_count": 8,
   "metadata": {},
   "outputs": [],
   "source": [
    "# Tri en fonction de la date\n",
    "def menu_datetri(data):\n",
    "    trie = sorted(data[1:], key=lambda ligne:ligne[1])\n",
    "    trie.insert(0, data[0]) #entête\n",
    "    return trie"
   ]
  },
  {
   "cell_type": "code",
   "execution_count": 9,
   "metadata": {},
   "outputs": [],
   "source": [
    "# Calculer et d’afficher la fréquence d’apparition des produitspour une colonne\n",
    "def frequence(col, data):\n",
    "    colonne = colonne_extract(col, data)\n",
    "    menu = set(colonne)\n",
    "    print(\"Fréquence de {}(s): ({} sur la période)\\n\".format(col, len(menu)))\n",
    "    total, freq = 0, 0\n",
    "    for element in menu:\n",
    "        freq = colonne.count(element) * 100 / len(colonne)\n",
    "        total += freq\n",
    "        print(\"{}: {:.2f} %\".format(element, freq))\n",
    "    print(\"\\nTotal: {} %\".format(total))"
   ]
  },
  {
   "cell_type": "code",
   "execution_count": 10,
   "metadata": {},
   "outputs": [],
   "source": [
    "################################################################################\n",
    "# Definition de classe\n",
    "\n",
    "################################################################################\n",
    "#Récupération des données\n",
    "\n",
    "listeData = readData('data.pic')\n",
    "#Les variables ci-dessous correspondent aux réponses (exemple aide_ex_11 => exercice 1 question 1)\n",
    "aide_ex_11 = listeData[0]\n",
    "aide_ex_12 = listeData[1]\n",
    "aide_ex_21 = listeData[2]\n",
    "aide_ex_22 = listeData[3]\n",
    "aide_ex_31 = listeData[4]\n",
    "aide_ex_32 = listeData[5]\n",
    "aide_ex_33 = listeData[6]\n",
    "aide_ex_42 = listeData[7]\n",
    "\n",
    "################################################################################\n",
    "# Corps principal du programme :\n",
    "# Constantes\n",
    "entrees_crudites = ('Pamplemousse', 'Carottes râpées', 'Radis',\n",
    "                    'Champignons et filet de citron', 'Tomates à la menthe',\n",
    "                    'Concombre', 'Concombre à la grècque', 'Melon',\n",
    "                    'Tomates à la ciboulette', 'Tomates au basilic',\n",
    "                    'Carottes à la martiniquaise', 'Champignons',\n",
    "                    'Salade de carottes et pommes', 'Champignons citronnés',\n",
    "                    'Pastèque', 'Betteraves crues râpées', \"Mousse d'avocats\",\n",
    "                    \"Salade d'avocats et tomates\", 'Carottes, pommes, gruyère',\n",
    "                    'Salade de tomates', 'Carottes râpées et gruyère')\n",
    "\n",
    "desserts_fruits_crus = ('Banane', 'Clémentine', 'Orange',\n",
    "                        'Corbeille de fruits', 'Kiwi', 'Banane mixée', 'Poire',\n",
    "                        'Pomme', 'Fraises', 'Banane et framboise mixée',\n",
    "                        'Nectarine', 'Pêche', 'Abricot', 'Prune', 'Ananas',\n",
    "                        'Banane et fraise mixée', 'FLS', 'Melon', 'Raisin',\n",
    "                        'Poire mixée', 'Fruits mixés')\n",
    "\n",
    "plats_acides_gras = ('Poisson sauce tomate fraîche', 'Gratin de pâtes au thon',\n",
    "                     'Thon', 'Sardine', 'Poisson', 'Poisson sauce tomate',\n",
    "                     'Poisson au citron', 'Poisson beurre citron')"
   ]
  },
  {
   "cell_type": "markdown",
   "metadata": {},
   "source": [
    "# Les données\n",
    "## Exercice 1: Importation\n",
    "Lire les données présentes dans le fichier portant l’extension « data.csv »"
   ]
  },
  {
   "cell_type": "code",
   "execution_count": 11,
   "metadata": {},
   "outputs": [],
   "source": [
    "with open(\"data.csv\", 'r', encoding=\"utf-8\") as file:\n",
    "    data = [ligne for ligne in csv.reader(file, delimiter=\";\")]"
   ]
  },
  {
   "cell_type": "markdown",
   "metadata": {},
   "source": [
    "Transformer la date en type « DateTime »"
   ]
  },
  {
   "cell_type": "code",
   "execution_count": 12,
   "metadata": {},
   "outputs": [],
   "source": [
    "for ligne in data[1:]:\n",
    "    ligne[1] = datetime.strptime(ligne[1], '%Y-%m-%d').date()"
   ]
  },
  {
   "cell_type": "markdown",
   "metadata": {},
   "source": [
    "Écrire une fonction qui permet d’afficher (joliment) le menu pour une date et un âge (petits,moyens, grands) précis.\n",
    "*On considère qu'il est possible d'avoir plusieurs menu pour une même date et même age*"
   ]
  },
  {
   "cell_type": "code",
   "execution_count": 13,
   "metadata": {
    "scrolled": true
   },
   "outputs": [
    {
     "name": "stdout",
     "output_type": "stream",
     "text": [
      "Age: petits\n",
      "Date: 2017-01-18\n",
      "Entrée: \n",
      "Plat: Jambon\n",
      "Légume: Purée de poireauxx et pommes de terre\n",
      "Laitage: \n",
      "Déssert: Compote de fruits\n",
      "Goûter :Crème au chocolat/ pain/ eau\n",
      "\n"
     ]
    }
   ],
   "source": [
    "affiche_menu('2017-01-18', 'petits', data)"
   ]
  },
  {
   "cell_type": "markdown",
   "metadata": {},
   "source": [
    "## Exercice 2 : Nettoyage des données\n",
    "À partir du résultat précédent, créer une fonction qui renvoie un dictionnaire associant les orthographes « considérées » comme semblable."
   ]
  },
  {
   "cell_type": "code",
   "execution_count": 14,
   "metadata": {},
   "outputs": [
    {
     "data": {
      "text/plain": [
       "{'Compote poires et pêches': 'Compote poires et pêches',\n",
       " 'Banane et framboise mixée': 'Banane et fraise mixée',\n",
       " 'Compote pommes et abricots': 'Compote pomme et abricot',\n",
       " 'Compote pommes et bananes': 'Compote pommes/ bananes',\n",
       " 'Compote de pêches': 'Compotée de pêches',\n",
       " 'Compote pomme/ framboise': 'Compote pomme/ framboise',\n",
       " 'Compotée de nectarine': 'Compote de nectarine',\n",
       " 'Compote pommes et poires': 'Compote pommes/ poires',\n",
       " 'Compote de pommes et abricots': 'Compote pomme et abricot',\n",
       " 'Compote de pommes et nectarines': 'Compote de pommes et nectarines',\n",
       " 'Compote pommes nectarines': 'Compote pommes nectarines',\n",
       " 'Compote de pommes et pêches au sirop': 'Compote de pommes et pêche au sirop',\n",
       " 'Compote pomme/ poire': 'Compote pommes/ poires'}"
      ]
     },
     "execution_count": 14,
     "metadata": {},
     "output_type": "execute_result"
    }
   ],
   "source": [
    "mot_semblable('dessert', data)"
   ]
  },
  {
   "cell_type": "markdown",
   "metadata": {},
   "source": [
    "Appliquer les fonctions précédentes à l’ensemble des colonnes et uniformiser l’orthographe des données"
   ]
  },
  {
   "cell_type": "code",
   "execution_count": 15,
   "metadata": {},
   "outputs": [],
   "source": [
    "for ligne in data[1:]:\n",
    "    for col in (3, 4, 5, 7, 8, 10, 11):\n",
    "        for ancien, nouveau in mot_semblable(col, data).items():\n",
    "            if ancien in ligne:\n",
    "                ligne[ligne.index(ancien)] = nouveau"
   ]
  },
  {
   "cell_type": "markdown",
   "metadata": {},
   "source": [
    "# Traitement des données\n",
    "## Exercice 3 : Sélection et tri des données\n",
    "Écrire une fonction qui permet d’extraire uniquement les menus pour les grands, moyens ou petits."
   ]
  },
  {
   "cell_type": "code",
   "execution_count": 16,
   "metadata": {},
   "outputs": [
    {
     "data": {
      "text/plain": [
       "[['age',\n",
       "  'date',\n",
       "  'picto entrée',\n",
       "  'entrée',\n",
       "  'picto plat',\n",
       "  'plat',\n",
       "  'picto légumes',\n",
       "  'légume',\n",
       "  'laitage',\n",
       "  'picto dessert',\n",
       "  'dessert',\n",
       "  'goûter'],\n",
       " ['petits',\n",
       "  datetime.date(2017, 1, 2),\n",
       "  '',\n",
       "  '',\n",
       "  '',\n",
       "  'Thon',\n",
       "  '',\n",
       "  'Purée rose',\n",
       "  '',\n",
       "  'FLS',\n",
       "  'Compote de pommes',\n",
       "  'Compote/ pain/ lait de croissance'],\n",
       " ['petits',\n",
       "  datetime.date(2017, 1, 12),\n",
       "  '',\n",
       "  '',\n",
       "  '',\n",
       "  'Escalope de poulet',\n",
       "  '',\n",
       "  'Purée de courgettes et pommes de terre',\n",
       "  '',\n",
       "  'FLS',\n",
       "  'Compote de poires',\n",
       "  'Semoule au lait/ eau']]"
      ]
     },
     "execution_count": 16,
     "metadata": {},
     "output_type": "execute_result"
    }
   ],
   "source": [
    "menu_age('petits', data)[:3]"
   ]
  },
  {
   "cell_type": "markdown",
   "metadata": {},
   "source": [
    "Ecrire une fonction qui permet d’extraire uniquement les menus compris entre deux dates"
   ]
  },
  {
   "cell_type": "code",
   "execution_count": 17,
   "metadata": {},
   "outputs": [
    {
     "data": {
      "text/plain": [
       "[['age',\n",
       "  'date',\n",
       "  'picto entrée',\n",
       "  'entrée',\n",
       "  'picto plat',\n",
       "  'plat',\n",
       "  'picto légumes',\n",
       "  'légume',\n",
       "  'laitage',\n",
       "  'picto dessert',\n",
       "  'dessert',\n",
       "  'goûter'],\n",
       " ['moyens',\n",
       "  datetime.date(2017, 1, 5),\n",
       "  '',\n",
       "  \"Pointes d'asperges\",\n",
       "  '',\n",
       "  'Gnocchis',\n",
       "  '',\n",
       "  '',\n",
       "  '',\n",
       "  'FLS',\n",
       "  'Clémentine',\n",
       "  'Pain/ fromage/ eau'],\n",
       " ['grands',\n",
       "  datetime.date(2017, 1, 5),\n",
       "  '',\n",
       "  \"Pointes d'asperges\",\n",
       "  '',\n",
       "  'Gnocchis',\n",
       "  '',\n",
       "  'Salade en chiffonnade',\n",
       "  '',\n",
       "  'FLS',\n",
       "  'Clémentine',\n",
       "  'Pain/ fromage/ eau'],\n",
       " ['petits',\n",
       "  datetime.date(2017, 1, 5),\n",
       "  '',\n",
       "  '',\n",
       "  '',\n",
       "  'Gnocchis',\n",
       "  '',\n",
       "  'Purée framboisine',\n",
       "  '',\n",
       "  '',\n",
       "  'Compote de fruits',\n",
       "  'Crème impériale/ eau']]"
      ]
     },
     "execution_count": 17,
     "metadata": {},
     "output_type": "execute_result"
    }
   ],
   "source": [
    "menu_date(\"2017-01-05\", \"2017-01-05\", data)"
   ]
  },
  {
   "cell_type": "markdown",
   "metadata": {},
   "source": [
    "Écrire une fonction qui permet de trier les repas en fonction de la date. La fonction prendra en paramètre une liste de repas et renverra la liste triée."
   ]
  },
  {
   "cell_type": "code",
   "execution_count": 18,
   "metadata": {},
   "outputs": [
    {
     "data": {
      "text/plain": [
       "[['age',\n",
       "  'date',\n",
       "  'picto entrée',\n",
       "  'entrée',\n",
       "  'picto plat',\n",
       "  'plat',\n",
       "  'picto légumes',\n",
       "  'légume',\n",
       "  'laitage',\n",
       "  'picto dessert',\n",
       "  'dessert',\n",
       "  'goûter'],\n",
       " ['petits',\n",
       "  datetime.date(2017, 1, 4),\n",
       "  '',\n",
       "  '',\n",
       "  'VBF',\n",
       "  'Steak',\n",
       "  '',\n",
       "  'Purée de pommes de terre, poireaux, carottes',\n",
       "  '',\n",
       "  'FLS',\n",
       "  'Banane mixée',\n",
       "  'Compote/ pain/ lait de croissance'],\n",
       " ['petits',\n",
       "  datetime.date(2017, 1, 5),\n",
       "  '',\n",
       "  '',\n",
       "  '',\n",
       "  'Gnocchis',\n",
       "  '',\n",
       "  'Purée framboisine',\n",
       "  '',\n",
       "  '',\n",
       "  'Compote de fruits',\n",
       "  'Crème impériale/ eau'],\n",
       " ['petits',\n",
       "  datetime.date(2017, 1, 6),\n",
       "  '',\n",
       "  '',\n",
       "  'VPF',\n",
       "  'Rôti de porc',\n",
       "  '',\n",
       "  'Purée rose',\n",
       "  '',\n",
       "  'FLS',\n",
       "  'Compote de poires',\n",
       "  'Yaourt nature/ boudoirs/ eau']]"
      ]
     },
     "execution_count": 18,
     "metadata": {},
     "output_type": "execute_result"
    }
   ],
   "source": [
    "menu = menu_date(\"2017-01-04\", \"2017-01-07\", menu_age('petits', data))\n",
    "menu_datetri(menu)"
   ]
  },
  {
   "cell_type": "markdown",
   "metadata": {},
   "source": [
    "## Exercice 4: Résumé des données\n",
    "Écrire une fonction qui permet de calculer et d’afficher la fréquence d’apparition des produits pour une colonne particulière"
   ]
  },
  {
   "cell_type": "code",
   "execution_count": 19,
   "metadata": {},
   "outputs": [
    {
     "name": "stdout",
     "output_type": "stream",
     "text": [
      "Fréquence de plat(s): (23 sur la période)\n",
      "\n",
      "Rôti de porc: 12.47 %\n",
      "Potée (rôti de porc): 0.39 %\n",
      "Gratin de pâtes au thon: 0.92 %\n",
      "Rôti de bœuf: 15.88 %\n",
      "Steak: 6.69 %\n",
      "Gigot d'agneau: 1.84 %\n",
      "Quiche jambon/ quiche nature: 0.26 %\n",
      "Gnocchis: 3.02 %\n",
      "Escalope de veau: 2.23 %\n",
      "Poisson au citron: 1.05 %\n",
      "Sardine: 0.79 %\n",
      "Poisson sauce tomate fraîche: 0.92 %\n",
      "Escalope de dinde: 6.17 %\n",
      "Betteraves cuites: 0.13 %\n",
      "Potée: 0.13 %\n",
      "Omelette: 3.15 %\n",
      "Poisson: 20.21 %\n",
      "Poisson beurre citron: 3.54 %\n",
      "Poisson sauce tomate: 0.52 %\n",
      "Jambon: 6.30 %\n",
      "Escalope de poulet: 10.76 %\n",
      "Thon: 2.10 %\n",
      "Quiche au jambon et quiche nature: 0.52 %\n",
      "\n",
      "Total: 99.99999999999999 %\n"
     ]
    }
   ],
   "source": [
    "frequence(\"plat\", data)"
   ]
  },
  {
   "cell_type": "markdown",
   "metadata": {},
   "source": [
    "Écrire une fonction qui retourne toutes les dates de service d’un produit pour une colonne particulière"
   ]
  },
  {
   "cell_type": "code",
   "execution_count": 20,
   "metadata": {},
   "outputs": [],
   "source": [
    "# dates de service d’un produit pour une colonne particulière\n",
    "def produit_service(col, data):\n",
    "    colonne = [[date, element] for date, element in zip(\n",
    "        colonne_extract(col, data), colonne_extract(1, data))]\n",
    "    dico = {}\n",
    "    for element in colonne:\n",
    "        if element[0] in dico:\n",
    "            dico[element[0]].append(element[1].strftime(\"%d/%m/%Y\"))\n",
    "        else:\n",
    "            dico[element[0]] = [element[1].strftime(\"%d/%m/%Y\")]\n",
    "    return dico"
   ]
  }
 ],
 "metadata": {
  "kernelspec": {
   "display_name": "Python 3",
   "language": "python",
   "name": "python3"
  },
  "language_info": {
   "codemirror_mode": {
    "name": "ipython",
    "version": 3
   },
   "file_extension": ".py",
   "mimetype": "text/x-python",
   "name": "python",
   "nbconvert_exporter": "python",
   "pygments_lexer": "ipython3",
   "version": "3.7.5"
  },
  "toc": {
   "base_numbering": 1,
   "nav_menu": {},
   "number_sections": true,
   "sideBar": true,
   "skip_h1_title": false,
   "title_cell": "Table of Contents",
   "title_sidebar": "Contents",
   "toc_cell": false,
   "toc_position": {},
   "toc_section_display": true,
   "toc_window_display": false
  },
  "varInspector": {
   "cols": {
    "lenName": 16,
    "lenType": 16,
    "lenVar": 40
   },
   "kernels_config": {
    "python": {
     "delete_cmd_postfix": "",
     "delete_cmd_prefix": "del ",
     "library": "var_list.py",
     "varRefreshCmd": "print(var_dic_list())"
    },
    "r": {
     "delete_cmd_postfix": ") ",
     "delete_cmd_prefix": "rm(",
     "library": "var_list.r",
     "varRefreshCmd": "cat(var_dic_list()) "
    }
   },
   "types_to_exclude": [
    "module",
    "function",
    "builtin_function_or_method",
    "instance",
    "_Feature"
   ],
   "window_display": false
  }
 },
 "nbformat": 4,
 "nbformat_minor": 2
}
