{
 "cells": [
  {
   "cell_type": "code",
   "execution_count": 1,
   "metadata": {},
   "outputs": [],
   "source": [
    "\"\"\"Mini projet sur les menus des cantines de Rennes métropole\"\"\"\n",
    "################################################################################\n",
    "# fichier  : NomPrenom.py\n",
    "# Auteur : Nom Prenom\n",
    "################################################################################\n",
    "\n",
    "################################################################################\n",
    "# Importation de fonctions externes :\n",
    "import pickle\n",
    "import csv\n",
    "from datetime import datetime\n",
    "from fuzzywuzzy import fuzz, process\n",
    "\n",
    "################################################################################\n",
    "# Definition locale de fonctions :"
   ]
  },
  {
   "cell_type": "code",
   "execution_count": 2,
   "metadata": {},
   "outputs": [],
   "source": [
    "# Récupération des variables\n",
    "def readData(nomFichier):\n",
    "    listeData=[]\n",
    "    try :\n",
    "        with open(nomFichier,'rb') as objet_fichier:\n",
    "            objet_fichier_depickler = pickle.Unpickler(objet_fichier)\n",
    "            while 1 :\n",
    "                try :\n",
    "               \t    listeData.append(objet_fichier_depickler.load())\n",
    "                except EOFError:\n",
    "                    break\n",
    "    except (IOError, OSError) :\n",
    "        print(\"Problème à l'ouverture du fichier\")\n",
    "    return listeData"
   ]
  },
  {
   "cell_type": "code",
   "execution_count": 3,
   "metadata": {},
   "outputs": [],
   "source": [
    "# Afficher joliment le menu pour un age et une date précis\n",
    "def affiche_menu(date, age):\n",
    "    for ligne in data[1:]:\n",
    "        if ligne[0] == age and ligne[1] == datetime.strptime(\n",
    "                date, '%Y-%m-%d').date():\n",
    "            print(\n",
    "                \"Age: {}\\nDate: {}\\nEntrée: {}\\nPlat: {}\\nLégume: {}\\nLaitage: {}\\nDéssert: {}\\nGoûter :{}\\n\"\n",
    "                .format(age, date, ligne[3], ligne[5], ligne[7], ligne[8],\n",
    "                        ligne[10], ligne[11])\n",
    "            )"
   ]
  },
  {
   "cell_type": "code",
   "execution_count": 4,
   "metadata": {},
   "outputs": [],
   "source": [
    "# Extraire une colonne\n",
    "def colonne_extract(colonne):\n",
    "    if isinstance(colonne, str): # Si le nom est donné\n",
    "        colonne = data[0].index(colonne) # Changer en numéro de colonne\n",
    "    \n",
    "    column = [ligne[colonne] for ligne in data[1:]]\n",
    "    return column"
   ]
  },
  {
   "cell_type": "code",
   "execution_count": 5,
   "metadata": {},
   "outputs": [],
   "source": [
    "################################################################################\n",
    "# Definition de classe\n",
    "\n",
    "################################################################################\n",
    "#Récupération des données\n",
    "\n",
    "listeData = readData('data.pic')\n",
    "#Les variables ci-dessous correspondent aux réponses (exemple aide_ex_11 => exercice 1 question 1)\n",
    "aide_ex_11 = listeData[0]\n",
    "aide_ex_12 = listeData[1]\n",
    "aide_ex_21 = listeData[2]\n",
    "aide_ex_22 = listeData[3]\n",
    "aide_ex_31 = listeData[4]\n",
    "aide_ex_32 = listeData[5]\n",
    "aide_ex_33 = listeData[6]\n",
    "aide_ex_42 = listeData[7]\n",
    "\n",
    "################################################################################\n",
    "# Corps principal du programme :\n",
    "# Constantes\n",
    "entrees_crudites = ('Pamplemousse', 'Carottes râpées', 'Radis',\n",
    "                    'Champignons et filet de citron', 'Tomates à la menthe',\n",
    "                    'Concombre', 'Concombre à la grècque', 'Melon',\n",
    "                    'Tomates à la ciboulette', 'Tomates au basilic',\n",
    "                    'Carottes à la martiniquaise', 'Champignons',\n",
    "                    'Salade de carottes et pommes', 'Champignons citronnés',\n",
    "                    'Pastèque', 'Betteraves crues râpées', \"Mousse d'avocats\",\n",
    "                    \"Salade d'avocats et tomates\", 'Carottes, pommes, gruyère',\n",
    "                    'Salade de tomates', 'Carottes râpées et gruyère')\n",
    "\n",
    "desserts_fruits_crus = ('Banane', 'Clémentine', 'Orange',\n",
    "                        'Corbeille de fruits', 'Kiwi', 'Banane mixée', 'Poire',\n",
    "                        'Pomme', 'Fraises', 'Banane et framboise mixée',\n",
    "                        'Nectarine', 'Pêche', 'Abricot', 'Prune', 'Ananas',\n",
    "                        'Banane et fraise mixée', 'FLS', 'Melon', 'Raisin',\n",
    "                        'Poire mixée', 'Fruits mixés')\n",
    "\n",
    "plats_acides_gras = ('Poisson sauce tomate fraîche', 'Gratin de pâtes au thon',\n",
    "                     'Thon', 'Sardine', 'Poisson', 'Poisson sauce tomate',\n",
    "                     'Poisson au citron', 'Poisson beurre citron')"
   ]
  },
  {
   "cell_type": "markdown",
   "metadata": {},
   "source": [
    "# Les données\n",
    "## Exercice 1: Importation\n",
    "Lire les données présentes dans le fichier portant l’extension « data.csv »"
   ]
  },
  {
   "cell_type": "code",
   "execution_count": 6,
   "metadata": {},
   "outputs": [],
   "source": [
    "with open(\"data.csv\", 'r', encoding=\"utf-8\") as file:\n",
    "    data = [ligne for ligne in csv.reader(file, delimiter=\";\")]"
   ]
  },
  {
   "cell_type": "markdown",
   "metadata": {},
   "source": [
    "Transformer la date en type « DateTime »"
   ]
  },
  {
   "cell_type": "code",
   "execution_count": 7,
   "metadata": {},
   "outputs": [],
   "source": [
    "for ligne in data[1:]:\n",
    "    ligne[1] = datetime.strptime(ligne[1], '%Y-%m-%d').date()"
   ]
  },
  {
   "cell_type": "markdown",
   "metadata": {},
   "source": [
    "Écrire une fonction qui permet d’afficher (joliment) le menu pour une date et un âge (petits,moyens, grands) précis.\n",
    "*On considère qu'il est possible d'avoir plusieurs menu pour une même date et même age*"
   ]
  },
  {
   "cell_type": "code",
   "execution_count": 8,
   "metadata": {
    "scrolled": true
   },
   "outputs": [
    {
     "name": "stdout",
     "output_type": "stream",
     "text": [
      "Age: petits\n",
      "Date: 2017-01-18\n",
      "Entrée: \n",
      "Plat: Jambon\n",
      "Légume: Purée de poireauxx et pommes de terre\n",
      "Laitage: \n",
      "Déssert: Compote de fruits\n",
      "Goûter :Crème au chocolat/ pain/ eau\n",
      "\n"
     ]
    }
   ],
   "source": [
    "affiche_menu('2017-01-18', 'petits')"
   ]
  },
  {
   "cell_type": "markdown",
   "metadata": {},
   "source": [
    "## Exercice 2 : Nettoyage des données\n",
    "Écrire une fonction permettant d’extraire une colonne particulière. La fonction devra accepter indifféremment un numéro de colonne ou un nom de colonne."
   ]
  },
  {
   "cell_type": "code",
   "execution_count": 11,
   "metadata": {},
   "outputs": [],
   "source": [
    "rate = 91\n",
    "colonne = colonne_extract('entrée')"
   ]
  }
 ],
 "metadata": {
  "kernelspec": {
   "display_name": "Python 3",
   "language": "python",
   "name": "python3"
  },
  "language_info": {
   "codemirror_mode": {
    "name": "ipython",
    "version": 3
   },
   "file_extension": ".py",
   "mimetype": "text/x-python",
   "name": "python",
   "nbconvert_exporter": "python",
   "pygments_lexer": "ipython3",
   "version": "3.7.5"
  },
  "toc": {
   "base_numbering": 1,
   "nav_menu": {},
   "number_sections": true,
   "sideBar": true,
   "skip_h1_title": false,
   "title_cell": "Table of Contents",
   "title_sidebar": "Contents",
   "toc_cell": false,
   "toc_position": {},
   "toc_section_display": true,
   "toc_window_display": false
  },
  "varInspector": {
   "cols": {
    "lenName": 16,
    "lenType": 16,
    "lenVar": 40
   },
   "kernels_config": {
    "python": {
     "delete_cmd_postfix": "",
     "delete_cmd_prefix": "del ",
     "library": "var_list.py",
     "varRefreshCmd": "print(var_dic_list())"
    },
    "r": {
     "delete_cmd_postfix": ") ",
     "delete_cmd_prefix": "rm(",
     "library": "var_list.r",
     "varRefreshCmd": "cat(var_dic_list()) "
    }
   },
   "types_to_exclude": [
    "module",
    "function",
    "builtin_function_or_method",
    "instance",
    "_Feature"
   ],
   "window_display": false
  }
 },
 "nbformat": 4,
 "nbformat_minor": 2
}
