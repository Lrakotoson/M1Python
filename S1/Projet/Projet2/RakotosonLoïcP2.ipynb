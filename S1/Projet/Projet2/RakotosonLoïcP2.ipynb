{
 "cells": [
  {
   "cell_type": "code",
   "execution_count": 1,
   "metadata": {},
   "outputs": [],
   "source": [
    "\"\"\"Mini projet sur la programmation du festival des Rencontres Trans Musicales\n",
    " de Rennes depuis sa première édition en 1979\"\"\"\n",
    "################################################################################\n",
    "# fichier  : RakotosonLoïc.py\n",
    "# Auteur : Rakotoson Loïc\n",
    "################################################################################\n",
    "\n",
    "################################################################################\n",
    "# Importation de fonctions externes :\n",
    "\n",
    "from datetime import datetime\n",
    "import pickle"
   ]
  },
  {
   "cell_type": "code",
   "execution_count": 2,
   "metadata": {},
   "outputs": [],
   "source": [
    "################################################################################\n",
    "# Definition locale de fonctions :\n",
    "\n",
    "\n",
    "def readData(nomFichier):\n",
    "    \"\"\"\n",
    "    Lecture avec pickle (Récupération des variables réponses)\n",
    "    \"\"\"\n",
    "    listeData = []\n",
    "    try:\n",
    "        with open(nomFichier, 'rb') as objet_fichier:\n",
    "            objet_fichier_depickler = pickle.Unpickler(objet_fichier)\n",
    "            while 1:\n",
    "                try:\n",
    "                    listeData.append(objet_fichier_depickler.load())\n",
    "                except EOFError:\n",
    "                    break\n",
    "    except (IOError, OSError):\n",
    "        print(\"Problème à l'ouverture du fichier\")\n",
    "    return listeData"
   ]
  },
  {
   "cell_type": "code",
   "execution_count": 3,
   "metadata": {},
   "outputs": [],
   "source": [
    "def normaliser(liste):\n",
    "    \"\"\"\n",
    "    Normalisation des accents, majuscules, espaces et tirets.\n",
    "    liste: liste des mots\n",
    "    :return: dictionnaire des mots normalisé et la liste de leur index\n",
    "    \"\"\"\n",
    "    accents = ['à','â','ã','é','è','ê','ù','û','ç','ô','î','ï','í',' ','-']\n",
    "    noaccents = ['a','a','a','e','e','e','u','u','c','o','i','i','i','','']\n",
    "    dic = {}\n",
    "\n",
    "    for index, mot in enumerate(liste):\n",
    "        m = mot.lower()\n",
    "        for a, s in zip(accents, noaccents):\n",
    "            m = m.replace(a, s)\n",
    "        if m not in dic:\n",
    "            dic[m] = dic.get(m, {mot: [index]})\n",
    "        elif mot not in dic[m]:\n",
    "            dic[m][mot] = [index]\n",
    "        else:\n",
    "            dic[m][mot].append(index)\n",
    "    return dic"
   ]
  },
  {
   "cell_type": "code",
   "execution_count": 4,
   "metadata": {
    "scrolled": true
   },
   "outputs": [],
   "source": [
    "def similaire(mot1, mot2):\n",
    "    \"\"\"\n",
    "    Calcul de score de distance simplifié entre deux mots.\n",
    "    mot: chaine de caractères\n",
    "    :return: score entre 0 et 1\n",
    "    \"\"\"\n",
    "    if len(mot1) == 0 or len(mot2) == 0:\n",
    "        return 0\n",
    "    mot1 = mot1 + \" \" * (len(mot2) - len(mot1))\n",
    "    mot2 = mot2 + \" \" * (len(mot1) - len(mot2))\n",
    "    return sum(1 if i == j else 0\n",
    "               for i, j in zip(mot1, mot2)) / float(len(mot1))"
   ]
  },
  {
   "cell_type": "code",
   "execution_count": 5,
   "metadata": {},
   "outputs": [],
   "source": [
    "################################################################################\n",
    "# Definition de classe\n",
    "\n",
    "################################################################################\n",
    "# Récupération des données\n",
    "\n",
    "listeData = readData('data.pic')\n",
    "# La variable data représente l'ensemble des données des Trans Musicales\n",
    "data = listeData[0]\n",
    "################################################################################\n",
    "# Corps principal du programme :"
   ]
  },
  {
   "cell_type": "markdown",
   "metadata": {},
   "source": [
    "# Les données\n",
    "##  Suppression de quelques colonnes et affichage.\n",
    "Suppressions des colonnes. **Garder** uniquement les colonnes suivantes."
   ]
  },
  {
   "cell_type": "code",
   "execution_count": 6,
   "metadata": {},
   "outputs": [],
   "source": [
    "garder = ['ANNÉE', 'EDITION RENCONTRES TRANS MUSICALES', 'ARTISTES',\n",
    "          'ORIGINES PAYS 1', 'ORIGINES VILLE 1', 'ANNEE  DE FORMATION',\n",
    "          '1ère SORTIE DISCOGRAPHIQUE']\n",
    "\n",
    "donnees = [[data[j][data[0].index(i)] for i in garder]\n",
    "           for j in range(len(data))]"
   ]
  },
  {
   "cell_type": "markdown",
   "metadata": {},
   "source": [
    "Renommer les colonnes. On connait les positions des colonnes à modifier."
   ]
  },
  {
   "cell_type": "code",
   "execution_count": 7,
   "metadata": {},
   "outputs": [],
   "source": [
    "donnees[0][1] = 'EDITION'\n",
    "donnees[0][3:5] = 'PAYS', 'VILLE'"
   ]
  },
  {
   "cell_type": "markdown",
   "metadata": {},
   "source": [
    "Créer une fonction qui permet d’afficher les lignes du tableau avec le format *en ligne*"
   ]
  },
  {
   "cell_type": "code",
   "execution_count": 8,
   "metadata": {},
   "outputs": [],
   "source": [
    "def affiche(data):\n",
    "    \"\"\"\n",
    "    On considère qu'on affiche l'entête comme le corps\n",
    "    :return: None\n",
    "    \"\"\"\n",
    "    for liste in data:\n",
    "        print(*liste)"
   ]
  },
  {
   "cell_type": "markdown",
   "metadata": {},
   "source": [
    "Affichons l'entête et les 4 premières lignes du tableau."
   ]
  },
  {
   "cell_type": "code",
   "execution_count": 9,
   "metadata": {
    "scrolled": true
   },
   "outputs": [
    {
     "name": "stdout",
     "output_type": "stream",
     "text": [
      "ANNÉE EDITION ARTISTES PAYS VILLE ANNEE  DE FORMATION 1ère SORTIE DISCOGRAPHIQUE\n",
      "2016 38èmes Rencontres Trans Musicales de Rennes Octave Noire France Paris 2015 pour ce projet / 2000 sous les noms Aliplays puis Oh Morice 2011\n",
      "2016 38èmes Rencontres Trans Musicales de Rennes Fishbach France Charleville-Mézières 2013 ( 2010 dans le duo Most Agadn't) 2015\n",
      "2016 38èmes Rencontres Trans Musicales de Rennes Compagnie Chute Libre France Nantes 2005 \n",
      "2016 38èmes Rencontres Trans Musicales de Rennes Das Mörtal Canada Montréal 2010 sous ce nom 2015\n"
     ]
    }
   ],
   "source": [
    "affiche(donnees[:5])"
   ]
  },
  {
   "cell_type": "markdown",
   "metadata": {},
   "source": [
    "## Vérification et uniformisation des données\n",
    "Vérification des Années, qui doivent appartenir à l'intervalle 1979 à l'année actuelle.\n",
    "On sait que la colonne Année est la première, mais on aurait pu utiliser **liste.index('ANNÉE')** pour y accéder aussi."
   ]
  },
  {
   "cell_type": "code",
   "execution_count": 10,
   "metadata": {},
   "outputs": [
    {
     "name": "stdout",
     "output_type": "stream",
     "text": [
      "0  année.s hors intervalle\n"
     ]
    }
   ],
   "source": [
    "annee = datetime.today().year\n",
    "\n",
    "erreur = 0\n",
    "for liste in donnees[1:]:\n",
    "    if not 1979 <= int(liste[0]) <= annee:\n",
    "        erreur += 1\n",
    "print(erreur, ' année.s hors intervalle')"
   ]
  },
  {
   "cell_type": "markdown",
   "metadata": {},
   "source": [
    "Création d'une fonction *corrige()* qui permet de déterminer les orthographes différentes d’un même pays.\n",
    "On utilise deux fonctions simplifiées qu'on a implémenté plus haut *normaliser()* et *similaire()*.\n",
    "La fonction retourne un dictionnaire avec l'orthographe la plus fréquente pour chaque mot et la liste des index où effectuer les modifications dans les données de départ.\n"
   ]
  },
  {
   "cell_type": "code",
   "execution_count": 11,
   "metadata": {},
   "outputs": [],
   "source": [
    "def corrige(liste, score):\n",
    "    \"\"\"\n",
    "    liste: liste des noms\n",
    "    score: score seuil minimum de similarité entre deux mots\n",
    "    :print: noms avec différents orthographes et occurences\n",
    "    :return: dictionnaire des noms et liste des index à remplacer\n",
    "    \"\"\"\n",
    "    correction = {}\n",
    "    dico = normaliser(liste)\n",
    "    listecle = sorted(list(dico.keys()))\n",
    "\n",
    "    # Regroupement des noms normalisés similaires\n",
    "    index = 1\n",
    "    for cle1 in listecle[1:]:  # Le premier élément représente les données vides\n",
    "        index += 1  # En comparaison à partir du 2e\n",
    "        for cle2 in listecle[index:]:\n",
    "            if ((cle1 in cle2 and any(x in cle2 for x in ['(','/'])) \n",
    "                or similaire(cle1, cle2) > score):\n",
    "                dico[cle1].update(dico[cle2])\n",
    "                del dico[cle2]\n",
    "\n",
    "    # Sélection de l'orthographe \"parfait\" et affichage des occurences\n",
    "    dico = {cle: dico[cle] for cle in dico.keys() if len(dico[cle]) > 1}\n",
    "    for cle, diconom in dico.items():\n",
    "        m = max(diconom, key=lambda x: len(diconom[x]))\n",
    "        correction[m] = sum(list(diconom.values()), [])\n",
    "        print(\"\\n{}|max: {}\".format(cle, m))\n",
    "        for nom, listeindex in diconom.items():\n",
    "            print(\"    {}: {} occurence.s\".format(nom, len(listeindex)))\n",
    "    return correction"
   ]
  },
  {
   "cell_type": "markdown",
   "metadata": {},
   "source": [
    "Modification des noms de pays. On fixe un score de similarité de 0.73.\n",
    "On notera la présence de faux positifs non détectés par *corrige()*, (Irlande, Islande) et (Irak, Iran)"
   ]
  },
  {
   "cell_type": "code",
   "execution_count": 12,
   "metadata": {
    "scrolled": true
   },
   "outputs": [
    {
     "name": "stdout",
     "output_type": "stream",
     "text": [
      "\n",
      "france|max: France\n",
      "    France: 1174 occurence.s\n",
      "    France (Réunion): 10 occurence.s\n",
      "\n",
      "etatsunis|max: Etats-Unis\n",
      "    États-Unis: 4 occurence.s\n",
      "    Etats-Unis: 340 occurence.s\n",
      "\n",
      "irlande|max: Irlande\n",
      "    Irlande: 16 occurence.s\n",
      "    Islande: 6 occurence.s\n",
      "\n",
      "trinidad&tobago|max: Trinidad & Tobago\n",
      "    Trinidad & Tobago: 3 occurence.s\n",
      "    Trinité et Tobago: 1 occurence.s\n",
      "\n",
      "egypte|max: Egypte\n",
      "    Egypte: 2 occurence.s\n",
      "    Égypte: 1 occurence.s\n",
      "\n",
      "irak|max: Irak\n",
      "    Irak: 1 occurence.s\n",
      "    Iran: 1 occurence.s\n"
     ]
    }
   ],
   "source": [
    "pays = [i[3] for i in donnees]\n",
    "for nom, listeindex in corrige(pays, 0.73).items():\n",
    "    for index in listeindex:\n",
    "        donnees[index][3] = nom"
   ]
  },
  {
   "cell_type": "markdown",
   "metadata": {},
   "source": [
    "De même pour les villes. On fixe un score plus élevé de 0.8 pour augmenter la précision. Un faible taux de faux positifs (Bienne, Vienne) et (Cannes, Vannes)."
   ]
  },
  {
   "cell_type": "code",
   "execution_count": 13,
   "metadata": {},
   "outputs": [
    {
     "name": "stdout",
     "output_type": "stream",
     "text": [
      "\n",
      "montreal|max: Montréal\n",
      "    Montréal: 18 occurence.s\n",
      "    Montreal: 1 occurence.s\n",
      "\n",
      "newyork|max: New-York\n",
      "    New-York: 97 occurence.s\n",
      "    New York: 1 occurence.s\n",
      "\n",
      "clermondferrand|max: Clermond-Ferrand\n",
      "    Clermond-Ferrand: 5 occurence.s\n",
      "    Clermont-Ferrand: 1 occurence.s\n",
      "\n",
      "bienne|max: Vienne\n",
      "    Bienne: 1 occurence.s\n",
      "    Vienne: 3 occurence.s\n",
      "\n",
      "reykjavik|max: Reykjavik\n",
      "    Reykjavik: 5 occurence.s\n",
      "    Reykjavík: 1 occurence.s\n",
      "\n",
      "saopaulo|max: São Paulo\n",
      "    São Paulo: 4 occurence.s\n",
      "    Sao Paulo: 1 occurence.s\n",
      "\n",
      "francfort|max: Francfort\n",
      "    Francfort: 1 occurence.s\n",
      "    Frankfort: 1 occurence.s\n",
      "\n",
      "edimbourg|max: Edimbourg\n",
      "    Édimbourg: 1 occurence.s\n",
      "    Edimbourg: 3 occurence.s\n",
      "\n",
      "bristol|max: Bristol\n",
      "    Bristol: 12 occurence.s\n",
      "    Bristol / Londres: 1 occurence.s\n",
      "\n",
      "spokan|max: Spokan\n",
      "    Spokan: 1 occurence.s\n",
      "    Spokane: 1 occurence.s\n",
      "\n",
      "evreux|max: Évreux\n",
      "    Évreux: 1 occurence.s\n",
      "    Evreux: 1 occurence.s\n",
      "\n",
      "cannes|max: Vannes\n",
      "    Cannes: 1 occurence.s\n",
      "    Vannes: 2 occurence.s\n"
     ]
    }
   ],
   "source": [
    "villes = [i[4] for i in donnees]\n",
    "for nom, listeindex in corrige(villes, 0.8).items():\n",
    "    for index in listeindex:\n",
    "        donnees[index][4] = nom"
   ]
  },
  {
   "cell_type": "markdown",
   "metadata": {},
   "source": [
    "## Travail sur la colonne \"1re discographie\"\n",
    "Affichage de ce qui ne correspond pas uniquement à une année et transformation des données."
   ]
  },
  {
   "cell_type": "code",
   "execution_count": 14,
   "metadata": {},
   "outputs": [
    {
     "name": "stdout",
     "output_type": "stream",
     "text": [
      "1994 (avec Billy Ze Kick)\n",
      "1989 (avec Housebreaker)\n",
      "2000 (avec Princess Superstar)\n",
      "1997 (1995 avec Popcorn)\n",
      "2000 (1987 avec Galliano)\n",
      "2001 (1995 avec Soulwax)\n",
      "1972 (avec Africa 70)\n",
      "1982 (avec Orchestre Rouge)\n",
      "1993 (avec Collapsed Lung)\n",
      "1983 (avec Ubik)\n"
     ]
    }
   ],
   "source": [
    "for ligne in donnees[1:]:\n",
    "    if not ligne[6].isdigit() and ligne[6] != '':\n",
    "        print(ligne[6])\n",
    "        nombres = [int(x) for x in ligne[6].replace('(', ' ').split() if x.isdigit()]\n",
    "        if len(nombres) == 0:  # Absence d'année\n",
    "            donnees[donnees.index(ligne)][6] = \"\"\n",
    "        else:\n",
    "            donnees[donnees.index(ligne)][6] = str(min(nombres))"
   ]
  },
  {
   "cell_type": "markdown",
   "metadata": {},
   "source": [
    "## Travail sur la colonne \" Année de formation \"\n",
    "Affichage de ce qui ne correspond pas uniquement à une année et transformation des données."
   ]
  },
  {
   "cell_type": "code",
   "execution_count": 15,
   "metadata": {
    "scrolled": true
   },
   "outputs": [
    {
     "name": "stdout",
     "output_type": "stream",
     "text": [
      "2000 | 2015 pour ce projet / 2000 sous les noms Aliplays puis Oh Morice\n",
      "2010 | 2013 ( 2010 dans le duo Most Agadn't)\n",
      "2010 | 2010 sous ce nom\n",
      "2006 | 2011 en trio (2006 en duo, mais sans nom de groupe jusqu'en 2010)\n",
      "2006 | 2009 avec 2 batteurs / 2006 en solo\n",
      "1995 | 2010 / 1995 dans le quatuor punk With Love\n",
      "1998 | Fin des années 90\n",
      "2002 | Début des années 2000\n",
      "1992 | Début des années 90\n",
      "2002 | Début des années 2010 (Milieu des années 2000 dans des formations rock)\n",
      "2003 | 2013 (2003 sous l'alias Kate Wax)\n",
      "2013 | 2014 (2013 sous la forme d'un duo appelé 7IK)\n",
      "2007 | 2012 / 2007 sous le nom de Marvin Hood\n",
      "1998 | 2013 / 1998 ave The Rapture\n",
      "2010 | 2013 / 2010 sous le nom \"Il Abanico\"\n",
      "2008 | 2010 (2008 en duo)\n",
      "2006 | 2014 / 2006 pour Rich Aucoin / 2010 pour Encore!\n",
      "2008 | 2014 / 2008 avec le groupe Mr Dream\n",
      "2006 | 2012 / Dj Marrrtin : 2009 / Ajax Tow en solo : 2006\n",
      "2004 | 2014 / 2004 avec Micronologie\n",
      "2012 | 2012 (sous le nom Tigger Da Author)\n",
      "2013 | 2015 (2013 dans le groupe Shakers & Shades)\n",
      "2006 | 2006 au lycée / A partir de 2013 dans une démarche professionnelle\n",
      "2009 | 2009 en tant que groupe (2007, comme un projet solo de Nicolas Oogjes)\n",
      "1997 | 2015 (1998 pour DJ Fly / 1997 pour DJ Netik)\n",
      "2014 | 2016 (2014 sous le nom Paddox)\n",
      "2008 | 2ème moitié des années 2000\n",
      "2010 | 2013 (2010 dans le duo Numaads)\n",
      "2013 | 2013 (d'abord sous le nom Milky WAY, puis Thérapie TAXI à partir de 2016)\n",
      "1995 | 2012 (1995 dans le groupe punk Egg Ebb)\n",
      "2000 | 2010 / 2000 sous le nom David Kitt\n",
      "1995 | 1999 / 1995 avec GusGus\n",
      "2001 | 2012 / 2001 en tant que batteur du groupe Pearl and Brass\n",
      "2004 | 2013 / 2004 sous un autre pseudo\n",
      "2006 | 2012 / 2006 dans Altar of Plagues\n",
      "2002 | Début des années 2000\n",
      "1992 | Début 1990's\n",
      "1992 | Première moitié des années 1990\n",
      "2009 | 2011 (2009 en tant que chanteuse de jazz et de funk)\n",
      "2009 | 2012 / 2009 sous le nom de groupe Flapjack\n",
      "2012 | 2012 / 2009 sous le nom de David's Lyre / 2007 sous le nom de Paul Dixon\n",
      "2008 | 2008 /1995 au sein de De La Guarda\n",
      "1995 | 2000 / 1996 sous le pseudonyme Sean Na Na / 1995 avec le groupe Calvin Krime\n",
      "1998 | 2013 / 1998 pour Peter Solo\n",
      "2007 | 2013 / 2007 sous le pseudo Mario Basanov\n",
      "2002 | Première moitié des années 2000 avec le groupe Phénomène.\n",
      "2005 | 2005 sous le nom Gordon Shumway (Gordon depuis 2015)\n",
      "2012 | 2014 sous cette forme de trio (2012 en solo, 2013 en duo)\n",
      "2003 | 2003 sur des scènes ouvertes / 2008 avec le groupe Sound of Rum\n",
      "2002 | 2011 en solo / 2002 avec différentes formations\n",
      "2008 | 2008 (alors qu'ils étaient encore lycéens)\n",
      "2002 | 2013 / 2002 avec Cee-Lo Green\n",
      "2001 | 2014 en tant que duo musical (2001 comme un plus large groupe dédié à des spectacles/performances)\n",
      "2008 | 2014 (2008 en tant que membre de Frànçois And The Atlas Mountains)\n",
      "1998 | Fin 1990's\n",
      "1995 | Milieu 1990's\n",
      "1995 | 1998 (1995 avec Les Tétines Noires)\n",
      "1975 | Milieu 1970's\n",
      "2005 | 2011 pour ce projet (2005 en tant que compositrice dans le domaine des musiques classiques contemporaines)\n",
      "2001 | 2014 (2006 pour son premier projet solo nommé Lecube / 2001 dans le groupe Hyperclean)\n",
      "1992 | Début 1990's\n",
      "1968 | Fin 1960's\n",
      "1992 | Début 1990's\n",
      "1985 | 1980's\n",
      "1972 | Début 1970's\n",
      "1985 | 1980's\n",
      "1978 | Fin 1970's\n",
      "1998 | Fin 1990's\n",
      "1992 | Début 1990's\n",
      "2007 | 2012 / 2007 avec le groupe Gentle Mytics\n",
      "2010 | 2012 / 2010 en duo\n",
      "2005 | Milieu des années 2000\n",
      "2008 | 2ème moitié des années 2000\n",
      "1990 | 2007 / 1990 pour Smoove\n",
      "2012 | 2013 / 2012 sous le nom Drop Out Venus\n",
      "2005 | Milieu des années 2000\n",
      "2008 | 2015 (vers 2008 sous son nom Hussein Sherbini / 2010 dans le groupe Wetrobots / 2012 dans le collectif K.I.K. - Kairo is Koming)\n",
      "1999 | 2013 / 2008 sous le nom de Digi G'Alessio / 1999 en tant que saxophoniste de jazz\n",
      "1986 | 2013 (1986 pour E’Joung-ju dans l'Orchestre de musique traditionnelle de Gwanju / 1988 pour Federico Pellegrini dans The Little Rabbits)\n",
      "1998 | 2014 pour ce projet (fin des années 1990 sou le nom de Staz, 2001 dans le groupe hip hop LZ3 / 2008 dans le duo reggae-hip hop I-Science)\n",
      "1999 | 1999 (au début du lycée) / 2004 de façon professionnelle\n",
      "2001 | 2001 (au sein du duo Sexy Sushi)\n",
      "2013 | 2013 en duo / 2014 en trio\n",
      "1972 | Début 1970's\n",
      "1962 | Début 1960's\n",
      "1992 | Début 1990's\n",
      "1985 | Milieu 1980's\n",
      "1992 | Début 1990's\n",
      "1988 | Fin 1980's\n",
      "1992 | Début 1990's\n",
      "1992 | Début 1990's\n",
      "1982 | Début 1980's\n",
      "2002 | 2013 (Marta Ren débute vers le début des années 2000 au sein du groupe de reggae pop Sloppy Joe)\n",
      "2011 | 2015 en duo (2011 pour Les Gordon / 2013 pour Douchka)\n",
      "1992 | Début 1990's\n",
      "2002 | Début 2000's\n",
      "1988 | Fin 1980's\n",
      "1998 | Fin 1990's\n",
      "1988 | Fin 1980's\n",
      "1992 | Début 1990's\n",
      "1992 | Début 1990's\n",
      "1972 | Début 1970's\n",
      "1975 | Milieu 1970's\n",
      "1955 | 1950's\n",
      "1988 | Fin 1980's\n",
      "1955 | 1950's\n",
      "1955 | 1950's\n",
      "1968 | Fin 1960's\n",
      "1955 | 1950's\n"
     ]
    }
   ],
   "source": [
    "for ligne in donnees[1:]:\n",
    "    if not ligne[5].isdigit() and ligne[5] != '':\n",
    "        lpropre = ligne[5].replace('(', ' ').replace(')', ' ').replace(\n",
    "            \"'\", ' ').lower()  # ligne nettoyée\n",
    "        nombres = [\n",
    "            '19' + x if len(x) < 4 else x for x in lpropre.split()\n",
    "            if x.isdigit()\n",
    "        ]\n",
    "\n",
    "        if len(nombres) == 0:  # Absence d'année\n",
    "            m = \"\"\n",
    "        else:\n",
    "            m = min([int(x) for x in nombres if len(x) == 4]) # Année la plus petite\n",
    "\n",
    "            if any([str(m).replace('19', '') in lpropre.partition(\"début\")[2],\n",
    "                    str(m).replace('19','') in lpropre.partition(\"première\")[2]]):\n",
    "                m += 2  # décade + 2\n",
    "            elif any([str(m).replace('19', '') in lpropre.partition(\"fin\")[2],\n",
    "                      str(m).replace('19', '') in lpropre.partition(\"2ème\")[2]]):\n",
    "                m += 8  # décade + 10 - 2\n",
    "            elif any([str(m).replace('19', '') in lpropre.partition(\"milieu\")[2],\n",
    "                      str(m).replace('19', '') in lpropre and \"'s\" in ligne[5]]):\n",
    "                m += 5  # décade + 10 -5\n",
    "\n",
    "        print(\"{} | {}\".format(m, ligne[5]))\n",
    "        donnees[donnees.index(ligne)][5] = str(m)"
   ]
  },
  {
   "cell_type": "markdown",
   "metadata": {},
   "source": [
    "# Survol des données\n",
    "## Exercice 5\n",
    "Nombre de groupes programmés aux Transmusicales en fonction de l’année"
   ]
  },
  {
   "cell_type": "code",
   "execution_count": 16,
   "metadata": {},
   "outputs": [
    {
     "name": "stdout",
     "output_type": "stream",
     "text": [
      "1979: 12 groupes\n",
      "1980: 13 groupes\n",
      "1981: 25 groupes\n",
      "1982: 29 groupes\n",
      "1983: 32 groupes\n",
      "1984: 18 groupes\n",
      "1985: 23 groupes\n",
      "1986: 39 groupes\n",
      "1987: 46 groupes\n",
      "1988: 45 groupes\n",
      "1989: 48 groupes\n",
      "1990: 59 groupes\n",
      "1991: 50 groupes\n",
      "1992: 63 groupes\n",
      "1993: 65 groupes\n",
      "1994: 60 groupes\n",
      "1995: 87 groupes\n",
      "1996: 76 groupes\n",
      "1997: 99 groupes\n",
      "1998: 66 groupes\n",
      "1999: 77 groupes\n",
      "2000: 87 groupes\n",
      "2001: 75 groupes\n",
      "2002: 87 groupes\n",
      "2003: 93 groupes\n",
      "2004: 70 groupes\n",
      "2005: 92 groupes\n",
      "2006: 67 groupes\n",
      "2007: 79 groupes\n",
      "2008: 91 groupes\n",
      "2009: 101 groupes\n",
      "2010: 120 groupes\n",
      "2011: 93 groupes\n",
      "2012: 94 groupes\n",
      "2013: 88 groupes\n",
      "2014: 101 groupes\n",
      "2015: 85 groupes\n",
      "2016: 102 groupes\n"
     ]
    }
   ],
   "source": [
    "annees = sorted([int(i[0]) for i in donnees[1:]])\n",
    "for annee, groupe in {x: annees.count(x) for x in set(annees)}.items():\n",
    "    print(\"{}: {} groupes\".format(annee, groupe))"
   ]
  },
  {
   "cell_type": "markdown",
   "metadata": {},
   "source": [
    "Artistes qui ont participé au moins à 5 éditions des Transmusicales et nombre de participations."
   ]
  },
  {
   "cell_type": "code",
   "execution_count": 17,
   "metadata": {},
   "outputs": [
    {
     "name": "stdout",
     "output_type": "stream",
     "text": [
      "Kosmo Pilot: 6 participations\n",
      "Big Buddha: 7 participations\n",
      "Pat Panik: 5 participations\n",
      "DJ Netik: 5 participations\n",
      "DJ Zebra: 5 participations\n",
      "Bikini Machine: 5 participations\n",
      "DJ Morpheus: 16 participations\n",
      "DJ Azaxx: 7 participations\n",
      "Missill: 5 participations\n"
     ]
    }
   ],
   "source": [
    "artistes = {}\n",
    "for i in donnees[1:]:\n",
    "    if i[2] in artistes:\n",
    "        artistes[i[2]].append(i[1])\n",
    "    else:\n",
    "        artistes[i[2]] = [i[1]]\n",
    "\n",
    "for artiste,part in artistes.items():\n",
    "    if len(part) >= 5:\n",
    "        print(\"{}: {} participations\".format(artiste, len(part)))"
   ]
  },
  {
   "cell_type": "markdown",
   "metadata": {},
   "source": [
    "Nombre d’artistes ayant participé aux Transmusicales en fonction du pays d’origine et affichage les 5 pays les plus représentés."
   ]
  },
  {
   "cell_type": "code",
   "execution_count": 18,
   "metadata": {},
   "outputs": [],
   "source": [
    "def maxN (n, by):\n",
    "    \"\"\"\n",
    "    n: les plus représentés\n",
    "    by: numéro de colonne\n",
    "    :print: n by les plus représentés\n",
    "    :return: None\n",
    "    \"\"\"\n",
    "    dico = {}\n",
    "    for i in donnees[1:]:\n",
    "        if i[by] not in dico:\n",
    "            dico[i[by]] = [i[2]]\n",
    "        elif i[2] not in dico[i[by]]:\n",
    "            dico[i[by]].append(i[2])\n",
    "    dico = {nom:len(art) for nom,art in dico.items()}\n",
    "    for i in sorted(dico, key=dico.get, reverse=True)[:n]:\n",
    "        print(\"{}: {} artistes\".format(i, dico[i]))"
   ]
  },
  {
   "cell_type": "code",
   "execution_count": 19,
   "metadata": {},
   "outputs": [
    {
     "name": "stdout",
     "output_type": "stream",
     "text": [
      "France: 1055 artistes\n",
      "Royaume-Uni: 419 artistes\n",
      "Etats-Unis: 341 artistes\n",
      "Belgique: 44 artistes\n",
      "Allemagne: 44 artistes\n"
     ]
    }
   ],
   "source": [
    "maxN(5, by=3)"
   ]
  },
  {
   "cell_type": "markdown",
   "metadata": {},
   "source": [
    "De même avec les villes."
   ]
  },
  {
   "cell_type": "code",
   "execution_count": 20,
   "metadata": {},
   "outputs": [
    {
     "name": "stdout",
     "output_type": "stream",
     "text": [
      ": 667 artistes\n",
      "Rennes: 324 artistes\n",
      "Londres: 211 artistes\n",
      "Paris: 196 artistes\n",
      "New-York: 97 artistes\n"
     ]
    }
   ],
   "source": [
    "maxN(5, by=4)"
   ]
  },
  {
   "cell_type": "markdown",
   "metadata": {},
   "source": [
    "Déterminer l’écart (en année) entre la première sortie discographique et le passage aux Transmusicales.\n",
    "Affichons les 5 premiers éléments de la liste."
   ]
  },
  {
   "cell_type": "code",
   "execution_count": 23,
   "metadata": {},
   "outputs": [
    {
     "data": {
      "text/plain": [
       "[5, 1, 'NA', 1, 2]"
      ]
     },
     "execution_count": 23,
     "metadata": {},
     "output_type": "execute_result"
    }
   ],
   "source": [
    "ecart = [int(i[0]) - int(i[6]) if i[6].isdigit() else \"NA\" for i in donnees[1:]]\n",
    "ecart[:5]"
   ]
  },
  {
   "cell_type": "markdown",
   "metadata": {},
   "source": [
    "Déterminer le nombre d’artistes ayant leur première sortie discographique la même année ou alors après leur passage aux Transmusicales."
   ]
  },
  {
   "cell_type": "code",
   "execution_count": 43,
   "metadata": {},
   "outputs": [
    {
     "data": {
      "text/plain": [
       "109"
      ]
     },
     "execution_count": 43,
     "metadata": {},
     "output_type": "execute_result"
    }
   ],
   "source": [
    "sum([1 for i in ecart if isinstance(i, int) and i<=0])"
   ]
  },
  {
   "cell_type": "markdown",
   "metadata": {},
   "source": [
    "## Exercice 6\n",
    "Déterminer le nombre moyen d’artistes programmés aux Transmusicales chaque année.\n",
    "Nous avons enregistrés l'information sur le nombre d'artistes par années dans la liste **annees**."
   ]
  },
  {
   "cell_type": "code",
   "execution_count": 36,
   "metadata": {},
   "outputs": [
    {
     "name": "stdout",
     "output_type": "stream",
     "text": [
      "67 artistes en moyenne\n"
     ]
    }
   ],
   "source": [
    "print(\"{:.0f} artistes en moyenne\".format(len(annees) / len(set(annees))))"
   ]
  },
  {
   "cell_type": "markdown",
   "metadata": {},
   "source": [
    "Pour les artistes ayant sortie leur premier album après leur passage aux Transmusicales, déterminer le nombre moyen d’année entre leur passage et leur premier disque. On suppose que ceux ayant un écart de 0 ont sorti leur disque avant l'évenement mais dans la même année."
   ]
  },
  {
   "cell_type": "code",
   "execution_count": 47,
   "metadata": {},
   "outputs": [
    {
     "name": "stdout",
     "output_type": "stream",
     "text": [
      "2 année.s en moyenne avant le premier disque\n"
     ]
    }
   ],
   "source": [
    "ecartneg = [-i for i in ecart if isinstance(i, int) and i<0]\n",
    "print(\"{:.0f} année.s en moyenne avant le premier disque\".format(\n",
    "sum(ecartneg) / len(ecartneg)))"
   ]
  }
 ],
 "metadata": {
  "kernelspec": {
   "display_name": "Python 3",
   "language": "python",
   "name": "python3"
  },
  "language_info": {
   "codemirror_mode": {
    "name": "ipython",
    "version": 3
   },
   "file_extension": ".py",
   "mimetype": "text/x-python",
   "name": "python",
   "nbconvert_exporter": "python",
   "pygments_lexer": "ipython3",
   "version": "3.7.5"
  },
  "toc": {
   "base_numbering": 1,
   "nav_menu": {},
   "number_sections": true,
   "sideBar": true,
   "skip_h1_title": false,
   "title_cell": "Table of Contents",
   "title_sidebar": "Contents",
   "toc_cell": false,
   "toc_position": {},
   "toc_section_display": true,
   "toc_window_display": false
  },
  "varInspector": {
   "cols": {
    "lenName": 16,
    "lenType": 16,
    "lenVar": 40
   },
   "kernels_config": {
    "python": {
     "delete_cmd_postfix": "",
     "delete_cmd_prefix": "del ",
     "library": "var_list.py",
     "varRefreshCmd": "print(var_dic_list())"
    },
    "r": {
     "delete_cmd_postfix": ") ",
     "delete_cmd_prefix": "rm(",
     "library": "var_list.r",
     "varRefreshCmd": "cat(var_dic_list()) "
    }
   },
   "types_to_exclude": [
    "module",
    "function",
    "builtin_function_or_method",
    "instance",
    "_Feature"
   ],
   "window_display": false
  }
 },
 "nbformat": 4,
 "nbformat_minor": 2
}
