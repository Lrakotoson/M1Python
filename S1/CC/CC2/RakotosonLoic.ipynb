{
 "cells": [
  {
   "cell_type": "code",
   "execution_count": 1,
   "metadata": {},
   "outputs": [],
   "source": [
    "\"\"\"lecture et analyse de tweets\"\"\"\n",
    "################################################################################\n",
    "# fichier  : RakotosonLoic.py\n",
    "# Auteur : Rakotoson Loic\n",
    "################################################################################\n",
    "\n",
    "################################################################################\n",
    "# Importation de fonctions externes :\n",
    "import pickle\n",
    "import numpy as np\n",
    "import csv\n",
    "\n",
    "################################################################################\n",
    "# Definition locale de fonctions :\n",
    "\n",
    "################################################################################"
   ]
  },
  {
   "cell_type": "code",
   "execution_count": 2,
   "metadata": {},
   "outputs": [],
   "source": [
    "#Lecture avec pickle (Récupération des variables réponses)\n",
    "def readData(nomFichier):\n",
    "    listeData = []\n",
    "    try:\n",
    "        with open(nomFichier, 'rb') as objet_fichier:\n",
    "            objet_fichier_depickler = pickle.Unpickler(objet_fichier)\n",
    "            while 1:\n",
    "                try:\n",
    "                    listeData.append(objet_fichier_depickler.load())\n",
    "                except EOFError:\n",
    "                    break\n",
    "    except (IOError, OSError):\n",
    "        print(\"Problème à l'ouverture du fichier\")\n",
    "    return listeData"
   ]
  },
  {
   "cell_type": "code",
   "execution_count": 3,
   "metadata": {},
   "outputs": [],
   "source": [
    "################################################################################\n",
    "# Definition de classe (Définir la classe objet de l'exercice 4 ci-dessous)\n",
    "\n",
    "################################################################################\n",
    "# Aide\n",
    "listeData = readData('reponses.pic')\n",
    "aideEx11 = listeData[0]\n",
    "aideEx12 = listeData[1]\n",
    "aideEx21 = listeData[2]\n",
    "aideEx22 = listeData[3]\n",
    "aideEx31 = listeData[4]\n",
    "aideEx32 = listeData[5]\n",
    "aideEx33 = listeData[6]\n",
    "# aideEx4 impossible car c'est à vous de créer et tester la classe\n",
    "aideEx51 = listeData[7]\n",
    "aideEx52 = listeData[8]\n",
    "################################################################################\n",
    "# Corps principal du programme :"
   ]
  },
  {
   "cell_type": "markdown",
   "metadata": {},
   "source": [
    "# EXO 1"
   ]
  },
  {
   "cell_type": "code",
   "execution_count": 4,
   "metadata": {},
   "outputs": [],
   "source": [
    "def lireFichier_csv(fichier, delim, encodage=\"utf-8\"):\n",
    "    with open(fichier, 'r', encoding=encodage) as file:\n",
    "        data = [ligne for ligne in csv.reader(file, delimiter=delim)]\n",
    "    return data"
   ]
  },
  {
   "cell_type": "code",
   "execution_count": 5,
   "metadata": {},
   "outputs": [],
   "source": [
    "data = lireFichier_csv(\"tweets.csv\", \";\")"
   ]
  },
  {
   "cell_type": "code",
   "execution_count": 6,
   "metadata": {},
   "outputs": [],
   "source": [
    "def suppressionColonnes(data):\n",
    "    col = [\n",
    "        data[0].index(c)\n",
    "        for c in (\"Tweet Id\", \"Date\", \"Hour\", \"User Name\", \"Tweet content\",\n",
    "                  'Followers', 'Following', 'Tweet language (ISO 639-1)',\n",
    "                  'Is a RT', 'Hashtags')\n",
    "    ]\n",
    "    data = [[data[i][j] for j in col] for i in range(len(data))]\n",
    "    return data"
   ]
  },
  {
   "cell_type": "code",
   "execution_count": 7,
   "metadata": {},
   "outputs": [],
   "source": [
    "data = suppressionColonnes(data)"
   ]
  },
  {
   "cell_type": "markdown",
   "metadata": {},
   "source": [
    "# EXO 2"
   ]
  },
  {
   "cell_type": "code",
   "execution_count": 8,
   "metadata": {},
   "outputs": [],
   "source": [
    "def typageInt(data):\n",
    "    for i, ligne in enumerate(data):\n",
    "        for j, col in enumerate(ligne):\n",
    "            if isinstance(col, str) and col.strip().isdigit():  #strip: Enlever l'espace de fin de TweetId\n",
    "                data[i][j] = int(data[i][j])\n",
    "    return data"
   ]
  },
  {
   "cell_type": "code",
   "execution_count": 9,
   "metadata": {},
   "outputs": [],
   "source": [
    "data = typageInt(data)"
   ]
  },
  {
   "cell_type": "code",
   "execution_count": 10,
   "metadata": {},
   "outputs": [],
   "source": [
    "def typageBool(data):\n",
    "    isrt = data[0].index(\"Is a RT\")\n",
    "    for ligne in data[1:]:\n",
    "        if ligne[isrt] == \"TRUE\":\n",
    "            ligne[isrt] = True\n",
    "        else:\n",
    "            ligne[isrt] = False\n",
    "    return data"
   ]
  },
  {
   "cell_type": "code",
   "execution_count": 11,
   "metadata": {},
   "outputs": [],
   "source": [
    "data = typageBool(data)"
   ]
  },
  {
   "cell_type": "markdown",
   "metadata": {},
   "source": [
    "# EXO 3"
   ]
  },
  {
   "cell_type": "code",
   "execution_count": 12,
   "metadata": {},
   "outputs": [],
   "source": [
    "def extractionUserName(data):\n",
    "    username = data[0].index('User Name')\n",
    "    luser = list({ligne[username] for ligne in data[1:]})\n",
    "    return luser"
   ]
  },
  {
   "cell_type": "code",
   "execution_count": 13,
   "metadata": {},
   "outputs": [],
   "source": [
    "def nbTweetsOriginaux(data):\n",
    "    isrt = data[0].index(\"Is a RT\")\n",
    "    RT = [ligne[isrt] for ligne in data[1:]]\n",
    "    nbOrig = len(RT) - sum(RT)\n",
    "    return nbOrig"
   ]
  },
  {
   "cell_type": "code",
   "execution_count": 14,
   "metadata": {},
   "outputs": [],
   "source": [
    "def audienceTweets(data):\n",
    "    followers = data[0].index('Followers')\n",
    "    audience = sum([\n",
    "        ligne[followers] for ligne in data[1:] if isinstance(\n",
    "            ligne[followers], int)  # Car présence de str vides qui ont échappé au typageInt\n",
    "    ])\n",
    "    return audience"
   ]
  },
  {
   "cell_type": "markdown",
   "metadata": {},
   "source": [
    "# EXO 4"
   ]
  },
  {
   "cell_type": "code",
   "execution_count": 15,
   "metadata": {},
   "outputs": [],
   "source": [
    "class Tweet():\n",
    "    def __init__(self, tweetId, date, hour, userName, tweetContent, followers,\n",
    "                 followings, tweetLanguage, isRT, hashtags):\n",
    "        self.tweetId = tweetId\n",
    "        self.date = date\n",
    "        self.hour = hour\n",
    "        self.userName = userName\n",
    "        self.tweetContent = tweetContent\n",
    "        self.followers = followers\n",
    "        self.followings = followings\n",
    "        self.tweetLanguage = tweetLanguage\n",
    "        self.isRT = isRT\n",
    "        self.hashtags = hashtags\n",
    "\n",
    "    def __str__(self):\n",
    "        affichage = \"Nom utilisateur: {}\\nDate et heure : {} {}\\nContenu du tweet:\\n{}\".format(\n",
    "            self.userName, self.date, self.hour, self.tweetContent)\n",
    "        return affichage\n",
    "\n",
    "    def comparaisonHashtag(self, hasgtag):\n",
    "        if hasgtag.lower() in self.hashtags.lower():\n",
    "            return True\n",
    "        else:\n",
    "            return False"
   ]
  },
  {
   "cell_type": "markdown",
   "metadata": {},
   "source": [
    "# EXO 5"
   ]
  },
  {
   "cell_type": "code",
   "execution_count": 16,
   "metadata": {},
   "outputs": [],
   "source": [
    "def selectionTweets(data, sethashtag):\n",
    "    htag = data[0].index('Hashtags')\n",
    "    listehtag = []\n",
    "    for ligne in data[1:]:\n",
    "        if any(hashtag.lower() in ligne[htag].lower()\n",
    "               for hashtag in sethashtag):\n",
    "            listehtag.append(ligne)\n",
    "    return listehtag"
   ]
  },
  {
   "cell_type": "code",
   "execution_count": 17,
   "metadata": {},
   "outputs": [],
   "source": [
    "sethtag = {\"#netflix\", \"#nflx\"}\n",
    "twNetflix = selectionTweets(data, sethtag)"
   ]
  },
  {
   "cell_type": "code",
   "execution_count": 18,
   "metadata": {},
   "outputs": [],
   "source": [
    "def nbTweetsLanguage(data):\n",
    "    lang = data[0].index('Tweet language (ISO 639-1)')\n",
    "    listelangue = [ligne[lang] for ligne in data[1:]]\n",
    "    dicolangue = {\n",
    "        langue: listelangue.count(langue)\n",
    "        for langue in set(listelangue)\n",
    "    }\n",
    "    return dicolangue"
   ]
  },
  {
   "cell_type": "code",
   "execution_count": 19,
   "metadata": {},
   "outputs": [
    {
     "name": "stdout",
     "output_type": "stream",
     "text": [
      "{'fr': 6, 'es': 101, 'it': 1, 'da': 1, 'fi': 3, 'ru': 2, 'sv': 1, 'de': 19, 'nl': 9, 'en': 3561}\n"
     ]
    }
   ],
   "source": [
    "print(nbTweetsLanguage(data))"
   ]
  }
 ],
 "metadata": {
  "kernelspec": {
   "display_name": "Python 3",
   "language": "python",
   "name": "python3"
  },
  "language_info": {
   "codemirror_mode": {
    "name": "ipython",
    "version": 3
   },
   "file_extension": ".py",
   "mimetype": "text/x-python",
   "name": "python",
   "nbconvert_exporter": "python",
   "pygments_lexer": "ipython3",
   "version": "3.7.5"
  },
  "latex_envs": {
   "LaTeX_envs_menu_present": true,
   "autoclose": true,
   "autocomplete": true,
   "bibliofile": "biblio.bib",
   "cite_by": "apalike",
   "current_citInitial": 1,
   "eqLabelWithNumbers": true,
   "eqNumInitial": 1,
   "hotkeys": {
    "equation": "Ctrl-E",
    "itemize": "Ctrl-I"
   },
   "labels_anchors": false,
   "latex_user_defs": false,
   "report_style_numbering": false,
   "user_envs_cfg": false
  }
 },
 "nbformat": 4,
 "nbformat_minor": 2
}
