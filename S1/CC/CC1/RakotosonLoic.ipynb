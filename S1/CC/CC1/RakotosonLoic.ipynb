{
 "cells": [
  {
   "cell_type": "code",
   "execution_count": 1,
   "metadata": {},
   "outputs": [],
   "source": [
    "# Importation de fonctions externes:\n",
    "import pickle\n",
    "import csv\n",
    "from datetime import datetime"
   ]
  },
  {
   "cell_type": "code",
   "execution_count": 2,
   "metadata": {},
   "outputs": [],
   "source": [
    "# Récupération des données\n",
    "def readData(nom_fichier):\n",
    "    listeData = []\n",
    "    try:\n",
    "        with open(nom_fichier, 'rb') as objet_fichier:\n",
    "            objet_fichier_depickler = pickle.Unpickler(objet_fichier)\n",
    "            while 1:\n",
    "                try:\n",
    "                    listeData.append(objet_fichier_depickler.load())\n",
    "                except EOFError:\n",
    "                    break\n",
    "    except (IOError, OSError):\n",
    "        print(\"Problème à l'ouverture du fichier\")\n",
    "    return listeData\n",
    "\n",
    "listeData = readData('data.pic')\n",
    "# La variable listeData représente l'ensemble des réponses\n",
    "aide_ex_11 = listeData[0]\n",
    "aide_ex_12 = listeData[1]\n",
    "aide_ex_13 = listeData[2]\n",
    "aide_ex_14 = listeData[3]\n",
    "aide_ex_31 = listeData[4]\n",
    "aide_ex_32 = listeData[5]\n",
    "aide_ex_33 = listeData[6]\n",
    "aide_ex_34 = listeData[7]\n",
    "aide_ex_35 = listeData[8]\n",
    "aide_ex_41 = listeData[9]\n",
    "aide_ex_42 = listeData[10]\n",
    "aide_ex_43 = listeData[11]\n",
    "aide_ex_51 = listeData[12]"
   ]
  },
  {
   "cell_type": "markdown",
   "metadata": {},
   "source": [
    "# Exo 1: Lecture des fichiers csv\n",
    "Une fonction pour lire les fichiers"
   ]
  },
  {
   "cell_type": "code",
   "execution_count": 3,
   "metadata": {},
   "outputs": [],
   "source": [
    "def lire_csv(fichier, delim):\n",
    "    with open(fichier, 'r', encoding=\"utf-8\") as file:\n",
    "        data = [ligne for ligne in csv.reader(file, delimiter=delim)]\n",
    "    return data"
   ]
  },
  {
   "cell_type": "code",
   "execution_count": 4,
   "metadata": {},
   "outputs": [],
   "source": [
    "data = lire_csv(\"eco-counter-data.csv\",\";\")"
   ]
  },
  {
   "cell_type": "code",
   "execution_count": 5,
   "metadata": {},
   "outputs": [],
   "source": [
    "date = data[0].index('date')\n",
    "counts = data[0].index('counts')\n",
    "geo = data[0].index('geo')\n",
    "\n",
    "data = [[ligne[date], ligne[counts], ligne[geo]] for ligne in data]"
   ]
  },
  {
   "cell_type": "code",
   "execution_count": 6,
   "metadata": {},
   "outputs": [],
   "source": [
    "sites = lire_csv(\"eco-counter-sites.csv\",\";\")"
   ]
  },
  {
   "cell_type": "code",
   "execution_count": 7,
   "metadata": {},
   "outputs": [],
   "source": [
    "name = sites[0].index('name')\n",
    "interval = sites[0].index('interval')\n",
    "geo = sites[0].index('geo')\n",
    "\n",
    "sites = [[ligne[name], ligne[interval], ligne[geo]] for ligne in sites]"
   ]
  },
  {
   "cell_type": "code",
   "execution_count": 8,
   "metadata": {},
   "outputs": [],
   "source": [
    "def afficher_comptage(data, ligne):\n",
    "    date_format_have = \"%Y-%m-%dT%H:%M:%S\"\n",
    "    date_format_want = \"%b %d %Y %H:%M:%S\"\n",
    "    date = datetime.strftime(\n",
    "        datetime.strptime(data[ligne][0], date_format_have), date_format_want)\n",
    "    nombre = data[ligne][1]\n",
    "    coordonnees = data[ligne][2]\n",
    "\n",
    "    print(\"Le {}, il y a eu {} vélos et piétons sur le point de comptage ({})\".\n",
    "          format(date, nombre, coordonnees))"
   ]
  },
  {
   "cell_type": "code",
   "execution_count": 9,
   "metadata": {},
   "outputs": [
    {
     "name": "stdout",
     "output_type": "stream",
     "text": [
      "Le Jul 06 2018 18:00:00, il y a eu 135 vélos et piétons sur le point de comptage (48.11003,-1.68414)\n"
     ]
    }
   ],
   "source": [
    "afficher_comptage(data, 100)"
   ]
  },
  {
   "cell_type": "code",
   "execution_count": 10,
   "metadata": {},
   "outputs": [],
   "source": [
    "def ConversionEntier(data, col):\n",
    "    for ligne in data[1:]:\n",
    "        if isinstance(ligne[col],str) and ligne[col].isdigit():\n",
    "            ligne[col] = int(ligne[col])\n",
    "    return data"
   ]
  },
  {
   "cell_type": "code",
   "execution_count": 11,
   "metadata": {},
   "outputs": [],
   "source": [
    "data = ConversionEntier(data, 1)\n",
    "sites = ConversionEntier(sites, 1)"
   ]
  },
  {
   "cell_type": "code",
   "execution_count": 12,
   "metadata": {},
   "outputs": [],
   "source": [
    "def ConversionCoord(data):\n",
    "    donnees = [[ligne[0], ligne[1], tuple(ligne[2].split(\",\"))] for ligne in data[1:]]\n",
    "    donnees.insert(0, data[0]) #entête\n",
    "    return donnees"
   ]
  },
  {
   "cell_type": "code",
   "execution_count": 13,
   "metadata": {},
   "outputs": [],
   "source": [
    "data = ConversionCoord(data)\n",
    "sites = ConversionCoord(sites)"
   ]
  },
  {
   "cell_type": "code",
   "execution_count": 14,
   "metadata": {},
   "outputs": [],
   "source": [
    "def ConversionDate(data):\n",
    "    date_format_have = \"%Y-%m-%dT%H:%M:%S\"\n",
    "    for ligne in data[1:]:\n",
    "        try:\n",
    "            date = datetime.strptime(ligne[0], date_format_have)\n",
    "        except:\n",
    "            date = None\n",
    "        finally:\n",
    "            ligne[0] = date\n",
    "    return data"
   ]
  },
  {
   "cell_type": "code",
   "execution_count": null,
   "metadata": {},
   "outputs": [],
   "source": []
  },
  {
   "cell_type": "markdown",
   "metadata": {},
   "source": [
    "# Exo 4"
   ]
  },
  {
   "cell_type": "code",
   "execution_count": 15,
   "metadata": {},
   "outputs": [],
   "source": [
    "dsites = {}\n",
    "for ligne in sites[1:]:\n",
    "    dsites[ligne[2]] ={'interval':ligne[1], 'name':ligne[0]}"
   ]
  },
  {
   "cell_type": "code",
   "execution_count": 16,
   "metadata": {},
   "outputs": [],
   "source": [
    "ddata = {}\n",
    "for ligne in data[1:]:\n",
    "    ddata[ligne[2]] = ligne[:-2]"
   ]
  },
  {
   "cell_type": "code",
   "execution_count": 17,
   "metadata": {},
   "outputs": [],
   "source": [
    "ddata = {cle: val for cle, val in sorted(ddata.items(), key=lambda x: x[1][0])}"
   ]
  }
 ],
 "metadata": {
  "kernelspec": {
   "display_name": "Python 3",
   "language": "python",
   "name": "python3"
  },
  "language_info": {
   "codemirror_mode": {
    "name": "ipython",
    "version": 3
   },
   "file_extension": ".py",
   "mimetype": "text/x-python",
   "name": "python",
   "nbconvert_exporter": "python",
   "pygments_lexer": "ipython3",
   "version": "3.7.5"
  },
  "latex_envs": {
   "LaTeX_envs_menu_present": true,
   "autoclose": true,
   "autocomplete": true,
   "bibliofile": "biblio.bib",
   "cite_by": "apalike",
   "current_citInitial": 1,
   "eqLabelWithNumbers": true,
   "eqNumInitial": 1,
   "hotkeys": {
    "equation": "Ctrl-E",
    "itemize": "Ctrl-I"
   },
   "labels_anchors": false,
   "latex_user_defs": false,
   "report_style_numbering": false,
   "user_envs_cfg": false
  },
  "toc": {
   "base_numbering": 1,
   "nav_menu": {},
   "number_sections": true,
   "sideBar": true,
   "skip_h1_title": false,
   "title_cell": "Table of Contents",
   "title_sidebar": "Contents",
   "toc_cell": false,
   "toc_position": {},
   "toc_section_display": true,
   "toc_window_display": false
  },
  "varInspector": {
   "cols": {
    "lenName": 16,
    "lenType": 16,
    "lenVar": 40
   },
   "kernels_config": {
    "python": {
     "delete_cmd_postfix": "",
     "delete_cmd_prefix": "del ",
     "library": "var_list.py",
     "varRefreshCmd": "print(var_dic_list())"
    },
    "r": {
     "delete_cmd_postfix": ") ",
     "delete_cmd_prefix": "rm(",
     "library": "var_list.r",
     "varRefreshCmd": "cat(var_dic_list()) "
    }
   },
   "types_to_exclude": [
    "module",
    "function",
    "builtin_function_or_method",
    "instance",
    "_Feature"
   ],
   "window_display": false
  }
 },
 "nbformat": 4,
 "nbformat_minor": 2
}
