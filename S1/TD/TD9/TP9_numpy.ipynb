{
 "cells": [
  {
   "cell_type": "markdown",
   "metadata": {},
   "source": [
    "# TP 9 Manipulation de matrices avec `numpy`"
   ]
  },
  {
   "cell_type": "markdown",
   "metadata": {},
   "source": [
    "## 1. Présentation du problème"
   ]
  },
  {
   "cell_type": "markdown",
   "metadata": {},
   "source": [
    "### 1.1. Introduction : réseau de neurones entièrement connecté"
   ]
  },
  {
   "cell_type": "markdown",
   "metadata": {},
   "source": [
    "Nous souhaitons coder la phase de prédiction dans un réseau de neurones.\n",
    "\n",
    "Un réseau neuronal reçoit en entrée une séquence de valeurs numériques représentant un individu (par exemple une liste de caractéristiques décrivant un foyer : nombre d'habitants, nombre de pièces, surface totale, âge de l'immeuble, etc.). Le réseau neuronal produit en sortie une (ou plusieurs) nouvelle(s) valeur(s) (par exemple la consommation annuelle d'électricité prédite pour le foyer).\n",
    "\n",
    "Dans un réseau entièrement connecté (comme celui illustré dans le diagramme ci-dessous), les valeurs initiales traversent une ou plusieurs couches de noeuds (« neurones »). Au niveau de chaque neurone la séquence de valeurs subit une transformation comme suit : chaque valeur est multipliée par un coefficient (« poids ») ; les résultats de ces multiplications sont additionnés, pour donner une valeur numérique unique ; une fonction est finalement appliquée à cette valeur numérique. On obtient ainsi, au niveau d'une couche de neurones, une nouvelle séquence de valeurs, constituée des valeurs sorties par chaque neurone de cette couche. Ces nouvelles valeurs deviennent l'entrée pour la couche de neurones suivante, où elles subissent une transformation similaire.\n",
    "\n",
    "Le nombre de neurones de la dernière couche (couche de sortie) dépend du problème à résoudre ; pour la prédiction d'une valeur numérique unique (tâche de régression), la couche de sortie contient un seul neurone, dont la sortie est la valeur prédite pour l'individu.\n",
    "\n",
    "Les poids des connexions entre les nœuds sont appris automatiquement sur des données d'entraînement. Dans les exercices qui suivent nous nous intéressons uniquement à la **phase de prédiction**, c.à.d. au calcul d'une valeur de sortie pour des valeurs d'entrée, avec des poids connus.\n",
    "\n",
    "L'objectif est de calculer les valeurs de sortie des neurones des couches cachées et la valeur de sortie finale **de manière vectorisée**, c.à.d. en appliquant les opérations à toutes les valeurs **en bloc** plutôt qu'individuellement (donc sans boucles ni compréhensions de listes)."
   ]
  },
  {
   "cell_type": "markdown",
   "metadata": {},
   "source": [
    "### 1.2. Données"
   ]
  },
  {
   "cell_type": "markdown",
   "metadata": {},
   "source": [
    "Le diagramme présenté ci-dessous montre le trajet d'une observation à travers un petit réseau de neurones à deux couches cachées. Les valeurs d'entrée et les poids des connexions sont indiqués. (Toutes ces valeurs sont aléatoires et l'architecture du réseau est arbitraire, ne servant que pour illustration.)\n",
    "\n",
    "Dans cet exemple la fonction d'activation appliquée au niveau de chaque neurone est la fonction identité (autrement dit, il n'y a pas de transformation supplémentaire après l'opération de multiplication suivie d'addition). Le calcul de la valeur de sortie est détaillé sur le diagramme pour le premier neurone de la première couche cachée.\n",
    "\n",
    "Pour faciliter la lecture, un code couleurs a été appliqué sur la figure aux connexions entrantes vers chaque neurone et aux poids correspondants.\n",
    "\n",
    "**Remarque :** Vous constaterez probablement de légères différences entre vos résultats et ceux affichés sur le graphique. Ces différences sont dues aux niveaux de précision différents des floats : seules les deux premières décimales figurent sur le diagramme et seront utilisées dans vos calculs, mais les calculs ont été effectués à un niveau de précision supérieur."
   ]
  },
  {
   "cell_type": "markdown",
   "metadata": {},
   "source": [
    "<figure>\n",
    "    <img src=\"pyTP9_ffnn.svg\">\n",
    "    <figcaption style=\"font-style:italic;font-weight:bold;text-align:center\">FIGURE 1 : Un réseau de neurones entièrement connecté, avec valeurs d'entrée pour un individu et calcul des valeurs de sortie de chaque neurone</figcaption>\n",
    "</figure>"
   ]
  },
  {
   "cell_type": "markdown",
   "metadata": {},
   "source": [
    "## 2. Prédiction pour un individu : <span style=\"color:red\">PRODUIT SCALAIRE</span>"
   ]
  },
  {
   "cell_type": "markdown",
   "metadata": {},
   "source": [
    "### Exercice 1 : <span style=\"color:red\">MATRICES numpy 1-D (VECTEURS) ET 2-D (MATRICES).</span> Représentation des données d'entrée et du réseau de neurones"
   ]
  },
  {
   "cell_type": "markdown",
   "metadata": {},
   "source": [
    "Définissez les variables qui vous semblent pertinentes pour représenter le problème (données d'entrée et réseau de neurones) illustré dans le diagramme. Ayez toujours présente à l'esprit l'approche vectorisée que nous souhaitons implémenter. Vérifiez les dimensions de vos variables (nombre de dimensions et taille sur chaque dimension). Vous utiliserez ces variables dans les exercices suivants."
   ]
  },
  {
   "cell_type": "code",
   "execution_count": 1,
   "metadata": {},
   "outputs": [],
   "source": [
    "import numpy as np\n",
    "np.set_printoptions(precision = 2) # affichage"
   ]
  },
  {
   "cell_type": "code",
   "execution_count": 2,
   "metadata": {},
   "outputs": [
    {
     "data": {
      "text/plain": [
       "(1, (4,))"
      ]
     },
     "execution_count": 2,
     "metadata": {},
     "output_type": "execute_result"
    }
   ],
   "source": [
    "entree = np.array([5.17, 9.47, 7.65, 2.82])\n",
    "entree.ndim, entree.shape"
   ]
  },
  {
   "cell_type": "markdown",
   "metadata": {},
   "source": [
    "### Exercice 2 : Calcul de la sortie d'un neurone"
   ]
  },
  {
   "cell_type": "markdown",
   "metadata": {},
   "source": [
    "Calculez la sortie du premier neurone de la première couche cachée (le neurone situé en haut, pour lequel le calcul est détaillé sur la figure).\n",
    "\n",
    "**Rappel :** L'opération à coder est le produit scalaire (*dot product*) entre deux vecteurs : la somme des produits élément par élément des deux vecteurs. `numpy` dispose d'une fonction qui implémente directement cette opération (`np.dot`), mais également de fonctions (`np.multiply`, `np.sum`) et d'un opérateur (`*`) permettant d'obtenir le même résultat en deux étapes."
   ]
  },
  {
   "cell_type": "code",
   "execution_count": 3,
   "metadata": {},
   "outputs": [
    {
     "data": {
      "text/plain": [
       "54.9628"
      ]
     },
     "execution_count": 3,
     "metadata": {},
     "output_type": "execute_result"
    }
   ],
   "source": [
    "poids1_1 = np.array([-0.13, 5.92, -0.83, 2.1])\n",
    "poids1_1.dot(entree)"
   ]
  },
  {
   "cell_type": "markdown",
   "metadata": {},
   "source": [
    "### Exercice 3 : Calcul de toutes les sorties d'une couche de neurones"
   ]
  },
  {
   "cell_type": "markdown",
   "metadata": {},
   "source": [
    "Calculez toutes les sorties de la première couche cachée."
   ]
  },
  {
   "cell_type": "code",
   "execution_count": 4,
   "metadata": {},
   "outputs": [],
   "source": [
    "poids1 = np.array([[-0.13, 5.92, -0.83, 2.1],\n",
    "                   [5.03, 2.36, -2.97, 8.49],\n",
    "                   [8.50, 0.91, 4.66, 9.72],\n",
    "                   [7.99, -2.15, 0.83, 0.74],\n",
    "                   [7.69, 5.14, -1.56, -2.99]])"
   ]
  },
  {
   "cell_type": "code",
   "execution_count": 5,
   "metadata": {},
   "outputs": [
    {
     "data": {
      "text/plain": [
       "array([ 54.96,  49.58, 115.62,  29.38,  68.07])"
      ]
     },
     "execution_count": 5,
     "metadata": {},
     "output_type": "execute_result"
    }
   ],
   "source": [
    "couche1 = poids1.dot(entree)\n",
    "couche1"
   ]
  },
  {
   "cell_type": "markdown",
   "metadata": {},
   "source": [
    "Une fois que vous avez trouvé la bonne solution, écrivez une fonction qui généralise ce calcul. Les entrées de la couche et les poids des connexions entre ces entrées et les neurones de la couche seront des paramètres de la fonction.\n",
    "\n",
    "**Attention !** Votre fonction devra s'assurer que les arguments fournis ont des dimensions compatibles."
   ]
  },
  {
   "cell_type": "code",
   "execution_count": 6,
   "metadata": {},
   "outputs": [],
   "source": [
    "def calculCouche(entree, poids):\n",
    "    try:\n",
    "        resultat = poids.dot(entree)\n",
    "    except ValueError:\n",
    "        print(\"dimensions incompatibles\")\n",
    "        resultat = None\n",
    "    return resultat"
   ]
  },
  {
   "cell_type": "markdown",
   "metadata": {},
   "source": [
    "En utilisant cette fonction calculez maintenant les sorties de la deuxième couche cachée."
   ]
  },
  {
   "cell_type": "code",
   "execution_count": 7,
   "metadata": {},
   "outputs": [],
   "source": [
    "poids2 = np.array([\n",
    "    [1.77, -1.43, -0.31, -0.61, 1.48],\n",
    "    [-0.29, 1.32, 0.87, -1.52, 0.39],\n",
    "    [-1.48, -1.69, 1.32, -0.14, -1.35]    \n",
    "])"
   ]
  },
  {
   "cell_type": "code",
   "execution_count": 8,
   "metadata": {},
   "outputs": [
    {
     "data": {
      "text/plain": [
       "array([  73.36,  131.97, -108.51])"
      ]
     },
     "execution_count": 8,
     "metadata": {},
     "output_type": "execute_result"
    }
   ],
   "source": [
    "couche2 = calculCouche(couche1, poids2)\n",
    "couche2"
   ]
  },
  {
   "cell_type": "markdown",
   "metadata": {},
   "source": [
    "### Exercice 4 : Calcul de la sortie du réseau de neurones"
   ]
  },
  {
   "cell_type": "markdown",
   "metadata": {},
   "source": [
    "Toujours en utilisant votre fonction de l'exercice 3 calculez la valeur de sortie du réseau de neurones."
   ]
  },
  {
   "cell_type": "code",
   "execution_count": 9,
   "metadata": {},
   "outputs": [],
   "source": [
    "poids3 = np.array([[0.19, 0.35, 1.09]])"
   ]
  },
  {
   "cell_type": "code",
   "execution_count": 10,
   "metadata": {
    "scrolled": true
   },
   "outputs": [
    {
     "data": {
      "text/plain": [
       "array([-58.15])"
      ]
     },
     "execution_count": 10,
     "metadata": {},
     "output_type": "execute_result"
    }
   ],
   "source": [
    "calculCouche(couche2, poids3)"
   ]
  },
  {
   "cell_type": "code",
   "execution_count": 11,
   "metadata": {},
   "outputs": [
    {
     "data": {
      "text/plain": [
       "array([-58.15])"
      ]
     },
     "execution_count": 11,
     "metadata": {},
     "output_type": "execute_result"
    }
   ],
   "source": [
    "calculCouche(calculCouche(calculCouche(entree, poids1), poids2), poids3)"
   ]
  },
  {
   "cell_type": "markdown",
   "metadata": {},
   "source": [
    "## 3. Prédiction pour un ensemble d'individus : <span style=\"color:red\">PRODUIT MATRICIEL</span>"
   ]
  },
  {
   "cell_type": "markdown",
   "metadata": {},
   "source": [
    "L'objectif est maintenant d'effectuer la prédiction en bloc pour un ensemble d'individus. Le parcours des données pour chaque individu à travers le réseau reste le même que celui vu dans la section précédente.\n",
    "\n",
    "Les valeurs d'entrée pour les différents individus sont :\n",
    "\n",
    "+ observation 1 : 5.17, 9.47, 7.65, 2.82 (même individu que dans la section précédente) ;\n",
    "+ observation 2 : 6.56, 5.58, 1.78, 2.41 ;\n",
    "+ observation 3 : 5.06, 3.97, 4.83, 9.56 ;\n",
    "+ observation 4 : 9.02, 5.06, 8.21, 8.28 ;\n",
    "+ observation 5 : 2.32, 0.79, 4.66, 8.79 ;\n",
    "+ observation 6 : 1.48, 2.31, 9.18, 1.29 ;\n",
    "+ observation 7 : 9.16, 2.35, 6.16, 9.52 ;\n",
    "+ observation 8 : 2.55, 4.5 , 9.73, 2.39 ;\n",
    "+ observation 9 : 1.99, 6.88, 8.45, 4.53 ;\n",
    "+ observation 10 : 1.01, 6.23, 0.83, 0.53."
   ]
  },
  {
   "cell_type": "markdown",
   "metadata": {},
   "source": [
    "### Exercice 5 : Représentation des données d'entrée"
   ]
  },
  {
   "cell_type": "markdown",
   "metadata": {},
   "source": [
    "Définissez une variable qui contiendra l'ensemble des données d'entrée pour tous les individus."
   ]
  },
  {
   "cell_type": "code",
   "execution_count": 12,
   "metadata": {},
   "outputs": [],
   "source": [
    "obs = np.array([\n",
    "    [5.17, 9.47, 7.65, 2.82],\n",
    "    [6.56, 5.58, 1.78, 2.41],\n",
    "    [5.06, 3.97, 4.83, 9.56],\n",
    "    [9.02, 5.06, 8.21, 8.28],\n",
    "    [2.32, 0.79, 4.66, 8.79],\n",
    "    [1.48, 2.31, 9.18, 1.29],\n",
    "    [9.16, 2.35, 6.16, 9.52],\n",
    "    [2.55, 4.5 , 9.73, 2.39],\n",
    "    [1.99, 6.88, 8.45, 4.53],\n",
    "    [1.01, 6.23, 0.83, 0.53]\n",
    "])"
   ]
  },
  {
   "cell_type": "markdown",
   "metadata": {},
   "source": [
    "### Exercice 6 : Calcul de toutes les sorties d'une couche de neurones"
   ]
  },
  {
   "cell_type": "markdown",
   "metadata": {},
   "source": [
    "Comme pour l'exercice 3, calculez les sorties de la première couche cachée, mais cette fois-ci pour l'ensemble des individus. Utilisez des opérations vectorisées et non pas des boucles.\n",
    "\n",
    "**Attention !** Il s'agit d'une opération de multiplication de matrices (dans le sens de l'algèbre linéaire) : une matrice de dimensions (m, n) multipliée par une matrice de dimensions (n, p) donne une matrice de dimensions (m, p). Par conséquent, la deuxième dimension du premier argument doit être alignée (c.à.d. identique) à la première dimension du deuxième argument. Si besoin, transposez l'un des arguments à l'aide de la méthode `transpose()` ou de l'attribut `T`.\n",
    "\n",
    "**Pour vérification :** vous devriez obtenir (avec de possibles légers écarts) :\n",
    "\n",
    "+ pour l'observation 1 : 55.02,  49.61, 115.72,  29.38,  68.05 (comme pour l'exercice 3) ;\n",
    "+ pour l'observation 2 : 35.77,  61.3 ,  92.52,  43.63,  69.13 ;\n",
    "+ pour l'observation 3 : 38.94, 101.65, 162.05,  42.99,  23.16 ;\n",
    "+ pour l'observation 4 : 39.41, 103.24, 199.99,  74.09,  57.74 ;\n",
    "+ pour l'observation 5 : 19.01,  74.36, 127.59,  27.22, -11.7 ;\n",
    "+ pour l'observation 6 : 8.63,  -3.41,  70.  ,  15.39,   5.02 ;\n",
    "+ pour l'observation 7 : 27.65, 114.2 , 201.28,  80.32,  44.45 ;\n",
    "+ pour l'observation 8 : 23.32,  14.91,  94.4 ,  20.54,  20.4 ;\n",
    "+ pour l'observation 9 : 43.02,  39.62, 106.6 ,  11.45,  23.86 ;\n",
    "+ pour l'observation 10 : 37.18,  21.82,  23.33,  -4.23,  36.91."
   ]
  },
  {
   "cell_type": "code",
   "execution_count": 13,
   "metadata": {},
   "outputs": [
    {
     "data": {
      "text/plain": [
       "array([[ 54.96,  49.58, 115.62,  29.38,  68.07],\n",
       "       [ 35.76,  61.34,  92.56,  43.68,  69.14],\n",
       "       [ 38.91, 101.64, 162.05,  42.98,  23.2 ],\n",
       "       [ 39.36, 103.23, 200.01,  74.13,  57.81],\n",
       "       [ 18.97,  74.32, 127.59,  27.21, -11.65],\n",
       "       [  8.57,  -3.42,  70.  ,  15.43,   5.08],\n",
       "       [ 27.6 , 114.15, 201.24,  80.29,  44.45],\n",
       "       [ 23.25,  14.84,  94.34,  20.54,  20.41],\n",
       "       [ 42.97,  39.61, 106.58,  11.47,  23.94],\n",
       "       [ 37.17,  21.82,  23.27,  -4.24,  36.91]])"
      ]
     },
     "execution_count": 13,
     "metadata": {},
     "output_type": "execute_result"
    }
   ],
   "source": [
    "coucheM1 = poids1.dot(obs.T).T\n",
    "coucheM1"
   ]
  },
  {
   "cell_type": "markdown",
   "metadata": {},
   "source": [
    "Modifiez ensuite, si besoin, votre fonction de l'exercice 3 pour qu'elle fonctionne pour un nombre arbitraire d'individus."
   ]
  },
  {
   "cell_type": "code",
   "execution_count": 14,
   "metadata": {},
   "outputs": [],
   "source": [
    "def calculCoucheM(entree, poids):\n",
    "    try:\n",
    "        resultat = poids.dot(entree.T).T\n",
    "    except ValueError as e:\n",
    "        print(\"dimensions incompatibles: \", e)\n",
    "        resultat = None\n",
    "    return resultat"
   ]
  },
  {
   "cell_type": "markdown",
   "metadata": {},
   "source": [
    "Enfin, calculez les sorties de la deuxième couche cachée.\n",
    "\n",
    "**Pour vérification :** vous devriez obtenir (avec de possibles légers écarts) :\n",
    "\n",
    "+ pour l'observation 1 : 72.49, 131.85, -108.19 (comme pour l'exercice 3) ;\n",
    "+ pour l'observation 2 : 21.82, 111.2 , -133.66 ;\n",
    "+ pour l'observation 3 : -119.85, 207.22, -52.19 ;\n",
    "+ pour l'observation 4 : -101.14, 208.19, -56.5 ;\n",
    "+ pour l'observation 5 : -147.03, 157.57, 27.16 ;\n",
    "+ pour l'observation 6 : -3.84, 32.54, 76.76 ;\n",
    "+ pour l'observation 7 : -161.57, 212.47, -38.79 ;\n",
    "+ pour l'observation 8 : 7.81, 71.79, 34.82 ;\n",
    "+ pour l'observation 9 : 14.11, 124.48, -23.33 ;\n",
    "+ pour l'observation 10 : 84.35, 59.08, -110.33."
   ]
  },
  {
   "cell_type": "code",
   "execution_count": 15,
   "metadata": {},
   "outputs": [
    {
     "data": {
      "text/plain": [
       "array([[  73.36,  131.97, -108.51],\n",
       "       [  22.58,  111.7 , -133.88],\n",
       "       [-118.59,  207.59,  -52.78],\n",
       "       [ -99.62,  208.72,  -57.1 ],\n",
       "       [-146.1 ,  157.71,   26.67],\n",
       "       [  -3.54,   32.43,   76.47],\n",
       "       [-159.97,  213.04,  -39.37],\n",
       "       [   8.37,   71.66,   34.61],\n",
       "       [  14.81,  124.45,  -23.77],\n",
       "       [  84.6 ,   59.11, -110.4 ]])"
      ]
     },
     "execution_count": 15,
     "metadata": {},
     "output_type": "execute_result"
    }
   ],
   "source": [
    "coucheM2 = calculCoucheM(coucheM1, poids2)\n",
    "coucheM2"
   ]
  },
  {
   "cell_type": "markdown",
   "metadata": {},
   "source": [
    "### Exercice 7 : Calcul de la sortie du réseau de neurones"
   ]
  },
  {
   "cell_type": "markdown",
   "metadata": {},
   "source": [
    "En utilisant votre fonction de l'exercice 6 calculez maintenant les valeurs de la couche de sortie pour l'ensemble des individus.\n",
    "\n",
    "**Pour vérification :** vous devriez obtenir (avec de possibles légers écarts) :\n",
    "\n",
    "+ pour l'observation 1 : -57.83 (comme pour l'exercice 3) ;\n",
    "+ pour l'observation 2 : -102.74 ;\n",
    "+ pour l'observation 3 : -6.78 ;\n",
    "+ pour l'observation 4 : -7.56 ;\n",
    "+ pour l'observation 5 : 57.28 ;\n",
    "+ pour l'observation 6 : 94.79 ;\n",
    "+ pour l'observation 7 : 1.74 ;\n",
    "+ pour l'observation 8 : 65.02 ;\n",
    "+ pour l'observation 9 : 21.23 ;\n",
    "+ pour l'observation 10 : -83.65."
   ]
  },
  {
   "cell_type": "code",
   "execution_count": 16,
   "metadata": {},
   "outputs": [
    {
     "data": {
      "text/plain": [
       "array([[ -58.15],\n",
       "       [-102.54],\n",
       "       [  -7.41],\n",
       "       [  -8.11],\n",
       "       [  56.51],\n",
       "       [  94.03],\n",
       "       [   1.26],\n",
       "       [  64.39],\n",
       "       [  20.46],\n",
       "       [ -83.58]])"
      ]
     },
     "execution_count": 16,
     "metadata": {},
     "output_type": "execute_result"
    }
   ],
   "source": [
    "calculCoucheM(coucheM2, poids3)"
   ]
  },
  {
   "cell_type": "markdown",
   "metadata": {},
   "source": [
    "## 4. Synthèse"
   ]
  },
  {
   "cell_type": "markdown",
   "metadata": {},
   "source": [
    "### Exercice 8 : Réseau de neurones"
   ]
  },
  {
   "cell_type": "markdown",
   "metadata": {},
   "source": [
    "En vous basant sur les étapes que vous avez codées précédemment, écrivez maintenant une fonction qui synthétise l'ensemble des calculs et les généralise à des nombres arbitraires d'individus, de couches de neurones et de dimensions des couches. Vous êtes libres de configurer les paramètres de la fonction de la manière qui vous semble la plus pertinente."
   ]
  },
  {
   "cell_type": "code",
   "execution_count": 17,
   "metadata": {},
   "outputs": [],
   "source": [
    "def neuralNetwork(entree, poids):\n",
    "    for i in range(np.shape(poids)[0]):\n",
    "        entree = calculCoucheM(entree, poids[i])\n",
    "    return entree"
   ]
  },
  {
   "cell_type": "code",
   "execution_count": 18,
   "metadata": {},
   "outputs": [
    {
     "data": {
      "text/plain": [
       "array([[1, 2, 1, 2, 1],\n",
       "       [0, 1, 2, 1, 2],\n",
       "       [1, 1, 0, 2, 2],\n",
       "       [1, 0, 0, 1, 0],\n",
       "       [0, 2, 1, 2, 2],\n",
       "       [1, 1, 2, 2, 1],\n",
       "       [2, 0, 1, 0, 0],\n",
       "       [2, 1, 1, 1, 0],\n",
       "       [0, 2, 1, 0, 1],\n",
       "       [1, 1, 1, 1, 0],\n",
       "       [2, 1, 1, 1, 0],\n",
       "       [0, 1, 2, 2, 1]])"
      ]
     },
     "execution_count": 18,
     "metadata": {},
     "output_type": "execute_result"
    }
   ],
   "source": [
    "poids = np.array([\n",
    "    np.random.randint(4, size=(4, 5)),\n",
    "    np.random.uniform(0, 1, size=(10, 4)),\n",
    "    np.random.uniform(0, 1, size=(1, 10))\n",
    "])\n",
    "\n",
    "entry = np.random.randint(3, size=(12, 5))\n",
    "entry"
   ]
  },
  {
   "cell_type": "code",
   "execution_count": 19,
   "metadata": {},
   "outputs": [
    {
     "data": {
      "text/plain": [
       "array([[67.74],\n",
       "       [43.45],\n",
       "       [59.57],\n",
       "       [28.61],\n",
       "       [55.81],\n",
       "       [65.88],\n",
       "       [42.46],\n",
       "       [61.07],\n",
       "       [28.63],\n",
       "       [42.96],\n",
       "       [61.07],\n",
       "       [47.78]])"
      ]
     },
     "execution_count": 19,
     "metadata": {},
     "output_type": "execute_result"
    }
   ],
   "source": [
    "neuralNetwork(entry, poids)"
   ]
  },
  {
   "cell_type": "markdown",
   "metadata": {},
   "source": [
    "### Exercice 9 : Synthèse des fonctions et opérateurs `numpy` utilisés pour la multiplication"
   ]
  },
  {
   "cell_type": "markdown",
   "metadata": {},
   "source": [
    "Dressez une liste des fonctions et opérateurs que vous avez utilisés dans les exercices précédents et qui implémentent différents types de multiplication entre matrices : \n",
    "\n",
    "+ multiplication élément par élément ;\n",
    "+ produit scalaire ;\n",
    "+ produit matriciel.\n",
    "\n",
    "En vous basant sur les constats que vous avez effectués en résolvant les exercices et sur la documentation du module `numpy` notez les différences et les chevauchements entre ces fonctions et opérateurs, et notamment :\n",
    "\n",
    "+ le nombre de dimensions accepté pour les paramètres (matrices 1-D ou 2-D, voire plus) ;\n",
    "+ les éventuelles différences de comportement des fonctions ou opérateurs selon les dimensions des arguments reçus ;\n",
    "+ si l'alignement de certaines dimensions des arguments est imposé."
   ]
  },
  {
   "cell_type": "code",
   "execution_count": null,
   "metadata": {},
   "outputs": [],
   "source": []
  }
 ],
 "metadata": {
  "kernelspec": {
   "display_name": "Python 3",
   "language": "python",
   "name": "python3"
  },
  "language_info": {
   "codemirror_mode": {
    "name": "ipython",
    "version": 3
   },
   "file_extension": ".py",
   "mimetype": "text/x-python",
   "name": "python",
   "nbconvert_exporter": "python",
   "pygments_lexer": "ipython3",
   "version": "3.7.5"
  },
  "latex_envs": {
   "LaTeX_envs_menu_present": true,
   "autoclose": true,
   "autocomplete": true,
   "bibliofile": "biblio.bib",
   "cite_by": "apalike",
   "current_citInitial": 1,
   "eqLabelWithNumbers": true,
   "eqNumInitial": 1,
   "hotkeys": {
    "equation": "Ctrl-E",
    "itemize": "Ctrl-I"
   },
   "labels_anchors": false,
   "latex_user_defs": false,
   "report_style_numbering": false,
   "user_envs_cfg": false
  },
  "varInspector": {
   "cols": {
    "lenName": 16,
    "lenType": 16,
    "lenVar": 40
   },
   "kernels_config": {
    "python": {
     "delete_cmd_postfix": "",
     "delete_cmd_prefix": "del ",
     "library": "var_list.py",
     "varRefreshCmd": "print(var_dic_list())"
    },
    "r": {
     "delete_cmd_postfix": ") ",
     "delete_cmd_prefix": "rm(",
     "library": "var_list.r",
     "varRefreshCmd": "cat(var_dic_list()) "
    }
   },
   "types_to_exclude": [
    "module",
    "function",
    "builtin_function_or_method",
    "instance",
    "_Feature"
   ],
   "window_display": false
  }
 },
 "nbformat": 4,
 "nbformat_minor": 2
}
