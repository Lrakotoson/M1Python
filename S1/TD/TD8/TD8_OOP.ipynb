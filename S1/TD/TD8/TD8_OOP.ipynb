{
 "cells": [
  {
   "cell_type": "markdown",
   "metadata": {},
   "source": [
    "# Définition de méthodes et classes\n",
    "## Exercice 1 : Création d’une méthode"
   ]
  },
  {
   "cell_type": "code",
   "execution_count": 1,
   "metadata": {},
   "outputs": [],
   "source": [
    "class Point(object):\n",
    "    def __init__(self, x=0, y=0):\n",
    "        self.x, self.y = x, y\n",
    "\n",
    "    def __str__(self):\n",
    "        return 'Les coordonnées du point sont \\nx = {}\\ny = {}'.format(\n",
    "            self.x, self.y)\n",
    "\n",
    "    def distance(self):\n",
    "        return abs(self.x - self.y)"
   ]
  },
  {
   "cell_type": "code",
   "execution_count": 2,
   "metadata": {},
   "outputs": [
    {
     "data": {
      "text/plain": [
       "40"
      ]
     },
     "execution_count": 2,
     "metadata": {},
     "output_type": "execute_result"
    }
   ],
   "source": [
    "P = Point(10, 50)\n",
    "P.distance()"
   ]
  },
  {
   "cell_type": "markdown",
   "metadata": {},
   "source": [
    "## Exercice 2 : Création d’une classe\n",
    "Définir une classe « Fraction » représentant les fractions rationnelles réduites."
   ]
  },
  {
   "cell_type": "code",
   "execution_count": 3,
   "metadata": {},
   "outputs": [],
   "source": [
    "class Fraction():\n",
    "    def __init__(self, x=1, y=1):\n",
    "        if y == 0: raise ZeroDivisionError\n",
    "        self.x, self.y = x, y\n",
    "        self.num, self.den = abs(x), abs(y)\n",
    "        self.quotient = x / y\n",
    "\n",
    "        if x * y >= 0:\n",
    "            self.signe = 1\n",
    "        else:\n",
    "            self.signe = -1\n",
    "\n",
    "    def __str__(self):\n",
    "        return \"({}/{})\".format(self.x, self.y)\n",
    "\n",
    "    def __neg__(self):\n",
    "        return self.signe * (self.quotient)\n",
    "\n",
    "    def __add__(self, other):\n",
    "        return self.quotient + other.quotient\n",
    "\n",
    "    def __sub__(self, other):\n",
    "        return self.quotient - other.quotient\n",
    "\n",
    "    def __mul__(self, other):\n",
    "        return self.quotient * other.quotient\n",
    "\n",
    "    def simpliFrac(self):\n",
    "        num, den = self.x, self.y\n",
    "        div = 2\n",
    "        while div <= min(num, den):\n",
    "            if num % div == 0 and den % div == 0:\n",
    "                num //= div\n",
    "                den //= div\n",
    "            else:\n",
    "                div += 1\n",
    "        self.x, self.y = num, den"
   ]
  },
  {
   "cell_type": "code",
   "execution_count": 4,
   "metadata": {},
   "outputs": [],
   "source": [
    "F = Fraction(1, 10)\n",
    "E = Fraction(60, 36)"
   ]
  },
  {
   "cell_type": "code",
   "execution_count": 5,
   "metadata": {},
   "outputs": [
    {
     "name": "stdout",
     "output_type": "stream",
     "text": [
      "(5/3)\n"
     ]
    }
   ],
   "source": [
    "E.simpliFrac()\n",
    "print(E)"
   ]
  },
  {
   "cell_type": "markdown",
   "metadata": {},
   "source": [
    "# Héritage surcharge et polymorphisme\n",
    "## Exercice 3 : Compte bancaire simple\n",
    "Nous nous intéressons à un compte simple caractérisé par un solde exprimé en Euros qui peut être positif ou négatif."
   ]
  },
  {
   "cell_type": "code",
   "execution_count": 6,
   "metadata": {},
   "outputs": [],
   "source": [
    "class CompteSimple():\n",
    "    def __init__(self, solde, iban=\"\"):\n",
    "        self.solde = solde\n",
    "        self.iban = iban\n",
    "\n",
    "    def __str__(self):\n",
    "        return \"Le solde du compte {} est de {} €\".format(\n",
    "            self.iban, self.solde)\n",
    "\n",
    "    def enregistrerOperation(self, operation):\n",
    "        self.solde += operation"
   ]
  },
  {
   "cell_type": "code",
   "execution_count": 7,
   "metadata": {},
   "outputs": [
    {
     "name": "stdout",
     "output_type": "stream",
     "text": [
      "Le solde du compte  est de 10 €\n",
      "Le solde du compte  est de 5 €\n"
     ]
    }
   ],
   "source": [
    "livret = CompteSimple(10)\n",
    "print(livret)\n",
    "livret.enregistrerOperation(-5)\n",
    "print(livret)"
   ]
  },
  {
   "cell_type": "markdown",
   "metadata": {},
   "source": [
    "## Exercice 4 : Compte courant\n",
    "Une banque conserve pour chaque compte l’historique des opérations qui le concernent (on se limite ici aux opérations de crédits et de débits). On souhaite modéliser un tel compte qu’on appelle compte courant."
   ]
  },
  {
   "cell_type": "code",
   "execution_count": 8,
   "metadata": {},
   "outputs": [],
   "source": [
    "class CompteCourant(CompteSimple):\n",
    "    def __init__(self, solde, iban=\"\"):\n",
    "        CompteSimple.__init__(self, solde)\n",
    "        self.historique = []\n",
    "        self.iban = iban\n",
    "\n",
    "    def enregistrerOperation(self, operation):\n",
    "        self.historique.append(operation)\n",
    "        self.solde += operation\n",
    "\n",
    "    def afficherReleve(self):\n",
    "        for operation in self.historique:\n",
    "            if operation > 0: print(\"+\" + str(operation))\n",
    "            else: print(str(operation))\n",
    "\n",
    "    def afficherReleveCredits(self):\n",
    "        for operation in self.historique:\n",
    "            if operation > 0: print(\"+\" + str(operation))\n",
    "\n",
    "    def afficherReleveDebits(self):\n",
    "        for operation in self.historique:\n",
    "            if operation < 0: print(str(operation))"
   ]
  },
  {
   "cell_type": "code",
   "execution_count": 9,
   "metadata": {},
   "outputs": [
    {
     "name": "stdout",
     "output_type": "stream",
     "text": [
      "Le solde du compte  est de 1200 €\n",
      "-500\n",
      "-300\n",
      "-9.99\n",
      "+800\n",
      "Le solde du compte  est de 1190.01 €\n"
     ]
    }
   ],
   "source": [
    "cc = CompteCourant(1200)\n",
    "print(cc)\n",
    "cc.enregistrerOperation(-500)\n",
    "cc.enregistrerOperation(-300)\n",
    "cc.enregistrerOperation(-9.99)\n",
    "cc.enregistrerOperation(+800)\n",
    "cc.afficherReleve()\n",
    "print(cc)"
   ]
  },
  {
   "cell_type": "markdown",
   "metadata": {},
   "source": [
    "## Exercice 5 : La banque\n",
    "Une banque est un organisme qui gère un grand nombre de comptes, qu’ils soient simples ou courants."
   ]
  },
  {
   "cell_type": "code",
   "execution_count": 10,
   "metadata": {},
   "outputs": [],
   "source": [
    "class Banque():\n",
    "    def __init__(self):\n",
    "        self.comptes = []\n",
    "\n",
    "    def openCS(self, solde):\n",
    "        self.comptes.append(CompteSimple(solde))\n",
    "\n",
    "    def openCC(self, solde):\n",
    "        self.comptes.append(CompteCourant(solde))\n",
    "\n",
    "    def total(self):\n",
    "        return sum(compte.solde for compte in self.comptes)\n",
    "\n",
    "    def frais(self, montant=-2):\n",
    "        for compte in self.comptes:\n",
    "            compte.enregistrerOperation(montant)\n",
    "\n",
    "    def __str__(self):\n",
    "        chaine = \"\"\n",
    "        for compte in self.comptes:\n",
    "            chaine += str(compte) + \"\\n\"\n",
    "        return chaine\n",
    "\n",
    "    def releveCC(self):\n",
    "        for compte in self.comptes:\n",
    "            if isinstance(compte, CompteCourant):\n",
    "                print(compte)\n",
    "                compte.afficherReleve()\n",
    "\n",
    "    def ajoutCompte(self, compte):\n",
    "        \"\"\"\n",
    "        Ajouter un compte externe à la banque\n",
    "        \"\"\"\n",
    "        if issubclass(type(compte), CompteSimple):\n",
    "            self.comptes.append(compte)"
   ]
  },
  {
   "cell_type": "code",
   "execution_count": 11,
   "metadata": {},
   "outputs": [
    {
     "name": "stdout",
     "output_type": "stream",
     "text": [
      "1910.01\n",
      "1898.01\n",
      "Le solde du compte  est de 498 €\n",
      "-2\n",
      "Le solde du compte  est de 3 €\n",
      "-2\n",
      "Le solde du compte  est de 1188.01 €\n",
      "-500\n",
      "-300\n",
      "-9.99\n",
      "+800\n",
      "-2\n"
     ]
    }
   ],
   "source": [
    "b = Banque()\n",
    "b.openCS(10)\n",
    "b.openCS(200)\n",
    "b.openCC(500)\n",
    "b.openCC(5)\n",
    "b.ajoutCompte(livret)\n",
    "b.ajoutCompte(cc)\n",
    "print(b.total())\n",
    "b.frais()\n",
    "print(b.total())\n",
    "b.releveCC()"
   ]
  },
  {
   "cell_type": "markdown",
   "metadata": {},
   "source": [
    "## Exercice 6 : Numéro de compte\n",
    "Chaque compte en France doit être identifié par un numéro IBAN dont le format est le suivant : **FRkk BBBB BGGG GGCC CCCC CCCC CKK**\n",
    "- **FRkk** = code pays ;\n",
    "- **B** = code banque ;\n",
    "- **G** = code guichet ;\n",
    "- **C** = numéro de compte ;\n",
    "- **K** = clef.\n",
    "\n",
    "Dans notre classe « Banque » on prendra :\n",
    "- « FR76 » pour le code pays ;\n",
    "- « 12345 » pour le code banque ;\n",
    "- « 00001 » pour le code guichet (On suppose que notre banque n’a qu’une seule agence) ;\n",
    "- Un numéro incrémenté de 9 chiffres pour chaque numéro de compte auquel on ajoute à la fin un code de 2 chiffres pour le type de compte :\n",
    "- Compte simple : Commence par « 000000001 » et on concatène « 60 » à la fin ;\n",
    "- Compte courant : Commence par « 000000001 » et on concatène « 40 » à la fin.\n",
    "- La clé est une valeur calculée par la fonction : $$KK=(CC CCCC CCCC C) \\mod 2$$ *(La fonction pour calculer la clé est volontairement très simple pour ne pas s’attarder sur cepoint)*"
   ]
  },
  {
   "cell_type": "code",
   "execution_count": 12,
   "metadata": {},
   "outputs": [],
   "source": [
    "class BanqueFR(Banque):\n",
    "    def __init__(self, pays=\"76\", banque=\"12345\", guichet=\"00001\"):\n",
    "        Banque.__init__(self)\n",
    "        self.comptes = []\n",
    "        self.pays = \"FR\" + pays\n",
    "        self.banque = banque\n",
    "        self.guichet = guichet\n",
    "        self.nbCompte = 0\n",
    "\n",
    "    def openCS(self, solde):\n",
    "        self.nbCompte += 1\n",
    "        kk = str(self.nbCompte % 2).zfill(2)\n",
    "        iban = self.pays + self.banque + self.guichet + str(\n",
    "            self.nbCompte).zfill(9) + \"60\" + kk\n",
    "        self.comptes.append(CompteSimple(solde, iban))\n",
    "\n",
    "    def openCC(self, solde):\n",
    "        self.nbCompte += 1\n",
    "        kk = str(self.nbCompte % 2).zfill(2)\n",
    "        iban = self.pays + self.banque + self.guichet + str(\n",
    "            self.nbCompte).zfill(9) + \"40\" + kk\n",
    "        self.comptes.append(CompteCourant(solde, iban))"
   ]
  },
  {
   "cell_type": "code",
   "execution_count": 13,
   "metadata": {},
   "outputs": [
    {
     "name": "stdout",
     "output_type": "stream",
     "text": [
      "Le solde du compte FR7612345000010000000016001 est de 100 €\n",
      "Le solde du compte FR7612345000010000000024000 est de 5 €\n",
      "Le solde du compte FR7612345000010000000036001 est de 1.5 €\n",
      "Le solde du compte FR7612345000010000000044000 est de 1500 €\n",
      "\n"
     ]
    }
   ],
   "source": [
    "bf = BanqueFR()\n",
    "bf.openCS(100)\n",
    "bf.openCC(5)\n",
    "bf.openCS(1.50)\n",
    "bf.openCC(1500)\n",
    "print(bf)"
   ]
  }
 ],
 "metadata": {
  "kernelspec": {
   "display_name": "Python 3",
   "language": "python",
   "name": "python3"
  },
  "language_info": {
   "codemirror_mode": {
    "name": "ipython",
    "version": 3
   },
   "file_extension": ".py",
   "mimetype": "text/x-python",
   "name": "python",
   "nbconvert_exporter": "python",
   "pygments_lexer": "ipython3",
   "version": "3.7.5"
  },
  "latex_envs": {
   "LaTeX_envs_menu_present": true,
   "autoclose": true,
   "autocomplete": true,
   "bibliofile": "biblio.bib",
   "cite_by": "apalike",
   "current_citInitial": 1,
   "eqLabelWithNumbers": true,
   "eqNumInitial": 1,
   "hotkeys": {
    "equation": "Ctrl-E",
    "itemize": "Ctrl-I"
   },
   "labels_anchors": false,
   "latex_user_defs": false,
   "report_style_numbering": false,
   "user_envs_cfg": false
  },
  "toc": {
   "base_numbering": 1,
   "nav_menu": {},
   "number_sections": true,
   "sideBar": true,
   "skip_h1_title": false,
   "title_cell": "Table of Contents",
   "title_sidebar": "Contents",
   "toc_cell": false,
   "toc_position": {},
   "toc_section_display": true,
   "toc_window_display": false
  },
  "varInspector": {
   "cols": {
    "lenName": 16,
    "lenType": 16,
    "lenVar": 40
   },
   "kernels_config": {
    "python": {
     "delete_cmd_postfix": "",
     "delete_cmd_prefix": "del ",
     "library": "var_list.py",
     "varRefreshCmd": "print(var_dic_list())"
    },
    "r": {
     "delete_cmd_postfix": ") ",
     "delete_cmd_prefix": "rm(",
     "library": "var_list.r",
     "varRefreshCmd": "cat(var_dic_list()) "
    }
   },
   "types_to_exclude": [
    "module",
    "function",
    "builtin_function_or_method",
    "instance",
    "_Feature"
   ],
   "window_display": false
  }
 },
 "nbformat": 4,
 "nbformat_minor": 2
}
