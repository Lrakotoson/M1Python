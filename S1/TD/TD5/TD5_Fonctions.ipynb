{
 "cells": [
  {
   "cell_type": "code",
   "execution_count": 1,
   "metadata": {},
   "outputs": [],
   "source": [
    "from liste_entiers import liste_entiers as le"
   ]
  },
  {
   "cell_type": "code",
   "execution_count": 2,
   "metadata": {},
   "outputs": [
    {
     "data": {
      "text/plain": [
       "9988"
      ]
     },
     "execution_count": 2,
     "metadata": {},
     "output_type": "execute_result"
    }
   ],
   "source": [
    "def nbEntier(liste):\n",
    "    return len([i for i in liste if i!= 0])\n",
    "\n",
    "nbEntier(le)"
   ]
  },
  {
   "cell_type": "code",
   "execution_count": 3,
   "metadata": {},
   "outputs": [],
   "source": [
    "def triPair(liste):\n",
    "    pair = [i for i in liste if i%2 == 0]\n",
    "    impair = [i for i in liste if i%2 == 0]\n",
    "    return [pair, impair]\n",
    "\n",
    "trier = triPair(le)"
   ]
  },
  {
   "cell_type": "code",
   "execution_count": 4,
   "metadata": {},
   "outputs": [
    {
     "data": {
      "text/plain": [
       "995"
      ]
     },
     "execution_count": 4,
     "metadata": {},
     "output_type": "execute_result"
    }
   ],
   "source": [
    "def grandeDif(liste):\n",
    "    dif = [abs(x-i) for i,x in zip(liste[:-1],liste[1:])]\n",
    "    return max(dif)\n",
    "\n",
    "grandeDif(le)"
   ]
  },
  {
   "cell_type": "code",
   "execution_count": 5,
   "metadata": {},
   "outputs": [],
   "source": [
    "def effectifClasse(liste, *args):\n",
    "    pass"
   ]
  },
  {
   "cell_type": "code",
   "execution_count": 6,
   "metadata": {},
   "outputs": [
    {
     "data": {
      "text/plain": [
       "'des noel ou un zephyr hai me vet de glacons wurmiens, je dine d’exquis rotis de boeuf au kir al’ay d’age mur et caetera !'"
      ]
     },
     "execution_count": 6,
     "metadata": {},
     "output_type": "execute_result"
    }
   ],
   "source": [
    "def normalise_texte(char):\n",
    "    specchar = ('à', 'â', 'æ', 'ç', 'é', 'è', 'ê', 'ë', 'î', 'ï', 'ô', 'œ', 'ù', 'û', 'ü', 'ÿ')\n",
    "    cleachar = ('a', 'a', 'ae', 'c', 'e', 'e', 'e', 'e', 'i', 'i', 'o', 'oe', 'u', 'u', 'u', 'y')\n",
    "    char = char.lower()\n",
    "    for spec, clean in zip(specchar, cleachar):\n",
    "        char = char.replace(spec, clean)\n",
    "    return char\n",
    "\n",
    "\n",
    "phrase = \"Dès Noël où un zéphyr haï me vêt de glaçons würmiens, \\\n",
    "je dîne d’exquis rôtis de bœuf au kir àl’aÿ d’âge mûr et cætera !\"\n",
    "normalise_texte(phrase)"
   ]
  },
  {
   "cell_type": "code",
   "execution_count": 7,
   "metadata": {},
   "outputs": [
    {
     "name": "stdout",
     "output_type": "stream",
     "text": [
      "Entrer une chaîne de caractères :abba baab abab\n",
      "Entrer le motif à remplacer :ab\n",
      "Entrer le motif de remplacement :de\n"
     ]
    },
    {
     "data": {
      "text/plain": [
       "'deba bade dede'"
      ]
     },
     "execution_count": 7,
     "metadata": {},
     "output_type": "execute_result"
    }
   ],
   "source": [
    "def remplacer():\n",
    "    char = input(\"Entrer une chaîne de caractères :\")\n",
    "    special = input(\"Entrer le motif à remplacer :\")\n",
    "    rempl = input(\"Entrer le motif de remplacement :\")\n",
    "    \n",
    "    char = char.replace(special, rempl)\n",
    "    return char\n",
    "\n",
    "remplacer()"
   ]
  },
  {
   "cell_type": "code",
   "execution_count": 14,
   "metadata": {},
   "outputs": [
    {
     "data": {
      "text/plain": [
       "('deba badea dede', 4, [0, 7, 11, 13])"
      ]
     },
     "execution_count": 14,
     "metadata": {},
     "output_type": "execute_result"
    }
   ],
   "source": [
    "def remplacer2(char, special, rempl):\n",
    "    nbspec = char.count(special)\n",
    "    lindex = [i for i in range(len(char)) if char.startswith(special, i)]\n",
    "    char = char.replace(special, rempl)\n",
    "    return char, nbspec, lindex\n",
    "\n",
    "remplacer2(\"abba baaba abab\", \"ab\", \"de\")"
   ]
  },
  {
   "cell_type": "code",
   "execution_count": 42,
   "metadata": {},
   "outputs": [
    {
     "data": {
      "text/plain": [
       "[[2, 4, 6, 8], [10, 12, 14, 16], [18, 20, 22, 24], [26, 28, 30, 32]]"
      ]
     },
     "execution_count": 42,
     "metadata": {},
     "output_type": "execute_result"
    }
   ],
   "source": [
    "def matricePair(n):\n",
    "    lvaleurs = list(range(2,n**2*2+1,2))\n",
    "    mat = [[lvaleurs[n* i + j] for j in range(n)] for i in range(n)]\n",
    "    return mat\n",
    "\n",
    "matricePair(4)"
   ]
  },
  {
   "cell_type": "code",
   "execution_count": 45,
   "metadata": {},
   "outputs": [],
   "source": [
    "def matriceId(n):\n",
    "    pass"
   ]
  },
  {
   "cell_type": "code",
   "execution_count": 58,
   "metadata": {},
   "outputs": [
    {
     "data": {
      "text/plain": [
       "list"
      ]
     },
     "execution_count": 58,
     "metadata": {},
     "output_type": "execute_result"
    }
   ],
   "source": [
    "t = [[0]*3]*3\n",
    "type(t)"
   ]
  }
 ],
 "metadata": {
  "kernelspec": {
   "display_name": "Python 3",
   "language": "python",
   "name": "python3"
  },
  "language_info": {
   "codemirror_mode": {
    "name": "ipython",
    "version": 3
   },
   "file_extension": ".py",
   "mimetype": "text/x-python",
   "name": "python",
   "nbconvert_exporter": "python",
   "pygments_lexer": "ipython3",
   "version": "3.7.3"
  },
  "toc": {
   "base_numbering": 1,
   "nav_menu": {},
   "number_sections": true,
   "sideBar": true,
   "skip_h1_title": false,
   "title_cell": "Table of Contents",
   "title_sidebar": "Contents",
   "toc_cell": false,
   "toc_position": {},
   "toc_section_display": true,
   "toc_window_display": false
  },
  "varInspector": {
   "cols": {
    "lenName": 16,
    "lenType": 16,
    "lenVar": 40
   },
   "kernels_config": {
    "python": {
     "delete_cmd_postfix": "",
     "delete_cmd_prefix": "del ",
     "library": "var_list.py",
     "varRefreshCmd": "print(var_dic_list())"
    },
    "r": {
     "delete_cmd_postfix": ") ",
     "delete_cmd_prefix": "rm(",
     "library": "var_list.r",
     "varRefreshCmd": "cat(var_dic_list()) "
    }
   },
   "types_to_exclude": [
    "module",
    "function",
    "builtin_function_or_method",
    "instance",
    "_Feature"
   ],
   "window_display": false
  }
 },
 "nbformat": 4,
 "nbformat_minor": 2
}
