{
 "cells": [
  {
   "cell_type": "markdown",
   "metadata": {},
   "source": [
    "# TD4 - Les séquences"
   ]
  },
  {
   "cell_type": "code",
   "execution_count": 1,
   "metadata": {},
   "outputs": [],
   "source": [
    "from math import pi, sin"
   ]
  },
  {
   "cell_type": "markdown",
   "metadata": {},
   "source": [
    "## Exercice 2 : Points de la fonction sinus\n",
    "Écrire un script qui calcul la liste des valeurs du sinus des angles de 0°à 360°, par pas de 1°. Attention : la fonction sin() du module math considère que les angles sont fournis en radians (360° = 2$\\pi$radians). Affichons uniquement les 5 premières valeurs."
   ]
  },
  {
   "cell_type": "code",
   "execution_count": 2,
   "metadata": {},
   "outputs": [
    {
     "data": {
      "text/plain": [
       "[0.0,\n",
       " 0.01745240643728351,\n",
       " 0.03489949670250097,\n",
       " 0.05233595624294383,\n",
       " 0.0697564737441253]"
      ]
     },
     "execution_count": 2,
     "metadata": {},
     "output_type": "execute_result"
    }
   ],
   "source": [
    "[sin(i*pi/180) for i in range(360)][:5]"
   ]
  },
  {
   "cell_type": "markdown",
   "metadata": {},
   "source": [
    "## Exercice 3 : Tables de multiplications\n",
    "Écrire un script qui calcul les 10 premiers termes des tables de multiplication par 2, 3, 5, 7, 11,13, 17, 19 (ces nombres seront placés au départ dans une liste). Le résultat sera stocké dans une liste de liste."
   ]
  },
  {
   "cell_type": "code",
   "execution_count": 3,
   "metadata": {},
   "outputs": [
    {
     "data": {
      "text/plain": [
       "[[2, 4, 6, 8, 10, 12, 14, 16, 18, 20],\n",
       " [3, 6, 9, 12, 15, 18, 21, 24, 27, 30],\n",
       " [5, 10, 15, 20, 25, 30, 35, 40, 45, 50],\n",
       " [7, 14, 21, 28, 35, 42, 49, 56, 63, 70],\n",
       " [11, 22, 33, 44, 55, 66, 77, 88, 99, 110],\n",
       " [13, 26, 39, 52, 65, 78, 91, 104, 117, 130],\n",
       " [17, 34, 51, 68, 85, 102, 119, 136, 153, 170],\n",
       " [19, 38, 57, 76, 95, 114, 133, 152, 171, 190]]"
      ]
     },
     "execution_count": 3,
     "metadata": {},
     "output_type": "execute_result"
    }
   ],
   "source": [
    "multipication = (2, 3, 5, 7, 11, 13, 17, 19)\n",
    "[[i*mult for i in range(1, 11)] for mult in multipication]"
   ]
  },
  {
   "cell_type": "markdown",
   "metadata": {},
   "source": [
    "## Exercice 4 : Liste des carrés et des cubes entre deux valeurs\n",
    "Écrire un script python qui calcul la liste des carrés et des cubes des nombres de la borne inférieure à la borne supérieure saisies par l’utilisateur (Gérer par une exception une saisie des bornes incorrect)."
   ]
  },
  {
   "cell_type": "code",
   "execution_count": 8,
   "metadata": {},
   "outputs": [
    {
     "name": "stdout",
     "output_type": "stream",
     "text": [
      "Borne inférieure :0\n",
      "Borne supérieure :5\n",
      "[[0, 0], [1, 1], [4, 8], [9, 27], [16, 64]]\n"
     ]
    }
   ],
   "source": [
    "while True:\n",
    "    try:\n",
    "        inf = int(input(\"Borne inférieure :\"))\n",
    "        sup = int(input(\"Borne supérieure :\"))\n",
    "    except ValueError:\n",
    "        print(\"Ce n'est pas un nombre\")\n",
    "    else:\n",
    "        print([[pow(i,2),pow(i,3)] for i in range(inf, sup)])\n",
    "        break"
   ]
  },
  {
   "cell_type": "markdown",
   "metadata": {},
   "source": [
    "## Exercice 5 : Longueur chaine de caractères\n",
    "Soit la liste suivante : [’Jean-Michel’,’Marc’,’Vanessa’,’Anne’,’Maximilien’, ’Alexandre-Benoît’,’Louise’].Écrire un script qui affiche chacun de ces noms avec le nombre de caractères correspondant."
   ]
  },
  {
   "cell_type": "code",
   "execution_count": 12,
   "metadata": {},
   "outputs": [
    {
     "data": {
      "text/plain": [
       "{'Jean-Michel': 11,\n",
       " 'Marc': 4,\n",
       " 'Vanessa': 7,\n",
       " 'Anne': 4,\n",
       " 'Maximilien': 10,\n",
       " 'Alexandre-Benoît': 16,\n",
       " 'Louise': 6}"
      ]
     },
     "execution_count": 12,
     "metadata": {},
     "output_type": "execute_result"
    }
   ],
   "source": [
    "{i:len(i) for i in ['Jean-Michel','Marc','Vanessa','Anne','Maximilien', 'Alexandre-Benoît','Louise']}"
   ]
  },
  {
   "cell_type": "markdown",
   "metadata": {},
   "source": [
    "## Exercice 6 : Liste sans doublon triée\n",
    "À partir d’une liste de nombres entiers quelconques, certains d’entre eux étant présents en plusieursexemplaires (exemple : 6,5,9,12,7,4,9,5,3,9,8,1,3,8). Écrire un script qui recopie cette liste dans uneautre, en omettant les doublons. La liste finale devra être triée."
   ]
  },
  {
   "cell_type": "code",
   "execution_count": 2,
   "metadata": {},
   "outputs": [
    {
     "data": {
      "text/plain": [
       "[1, 3, 4, 5, 6, 7, 8, 9, 12]"
      ]
     },
     "execution_count": 2,
     "metadata": {},
     "output_type": "execute_result"
    }
   ],
   "source": [
    "l = [6,5,9,12,7,4,9,5,3,9,8,1,3,8]\n",
    "sorted(set(l))"
   ]
  },
  {
   "cell_type": "markdown",
   "metadata": {},
   "source": [
    "## Exercice 7 : Quel est le mot le plus long d’une phrase ?\n",
    "Écrire un script qui recherche le mot le plus long dans une phrase saisie par l’utilisateur."
   ]
  },
  {
   "cell_type": "code",
   "execution_count": 5,
   "metadata": {},
   "outputs": [
    {
     "name": "stdout",
     "output_type": "stream",
     "text": [
      "Entrez une phrase : Je m'appelle Loïc\n"
     ]
    },
    {
     "data": {
      "text/plain": [
       "\"m'appelle\""
      ]
     },
     "execution_count": 5,
     "metadata": {},
     "output_type": "execute_result"
    }
   ],
   "source": [
    "phrase = input(\"Entrez une phrase : \")\n",
    "max(phrase.split(), key=lambda x:len(x))"
   ]
  },
  {
   "cell_type": "markdown",
   "metadata": {},
   "source": [
    "## Exercice 8 : Calendrier\n",
    "Écrire un script capable d’afficher la liste de tous les jours d’une année imaginaire, laquelle commencerait un jeudi. Votre script utilisera lui-même trois listes : une liste des noms de jours de la semaine, une liste des noms des mois, et une liste des nombres de jours que comportent chacun des mois (ne pas tenir compte des années bissextiles)."
   ]
  },
  {
   "cell_type": "code",
   "execution_count": 9,
   "metadata": {},
   "outputs": [],
   "source": [
    "jours = ['jeudi', 'vendredi', 'samedi', 'dimanche', 'lundi', 'mardi', 'mercredi']\n",
    "mois = ['Jan', 'Fev', 'Mar', 'Avr', 'Mai', 'Juin', 'Jul', 'Aout', 'Sept', 'Oct', 'Nov', 'Dec']\n",
    "nbjours = [31, 28, 31, 30, 31, 30, 31, 31, 30, 31, 30, 31]"
   ]
  },
  {
   "cell_type": "code",
   "execution_count": 27,
   "metadata": {},
   "outputs": [
    {
     "data": {
      "text/plain": [
       "['jeudi 1 Jan',\n",
       " 'vendredi 2 Jan',\n",
       " 'samedi 3 Jan',\n",
       " 'dimanche 4 Jan',\n",
       " 'lundi 5 Jan',\n",
       " 'mardi 6 Jan',\n",
       " 'mercredi 7 Jan',\n",
       " 'jeudi 8 Jan',\n",
       " 'vendredi 9 Jan',\n",
       " 'samedi 10 Jan',\n",
       " 'dimanche 11 Jan',\n",
       " 'lundi 12 Jan',\n",
       " 'mardi 13 Jan',\n",
       " 'mercredi 14 Jan',\n",
       " 'jeudi 15 Jan',\n",
       " 'vendredi 16 Jan',\n",
       " 'samedi 17 Jan',\n",
       " 'dimanche 18 Jan',\n",
       " 'lundi 19 Jan',\n",
       " 'mardi 20 Jan',\n",
       " 'mercredi 21 Jan',\n",
       " 'jeudi 22 Jan',\n",
       " 'vendredi 23 Jan',\n",
       " 'samedi 24 Jan',\n",
       " 'dimanche 25 Jan',\n",
       " 'lundi 26 Jan',\n",
       " 'mardi 27 Jan',\n",
       " 'mercredi 28 Jan',\n",
       " 'jeudi 29 Jan',\n",
       " 'vendredi 30 Jan',\n",
       " 'samedi 31 Jan',\n",
       " 'dimanche 1 Fev',\n",
       " 'lundi 2 Fev',\n",
       " 'mardi 3 Fev',\n",
       " 'mercredi 4 Fev',\n",
       " 'jeudi 5 Fev',\n",
       " 'vendredi 6 Fev',\n",
       " 'samedi 7 Fev',\n",
       " 'dimanche 8 Fev',\n",
       " 'lundi 9 Fev',\n",
       " 'mardi 10 Fev',\n",
       " 'mercredi 11 Fev',\n",
       " 'jeudi 12 Fev',\n",
       " 'vendredi 13 Fev',\n",
       " 'samedi 14 Fev',\n",
       " 'dimanche 15 Fev',\n",
       " 'lundi 16 Fev',\n",
       " 'mardi 17 Fev',\n",
       " 'mercredi 18 Fev',\n",
       " 'jeudi 19 Fev',\n",
       " 'vendredi 20 Fev',\n",
       " 'samedi 21 Fev',\n",
       " 'dimanche 22 Fev',\n",
       " 'lundi 23 Fev',\n",
       " 'mardi 24 Fev',\n",
       " 'mercredi 25 Fev',\n",
       " 'jeudi 26 Fev',\n",
       " 'vendredi 27 Fev',\n",
       " 'samedi 28 Fev',\n",
       " 'dimanche 1 Mar',\n",
       " 'lundi 2 Mar',\n",
       " 'mardi 3 Mar',\n",
       " 'mercredi 4 Mar',\n",
       " 'jeudi 5 Mar',\n",
       " 'vendredi 6 Mar',\n",
       " 'samedi 7 Mar',\n",
       " 'dimanche 8 Mar',\n",
       " 'lundi 9 Mar',\n",
       " 'mardi 10 Mar',\n",
       " 'mercredi 11 Mar',\n",
       " 'jeudi 12 Mar',\n",
       " 'vendredi 13 Mar',\n",
       " 'samedi 14 Mar',\n",
       " 'dimanche 15 Mar',\n",
       " 'lundi 16 Mar',\n",
       " 'mardi 17 Mar',\n",
       " 'mercredi 18 Mar',\n",
       " 'jeudi 19 Mar',\n",
       " 'vendredi 20 Mar',\n",
       " 'samedi 21 Mar',\n",
       " 'dimanche 22 Mar',\n",
       " 'lundi 23 Mar',\n",
       " 'mardi 24 Mar',\n",
       " 'mercredi 25 Mar',\n",
       " 'jeudi 26 Mar',\n",
       " 'vendredi 27 Mar',\n",
       " 'samedi 28 Mar',\n",
       " 'dimanche 29 Mar',\n",
       " 'lundi 30 Mar',\n",
       " 'mardi 31 Mar',\n",
       " 'mercredi 1 Avr',\n",
       " 'jeudi 2 Avr',\n",
       " 'vendredi 3 Avr',\n",
       " 'samedi 4 Avr',\n",
       " 'dimanche 5 Avr',\n",
       " 'lundi 6 Avr',\n",
       " 'mardi 7 Avr',\n",
       " 'mercredi 8 Avr',\n",
       " 'jeudi 9 Avr',\n",
       " 'vendredi 10 Avr',\n",
       " 'samedi 11 Avr',\n",
       " 'dimanche 12 Avr',\n",
       " 'lundi 13 Avr',\n",
       " 'mardi 14 Avr',\n",
       " 'mercredi 15 Avr',\n",
       " 'jeudi 16 Avr',\n",
       " 'vendredi 17 Avr',\n",
       " 'samedi 18 Avr',\n",
       " 'dimanche 19 Avr',\n",
       " 'lundi 20 Avr',\n",
       " 'mardi 21 Avr',\n",
       " 'mercredi 22 Avr',\n",
       " 'jeudi 23 Avr',\n",
       " 'vendredi 24 Avr',\n",
       " 'samedi 25 Avr',\n",
       " 'dimanche 26 Avr',\n",
       " 'lundi 27 Avr',\n",
       " 'mardi 28 Avr',\n",
       " 'mercredi 29 Avr',\n",
       " 'jeudi 30 Avr',\n",
       " 'vendredi 1 Mai',\n",
       " 'samedi 2 Mai',\n",
       " 'dimanche 3 Mai',\n",
       " 'lundi 4 Mai',\n",
       " 'mardi 5 Mai',\n",
       " 'mercredi 6 Mai',\n",
       " 'jeudi 7 Mai',\n",
       " 'vendredi 8 Mai',\n",
       " 'samedi 9 Mai',\n",
       " 'dimanche 10 Mai',\n",
       " 'lundi 11 Mai',\n",
       " 'mardi 12 Mai',\n",
       " 'mercredi 13 Mai',\n",
       " 'jeudi 14 Mai',\n",
       " 'vendredi 15 Mai',\n",
       " 'samedi 16 Mai',\n",
       " 'dimanche 17 Mai',\n",
       " 'lundi 18 Mai',\n",
       " 'mardi 19 Mai',\n",
       " 'mercredi 20 Mai',\n",
       " 'jeudi 21 Mai',\n",
       " 'vendredi 22 Mai',\n",
       " 'samedi 23 Mai',\n",
       " 'dimanche 24 Mai',\n",
       " 'lundi 25 Mai',\n",
       " 'mardi 26 Mai',\n",
       " 'mercredi 27 Mai',\n",
       " 'jeudi 28 Mai',\n",
       " 'vendredi 29 Mai',\n",
       " 'samedi 30 Mai',\n",
       " 'dimanche 31 Mai',\n",
       " 'lundi 1 Juin',\n",
       " 'mardi 2 Juin',\n",
       " 'mercredi 3 Juin',\n",
       " 'jeudi 4 Juin',\n",
       " 'vendredi 5 Juin',\n",
       " 'samedi 6 Juin',\n",
       " 'dimanche 7 Juin',\n",
       " 'lundi 8 Juin',\n",
       " 'mardi 9 Juin',\n",
       " 'mercredi 10 Juin',\n",
       " 'jeudi 11 Juin',\n",
       " 'vendredi 12 Juin',\n",
       " 'samedi 13 Juin',\n",
       " 'dimanche 14 Juin',\n",
       " 'lundi 15 Juin',\n",
       " 'mardi 16 Juin',\n",
       " 'mercredi 17 Juin',\n",
       " 'jeudi 18 Juin',\n",
       " 'vendredi 19 Juin',\n",
       " 'samedi 20 Juin',\n",
       " 'dimanche 21 Juin',\n",
       " 'lundi 22 Juin',\n",
       " 'mardi 23 Juin',\n",
       " 'mercredi 24 Juin',\n",
       " 'jeudi 25 Juin',\n",
       " 'vendredi 26 Juin',\n",
       " 'samedi 27 Juin',\n",
       " 'dimanche 28 Juin',\n",
       " 'lundi 29 Juin',\n",
       " 'mardi 30 Juin',\n",
       " 'mercredi 1 Jul',\n",
       " 'jeudi 2 Jul',\n",
       " 'vendredi 3 Jul',\n",
       " 'samedi 4 Jul',\n",
       " 'dimanche 5 Jul',\n",
       " 'lundi 6 Jul',\n",
       " 'mardi 7 Jul',\n",
       " 'mercredi 8 Jul',\n",
       " 'jeudi 9 Jul',\n",
       " 'vendredi 10 Jul',\n",
       " 'samedi 11 Jul',\n",
       " 'dimanche 12 Jul',\n",
       " 'lundi 13 Jul',\n",
       " 'mardi 14 Jul',\n",
       " 'mercredi 15 Jul',\n",
       " 'jeudi 16 Jul',\n",
       " 'vendredi 17 Jul',\n",
       " 'samedi 18 Jul',\n",
       " 'dimanche 19 Jul',\n",
       " 'lundi 20 Jul',\n",
       " 'mardi 21 Jul',\n",
       " 'mercredi 22 Jul',\n",
       " 'jeudi 23 Jul',\n",
       " 'vendredi 24 Jul',\n",
       " 'samedi 25 Jul',\n",
       " 'dimanche 26 Jul',\n",
       " 'lundi 27 Jul',\n",
       " 'mardi 28 Jul',\n",
       " 'mercredi 29 Jul',\n",
       " 'jeudi 30 Jul',\n",
       " 'vendredi 31 Jul',\n",
       " 'samedi 1 Aout',\n",
       " 'dimanche 2 Aout',\n",
       " 'lundi 3 Aout',\n",
       " 'mardi 4 Aout',\n",
       " 'mercredi 5 Aout',\n",
       " 'jeudi 6 Aout',\n",
       " 'vendredi 7 Aout',\n",
       " 'samedi 8 Aout',\n",
       " 'dimanche 9 Aout',\n",
       " 'lundi 10 Aout',\n",
       " 'mardi 11 Aout',\n",
       " 'mercredi 12 Aout',\n",
       " 'jeudi 13 Aout',\n",
       " 'vendredi 14 Aout',\n",
       " 'samedi 15 Aout',\n",
       " 'dimanche 16 Aout',\n",
       " 'lundi 17 Aout',\n",
       " 'mardi 18 Aout',\n",
       " 'mercredi 19 Aout',\n",
       " 'jeudi 20 Aout',\n",
       " 'vendredi 21 Aout',\n",
       " 'samedi 22 Aout',\n",
       " 'dimanche 23 Aout',\n",
       " 'lundi 24 Aout',\n",
       " 'mardi 25 Aout',\n",
       " 'mercredi 26 Aout',\n",
       " 'jeudi 27 Aout',\n",
       " 'vendredi 28 Aout',\n",
       " 'samedi 29 Aout',\n",
       " 'dimanche 30 Aout',\n",
       " 'lundi 31 Aout',\n",
       " 'mardi 1 Sept',\n",
       " 'mercredi 2 Sept',\n",
       " 'jeudi 3 Sept',\n",
       " 'vendredi 4 Sept',\n",
       " 'samedi 5 Sept',\n",
       " 'dimanche 6 Sept',\n",
       " 'lundi 7 Sept',\n",
       " 'mardi 8 Sept',\n",
       " 'mercredi 9 Sept',\n",
       " 'jeudi 10 Sept',\n",
       " 'vendredi 11 Sept',\n",
       " 'samedi 12 Sept',\n",
       " 'dimanche 13 Sept',\n",
       " 'lundi 14 Sept',\n",
       " 'mardi 15 Sept',\n",
       " 'mercredi 16 Sept',\n",
       " 'jeudi 17 Sept',\n",
       " 'vendredi 18 Sept',\n",
       " 'samedi 19 Sept',\n",
       " 'dimanche 20 Sept',\n",
       " 'lundi 21 Sept',\n",
       " 'mardi 22 Sept',\n",
       " 'mercredi 23 Sept',\n",
       " 'jeudi 24 Sept',\n",
       " 'vendredi 25 Sept',\n",
       " 'samedi 26 Sept',\n",
       " 'dimanche 27 Sept',\n",
       " 'lundi 28 Sept',\n",
       " 'mardi 29 Sept',\n",
       " 'mercredi 30 Sept',\n",
       " 'jeudi 1 Oct',\n",
       " 'vendredi 2 Oct',\n",
       " 'samedi 3 Oct',\n",
       " 'dimanche 4 Oct',\n",
       " 'lundi 5 Oct',\n",
       " 'mardi 6 Oct',\n",
       " 'mercredi 7 Oct',\n",
       " 'jeudi 8 Oct',\n",
       " 'vendredi 9 Oct',\n",
       " 'samedi 10 Oct',\n",
       " 'dimanche 11 Oct',\n",
       " 'lundi 12 Oct',\n",
       " 'mardi 13 Oct',\n",
       " 'mercredi 14 Oct',\n",
       " 'jeudi 15 Oct',\n",
       " 'vendredi 16 Oct',\n",
       " 'samedi 17 Oct',\n",
       " 'dimanche 18 Oct',\n",
       " 'lundi 19 Oct',\n",
       " 'mardi 20 Oct',\n",
       " 'mercredi 21 Oct',\n",
       " 'jeudi 22 Oct',\n",
       " 'vendredi 23 Oct',\n",
       " 'samedi 24 Oct',\n",
       " 'dimanche 25 Oct',\n",
       " 'lundi 26 Oct',\n",
       " 'mardi 27 Oct',\n",
       " 'mercredi 28 Oct',\n",
       " 'jeudi 29 Oct',\n",
       " 'vendredi 30 Oct',\n",
       " 'samedi 31 Oct',\n",
       " 'dimanche 1 Nov',\n",
       " 'lundi 2 Nov',\n",
       " 'mardi 3 Nov',\n",
       " 'mercredi 4 Nov',\n",
       " 'jeudi 5 Nov',\n",
       " 'vendredi 6 Nov',\n",
       " 'samedi 7 Nov',\n",
       " 'dimanche 8 Nov',\n",
       " 'lundi 9 Nov',\n",
       " 'mardi 10 Nov',\n",
       " 'mercredi 11 Nov',\n",
       " 'jeudi 12 Nov',\n",
       " 'vendredi 13 Nov',\n",
       " 'samedi 14 Nov',\n",
       " 'dimanche 15 Nov',\n",
       " 'lundi 16 Nov',\n",
       " 'mardi 17 Nov',\n",
       " 'mercredi 18 Nov',\n",
       " 'jeudi 19 Nov',\n",
       " 'vendredi 20 Nov',\n",
       " 'samedi 21 Nov',\n",
       " 'dimanche 22 Nov',\n",
       " 'lundi 23 Nov',\n",
       " 'mardi 24 Nov',\n",
       " 'mercredi 25 Nov',\n",
       " 'jeudi 26 Nov',\n",
       " 'vendredi 27 Nov',\n",
       " 'samedi 28 Nov',\n",
       " 'dimanche 29 Nov',\n",
       " 'lundi 30 Nov',\n",
       " 'mardi 1 Dec',\n",
       " 'mercredi 2 Dec',\n",
       " 'jeudi 3 Dec',\n",
       " 'vendredi 4 Dec',\n",
       " 'samedi 5 Dec',\n",
       " 'dimanche 6 Dec',\n",
       " 'lundi 7 Dec',\n",
       " 'mardi 8 Dec',\n",
       " 'mercredi 9 Dec',\n",
       " 'jeudi 10 Dec',\n",
       " 'vendredi 11 Dec',\n",
       " 'samedi 12 Dec',\n",
       " 'dimanche 13 Dec',\n",
       " 'lundi 14 Dec',\n",
       " 'mardi 15 Dec',\n",
       " 'mercredi 16 Dec',\n",
       " 'jeudi 17 Dec',\n",
       " 'vendredi 18 Dec',\n",
       " 'samedi 19 Dec',\n",
       " 'dimanche 20 Dec',\n",
       " 'lundi 21 Dec',\n",
       " 'mardi 22 Dec',\n",
       " 'mercredi 23 Dec',\n",
       " 'jeudi 24 Dec',\n",
       " 'vendredi 25 Dec',\n",
       " 'samedi 26 Dec',\n",
       " 'dimanche 27 Dec',\n",
       " 'lundi 28 Dec',\n",
       " 'mardi 29 Dec',\n",
       " 'mercredi 30 Dec',\n",
       " 'jeudi 31 Dec']"
      ]
     },
     "execution_count": 27,
     "metadata": {},
     "output_type": "execute_result"
    }
   ],
   "source": [
    "[\n",
    "    \"{} {} {}\".format(jour, date, mens) for jour, date, mens in zip(\n",
    "        jours * sum(nbjours),\n",
    "        sum([list(range(1, i + 1)) for i in nbjours], []),\n",
    "        sum([[month] * nb for month, nb in zip(mois, nbjours)], []))\n",
    "]"
   ]
  },
  {
   "cell_type": "markdown",
   "metadata": {},
   "source": []
  }
 ],
 "metadata": {
  "kernelspec": {
   "display_name": "Python 3",
   "language": "python",
   "name": "python3"
  },
  "language_info": {
   "codemirror_mode": {
    "name": "ipython",
    "version": 3
   },
   "file_extension": ".py",
   "mimetype": "text/x-python",
   "name": "python",
   "nbconvert_exporter": "python",
   "pygments_lexer": "ipython3",
   "version": "3.7.3"
  },
  "toc": {
   "base_numbering": 1,
   "nav_menu": {},
   "number_sections": true,
   "sideBar": true,
   "skip_h1_title": false,
   "title_cell": "Table of Contents",
   "title_sidebar": "Contents",
   "toc_cell": false,
   "toc_position": {},
   "toc_section_display": true,
   "toc_window_display": false
  },
  "varInspector": {
   "cols": {
    "lenName": 16,
    "lenType": 16,
    "lenVar": 40
   },
   "kernels_config": {
    "python": {
     "delete_cmd_postfix": "",
     "delete_cmd_prefix": "del ",
     "library": "var_list.py",
     "varRefreshCmd": "print(var_dic_list())"
    },
    "r": {
     "delete_cmd_postfix": ") ",
     "delete_cmd_prefix": "rm(",
     "library": "var_list.r",
     "varRefreshCmd": "cat(var_dic_list()) "
    }
   },
   "types_to_exclude": [
    "module",
    "function",
    "builtin_function_or_method",
    "instance",
    "_Feature"
   ],
   "window_display": false
  }
 },
 "nbformat": 4,
 "nbformat_minor": 2
}
