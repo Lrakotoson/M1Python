{
 "cells": [
  {
   "cell_type": "code",
   "execution_count": 1,
   "metadata": {},
   "outputs": [],
   "source": [
    "\"\"\"Données JSON et programmation objet\"\"\"\n",
    "################################################################################\n",
    "# fichier  : exo2.py\n",
    "# Auteur : RAKOTOSON Loic\n",
    "################################################################################"
   ]
  },
  {
   "cell_type": "code",
   "execution_count": 2,
   "metadata": {},
   "outputs": [],
   "source": [
    "################################################################################\n",
    "# Importation de fonctions externes :\n",
    "import json\n",
    "import pandas as pd\n",
    "from requests import get, HTTPError\n",
    "# Definition locale de fonctions :"
   ]
  },
  {
   "cell_type": "code",
   "execution_count": 3,
   "metadata": {},
   "outputs": [],
   "source": [
    "def getJsonData(base, dico):\n",
    "    with get(base, params = dico) as response:\n",
    "        return response.json()"
   ]
  },
  {
   "cell_type": "code",
   "execution_count": 4,
   "metadata": {},
   "outputs": [],
   "source": [
    "################################################################################\n",
    "# Definition des classes :"
   ]
  },
  {
   "cell_type": "code",
   "execution_count": 5,
   "metadata": {},
   "outputs": [],
   "source": [
    "class Residence():\n",
    "    \n",
    "    def __init__(self, dico):\n",
    "        self.nom = dico['nom']\n",
    "        self.desc = dico['description']\n",
    "        self.lat = dico['latitude']\n",
    "        self.lon = dico['longitude']\n",
    "        self.zone = dico['zone']\n",
    "    \n",
    "    def __repr__(self):\n",
    "        chaine = \"Résidence {} ({}): {}\".format(\n",
    "            self.nom.upper(),\n",
    "            self.zone,\n",
    "            self.desc\n",
    "        )\n",
    "        return chaine\n",
    "    \n",
    "    def distanceDe(self, longitude, latitude, profil):\n",
    "\n",
    "        base_url = \"https://api.openrouteservice.org/matrix\"\n",
    "        source = \",\".join([self.lon, self.lat])\n",
    "        dest = \",\".join([longitude, latitude])\n",
    "        params = {\n",
    "            \"api_key\" : APIKEY,\n",
    "            \"profile\": profil,\n",
    "            \"locations\": \"|\".join([source, dest]),\n",
    "            \"sources\": \"0\",\n",
    "            \"destinations\": \"1\",\n",
    "            \"metrics\": \"distance\",\n",
    "            \"units\": \"m\",\n",
    "        }\n",
    "\n",
    "        data = getJsonData(base_url, params)\n",
    "        return data['distances'][0][0]\n",
    "    \n",
    "    def dureeDe(self, longitude, latitude, profil):\n",
    "\n",
    "        base_url = \"https://api.openrouteservice.org/matrix\"\n",
    "        source = \",\".join([self.lon, self.lat])\n",
    "        dest = \",\".join([longitude, latitude])\n",
    "        params = {\n",
    "            \"api_key\" : APIKEY,\n",
    "            \"profile\": profil,\n",
    "            \"locations\": \"|\".join([source, dest]),\n",
    "            \"sources\": \"0\",\n",
    "            \"destinations\": \"1\",\n",
    "            \"metrics\": \"duration\"\n",
    "        }\n",
    "\n",
    "        data = getJsonData(base_url, params)\n",
    "        return data['durations'][0][0]"
   ]
  },
  {
   "cell_type": "code",
   "execution_count": 6,
   "metadata": {},
   "outputs": [],
   "source": [
    "APIKEY = '5b3ce3597851110001cf62486cfda2a850de46e4a43253fa6adffd31'"
   ]
  },
  {
   "cell_type": "markdown",
   "metadata": {},
   "source": [
    "# Exercice 2: Données JSON et programmation objet\n",
    "Le but de l'exercice est de créer et d'utiliser des objets «Résidence» représentant les résidences du CROUS.\n",
    "\n",
    "## Question 1\n",
    "à l'aide du  module `json` de  Python charger les  données du  fichier `residences.json` dans    une   variable jsonData"
   ]
  },
  {
   "cell_type": "code",
   "execution_count": 7,
   "metadata": {},
   "outputs": [],
   "source": [
    "with open(\"residences.json\", \"r\", encoding=\"UTF-8\") as json_file:\n",
    "    jsonData = json.load(json_file)"
   ]
  },
  {
   "cell_type": "markdown",
   "metadata": {},
   "source": [
    "## Question 2\n",
    "créer une classe `Residence` et  son   constructeur qui,   à partir d'un   dictionnaire contenant les  données d'une résidence, crée   un  objet `Residence`"
   ]
  },
  {
   "cell_type": "code",
   "execution_count": 8,
   "metadata": {},
   "outputs": [],
   "source": [
    "r1 = Residence(jsonData[0])"
   ]
  },
  {
   "cell_type": "markdown",
   "metadata": {},
   "source": [
    "## Question 3\n",
    "ajouter à la  classe `Residence` une   méthode spéciale d'affichage pour    qu'une résidence s'affiche avec    un  `print()`"
   ]
  },
  {
   "cell_type": "code",
   "execution_count": 9,
   "metadata": {
    "scrolled": true
   },
   "outputs": [
    {
     "name": "stdout",
     "output_type": "stream",
     "text": [
      "Résidence LA GARE (Rennes Centre): Résidence du centre ville de Rennes à proximité immédiate de la gare SNCF, de la gare routière et du métro.\n"
     ]
    }
   ],
   "source": [
    "print(r1)"
   ]
  },
  {
   "cell_type": "markdown",
   "metadata": {},
   "source": [
    "## Question 4.1\n",
    "ajouter à la  classe `Residence` une   `méthodedistanceDe()` qui   prend comme premiers paramètres deux    coordonnées GPS  (une    longitude et  une   latitude, toutes deux    sous    forme d'une chaîne de  caractères), en  troisième paramètre un  profil de  parcours (par   exemple 'driving-car') et  qui   renvoie la  distance en  mètres entre la  résidence et  ces   coordonnées, selon le  profil de  parcours spécifié."
   ]
  },
  {
   "cell_type": "code",
   "execution_count": 10,
   "metadata": {},
   "outputs": [
    {
     "data": {
      "text/plain": [
       "4038.98"
      ]
     },
     "execution_count": 10,
     "metadata": {},
     "output_type": "execute_result"
    }
   ],
   "source": [
    "UnivR2 = (\"-1.702147\", \"48.118737\")\n",
    "profil = \"driving-car\"\n",
    "r1.distanceDe(*UnivR2, profil)"
   ]
  },
  {
   "cell_type": "markdown",
   "metadata": {},
   "source": [
    "## Question 4.2\n",
    "sur   le  même principe, ajouter à la  classe `Residence` une   `méthodedureeDe()` qui   renvoie la  durée de  parcours en  secondes entre la  résidence et  des   coordonnées GPS  fournies en  paramètres, selon un  profil de  parcours spécifié lui  aussi    en  paramètre."
   ]
  },
  {
   "cell_type": "code",
   "execution_count": 11,
   "metadata": {},
   "outputs": [
    {
     "data": {
      "text/plain": [
       "575.52"
      ]
     },
     "execution_count": 11,
     "metadata": {},
     "output_type": "execute_result"
    }
   ],
   "source": [
    "r1.dureeDe(*UnivR2, profil)"
   ]
  },
  {
   "cell_type": "markdown",
   "metadata": {},
   "source": [
    "## Question 5\n",
    "dans    le  programme principal, écrire le  code    Python permettant d'afficher les  résidences de  Rennes se  trouvant à **moins de  20  minutes à pied** du  campus de  Villejean avec    la  durée correspondante en  minutes"
   ]
  },
  {
   "cell_type": "code",
   "execution_count": 12,
   "metadata": {},
   "outputs": [],
   "source": [
    "list_residence = [Residence(res) for res in jsonData]\n",
    "profil = \"foot-walking\""
   ]
  },
  {
   "cell_type": "code",
   "execution_count": 13,
   "metadata": {},
   "outputs": [
    {
     "name": "stdout",
     "output_type": "stream",
     "text": [
      "A 14 minutes: Résidence VILLEJEAN OUEST (Rennes ouest-Villejean):  Résidence proche de l'université de Rennes II et campus santé\n",
      "A 15 minutes: Résidence LA HARPE (Rennes ouest-Villejean): Résidence proche du campus de Villejean. Restaurant universitaire A  proximité.\n",
      "A 9 minutes: Résidence LANGUEDOC (Rennes ouest-Villejean): Résidence proche du campus de Villejean.\n",
      "A 16 minutes: Résidence BARBARA (Rennes ouest-Villejean): Résidence proche du campus de Villejean. \n",
      "A 17 minutes: Résidence BEAUREGARD (Rennes ouest-Villejean): Résidence proche du campus de Villejean.\n",
      "A 5 minutes: Résidence ALSACE (Rennes ouest-Villejean): En face du campus de Rennes 2, à proximité du RU et du campus santé.\n",
      "A 14 minutes: Résidence LA TOUCHE (Rennes ouest-Villejean): Résidence de studios proche du Campus de Villejean, du Centre Ville et du METRO Anatole France .\n"
     ]
    }
   ],
   "source": [
    "for residence in list_residence:\n",
    "    if \"Rennes\" in residence.zone:\n",
    "        duree = residence.dureeDe(*UnivR2, profil)/60\n",
    "        if  duree <= 20:\n",
    "            print(\n",
    "                \"A {} minutes: {}\".format(\n",
    "                    int(duree),\n",
    "                    str(residence)\n",
    "                )\n",
    "            )"
   ]
  },
  {
   "cell_type": "markdown",
   "metadata": {},
   "source": [
    "## Question 6\n",
    "dans    le  programme principal, écrire le  code    Python permettant d'afficher les  résidences en  dehors de  Rennes (l'attribut zone ne  contient pas   'Rennes'),  et  la  **distance en  voiture** entre la  résidence et  le  campus de  Villejean, en  kilomètres."
   ]
  },
  {
   "cell_type": "code",
   "execution_count": 14,
   "metadata": {},
   "outputs": [
    {
     "name": "stdout",
     "output_type": "stream",
     "text": [
      "A 239.46 km: Résidence KERGOAT (Brest): A proximité des UFR Droit/Sciences Economiques, AES, STAPS et de l'IUT. \n",
      "A 238.76 km: Résidence LE BOUGUEN (Brest): Campus de l'UBO (Sciences, Lettres, IUFM, Médecine). Restaurant universitaire sur place. \n",
      "A 238.64 km: Résidence LANREDEC (Brest): Campus de l'UBO. Restaurant universitaire à proximité.\n",
      "A 210.38 km: Résidence QUIMPER RUE DE L'UNIVERSITE (Quimper):  Chambres près de l'IUT. Restaurant universitaire et caféteria sur place. \n",
      "A 115.35 km: Résidence LANN TRUSSAC (Vannes): Près de l'IUT et du Lycée Lesage. Restaurant université à proximité. \n",
      "A 152.01 km: Résidence LANVEUR (Lorient): Proche du campus universitaire. Face au restaurant universitaire . Maison des étudiants. \n",
      "A 163.64 km: Résidence EDOUARD BRANLY (Lannion): Chambres rénovées avec sanitaires individuels. A coté de l'IUT. Restaurant universitaire et cafétéria sur place.\n",
      "A 95.33 km: Résidence GERNUGAN (Saint Brieuc): Près du pôle universitaire. Bus A, B, C1, C2\n",
      "A 95.28 km: Résidence LOUCHEUR (Saint Brieuc): A proximité du pôle universitaire. Bus A.\n"
     ]
    }
   ],
   "source": [
    "profil = \"driving-car\"\n",
    "\n",
    "for residence in list_residence:\n",
    "    if \"Rennes\" not in residence.zone:\n",
    "        distance = residence.distanceDe(*UnivR2, profil)/1000\n",
    "        print(\n",
    "            \"A {} km: {}\".format(\n",
    "                round(distance, 2),\n",
    "                str(residence)\n",
    "            )\n",
    "        )"
   ]
  }
 ],
 "metadata": {
  "kernelspec": {
   "display_name": "Python 3",
   "language": "python",
   "name": "python3"
  },
  "language_info": {
   "codemirror_mode": {
    "name": "ipython",
    "version": 3
   },
   "file_extension": ".py",
   "mimetype": "text/x-python",
   "name": "python",
   "nbconvert_exporter": "python",
   "pygments_lexer": "ipython3",
   "version": "3.7.6"
  }
 },
 "nbformat": 4,
 "nbformat_minor": 4
}
