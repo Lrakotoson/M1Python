{
 "cells": [
  {
   "cell_type": "code",
   "execution_count": 1,
   "metadata": {},
   "outputs": [
    {
     "data": {
      "text/plain": [
       "\"Extraction d'informations dans un fichier XML\""
      ]
     },
     "execution_count": 1,
     "metadata": {},
     "output_type": "execute_result"
    }
   ],
   "source": [
    "\"\"\"Extraction d'informations dans un fichier XML\"\"\"\n",
    "################################################################################\n",
    "# fichier  : exo1.py\n",
    "# Auteur : RAKOTOSON Loic\n",
    "################################################################################"
   ]
  },
  {
   "cell_type": "code",
   "execution_count": 2,
   "metadata": {},
   "outputs": [],
   "source": [
    "################################################################################\n",
    "# Importation de fonctions externes :\n",
    "from lxml import etree\n",
    "import json\n",
    "# Definition locale de fonctions :"
   ]
  },
  {
   "cell_type": "code",
   "execution_count": 3,
   "metadata": {},
   "outputs": [],
   "source": [
    "def afficheXML(liste):\n",
    "    for elem in liste:\n",
    "        print('*******************************************************************************************************')\n",
    "        if type(elem) is etree._Element:\n",
    "            print(etree.tostring(elem,encoding='unicode'))\n",
    "        else:\n",
    "            print(elem)"
   ]
  },
  {
   "cell_type": "code",
   "execution_count": 4,
   "metadata": {},
   "outputs": [],
   "source": [
    "def xmlTodict(node):\n",
    "    \"\"\"\n",
    "    Renvoie un dictionnaire pour une noeud\n",
    "    :node: residence node\n",
    "    :return: dict\n",
    "    \"\"\"\n",
    "    dict_node = {\n",
    "        'nom': node.xpath(\"@title\")[0],\n",
    "        'description': node.xpath(\"@short_desc\")[0],\n",
    "        'latitude': node.xpath(\"@lat\")[0],\n",
    "        'longitude': node.xpath(\"@lon\")[0],\n",
    "        'zone': node.xpath(\"@zone\")[0]\n",
    "    }\n",
    "    \n",
    "    return dict_node"
   ]
  },
  {
   "cell_type": "code",
   "execution_count": 5,
   "metadata": {},
   "outputs": [],
   "source": [
    "################################################################################\n",
    "# Corps principal du programme :"
   ]
  },
  {
   "cell_type": "markdown",
   "metadata": {},
   "source": [
    "# Exercice 1: Extraction d'informations dans un fichier XML\n",
    "\n",
    "## Question 1\n",
    "à l'aide du  module `etree` de  `lxml`, charger les  données du  fichier `rennes-logement.xml` dans    un  arbre XML    et  récupérer le  nœud racine de  cet   arbre."
   ]
  },
  {
   "cell_type": "code",
   "execution_count": 6,
   "metadata": {},
   "outputs": [],
   "source": [
    "tree = etree.parse(\"rennes-logement.xml\")\n",
    "root = tree.getroot()"
   ]
  },
  {
   "cell_type": "markdown",
   "metadata": {},
   "source": [
    "## Question 2\n",
    "en  utilisant une   seule expression Xpath, extraire le  texte    des   éléments <contact> pour    les  résidences dont    la  zone    géographique contient «Villejean»"
   ]
  },
  {
   "cell_type": "code",
   "execution_count": 7,
   "metadata": {},
   "outputs": [
    {
     "name": "stdout",
     "output_type": "stream",
     "text": [
      "*******************************************************************************************************\n",
      "\n",
      "VILLEJEAN OUEST - Secrétariat : Résidence U Villejean-Ouest, 5 Rue du Maine 35000 RENNES <br>\n",
      "Vous souhaitez un logement <a href=\"http://www.crous-rennes.fr/logements/faire-une-demande-de-logement-en-cite-universitaire/\">dans cette résidence <br></a>\n",
      "\n",
      "\n",
      "*******************************************************************************************************\n",
      "\n",
      "LA HARPE - Secrétariat : Résidence U Villejean-Ouest, 5 Rue du Maine  35000 RENNES <br>\n",
      "Vous souhaitez un logement <a href=\"http://www.crous-rennes.fr/logements/faire-une-demande-de-logement-en-cite-universitaire/\">dans cette résidence <br></a>\n",
      "\n",
      "\n",
      "*******************************************************************************************************\n",
      "\n",
      "LANGUEDOC - Secrétariat : Résidence U Villejean-Ouest, 5 Rue du Maine  35000 RENNES <br>\n",
      "Vous souhaitez un logement <a href=\"http://www.crous-rennes.fr/logements/faire-une-demande-de-logement-en-cite-universitaire/\">dans cette résidence <br></a>\n",
      "\n",
      "\n",
      "*******************************************************************************************************\n",
      "\n",
      "BARBARA - Secrétariat : Résidence U Villejean-Ouest, 5 Rue du Maine  35000 RENNES <br>\n",
      "Vous souhaitez un logement <a href=\"http://www.crous-rennes.fr/logements/faire-une-demande-de-logement-en-cite-universitaire/\">dans cette résidence <br></a>\n",
      "\n",
      "\n",
      "*******************************************************************************************************\n",
      "\n",
      "BEAUREGARD - Secrétariat : Résidence U Villejean-Ouest, 5 Rue du Maine  35000 RENNES <br>\n",
      "Vous souhaitez un logement <a href=\"http://www.crous-rennes.fr/logements/faire-une-demande-de-logement-en-cite-universitaire/\">dans cette résidence <br></a>\n",
      "\n",
      "\n",
      "*******************************************************************************************************\n",
      "\n",
      "ALSACE - Secrétariat : Résidence U Alsace, 2 Rue d' Alsace 35000 RENNES <br>\n",
      "Vous souhaitez un logement <a href=\"http://www.crous-rennes.fr/logements/faire-une-demande-de-logement-en-cite-universitaire/\">dans cette résidence <br></a>\n",
      "\n",
      "\n",
      "*******************************************************************************************************\n",
      "\n",
      "LA TOUCHE - Secrétariat : Résidence U Alsace, 2 Rue d' Alsace 35000 RENNES <br>\n",
      "Vous souhaitez un logement <a href=\"http://www.crous-rennes.fr/logements/faire-une-demande-de-logement-en-cite-universitaire/\">dans cette résidence <br></a>\n",
      "\n",
      "\n",
      "\n",
      " ############# Question 2 #############\n",
      " None\n"
     ]
    }
   ],
   "source": [
    "query = \"residence[contains(@zone, 'Villejean')]/contact//text()\"\n",
    "print(\"\\n ############# Question 2 #############\\n\",afficheXML(root.xpath(query)))"
   ]
  },
  {
   "cell_type": "markdown",
   "metadata": {},
   "source": [
    "## Question 3\n",
    "en  utilisant une   seule expression Xpath, extraire les  éléments <residence> correspondant à des   résidences à Rennes proposant dans    leurs    services un  local    à vélos    mais    pas d'accès sécurisé."
   ]
  },
  {
   "cell_type": "code",
   "execution_count": 8,
   "metadata": {},
   "outputs": [
    {
     "name": "stdout",
     "output_type": "stream",
     "text": [
      "*******************************************************************************************************\n",
      "<residence id=\"L1\" title=\"LA GARE\" short_desc=\"R&#xE9;sidence du centre ville de Rennes &#xE0; proximit&#xE9; imm&#xE9;diate de la gare SNCF, de la gare routi&#xE8;re et du m&#xE9;tro.\" lat=\"48.1040703\" lon=\"-1.671259100000043\" zone=\"Rennes Centre\">\n",
      "<infos>\n",
      "&lt;img src=\"https://crous.parking.einden.com/static-images/ef8ef772d6c7f0a964dd6d3836c1d6fd.jpg\" /&gt;&lt;br&gt;&lt;br&gt;\n",
      "\n",
      "\n",
      " Résidence de  77 studios meublés avec kitchenette, prise Tv et  téléphone. Wifi &lt;br&gt;\n",
      " Types de logements: T1-T1bis-T2 ouvrant droit à l'APL. &lt;br&gt;\n",
      " 5 logements pour personnes à  mobilité réduite situés dans les étages.&lt;br&gt;\n",
      "      \n",
      "  </infos>\n",
      "\n",
      "<services>\n",
      "Local à  vélos, ascenseur, laverie, accès sécurisé\n",
      "</services>\n",
      "\n",
      "<contact>\n",
      "LA GARE - Secrétariat : Résidence U Sévigné, 94 Bd de Sévigné - 35700 Rennes &lt;br&gt;\n",
      "Vous souhaitez un logement &lt;a href=\"http://www.crous-rennes.fr/logements/faire-une-demande-de-logement-en-cite-universitaire/\"&gt;dans cette résidence &lt;br&gt;&lt;/a&gt;\n",
      "\n",
      "</contact>\n",
      "\n",
      "</residence>\n",
      "\n",
      "\n",
      "\n",
      "\n",
      "\n",
      "*******************************************************************************************************\n",
      "<residence id=\"L111\" title=\"JULES FERRY\" short_desc=\"R&#xE9;sidence du centre ville de Rennes situ&#xE9; en face de la fac de droit et pr&#xE8;s d'un Restaurant universitaire . Stationnement difficile. \" lat=\"48.1178422\" lon=\"-1.6708991000000424\" zone=\"Rennes Centre\">\n",
      "<infos>\n",
      "&lt;img src=\"https://crous.parking.einden.com/static-images/23b7578596dfb00afbca7a47fecf2a3b.jpg\" /&gt;&lt;br&gt; &lt;br&gt;\n",
      "\n",
      "Résidence de  75 studios ouvrant droit à l'APL et 50 chambres traditionnelles ouvrant droit à l'ALS. &lt;br&gt;\n",
      "Les studios T1 et T1bis sont  meublés avec kitchenette, prise Tv et téléphone. Wifi  &lt;br&gt;\n",
      "Pour les chambres , sanitaires et cuisine communs \n",
      "\n",
      "</infos>\n",
      "\n",
      "<services>\n",
      "Loge, accès sécurisé, laverie, salles de travail, salle de télévision. &lt;br&gt;Bus: 1, 31, 9 \n",
      "</services>\n",
      "\n",
      "<contact>\n",
      "JULES FERRY - Secrétariat : Résidence U Sévigné, 94 Bd de Sévigné - 35700 Rennes &lt;br&gt;\n",
      "Vous souhaitez un logement &lt;a href=\"http://www.crous-rennes.fr/logements/faire-une-demande-de-logement-en-cite-universitaire/\"&gt;dans cette résidence &lt;br&gt;&lt;/a&gt;\n",
      "\n",
      "</contact>\n",
      "\n",
      "</residence>\n",
      "\n",
      "\n",
      "\n",
      "\n",
      "\n",
      "\n",
      "\n",
      "*******************************************************************************************************\n",
      "<residence id=\"L112\" title=\"SEVIGNE\" short_desc=\"R&#xE9;sidence du centre ville de Rennes. A&#xA0; Proximit&#xE9; de la fac de droit et Sciences Eco et des RU Foug&#xE8;res et Duchesse Anne. \" lat=\"48.11607028273323\" lon=\"-1.6624116897583008\" zone=\"Rennes Centre\">\n",
      "<infos>\n",
      "&lt;img src=\"https://crous.parking.einden.com/static-images/edb09ba67e0a913cc347bdc3358f3780.jpg\" /&gt;&lt;br&gt; Résidence comprenant 109 T1 et T1bis et 136 chambres rénovées 12 m². Ouvrent droit à l'APL &lt;br&gt;\n",
      "Les studios T1 et T1bis sont  meublés avec kitchenette, prise Tv et  téléphone. Wifi. Ils ouvrent droit à l'APL. &lt;br&gt;\n",
      "Les chambres rénovées sont équipées de réfrigerateurs et possèdent douche et toilettes. Elles ouvrent droit à l'ALS. \n",
      "</infos>\n",
      "\n",
      "<services>\n",
      "Local à  vélos, laverie, gardien. &lt;br&gt;Bâtiment des chambres : salles de travail, salle de télévision et foyer.&lt;br&gt;Bus 31 \n",
      "</services>\n",
      "\n",
      "<contact>\n",
      "SEVIGNE - Secrétariat : Résidence U Sévigné, 94 Bd de Sévigné - 35700 Rennes &lt;br&gt;\n",
      "Vous souhaitez un logement &lt;a href=\"http://www.crous-rennes.fr/logements/faire-une-demande-de-logement-en-cite-universitaire/\"&gt;dans cette résidence &lt;br&gt;&lt;/a&gt;\n",
      "\n",
      "\n",
      "</contact>\n",
      "</residence>\n",
      "\n",
      "\n",
      "\n",
      "\n",
      "\n",
      "*******************************************************************************************************\n",
      "<residence id=\"L113\" title=\"PATTON\" short_desc=\"R&#xE9;sidence &#xE0; 10mn en bus des facs de droit, sciences eco et Rennes 2. \" lat=\"48.13100739999999\" lon=\"-1.6641042999999627\" zone=\"Rennes Centre\">\n",
      "<infos>\n",
      "&lt;img src=\"https://crous.parking.einden.com/static-images/47ba3d6579fed6f7025a5b41dc8c6b8e.jpg\" /&gt;&lt;br&gt; .  &lt;br&gt;\n",
      "\n",
      "344 chambres rénovées équipées de réfrigerateur, douche et toilettes. Elles ouvrent droit à l'ALS \n",
      "</infos>\n",
      "\n",
      "<services>\n",
      "Local à vélos, salle de travail, salle de télévision, foyer, laverie, loge, accès sécurisé. &lt;br&gt;Bus 5 et 30 \n",
      "</services>\n",
      "\n",
      "<contact>\n",
      "PATTON - Secrétariat : Résidence U Sévigné, 94 Bd de Sévigné - 35700 Rennes &lt;br&gt;\n",
      "Vous souhaitez un logement &lt;a href=\"http://www.crous-rennes.fr/logements/faire-une-demande-de-logement-en-cite-universitaire/\"&gt;dans cette résidence &lt;br&gt;&lt;/a&gt;\n",
      "\n",
      "\n",
      "</contact>\n",
      "</residence>\n",
      "\n",
      "\n",
      "\n",
      "\n",
      "\n",
      "*******************************************************************************************************\n",
      "<residence id=\"L114\" title=\"SAINT HELIER\" short_desc=\"R&#xE9;sidence du centre ville de Rennes &#xE0; proximit&#xE9; de la Gare . Stationnement difficile. \" lat=\"48.1074124\" lon=\"-1.6722959999999603\" zone=\"Rennes Centre\">\n",
      "<infos>\n",
      "&lt;img src=\"https://crous.parking.einden.com/static-images/f2bf6fa29b9c2ce7f8caba9b30668b3f.jpg\" /&gt;&lt;br&gt; &lt;br&gt;\n",
      "\n",
      "Résidence de  74 chambres traditionnelles ouvrant droit à l'ALS.&lt;br&gt;\n",
      "\n",
      "sanitaires et cuisine communs \n",
      "\n",
      "</infos>\n",
      "\n",
      "<services>\n",
      "Loge, accès sécurisé, laverie, salle de travail. &lt;br&gt;Métro, Gare, Bus 1,2 et 11 \n",
      "</services>\n",
      "\n",
      "<contact>\n",
      "SAINT HELIER - Secrétariat : Résidence U Sévigné, 94 Bd de Sévigné - 35700 Rennes &lt;br&gt;\n",
      "Vous souhaitez un logement &lt;a href=\"http://www.crous-rennes.fr/logements/faire-une-demande-de-logement-en-cite-universitaire/\"&gt;dans cette résidence &lt;br&gt;&lt;/a&gt;\n",
      "\n",
      "</contact>\n",
      "</residence>\n",
      "\n",
      "\n",
      "\n",
      "\n",
      "\n",
      "\n",
      "*******************************************************************************************************\n",
      "<residence id=\"L119\" title=\"VILLEJEAN OUEST\" short_desc=\" R&#xE9;sidence proche de l'universit&#xE9; de Rennes II et campus sant&#xE9;\" lat=\"48.1239859\" lon=\"-1.71177160000002\" zone=\"Rennes ouest-Villejean\">\n",
      "<infos>\n",
      "&lt;img src=\"https://crous.parking.einden.com/static-images/6b2738faf86bcc5116a59d67b3109be4.jpg\" /&gt;&lt;br&gt;  &lt;br&gt;Résidence de  294 chambres traditionnelles.&lt;br&gt;\n",
      "\n",
      "Sanitaires et cuisine communs. \n",
      "</infos>\n",
      "\n",
      "<services>\n",
      "Parking, local à  vélos, salle de travail, gardien, laverie, accès sécurisé, bibliothèque, bus 30 et 4, Métro  Kennedy.\n",
      "</services>\n",
      "\n",
      "<contact>\n",
      "VILLEJEAN OUEST - Secrétariat : Résidence U Villejean-Ouest, 5 Rue du Maine 35000 RENNES &lt;br&gt;\n",
      "Vous souhaitez un logement &lt;a href=\"http://www.crous-rennes.fr/logements/faire-une-demande-de-logement-en-cite-universitaire/\"&gt;dans cette résidence &lt;br&gt;&lt;/a&gt;\n",
      "\n",
      "</contact>\n",
      "</residence>\n",
      "\n",
      "\n",
      "\n",
      "\n",
      "\n",
      "\n",
      "\n",
      "\n",
      "*******************************************************************************************************\n",
      "<residence id=\"L24\" title=\"ALSACE\" short_desc=\"En face du campus de Rennes 2, &#xE0; proximit&#xE9; du RU et du campus sant&#xE9;.\" lat=\"48.1218426\" lon=\"-1.7038175000000138\" zone=\"Rennes ouest-Villejean\">\n",
      "<infos>\n",
      "&lt;img src=\"https://crous.parking.einden.com/static-images/e90651889abf957e8f9a8ec416fa8743.jpg\" /&gt;Résidence comprenant 300 studios T1, T1bis et T2 et 920 chambres rénovées 9 m². Ouvrent droit à l'APL.   &lt;br&gt;\n",
      "Les studios sont  meublés avec kitchenette, prise Tv et téléphone. Wifi &lt;br&gt;\n",
      "Les chambres rénovées sont équipées de réfrigerateurs et possèdent douche et toilettes,  \n",
      "</infos>\n",
      "\n",
      "<services> \n",
      "Parking, local à vélos, gardien, salle de travail, laverie, accès sécurisé, bibliothèque.\n",
      "</services>\n",
      "\n",
      "<contact>\n",
      "ALSACE - Secrétariat : Résidence U Alsace, 2 Rue d' Alsace 35000 RENNES &lt;br&gt;\n",
      "Vous souhaitez un logement &lt;a href=\"http://www.crous-rennes.fr/logements/faire-une-demande-de-logement-en-cite-universitaire/\"&gt;dans cette résidence &lt;br&gt;&lt;/a&gt;\n",
      "\n",
      "</contact>\n",
      "\n",
      "</residence>\n",
      "\n",
      "\n",
      "\n",
      "\n",
      "\n",
      "\n",
      "\n",
      "\n",
      "\n",
      " ############# Question 3 #############\n",
      " None\n"
     ]
    }
   ],
   "source": [
    "query = \"residence[contains(@short_desc, 'Rennes')]\"\\\n",
    "#\"[contains(services, 'Local à\\xa0 vélos') or contains(services, 'local à\\xa0 vélos') or \"\\\n",
    "\"[contains(services, 'Local à vélos') or contains(services, 'local à vélos')]\"\\\n",
    "\"[not(contains(services, 'accès sécurisé'))]\"\n",
    "\n",
    "print(\"\\n ############# Question 3 #############\\n\", afficheXML(root.xpath(query)))"
   ]
  },
  {
   "cell_type": "markdown",
   "metadata": {},
   "source": [
    "## Question 4\n",
    "écrire le  code    Python permettant d'extraire les  informations des   résidences et  d'obtenir une   liste   de  dictionnaires où  chaque dictionnaire représente une   résidence."
   ]
  },
  {
   "cell_type": "code",
   "execution_count": 9,
   "metadata": {},
   "outputs": [],
   "source": [
    "list_residence = [xmlTodict(residence) for residence in root.xpath(\"residence\")]"
   ]
  },
  {
   "cell_type": "code",
   "execution_count": 10,
   "metadata": {},
   "outputs": [
    {
     "name": "stdout",
     "output_type": "stream",
     "text": [
      "\n",
      " ############# Question 4 #############\n",
      "  Les 4 premiers éléments\n",
      "\n",
      " [{'nom': 'LA GARE', 'description': 'Résidence du centre ville de Rennes à proximité immédiate de la gare SNCF, de la gare routière et du métro.', 'latitude': '48.1040703', 'longitude': '-1.671259100000043', 'zone': 'Rennes Centre'}, {'nom': 'JULES FERRY', 'description': \"Résidence du centre ville de Rennes situé en face de la fac de droit et près d'un Restaurant universitaire . Stationnement difficile. \", 'latitude': '48.1178422', 'longitude': '-1.6708991000000424', 'zone': 'Rennes Centre'}, {'nom': 'SEVIGNE', 'description': 'Résidence du centre ville de Rennes. A\\xa0 Proximité de la fac de droit et Sciences Eco et des RU Fougères et Duchesse Anne. ', 'latitude': '48.11607028273323', 'longitude': '-1.6624116897583008', 'zone': 'Rennes Centre'}, {'nom': 'PATTON', 'description': 'Résidence à 10mn en bus des facs de droit, sciences eco et Rennes 2. ', 'latitude': '48.13100739999999', 'longitude': '-1.6641042999999627', 'zone': 'Rennes Centre'}]\n"
     ]
    }
   ],
   "source": [
    "print(\"\\n ############# Question 4 #############\\n  Les 4 premiers éléments\\n\\n\", list_residence[:4])"
   ]
  },
  {
   "cell_type": "markdown",
   "metadata": {},
   "source": [
    "## Question 5\n",
    "exporter le  dictionnaire de  la  question précédente au  format JSON."
   ]
  },
  {
   "cell_type": "code",
   "execution_count": 11,
   "metadata": {},
   "outputs": [],
   "source": [
    "with open('export_residence.json', 'w', encoding = \"UTF-8\") as file:\n",
    "    json.dump(list_residence, file)"
   ]
  }
 ],
 "metadata": {
  "kernelspec": {
   "display_name": "Python 3",
   "language": "python",
   "name": "python3"
  },
  "language_info": {
   "codemirror_mode": {
    "name": "ipython",
    "version": 3
   },
   "file_extension": ".py",
   "mimetype": "text/x-python",
   "name": "python",
   "nbconvert_exporter": "python",
   "pygments_lexer": "ipython3",
   "version": "3.7.6"
  }
 },
 "nbformat": 4,
 "nbformat_minor": 4
}
