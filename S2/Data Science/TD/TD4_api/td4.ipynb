{
 "cells": [
  {
   "cell_type": "code",
   "execution_count": 1,
   "metadata": {},
   "outputs": [
    {
     "data": {
      "text/plain": [
       "\"Script permettant d'explorer les données d'un fichier XML et d'interroger une API\""
      ]
     },
     "execution_count": 1,
     "metadata": {},
     "output_type": "execute_result"
    }
   ],
   "source": [
    "\"\"\"Script permettant d'explorer les données d'un fichier XML et d'interroger une API\"\"\"\n",
    "################################################################################\n",
    "# fichier  : td4.py\n",
    "# Auteur : RAKOTOSON Loic\n",
    "################################################################################"
   ]
  },
  {
   "cell_type": "code",
   "execution_count": 2,
   "metadata": {},
   "outputs": [],
   "source": [
    "################################################################################\n",
    "# Importation de fonctions externes :\n",
    "import pandas as pd\n",
    "import json\n",
    "from lxml import etree\n",
    "from requests import get, HTTPError\n",
    "# Definition locale de fonctions :"
   ]
  },
  {
   "cell_type": "code",
   "execution_count": 3,
   "metadata": {},
   "outputs": [],
   "source": [
    "def afficheXML(liste):\n",
    "    for elem in liste:\n",
    "        if isinstance(elem, etree._Element):\n",
    "            print(etree.tostring(elem,encoding='unicode'))\n",
    "        else:\n",
    "            print(elem)"
   ]
  },
  {
   "cell_type": "code",
   "execution_count": 4,
   "metadata": {},
   "outputs": [],
   "source": [
    "def afficheTexte(liste):\n",
    "    for elem in liste:\n",
    "        if isinstance(elem, etree._Element):\n",
    "            if elem.text:\n",
    "                print(elem.text)\n",
    "            afficheTexte(elem.xpath('./*'))\n",
    "        else:\n",
    "            print(elem)"
   ]
  },
  {
   "cell_type": "code",
   "execution_count": 5,
   "metadata": {},
   "outputs": [],
   "source": [
    "def getJsonData(base, dico):\n",
    "    with get(base, params = dico) as response:\n",
    "        return response.json()"
   ]
  },
  {
   "cell_type": "code",
   "execution_count": 6,
   "metadata": {},
   "outputs": [],
   "source": [
    "def getMatrix(base, dico, metric):\n",
    "    \"\"\"\n",
    "    Retourne la matrice de la métrique\n",
    "    :base: base url\n",
    "    :dico: API params\n",
    "    :metric: distances|durations\n",
    "    :return: DataFrame\n",
    "    \"\"\"\n",
    "    reponse = getJsonData(base, dico)\n",
    "    df = pd.DataFrame(\n",
    "        reponse[metric],\n",
    "        columns=[\n",
    "            \",\".join(map(str, d['location'])) for d in reponse['destinations']\n",
    "        ],\n",
    "        index=[\",\".join(map(str, d['location'])) for d in reponse['sources']])\n",
    "    return df"
   ]
  },
  {
   "cell_type": "code",
   "execution_count": 54,
   "metadata": {},
   "outputs": [],
   "source": [
    "def cleanGPS(GPSlist):\n",
    "    \"\"\"\n",
    "    Renvoie un str formaté pour l'API\n",
    "    :GPSlist: [lat, lon] du XML\n",
    "    :return: str\n",
    "    \"\"\"\n",
    "    raw = list(map(str,map(int,[coord.replace('.', '') for coord in GPSlist])))\n",
    "    if '-' in raw[0]:\n",
    "        lat = raw[0][:3] + '.' + raw[0][3:10]\n",
    "    else:\n",
    "        lat = raw[0][:2] + '.' + raw[0][2:9]\n",
    "    if '-' in raw[1]:\n",
    "        lon = raw[1][:2] + '.' + raw[1][2:9]\n",
    "    else:\n",
    "        lon = raw[1][0] + '.' + raw[1][1:8]\n",
    "    return lon + ',' + lat"
   ]
  },
  {
   "cell_type": "code",
   "execution_count": 7,
   "metadata": {},
   "outputs": [],
   "source": [
    "################################################################################\n",
    "# Corps principal du programme :"
   ]
  },
  {
   "cell_type": "code",
   "execution_count": 8,
   "metadata": {},
   "outputs": [],
   "source": [
    "base_url = \"https://api.openrouteservice.org/matrix\"\n",
    "APIKEY = '5b3ce3597851110001cf62486cfda2a850de46e4a43253fa6adffd31'"
   ]
  },
  {
   "cell_type": "markdown",
   "metadata": {},
   "source": [
    "# Exercice 1: découverte de l'API Matrix de openrouteservice\n",
    "Trouver les coordonnées GPS des villes de Rennes, Paris, Nantes et Brest, et mémorisez-les (dans cet ordre)  au début du programme principal sous forme d'une liste Python de chaînes de caractères représentant chacune une paire de coordonnées séparées par une virgule:"
   ]
  },
  {
   "cell_type": "code",
   "execution_count": 9,
   "metadata": {},
   "outputs": [],
   "source": [
    "villesGPS = [\n",
    "    '-1.6800198,48.1113387', '2.3514992,48.8566101',\n",
    "    '-1.553621,47.218371', '-4.486076,48.390394'\n",
    "]"
   ]
  },
  {
   "cell_type": "markdown",
   "metadata": {},
   "source": [
    "Écrire une fonction `getJsonData()` prenant en paramètre l'URL de base de l'API Matrix et un dictionnaire des paramètres de la requête (clé = nom du paramètre; valeur=valeur du paramètre) et retournant les données JSON renvoyées par le service, sous forme d'une structure de données Python."
   ]
  },
  {
   "cell_type": "code",
   "execution_count": 10,
   "metadata": {},
   "outputs": [
    {
     "name": "stdout",
     "output_type": "stream",
     "text": [
      "{'distances': [[106.9, 241.54], [380.99, 590.73]], 'durations': [[5016.71, 9514.83], [13921.64, 21565.12]], 'destinations': [{'location': [-1.55357, 47.218302], 'snapped_distance': 8.61}, {'location': [-4.486227, 48.390272], 'snapped_distance': 17.53}], 'sources': [{'location': [-1.680245, 48.111335], 'snapped_distance': 16.73}, {'location': [2.351055, 48.856717], 'snapped_distance': 34.62}], 'info': {'service': 'matrix', 'engine': {'version': '6.0.0', 'build_date': '2020-01-16T14:21:32Z'}, 'attribution': 'openrouteservice.org | OpenStreetMap contributors', 'timestamp': 1584576371516, 'query': {'profile': 'driving-car', 'units': 'km'}}}\n"
     ]
    }
   ],
   "source": [
    "data = {\n",
    "    \"api_key\" : APIKEY,\n",
    "    \"profile\": \"driving-car\",\n",
    "    \"locations\": \"|\".join(villesGPS),\n",
    "    \"sources\": \"0,1\",\n",
    "    \"destinations\": \"2,3\",\n",
    "    \"metrics\": \"distance|duration\",\n",
    "    \"units\": \"km\",\n",
    "    \n",
    "}\n",
    "reponse = getJsonData(base_url, data)\n",
    "print(reponse)"
   ]
  },
  {
   "cell_type": "markdown",
   "metadata": {},
   "source": [
    "Dans le programme principal, écrire le code Python permettant d'obtenir la matrice des distances avec Rennes et Paris comme villes d'origine, Brest et Nantes comme villes de destination, et d'afficher cette matrice ligne par ligne."
   ]
  },
  {
   "cell_type": "code",
   "execution_count": 11,
   "metadata": {},
   "outputs": [
    {
     "name": "stdout",
     "output_type": "stream",
     "text": [
      "                     -1.55357,47.218302  -4.486227,48.390272\n",
      "-1.680245,48.111335              106.90               241.54\n",
      "2.351055,48.856717               380.99               590.73\n"
     ]
    }
   ],
   "source": [
    "matrix = getMatrix(base_url, data, \"distances\")\n",
    "print(matrix)"
   ]
  },
  {
   "cell_type": "markdown",
   "metadata": {},
   "source": [
    "# Exercice 2: utilisation des données XML des points de vente de carburant et des données en ligne de l'API\n",
    "Choisir une voiture et déterminer son type de carburant et sa consommation moyenne en allure «route». Mémoriser ces informations dans 2 variables «carburant» et «conso» de votre programme."
   ]
  },
  {
   "cell_type": "code",
   "execution_count": 12,
   "metadata": {},
   "outputs": [],
   "source": [
    "carburant = \"Gazole\"\n",
    "conso = \"4.1\""
   ]
  },
  {
   "cell_type": "markdown",
   "metadata": {},
   "source": [
    "La première étape du voyage est de faire le plein d'essence sur Rennes au tarif le plus avantageux pour votre carburant.A l'aide des données du fichier *PrixCarburants_quotidien_AAAAMMJJ.xml*, déterminez quel est ce point de vente le plus avantageux pour vous à Rennes. Affichez ce prix et l'adresse complète du point de vente correspondant.  \n",
    "Remarque: dans le fichier XML, le nom de ville peut apparaître sous la forme «Rennes» ou «RENNES»."
   ]
  },
  {
   "cell_type": "code",
   "execution_count": 13,
   "metadata": {},
   "outputs": [],
   "source": [
    "root = etree.parse(\"PrixCarburants_quotidien_20200316.xml\").getroot()"
   ]
  },
  {
   "cell_type": "code",
   "execution_count": 14,
   "metadata": {},
   "outputs": [],
   "source": [
    "bestRennes = root.xpath(\n",
    "    \"pdv[contains('Rennes RENNES', ville)][prix/@nom = '{}' and prix/@valeur = '{}']\"\n",
    "    .format(\n",
    "        carburant,\n",
    "        min(\n",
    "            map(\n",
    "                int,\n",
    "                root.xpath(\n",
    "                    \"pdv[contains('Rennes RENNES', ville)]/prix[@nom = '{}']//@valeur\"\n",
    "                    .format(carburant))))))[0]"
   ]
  },
  {
   "cell_type": "code",
   "execution_count": 15,
   "metadata": {},
   "outputs": [
    {
     "data": {
      "text/plain": [
       "['Rue Jules Vallès', '1206']"
      ]
     },
     "execution_count": 15,
     "metadata": {},
     "output_type": "execute_result"
    }
   ],
   "source": [
    "bestRennes.xpath(\"adresse//text()|prix[@nom = '{}']/@valeur\".format(carburant))"
   ]
  },
  {
   "cell_type": "markdown",
   "metadata": {},
   "source": [
    "La deuxième (grande) étape de votre voyage est de vous ravitailler en carburant avant de passer la frontière. Le voyage jusqu'à ce point de vente se fera donc avec le carburant au meilleur tarif que vous avez trouvé sur Rennes. On supposera que la suite du voyage jusqu'à Rome se fera au tarif du carburant chargé au point de ravitaillement.  \n",
    "Pour ce point de ravitaillement, vous avez quelques contraintes:\n",
    "\n",
    "- Il devra se trouver dans le département de Savoie (**73**) ou de Haute Savoie (**74**)\n",
    "- Vous aurez besoin de faire un petit tour aux toilettes avant de repartir (service «Toilettes publiques» obligatoire)\n",
    "- Vous aurez besoin d'acheter quelque chose à grignoter (service \"Boutique alimentaire\" ou \"Restauration à emporter\" obligatoire)\n",
    "- Vous aurez besoin de retirer de l'argent liquide (service «DAB (Distributeur automatique de billets)» obligatoire)\n",
    "\n",
    "Déterminez une expression Xpath unique permettant d'obtenir les nœuds «point de vente» répondant à l'ensemble des contraintes ci-dessus. Afficher le nombre de pointde vente correspondants obtenus"
   ]
  },
  {
   "cell_type": "code",
   "execution_count": 16,
   "metadata": {},
   "outputs": [
    {
     "name": "stdout",
     "output_type": "stream",
     "text": [
      "128\n"
     ]
    }
   ],
   "source": [
    "request = \"pdv[starts-with(@cp, '73') or starts-with(@cp, '74')]\"\\\n",
    "\"[services[service = 'Boutique alimentaire' or service = 'Restauration à emporter']]\"\\\n",
    "\"[contains('DAB', service)]\"\n",
    "\n",
    "nodes = root.xpath(request)\n",
    "print(len(nodes))"
   ]
  },
  {
   "cell_type": "markdown",
   "metadata": {},
   "source": [
    "Parmi les points de ventes retournés, déterminez lequel permet d'optimiser le prix global en carburant du voyage, en tenant compte des deux distances parcourues, Rennes → ravitaillement et ravitaillement → Rome (utilisez l'API Matrix pour calculer ces distances), et du tarif du carburant pour ces deux portions.\n",
    "\n",
    "On regroupe en premier lieu toutes les locations, les sources comprises.  \n",
    "On enregistre ensuite les paramètres qui seront nécessaires pour effectuer la requête dans un dictionnaire *params*.  \n",
    "Enfin, on calcule la matrice avec l'API Matrix, en passant par la fonction `getMatrix()`."
   ]
  },
  {
   "cell_type": "code",
   "execution_count": 56,
   "metadata": {
    "scrolled": true
   },
   "outputs": [],
   "source": [
    "Rome = \"12.4963655,41.9027835\"\n",
    "Rennes = cleanGPS(bestRennes.xpath(\"@latitude | @longitude\"))\n",
    "stations = [\n",
    "    cleanGPS(node.xpath(\"@latitude | @longitude\")) for node in nodes\n",
    "    if node.xpath(\"@latitude\")[0] != ''\n",
    "]\n",
    "\n",
    "params = {\n",
    "    \"api_key\":\n",
    "    APIKEY,\n",
    "    \"profile\":\n",
    "    \"driving-car\",\n",
    "    \"locations\":\n",
    "    \"|\".join([Rennes, Rome] + stations),\n",
    "    \"sources\":\n",
    "    \"0,1\",\n",
    "    \"destinations\":\n",
    "    \",\".join(map(str, range(2,\n",
    "                            len([Rennes, Rome] + stations) - 1))),\n",
    "    \"metrics\":\n",
    "    \"distance|duration\",\n",
    "    \"units\":\n",
    "    \"km\",\n",
    "}\n",
    "\n",
    "RennesRome = getMatrix(base_url, params, \"distances\")"
   ]
  },
  {
   "cell_type": "code",
   "execution_count": 57,
   "metadata": {},
   "outputs": [
    {
     "data": {
      "text/html": [
       "<div>\n",
       "<style scoped>\n",
       "    .dataframe tbody tr th:only-of-type {\n",
       "        vertical-align: middle;\n",
       "    }\n",
       "\n",
       "    .dataframe tbody tr th {\n",
       "        vertical-align: top;\n",
       "    }\n",
       "\n",
       "    .dataframe thead th {\n",
       "        text-align: right;\n",
       "    }\n",
       "</style>\n",
       "<table border=\"1\" class=\"dataframe\">\n",
       "  <thead>\n",
       "    <tr style=\"text-align: right;\">\n",
       "      <th></th>\n",
       "      <th>5.896539,45.593435</th>\n",
       "      <th>5.902134,45.56322</th>\n",
       "      <th>5.886649,45.609687</th>\n",
       "      <th>5.886996,45.609555</th>\n",
       "      <th>5.902134,45.56322</th>\n",
       "      <th>5.908618,45.699637</th>\n",
       "      <th>5.929508,45.674322</th>\n",
       "      <th>5.900294,45.694187</th>\n",
       "      <th>5.943622,45.683149</th>\n",
       "      <th>5.900294,45.694187</th>\n",
       "      <th>...</th>\n",
       "      <th>6.629845,45.94385</th>\n",
       "      <th>6.632461,45.940459</th>\n",
       "      <th>6.305277,46.06987</th>\n",
       "      <th>6.641215,45.900187</th>\n",
       "      <th>6.143767,45.913756</th>\n",
       "      <th>6.143767,45.913756</th>\n",
       "      <th>6.10714,45.894219</th>\n",
       "      <th>6.10714,45.894219</th>\n",
       "      <th>6.10714,45.894219</th>\n",
       "      <th>6.106811,45.894169</th>\n",
       "    </tr>\n",
       "  </thead>\n",
       "  <tbody>\n",
       "    <tr>\n",
       "      <th>-1.71045,48.104349</th>\n",
       "      <td>874.09</td>\n",
       "      <td>877.65</td>\n",
       "      <td>875.41</td>\n",
       "      <td>875.46</td>\n",
       "      <td>877.65</td>\n",
       "      <td>889.74</td>\n",
       "      <td>881.07</td>\n",
       "      <td>883.68</td>\n",
       "      <td>885.42</td>\n",
       "      <td>883.68</td>\n",
       "      <td>...</td>\n",
       "      <td>895.84</td>\n",
       "      <td>896.31</td>\n",
       "      <td>867.37</td>\n",
       "      <td>903.55</td>\n",
       "      <td>866.33</td>\n",
       "      <td>866.33</td>\n",
       "      <td>868.25</td>\n",
       "      <td>868.25</td>\n",
       "      <td>868.25</td>\n",
       "      <td>868.22</td>\n",
       "    </tr>\n",
       "    <tr>\n",
       "      <th>12.496486,41.902874</th>\n",
       "      <td>891.89</td>\n",
       "      <td>893.93</td>\n",
       "      <td>895.40</td>\n",
       "      <td>895.45</td>\n",
       "      <td>893.93</td>\n",
       "      <td>904.79</td>\n",
       "      <td>902.84</td>\n",
       "      <td>903.67</td>\n",
       "      <td>903.02</td>\n",
       "      <td>903.67</td>\n",
       "      <td>...</td>\n",
       "      <td>847.56</td>\n",
       "      <td>843.72</td>\n",
       "      <td>879.74</td>\n",
       "      <td>846.40</td>\n",
       "      <td>917.49</td>\n",
       "      <td>917.49</td>\n",
       "      <td>935.19</td>\n",
       "      <td>935.19</td>\n",
       "      <td>935.19</td>\n",
       "      <td>935.17</td>\n",
       "    </tr>\n",
       "  </tbody>\n",
       "</table>\n",
       "<p>2 rows × 124 columns</p>\n",
       "</div>"
      ],
      "text/plain": [
       "                     5.896539,45.593435  5.902134,45.56322  \\\n",
       "-1.71045,48.104349               874.09             877.65   \n",
       "12.496486,41.902874              891.89             893.93   \n",
       "\n",
       "                     5.886649,45.609687  5.886996,45.609555  \\\n",
       "-1.71045,48.104349               875.41              875.46   \n",
       "12.496486,41.902874              895.40              895.45   \n",
       "\n",
       "                     5.902134,45.56322  5.908618,45.699637  \\\n",
       "-1.71045,48.104349              877.65              889.74   \n",
       "12.496486,41.902874             893.93              904.79   \n",
       "\n",
       "                     5.929508,45.674322  5.900294,45.694187  \\\n",
       "-1.71045,48.104349               881.07              883.68   \n",
       "12.496486,41.902874              902.84              903.67   \n",
       "\n",
       "                     5.943622,45.683149  5.900294,45.694187  ...  \\\n",
       "-1.71045,48.104349               885.42              883.68  ...   \n",
       "12.496486,41.902874              903.02              903.67  ...   \n",
       "\n",
       "                     6.629845,45.94385  6.632461,45.940459  6.305277,46.06987  \\\n",
       "-1.71045,48.104349              895.84              896.31             867.37   \n",
       "12.496486,41.902874             847.56              843.72             879.74   \n",
       "\n",
       "                     6.641215,45.900187  6.143767,45.913756  \\\n",
       "-1.71045,48.104349               903.55              866.33   \n",
       "12.496486,41.902874              846.40              917.49   \n",
       "\n",
       "                     6.143767,45.913756  6.10714,45.894219  6.10714,45.894219  \\\n",
       "-1.71045,48.104349               866.33             868.25             868.25   \n",
       "12.496486,41.902874              917.49             935.19             935.19   \n",
       "\n",
       "                     6.10714,45.894219  6.106811,45.894169  \n",
       "-1.71045,48.104349              868.25              868.22  \n",
       "12.496486,41.902874             935.19              935.17  \n",
       "\n",
       "[2 rows x 124 columns]"
      ]
     },
     "execution_count": 57,
     "metadata": {},
     "output_type": "execute_result"
    }
   ],
   "source": [
    "print(RennesRome)"
   ]
  },
  {
   "cell_type": "markdown",
   "metadata": {},
   "source": [
    "On a supposé que la voiture a une autonomie d'environ 900km, et que, partant avec le pleinde carburant de Rennes, nous devrons refaire un ravitaillement juste avant de passer la frontière.  \n",
    "Symétriquement, la distance entre le point de ravitaillement et Rome ne doit pas éxcéder l'autonomie.  \n",
    "On supprime donc les colonnes vérifiant cette condition."
   ]
  },
  {
   "cell_type": "code",
   "execution_count": 71,
   "metadata": {},
   "outputs": [
    {
     "data": {
      "text/html": [
       "<div>\n",
       "<style scoped>\n",
       "    .dataframe tbody tr th:only-of-type {\n",
       "        vertical-align: middle;\n",
       "    }\n",
       "\n",
       "    .dataframe tbody tr th {\n",
       "        vertical-align: top;\n",
       "    }\n",
       "\n",
       "    .dataframe thead th {\n",
       "        text-align: right;\n",
       "    }\n",
       "</style>\n",
       "<table border=\"1\" class=\"dataframe\">\n",
       "  <thead>\n",
       "    <tr style=\"text-align: right;\">\n",
       "      <th></th>\n",
       "      <th>5.896539,45.593435</th>\n",
       "      <th>5.902134,45.56322</th>\n",
       "      <th>5.886649,45.609687</th>\n",
       "      <th>5.886996,45.609555</th>\n",
       "      <th>5.902134,45.56322</th>\n",
       "      <th>5.89429,45.562299</th>\n",
       "      <th>5.97708,45.525004</th>\n",
       "      <th>5.9532,45.573621</th>\n",
       "      <th>5.88592,45.593559</th>\n",
       "      <th>5.884035,45.592951</th>\n",
       "      <th>...</th>\n",
       "      <th>6.631579,46.043364</th>\n",
       "      <th>6.564414,46.06095</th>\n",
       "      <th>6.582205,46.108926</th>\n",
       "      <th>6.59047,46.102409</th>\n",
       "      <th>6.277382,46.007926</th>\n",
       "      <th>6.629006,45.952962</th>\n",
       "      <th>6.632461,45.940459</th>\n",
       "      <th>6.629845,45.94385</th>\n",
       "      <th>6.632461,45.940459</th>\n",
       "      <th>6.305277,46.06987</th>\n",
       "    </tr>\n",
       "  </thead>\n",
       "  <tbody>\n",
       "    <tr>\n",
       "      <th>-1.71045,48.104349</th>\n",
       "      <td>874.09</td>\n",
       "      <td>877.65</td>\n",
       "      <td>875.41</td>\n",
       "      <td>875.46</td>\n",
       "      <td>877.65</td>\n",
       "      <td>878.36</td>\n",
       "      <td>890.47</td>\n",
       "      <td>880.48</td>\n",
       "      <td>874.0</td>\n",
       "      <td>874.16</td>\n",
       "      <td>...</td>\n",
       "      <td>892.60</td>\n",
       "      <td>880.90</td>\n",
       "      <td>882.20</td>\n",
       "      <td>890.56</td>\n",
       "      <td>869.55</td>\n",
       "      <td>895.02</td>\n",
       "      <td>896.31</td>\n",
       "      <td>895.84</td>\n",
       "      <td>896.31</td>\n",
       "      <td>867.37</td>\n",
       "    </tr>\n",
       "    <tr>\n",
       "      <th>12.496486,41.902874</th>\n",
       "      <td>891.89</td>\n",
       "      <td>893.93</td>\n",
       "      <td>895.40</td>\n",
       "      <td>895.45</td>\n",
       "      <td>893.93</td>\n",
       "      <td>894.64</td>\n",
       "      <td>881.47</td>\n",
       "      <td>890.01</td>\n",
       "      <td>892.8</td>\n",
       "      <td>892.96</td>\n",
       "      <td>...</td>\n",
       "      <td>864.73</td>\n",
       "      <td>858.51</td>\n",
       "      <td>868.14</td>\n",
       "      <td>866.77</td>\n",
       "      <td>889.74</td>\n",
       "      <td>846.74</td>\n",
       "      <td>843.72</td>\n",
       "      <td>847.56</td>\n",
       "      <td>843.72</td>\n",
       "      <td>879.74</td>\n",
       "    </tr>\n",
       "  </tbody>\n",
       "</table>\n",
       "<p>2 rows × 38 columns</p>\n",
       "</div>"
      ],
      "text/plain": [
       "                     5.896539,45.593435  5.902134,45.56322  \\\n",
       "-1.71045,48.104349               874.09             877.65   \n",
       "12.496486,41.902874              891.89             893.93   \n",
       "\n",
       "                     5.886649,45.609687  5.886996,45.609555  \\\n",
       "-1.71045,48.104349               875.41              875.46   \n",
       "12.496486,41.902874              895.40              895.45   \n",
       "\n",
       "                     5.902134,45.56322  5.89429,45.562299  5.97708,45.525004  \\\n",
       "-1.71045,48.104349              877.65             878.36             890.47   \n",
       "12.496486,41.902874             893.93             894.64             881.47   \n",
       "\n",
       "                     5.9532,45.573621  5.88592,45.593559  5.884035,45.592951  \\\n",
       "-1.71045,48.104349             880.48              874.0              874.16   \n",
       "12.496486,41.902874            890.01              892.8              892.96   \n",
       "\n",
       "                     ...  6.631579,46.043364  6.564414,46.06095  \\\n",
       "-1.71045,48.104349   ...              892.60             880.90   \n",
       "12.496486,41.902874  ...              864.73             858.51   \n",
       "\n",
       "                     6.582205,46.108926  6.59047,46.102409  \\\n",
       "-1.71045,48.104349               882.20             890.56   \n",
       "12.496486,41.902874              868.14             866.77   \n",
       "\n",
       "                     6.277382,46.007926  6.629006,45.952962  \\\n",
       "-1.71045,48.104349               869.55              895.02   \n",
       "12.496486,41.902874              889.74              846.74   \n",
       "\n",
       "                     6.632461,45.940459  6.629845,45.94385  \\\n",
       "-1.71045,48.104349               896.31             895.84   \n",
       "12.496486,41.902874              843.72             847.56   \n",
       "\n",
       "                     6.632461,45.940459  6.305277,46.06987  \n",
       "-1.71045,48.104349               896.31             867.37  \n",
       "12.496486,41.902874              843.72             879.74  \n",
       "\n",
       "[2 rows x 38 columns]"
      ]
     },
     "execution_count": 71,
     "metadata": {},
     "output_type": "execute_result"
    }
   ],
   "source": [
    "RennesRome = RennesRome.loc[:, ~(RennesRome > 900).any()]\n",
    "print(RennesRome)"
   ]
  },
  {
   "cell_type": "markdown",
   "metadata": {},
   "source": [
    "Enfin, on supprime toutes les colonnes dont la somme des distances est supérieure à la somme des distance minimale.  \n",
    "Il ne devra en rester qu'une. Il s'agit de la station la plus otpimisée."
   ]
  },
  {
   "cell_type": "code",
   "execution_count": 74,
   "metadata": {
    "scrolled": true
   },
   "outputs": [
    {
     "data": {
      "text/html": [
       "<div>\n",
       "<style scoped>\n",
       "    .dataframe tbody tr th:only-of-type {\n",
       "        vertical-align: middle;\n",
       "    }\n",
       "\n",
       "    .dataframe tbody tr th {\n",
       "        vertical-align: top;\n",
       "    }\n",
       "\n",
       "    .dataframe thead th {\n",
       "        text-align: right;\n",
       "    }\n",
       "</style>\n",
       "<table border=\"1\" class=\"dataframe\">\n",
       "  <thead>\n",
       "    <tr style=\"text-align: right;\">\n",
       "      <th></th>\n",
       "      <th>6.564414,46.06095</th>\n",
       "    </tr>\n",
       "  </thead>\n",
       "  <tbody>\n",
       "    <tr>\n",
       "      <th>-1.71045,48.104349</th>\n",
       "      <td>880.90</td>\n",
       "    </tr>\n",
       "    <tr>\n",
       "      <th>12.496486,41.902874</th>\n",
       "      <td>858.51</td>\n",
       "    </tr>\n",
       "  </tbody>\n",
       "</table>\n",
       "</div>"
      ],
      "text/plain": [
       "                     6.564414,46.06095\n",
       "-1.71045,48.104349              880.90\n",
       "12.496486,41.902874             858.51"
      ]
     },
     "execution_count": 74,
     "metadata": {},
     "output_type": "execute_result"
    }
   ],
   "source": [
    "cols = RennesRome.columns[RennesRome.sum(axis=0) > RennesRome.sum(\n",
    "    axis=0).min()]\n",
    "best = RennesRome.drop(cols, axis=1)\n",
    "print(best)"
   ]
  },
  {
   "cell_type": "markdown",
   "metadata": {},
   "source": [
    "Donnez le prix en carburant de ce voyage optimisé, et la différence avec le prix le plus élevé (y compris en faisant le plein le plus cher à Rennes), avec les mêmes contraintes sur le point de ravitaillement."
   ]
  }
 ],
 "metadata": {
  "kernelspec": {
   "display_name": "Python 3",
   "language": "python",
   "name": "python3"
  },
  "language_info": {
   "codemirror_mode": {
    "name": "ipython",
    "version": 3
   },
   "file_extension": ".py",
   "mimetype": "text/x-python",
   "name": "python",
   "nbconvert_exporter": "python",
   "pygments_lexer": "ipython3",
   "version": "3.7.6"
  }
 },
 "nbformat": 4,
 "nbformat_minor": 4
}
