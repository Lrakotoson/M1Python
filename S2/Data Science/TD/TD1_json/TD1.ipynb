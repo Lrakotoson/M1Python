{
 "cells": [
  {
   "cell_type": "code",
   "execution_count": 1,
   "metadata": {},
   "outputs": [
    {
     "data": {
      "text/plain": [
       "\"Script permettant d'explorer les données de travaux sur Rennes, au format JSON\""
      ]
     },
     "execution_count": 1,
     "metadata": {},
     "output_type": "execute_result"
    }
   ],
   "source": [
    "\"\"\"Script permettant d'explorer les données de travaux sur Rennes, au format JSON\"\"\"\n",
    "################################################################################\n",
    "# fichier  : td1.py\n",
    "# Auteur : RAKOTOSON Loic\n",
    "################################################################################"
   ]
  },
  {
   "cell_type": "code",
   "execution_count": 2,
   "metadata": {},
   "outputs": [],
   "source": [
    "################################################################################\n",
    "# Importation de fonctions externes :\n",
    "import json\n",
    "from datetime import datetime, timedelta\n",
    "# Definition locale de fonctions :"
   ]
  },
  {
   "cell_type": "code",
   "execution_count": 3,
   "metadata": {},
   "outputs": [],
   "source": [
    "def initListeChantiers(data):\n",
    "    listeChantier = [Chantier(dico[\"properties\"]) for dico in data[\"features\"]]\n",
    "    return listeChantier"
   ]
  },
  {
   "cell_type": "code",
   "execution_count": 4,
   "metadata": {},
   "outputs": [],
   "source": [
    "def listeChantiersEnCours(listeChantiers,\n",
    "                          date=datetime.now().strftime(\"%Y-%m-%d %H:%M:%S\")):\n",
    "    liste = [chantier for chantier in listeChantiers if chantier.enCours(date)]\n",
    "    return liste"
   ]
  },
  {
   "cell_type": "code",
   "execution_count": 5,
   "metadata": {},
   "outputs": [],
   "source": [
    "def affichePlanningChantiers(\n",
    "        listeChantiers, ID, date=datetime.now().strftime(\"%Y-%m-%d %H:%M:%S\")):\n",
    "\n",
    "    dateformat = datetime.strptime(date, \"%Y-%m-%d %H:%M:%S\")\n",
    "    listequartier = [\n",
    "        chantier for chantier in listeChantiers if chantier.quartierID == ID\n",
    "    ]\n",
    "\n",
    "    chaine = \"Planning des chantiers pour le quartier {}\".format(\n",
    "        Chantier.quartiers[ID])\n",
    "    for chantier in listequartier:\n",
    "        chaine += \"\\n {} ({}): \".format(chantier.localisation, chantier.type)\n",
    "        if chantier.enCours(date):\n",
    "            fin = chantier.fin - dateformat\n",
    "            chaine += \"chantier en cours (fin dans {} jours et {} heures)\".format(\n",
    "                fin.days, fin.seconds // 3600)\n",
    "        elif chantier.aVenir(date):\n",
    "            debut = dateformat - chantier.debut\n",
    "            chaine += \"chantier à venir (début dans {} jours et {} heures)\".format(\n",
    "                debut.days, fin.seconds // 3600)\n",
    "        elif chantier.termine(date):\n",
    "            fin = dateformat - chantier.fin\n",
    "            chaine += \"chantier terminé depuis {} jours et {} heures)\".format(\n",
    "                fin.days, fin.seconds // 3600)\n",
    "        else:\n",
    "            chaine += \"Manque d'informations\"\n",
    "    print(chaine)"
   ]
  },
  {
   "cell_type": "code",
   "execution_count": 6,
   "metadata": {},
   "outputs": [],
   "source": [
    "def dumpListeChantiersJSON(output, listeChantier):\n",
    "    data = {\n",
    "        \"chantiers\":\n",
    "        [chantier.jsonDictionnary() for chantier in listeChantier]\n",
    "    }\n",
    "    with open(output + \".json\", 'w', encoding=\"UTF-8\") as outfile:\n",
    "        json.dump(data, outfile, ensure_ascii=False)"
   ]
  },
  {
   "cell_type": "code",
   "execution_count": 7,
   "metadata": {},
   "outputs": [],
   "source": [
    "################################################################################\n",
    "# Definition des classes :"
   ]
  },
  {
   "cell_type": "code",
   "execution_count": 8,
   "metadata": {},
   "outputs": [],
   "source": [
    "class Chantier():\n",
    "    quartiers = dict()\n",
    "\n",
    "    def __init__(self, properties):\n",
    "        quartier = properties[\"quartier\"]\n",
    "\n",
    "        self.id = properties[\"id\"]\n",
    "        self.quartierID = int(quartier.split(\" - \")[0])\n",
    "        self.localisation = properties[\"localisation\"]\n",
    "        self.type = properties[\"type\"]\n",
    "        self.libelle = properties[\"libelle\"]\n",
    "        self.perturbation = properties[\"niv_perturbation\"]\n",
    "\n",
    "        if self.quartierID not in self.__class__.quartiers:\n",
    "            self.__class__.quartiers[self.quartierID] = \"/\".join(\n",
    "                quartier.split(\" - \")[1:])\n",
    "\n",
    "        self.debut = datetime.strptime(properties[\"date_deb\"],\n",
    "                                       \"%Y-%m-%d %H:%M:%S\")\n",
    "        self.fin = datetime.strptime(properties[\"date_fin\"],\n",
    "                                     \"%Y-%m-%d %H:%M:%S\")\n",
    "\n",
    "    def __repr__(self):\n",
    "        chaine = \"{}, {} du {} au {}: {} ({}, {})\".format(\n",
    "            self.quartierID, self.localisation,\n",
    "            self.debut.strftime(\"%Y/%m/%d %H:%M:%S\"),\n",
    "            self.fin.strftime(\"%Y/%m/%d %H:%M:%S\"), self.libelle, self.type,\n",
    "            self.perturbation)\n",
    "        return chaine\n",
    "\n",
    "    def enCours(self, date):\n",
    "        date = datetime.strptime(date, \"%Y-%m-%d %H:%M:%S\")\n",
    "        return self.debut < date < self.fin\n",
    "\n",
    "    def termine(self, date):\n",
    "        date = datetime.strptime(date, \"%Y-%m-%d %H:%M:%S\")\n",
    "        return date > self.fin\n",
    "\n",
    "    def aVenir(self, date):\n",
    "        date = datetime.strptime(date, \"%Y-%m-%d %H:%M:%S\")\n",
    "        return date < self.debut\n",
    "\n",
    "    def jsonDictionnary(self):\n",
    "        dico = dict()\n",
    "        dico[\"id\"] = self.id\n",
    "        dico[\"quartier\"] = self.__class__.quartiers[self.quartierID]\n",
    "        dico[\"localisation\"] = self.localisation\n",
    "        dico[\"libelle\"] = self.libelle\n",
    "        dico[\"type\"] = self.type\n",
    "        dico[\"perturbation\"] = self.perturbation\n",
    "        dico[\"debut\"] = self.debut.strftime(\"%Y/%m/%d %H:%M:%S\")\n",
    "        dico[\"fin\"] = self.fin.strftime(\"%Y/%m/%d %H:%M:%S\")\n",
    "        return dico"
   ]
  },
  {
   "cell_type": "code",
   "execution_count": 9,
   "metadata": {},
   "outputs": [],
   "source": [
    "################################################################################\n",
    "# Corps principal du programme :"
   ]
  },
  {
   "cell_type": "markdown",
   "metadata": {},
   "source": [
    "# EXO 1\n",
    "Lecture et récupération des données"
   ]
  },
  {
   "cell_type": "code",
   "execution_count": 10,
   "metadata": {},
   "outputs": [],
   "source": [
    "with open(\"travaux.json\", \"r\", encoding=\"UTF-8\") as json_file:\n",
    "    travaux = json.load(json_file)"
   ]
  },
  {
   "cell_type": "markdown",
   "metadata": {},
   "source": [
    "# EXO 2\n",
    "Classe Chantier"
   ]
  },
  {
   "cell_type": "code",
   "execution_count": 11,
   "metadata": {},
   "outputs": [
    {
     "name": "stdout",
     "output_type": "stream",
     "text": [
      "9, Rue de Redon section Surcouf/Malakoff du 2014/02/17 00:00:00 au 2020/07/31 00:00:00: Métro ligne b - GC Station Mabilais (Route barrée, Secteur à éviter)\n"
     ]
    }
   ],
   "source": [
    "listeChantier = initListeChantiers(travaux)\n",
    "print(listeChantier[0])"
   ]
  },
  {
   "cell_type": "markdown",
   "metadata": {},
   "source": [
    "# EXO 3\n",
    "Gestion des dates"
   ]
  },
  {
   "cell_type": "code",
   "execution_count": 12,
   "metadata": {},
   "outputs": [
    {
     "data": {
      "text/plain": [
       "True"
      ]
     },
     "execution_count": 12,
     "metadata": {},
     "output_type": "execute_result"
    }
   ],
   "source": [
    "listeChantier[0].enCours(datetime.now().strftime(\"%Y-%m-%d %H:%M:%S\"))"
   ]
  },
  {
   "cell_type": "markdown",
   "metadata": {},
   "source": [
    "# EXO 4\n",
    "Utilisation Json"
   ]
  },
  {
   "cell_type": "code",
   "execution_count": 13,
   "metadata": {
    "scrolled": true
   },
   "outputs": [
    {
     "name": "stdout",
     "output_type": "stream",
     "text": [
      "Planning des chantiers pour le quartier Centre\n",
      " Boulevard Magenta (Fermeture sens nord-sud): chantier en cours (fin dans 222 jours et 0 heures)\n",
      " Place Sainte-Anne (Route barrée): chantier en cours (fin dans 191 jours et 0 heures)\n",
      " Rue Descartes (Route barrée): chantier en cours (fin dans 69 jours et 0 heures)\n",
      " Rue Albert Aubry (Route barrée): chantier en cours (fin dans 69 jours et 0 heures)\n",
      " Avenue Jean Janvier (Chaussée rétrécie): chantier en cours (fin dans 39 jours et 0 heures)\n",
      " Avenue Jean Janvier (Chaussée rétrécie): chantier en cours (fin dans 69 jours et 0 heures)\n",
      " Rue des Francs Bourgeois (Route barrée): chantier en cours (fin dans 9 jours et 0 heures)\n",
      " Boulevard de Beaumont (Fermeture sens est-ouest): chantier en cours (fin dans 94 jours et 0 heures)\n",
      " Place de la Gare (Route barrée): chantier en cours (fin dans 51 jours et 0 heures)\n",
      " Rue du Capitaine Maignan (Route barrée): chantier terminé depuis 4 jours et 23 heures)\n",
      " Rue de la Cochardière (Route barrée): chantier terminé depuis 4 jours et 23 heures)\n"
     ]
    }
   ],
   "source": [
    "affichePlanningChantiers(listeChantier, 1)"
   ]
  },
  {
   "cell_type": "code",
   "execution_count": 14,
   "metadata": {},
   "outputs": [],
   "source": [
    "dumpListeChantiersJSON(\"export\", listeChantier)"
   ]
  }
 ],
 "metadata": {
  "kernelspec": {
   "display_name": "Python 3",
   "language": "python",
   "name": "python3"
  },
  "language_info": {
   "codemirror_mode": {
    "name": "ipython",
    "version": 3
   },
   "file_extension": ".py",
   "mimetype": "text/x-python",
   "name": "python",
   "nbconvert_exporter": "python",
   "pygments_lexer": "ipython3",
   "version": "3.7.6"
  }
 },
 "nbformat": 4,
 "nbformat_minor": 2
}
