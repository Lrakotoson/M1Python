{
 "cells": [
  {
   "cell_type": "code",
   "execution_count": 1,
   "metadata": {},
   "outputs": [
    {
     "data": {
      "text/plain": [
       "\"Script permettant d'effectuer du web scraping\""
      ]
     },
     "execution_count": 1,
     "metadata": {},
     "output_type": "execute_result"
    }
   ],
   "source": [
    "\"\"\"Script permettant d'effectuer du web scraping\"\"\"\n",
    "################################################################################\n",
    "# fichier  : td3.py\n",
    "# Auteur : RAKOTOSON Loic\n",
    "################################################################################"
   ]
  },
  {
   "cell_type": "code",
   "execution_count": 2,
   "metadata": {},
   "outputs": [],
   "source": [
    "################################################################################\n",
    "# Importation de fonctions externes :\n",
    "import pandas as pd\n",
    "import pickle\n",
    "import re\n",
    "from math import *\n",
    "from bs4 import BeautifulSoup, Tag, NavigableString, Comment\n",
    "from requests import get, HTTPError\n",
    "# Definition locale de fonctions :"
   ]
  },
  {
   "cell_type": "code",
   "execution_count": 3,
   "metadata": {},
   "outputs": [],
   "source": [
    "def getTokens(doc):\n",
    "    regex = r\"\"\"\\w+\"\"\"\n",
    "    tokens = [word.strip().lower() for word in re.findall(regex, doc)]\n",
    "    return tokens"
   ]
  },
  {
   "cell_type": "code",
   "execution_count": 4,
   "metadata": {},
   "outputs": [],
   "source": [
    "################################################################################\n",
    "# Definition des classes :"
   ]
  },
  {
   "cell_type": "code",
   "execution_count": 5,
   "metadata": {},
   "outputs": [],
   "source": [
    "class DTM:\n",
    "\n",
    "    with open('mots_vides.txt', 'r', encoding=\"UTF-8\") as texte:\n",
    "        stopwords = [\n",
    "            line.split('|')[0].strip() for line in texte.readlines()\n",
    "            if line.split('|')[0].strip() != ''\n",
    "        ]\n",
    "\n",
    "    def __init__(self, dico):\n",
    "        self.url = dico['url']\n",
    "        self.title = dico['titre']\n",
    "        self.data = self.__cleaner(dico['data'])\n",
    "        self.tfidf = self.__tfidfTransform()\n",
    "\n",
    "    def __repr__(self):\n",
    "        return self.data.__repr__()\n",
    "\n",
    "    def __cleaner(self, data):\n",
    "        \"\"\"\n",
    "        Supprime les colonnes stopwords\n",
    "        :data: DataFrame\n",
    "        :return: DataFrame\n",
    "        \"\"\"\n",
    "        stopwords = [\n",
    "            word for word in __class__.stopwords if word in list(data.columns)\n",
    "        ]\n",
    "        return data.drop(stopwords, axis=1)\n",
    "\n",
    "    def __tfidfTransform(self):\n",
    "        \"\"\"\n",
    "        Calcule la matrice tfidf\n",
    "        :return: DataFrame\n",
    "        \"\"\"\n",
    "        N = self.data.shape[0]\n",
    "        tf = self.data / self.data.values.max()\n",
    "        idf = (N / pd.concat([\n",
    "            self.data.applymap(lambda x: 1 if x != 0 else 0).sum(\n",
    "                axis=0).to_frame().T\n",
    "        ] * N,\n",
    "                             ignore_index=True)).applymap(lambda x: log(x))\n",
    "\n",
    "        return tf * idf\n",
    "\n",
    "    def nBest(self, N):\n",
    "        return self.data.sum(axis=0).sort_values(ascending=False)[:N]\n",
    "\n",
    "    def nBestDoc(self, N, index):\n",
    "        return self.data.iloc[index].sort_values(ascending=False)[:N]\n",
    "\n",
    "    def query(self, string):\n",
    "        columns = string.split()\n",
    "        data = self.data[columns]\n",
    "        return list(data.loc[(data != 0).all(1)].index)\n",
    "\n",
    "    def queryScore(self):\n",
    "        return pd.concat(\n",
    "            [pd.DataFrame({'url': self.url}),\n",
    "             self.tfidf.sum(axis=1)], axis=1).rename(columns={\n",
    "                 0: 'score'\n",
    "             }).sort_values(by=['score'], ascending=False)"
   ]
  },
  {
   "cell_type": "code",
   "execution_count": 6,
   "metadata": {},
   "outputs": [],
   "source": [
    "################################################################################\n",
    "# Corps principal du programme :"
   ]
  },
  {
   "cell_type": "markdown",
   "metadata": {},
   "source": [
    "# Exercice 1: récolte d'information sur le web\n",
    "Pour simplifier la tâche, nous n’explorerons que les pages de la catégorie elle-même, en laissant de côté les sous-catégories.  \n",
    "1. A l’aide du module BeautifulSoup, écrire le code Python permettant de récupérer une liste de toutes les URLs des pages de la catégorie «Énergie renouvelable»"
   ]
  },
  {
   "cell_type": "code",
   "execution_count": 7,
   "metadata": {},
   "outputs": [],
   "source": [
    "url = \"https://fr.wikipedia.org/wiki/Catégorie:Énergie_renouvelable\"\n",
    "with get(url) as response:\n",
    "    page = BeautifulSoup(response.text, 'html.parser')\n",
    "    listlink = [\n",
    "        link['href'] for sub in [\n",
    "            element.find_all('a')\n",
    "            for element in page.select(\"#mw-pages .mw-category-group\")\n",
    "        ] for link in sub\n",
    "    ]"
   ]
  },
  {
   "cell_type": "markdown",
   "metadata": {},
   "source": [
    "2. A partir de cette liste d’URL, écrire le code Python permettant de récupérer le titre de chaque page, et l’ensemble du texte de la division d’attribut `id=\"mw-content-text\"`, à l’exception du texte contenus dans les éléments de classe `'toc'` (zone pour le sommaire), `'mw-editsection'` (zones pour les liens [modifier | modifier le code]), `'mwe-math-element'` (zones éventuelles de formules mathématiques), `'bandeau-portail'` (bandeau de navigation vers les autres portails Wikipédia, en bas de la page)."
   ]
  },
  {
   "cell_type": "code",
   "execution_count": 8,
   "metadata": {},
   "outputs": [],
   "source": [
    "url, titre, texte = [], [], []\n",
    "for links in listlink:\n",
    "    link = \"https://fr.wikipedia.org\" + links\n",
    "\n",
    "    with get(link) as response:\n",
    "        p1 = BeautifulSoup(response.text, 'html.parser')\n",
    "    title = p1.title.text\n",
    "\n",
    "    tclass = ['toc', 'mw-editsection', 'mwe-math-element', 'beandeau-portail']\n",
    "    tags = ['style', 'sup']\n",
    "    body = p1.find(id=\"mw-content-text\")\n",
    "    ignore = body.find_all('div',\n",
    "                           class_=lambda x: x in tclass) + body.find_all(tags)\n",
    "    for div in ignore:\n",
    "        div.decompose()\n",
    "    text = body.text.strip()\n",
    "\n",
    "    url.append(link)\n",
    "    titre.append(title)\n",
    "    texte.append(text)"
   ]
  },
  {
   "cell_type": "markdown",
   "metadata": {},
   "source": [
    "3. Mémoriser l’ensemble des informations récoltées (url, titre et texte) dans un dictionnaire «docs» possédant trois clés associées aux trois listes d’informations:  \n",
    "doc = {\"url\": [] , \"titre\": [], \"texte\":[]}  \n",
    "et enregistrer ce dictionnaire dans un fichier à l’aide du module pickle."
   ]
  },
  {
   "cell_type": "code",
   "execution_count": 9,
   "metadata": {},
   "outputs": [],
   "source": [
    "doc = {\n",
    "    \"url\" : url,\n",
    "    \"titre\" : titre,\n",
    "    \"texte\" : texte\n",
    "}\n",
    "\n",
    "with open('td3scrap.pickle', 'wb') as export:\n",
    "    pickle.dump(doc, export)"
   ]
  },
  {
   "cell_type": "markdown",
   "metadata": {},
   "source": [
    "# Exercice 2: recherche d’information dans un corpus de texte\n",
    "On se propose de simuler de façon simplifié le fonctionnement d’un moteur de recherche.\n",
    "\n",
    "1. Écrire une classe DTM dont le constructeur prend en paramètre le dictionnaire enregistré à la fin de l’exercice 1 et possédant les attributs suivants:\n",
    "\n",
    " - url: listes des URLs des documents\n",
    " - title: liste des titres des documents\n",
    " - data: une DataFrame de pandas représentant la matrice document-terme du corpus. Les indices de ligne de cette DataFrame seront les indices des documents et les intitulés de colonne seront les termes du corpus. Remplacer, dans cette DataFrame, les valeurs manquante NaN par la valeur 0 (cas où aucune occurrence du terme représenté par l’intitulé de colonne n’a été trouvée dans le document de la ligne correspondante)."
   ]
  },
  {
   "cell_type": "code",
   "execution_count": 10,
   "metadata": {},
   "outputs": [],
   "source": [
    "doc['data'] = pd.DataFrame(\n",
    "    [{x: token.count(x)\n",
    "      for x in set(token)}\n",
    "     for token in [getTokens(text) for text in doc['texte']]]).fillna(0)\n",
    "del doc['texte']"
   ]
  },
  {
   "cell_type": "code",
   "execution_count": 11,
   "metadata": {},
   "outputs": [],
   "source": [
    "work = DTM(doc)"
   ]
  },
  {
   "cell_type": "markdown",
   "metadata": {},
   "source": [
    "2. Ajouter à cette classe la méthode `__repr( )__` pour que l’affichage d’un objet DTM renvoie la DataFrame contenu dans l’attribut data."
   ]
  },
  {
   "cell_type": "code",
   "execution_count": 12,
   "metadata": {},
   "outputs": [
    {
     "name": "stdout",
     "output_type": "stream",
     "text": [
      "    norway   ii  provenaient  continue  barriers  aktualisierte  days  \\\n",
      "0      1.0  2.0          1.0       9.0       1.0            2.0   1.0   \n",
      "1      0.0  0.0          0.0       1.0       0.0            0.0   0.0   \n",
      "2      0.0  0.0          0.0       0.0       0.0            0.0   0.0   \n",
      "3      0.0  0.0          0.0       0.0       0.0            0.0   0.0   \n",
      "4      0.0  0.0          0.0       1.0       2.0            0.0   0.0   \n",
      "5      0.0  0.0          0.0       0.0       0.0            0.0   0.0   \n",
      "6      0.0  0.0          0.0       0.0       0.0            0.0   0.0   \n",
      "7      0.0  0.0          0.0       0.0       0.0            0.0   0.0   \n",
      "8      0.0  0.0          0.0       0.0       0.0            0.0   0.0   \n",
      "9      0.0  0.0          0.0       1.0       0.0            0.0   0.0   \n",
      "10     0.0  0.0          0.0       0.0       0.0            0.0   0.0   \n",
      "11     0.0  0.0          0.0       0.0       0.0            0.0   0.0   \n",
      "12     0.0  0.0          0.0       0.0       0.0            0.0   0.0   \n",
      "13     0.0  0.0          0.0       0.0       0.0            0.0   0.0   \n",
      "14     0.0  0.0          0.0       0.0       0.0            0.0   0.0   \n",
      "15     0.0  0.0          0.0       0.0       0.0            0.0   0.0   \n",
      "16     0.0  1.0          0.0       0.0       0.0            0.0   0.0   \n",
      "17     0.0  0.0          0.0       0.0       0.0            0.0   0.0   \n",
      "18     0.0  0.0          0.0       0.0       0.0            0.0   0.0   \n",
      "19     0.0  0.0          0.0       0.0       0.0            0.0   0.0   \n",
      "20     0.0  0.0          0.0       0.0       0.0            0.0   0.0   \n",
      "21     0.0  0.0          0.0       0.0       0.0            0.0   0.0   \n",
      "22     0.0  3.0          0.0       0.0       0.0            0.0   0.0   \n",
      "23     0.0  0.0          0.0       0.0       0.0            0.0   0.0   \n",
      "24     0.0  0.0          0.0       0.0       0.0            0.0   0.0   \n",
      "25     0.0  0.0          0.0       0.0       0.0            0.0   0.0   \n",
      "26     0.0  0.0          0.0       0.0       0.0            0.0   0.0   \n",
      "\n",
      "    kristina  colorado  passes  ...  zaslavsky  kalam  vaporiser  indien  \\\n",
      "0        1.0       1.0     1.0  ...        0.0    0.0        0.0     0.0   \n",
      "1        0.0       0.0     0.0  ...        0.0    0.0        0.0     0.0   \n",
      "2        0.0       0.0     0.0  ...        0.0    0.0        0.0     0.0   \n",
      "3        0.0       0.0     0.0  ...        0.0    0.0        0.0     0.0   \n",
      "4        0.0       0.0     0.0  ...        0.0    0.0        0.0     0.0   \n",
      "5        0.0       0.0     0.0  ...        0.0    0.0        0.0     0.0   \n",
      "6        0.0       0.0     0.0  ...        0.0    0.0        0.0     0.0   \n",
      "7        0.0       0.0     0.0  ...        0.0    0.0        0.0     0.0   \n",
      "8        0.0       0.0     0.0  ...        0.0    0.0        0.0     0.0   \n",
      "9        0.0       0.0     0.0  ...        0.0    0.0        0.0     0.0   \n",
      "10       0.0       0.0     0.0  ...        0.0    0.0        0.0     0.0   \n",
      "11       0.0       1.0     0.0  ...        0.0    0.0        0.0     0.0   \n",
      "12       0.0       0.0     0.0  ...        0.0    0.0        0.0     0.0   \n",
      "13       0.0       0.0     0.0  ...        0.0    0.0        0.0     0.0   \n",
      "14       0.0       0.0     0.0  ...        0.0    0.0        0.0     0.0   \n",
      "15       0.0       0.0     0.0  ...        0.0    0.0        0.0     0.0   \n",
      "16       0.0       0.0     0.0  ...        0.0    0.0        0.0     0.0   \n",
      "17       0.0       0.0     0.0  ...        0.0    0.0        0.0     0.0   \n",
      "18       0.0       0.0     0.0  ...        0.0    0.0        0.0     0.0   \n",
      "19       0.0       0.0     0.0  ...        0.0    0.0        0.0     0.0   \n",
      "20       0.0       0.0     0.0  ...        0.0    0.0        0.0     0.0   \n",
      "21       0.0       0.0     0.0  ...        0.0    0.0        0.0     0.0   \n",
      "22       0.0       0.0     0.0  ...        0.0    0.0        0.0     0.0   \n",
      "23       0.0       0.0     0.0  ...        0.0    0.0        0.0     0.0   \n",
      "24       0.0       0.0     0.0  ...        0.0    0.0        0.0     0.0   \n",
      "25       0.0       0.0     0.0  ...        0.0    0.0        0.0     0.0   \n",
      "26       0.0       0.0     0.0  ...        1.0    1.0        1.0     1.0   \n",
      "\n",
      "    chuterait  développeur  potabilité  israelmagazine  réputé  dan  \n",
      "0         0.0          0.0         0.0             0.0     0.0  0.0  \n",
      "1         0.0          0.0         0.0             0.0     0.0  0.0  \n",
      "2         0.0          0.0         0.0             0.0     0.0  0.0  \n",
      "3         0.0          0.0         0.0             0.0     0.0  0.0  \n",
      "4         0.0          0.0         0.0             0.0     0.0  0.0  \n",
      "5         0.0          0.0         0.0             0.0     0.0  0.0  \n",
      "6         0.0          0.0         0.0             0.0     0.0  0.0  \n",
      "7         0.0          0.0         0.0             0.0     0.0  0.0  \n",
      "8         0.0          0.0         0.0             0.0     0.0  0.0  \n",
      "9         0.0          0.0         0.0             0.0     0.0  0.0  \n",
      "10        0.0          0.0         0.0             0.0     0.0  0.0  \n",
      "11        0.0          0.0         0.0             0.0     0.0  0.0  \n",
      "12        0.0          0.0         0.0             0.0     0.0  0.0  \n",
      "13        0.0          0.0         0.0             0.0     0.0  0.0  \n",
      "14        0.0          0.0         0.0             0.0     0.0  0.0  \n",
      "15        0.0          0.0         0.0             0.0     0.0  0.0  \n",
      "16        0.0          0.0         0.0             0.0     0.0  0.0  \n",
      "17        0.0          0.0         0.0             0.0     0.0  0.0  \n",
      "18        0.0          0.0         0.0             0.0     0.0  0.0  \n",
      "19        0.0          0.0         0.0             0.0     0.0  0.0  \n",
      "20        0.0          0.0         0.0             0.0     0.0  0.0  \n",
      "21        0.0          0.0         0.0             0.0     0.0  0.0  \n",
      "22        0.0          0.0         0.0             0.0     0.0  0.0  \n",
      "23        0.0          0.0         0.0             0.0     0.0  0.0  \n",
      "24        0.0          0.0         0.0             0.0     0.0  0.0  \n",
      "25        0.0          0.0         0.0             0.0     0.0  0.0  \n",
      "26        1.0          1.0         1.0             1.0     1.0  2.0  \n",
      "\n",
      "[27 rows x 8299 columns]\n"
     ]
    }
   ],
   "source": [
    "print(work)"
   ]
  },
  {
   "cell_type": "markdown",
   "metadata": {},
   "source": [
    "3. Ajouter à la classe DTM une méthode `nBest( )` prenant en argument un nombre entier N et renvoyant la liste des N termes les plus fréquents dans le corpus entier, avec leur fréquence, par ordres décroissant des fréquences. Indication: utiliser la méthode `sum()` des DataFrame pandas. "
   ]
  },
  {
   "cell_type": "code",
   "execution_count": 13,
   "metadata": {},
   "outputs": [
    {
     "data": {
      "text/plain": [
       "énergie          659.0\n",
       "modifier         462.0\n",
       "électricité      385.0\n",
       "énergies         371.0\n",
       "renouvelables    370.0\n",
       "production       326.0\n",
       "consulté         257.0\n",
       "code             237.0\n",
       "plus             235.0\n",
       "réseau           231.0\n",
       "dtype: float64"
      ]
     },
     "execution_count": 13,
     "metadata": {},
     "output_type": "execute_result"
    }
   ],
   "source": [
    "work.nBest(10)"
   ]
  },
  {
   "cell_type": "markdown",
   "metadata": {},
   "source": [
    "4. Rajouter une deuxième méthode `nBestDoc( )` prenant en deuxième argument l’indice (entier) d’un document et renvoyant la liste des N termes les plus fréquents dans ce document, avec leur fréquence, par ordres décroissant des fréquences."
   ]
  },
  {
   "cell_type": "code",
   "execution_count": 14,
   "metadata": {},
   "outputs": [
    {
     "data": {
      "text/plain": [
       "air             34.0\n",
       "modifier        22.0\n",
       "bâdgir          13.0\n",
       "vent            13.0\n",
       "code            11.0\n",
       "ventilation     11.0\n",
       "bâdgirs         10.0\n",
       "architecture     9.0\n",
       "badguir          8.0\n",
       "chaleur          8.0\n",
       "Name: 1, dtype: float64"
      ]
     },
     "execution_count": 14,
     "metadata": {},
     "output_type": "execute_result"
    }
   ],
   "source": [
    "work.nBestDoc(10, 1)"
   ]
  },
  {
   "cell_type": "markdown",
   "metadata": {},
   "source": [
    "5. Testez les deux méthodes précédentes en observant les 10 termes les plus fréquents pour le corpus entier et pour différents documents. Concluez.\n",
    "\n",
    "Les termes les plus fréquents sont des stopwords qui ne donnent pas plus d'informations sur les corpus puisqu'ils sont communs. Ils ne sont pas pertinents à analyser."
   ]
  },
  {
   "cell_type": "markdown",
   "metadata": {},
   "source": [
    "6. Ajoutez la liste de mots-vide comme nouvel attribut de la classe DTM: attribut stopWords. Testez à nouveau les deux méthode `nBest()` et `nBestDoc()` après avoir exclu ces mots-vides."
   ]
  },
  {
   "cell_type": "markdown",
   "metadata": {},
   "source": [
    "7. Ajouter à la classe DTM une méthode `query( )` prenant en paramètre une requête (chaîne de caractères) représentant une liste de mots séparés par des espaces, et renvoyant la liste des documents contenant l’ensemble des mots de la requête."
   ]
  },
  {
   "cell_type": "code",
   "execution_count": 15,
   "metadata": {},
   "outputs": [
    {
     "data": {
      "text/plain": [
       "[0, 1, 4, 7, 9, 11, 13, 24]"
      ]
     },
     "execution_count": 15,
     "metadata": {},
     "output_type": "execute_result"
    }
   ],
   "source": [
    "work.query(\"réseau vent\")"
   ]
  },
  {
   "cell_type": "markdown",
   "metadata": {},
   "source": [
    "8. Remplir la matrice document-terme avec le tf.idf et utiliser ces scores pour classer les documents résultats de la requête, en sortie d'une nouvelle méthode `queryScore()`. Le score global de la requête sera la somme des scores tf.idf de chaque terme. La méthode renverra une Dataframe avec en première colonne l'url des documents, et en seconde colonne le score associé, par ordre décroissant de ces scores."
   ]
  },
  {
   "cell_type": "code",
   "execution_count": 16,
   "metadata": {},
   "outputs": [
    {
     "data": {
      "text/html": [
       "<div>\n",
       "<style scoped>\n",
       "    .dataframe tbody tr th:only-of-type {\n",
       "        vertical-align: middle;\n",
       "    }\n",
       "\n",
       "    .dataframe tbody tr th {\n",
       "        vertical-align: top;\n",
       "    }\n",
       "\n",
       "    .dataframe thead th {\n",
       "        text-align: right;\n",
       "    }\n",
       "</style>\n",
       "<table border=\"1\" class=\"dataframe\">\n",
       "  <thead>\n",
       "    <tr style=\"text-align: right;\">\n",
       "      <th></th>\n",
       "      <th>url</th>\n",
       "      <th>score</th>\n",
       "    </tr>\n",
       "  </thead>\n",
       "  <tbody>\n",
       "    <tr>\n",
       "      <th>0</th>\n",
       "      <td>https://fr.wikipedia.org/wiki/%C3%89nergie_ren...</td>\n",
       "      <td>92.504894</td>\n",
       "    </tr>\n",
       "    <tr>\n",
       "      <th>16</th>\n",
       "      <td>https://fr.wikipedia.org/wiki/Parit%C3%A9_r%C3...</td>\n",
       "      <td>15.961787</td>\n",
       "    </tr>\n",
       "    <tr>\n",
       "      <th>4</th>\n",
       "      <td>https://fr.wikipedia.org/wiki/Coop%C3%A9rative...</td>\n",
       "      <td>13.333892</td>\n",
       "    </tr>\n",
       "    <tr>\n",
       "      <th>15</th>\n",
       "      <td>https://fr.wikipedia.org/wiki/Net_metering</td>\n",
       "      <td>10.301277</td>\n",
       "    </tr>\n",
       "    <tr>\n",
       "      <th>2</th>\n",
       "      <td>https://fr.wikipedia.org/wiki/Centre_d%27essai...</td>\n",
       "      <td>9.856232</td>\n",
       "    </tr>\n",
       "    <tr>\n",
       "      <th>1</th>\n",
       "      <td>https://fr.wikipedia.org/wiki/Badguir</td>\n",
       "      <td>9.025966</td>\n",
       "    </tr>\n",
       "    <tr>\n",
       "      <th>9</th>\n",
       "      <td>https://fr.wikipedia.org/wiki/Financement_part...</td>\n",
       "      <td>8.848467</td>\n",
       "    </tr>\n",
       "    <tr>\n",
       "      <th>24</th>\n",
       "      <td>https://fr.wikipedia.org/wiki/Source_d%27%C3%A...</td>\n",
       "      <td>8.095770</td>\n",
       "    </tr>\n",
       "    <tr>\n",
       "      <th>20</th>\n",
       "      <td>https://fr.wikipedia.org/wiki/RETScreen</td>\n",
       "      <td>7.878680</td>\n",
       "    </tr>\n",
       "    <tr>\n",
       "      <th>14</th>\n",
       "      <td>https://fr.wikipedia.org/wiki/Nice_Grid</td>\n",
       "      <td>7.533983</td>\n",
       "    </tr>\n",
       "    <tr>\n",
       "      <th>11</th>\n",
       "      <td>https://fr.wikipedia.org/wiki/Hors_r%C3%A9seau</td>\n",
       "      <td>6.190193</td>\n",
       "    </tr>\n",
       "    <tr>\n",
       "      <th>7</th>\n",
       "      <td>https://fr.wikipedia.org/wiki/%C3%89nergie_dur...</td>\n",
       "      <td>5.947999</td>\n",
       "    </tr>\n",
       "    <tr>\n",
       "      <th>18</th>\n",
       "      <td>https://fr.wikipedia.org/wiki/Politique_des_%C...</td>\n",
       "      <td>5.457388</td>\n",
       "    </tr>\n",
       "    <tr>\n",
       "      <th>8</th>\n",
       "      <td>https://fr.wikipedia.org/wiki/%C3%89nergies_re...</td>\n",
       "      <td>4.503050</td>\n",
       "    </tr>\n",
       "    <tr>\n",
       "      <th>5</th>\n",
       "      <td>https://fr.wikipedia.org/wiki/%C3%89lectricit%...</td>\n",
       "      <td>4.082554</td>\n",
       "    </tr>\n",
       "    <tr>\n",
       "      <th>19</th>\n",
       "      <td>https://fr.wikipedia.org/wiki/Production_d%C3%...</td>\n",
       "      <td>3.563920</td>\n",
       "    </tr>\n",
       "    <tr>\n",
       "      <th>22</th>\n",
       "      <td>https://fr.wikipedia.org/wiki/Sch%C3%A9ma_r%C3...</td>\n",
       "      <td>2.056729</td>\n",
       "    </tr>\n",
       "    <tr>\n",
       "      <th>21</th>\n",
       "      <td>https://fr.wikipedia.org/wiki/Sams%C3%B8</td>\n",
       "      <td>2.034539</td>\n",
       "    </tr>\n",
       "    <tr>\n",
       "      <th>26</th>\n",
       "      <td>https://fr.wikipedia.org/wiki/Tour_%C3%A9nerg%...</td>\n",
       "      <td>1.797762</td>\n",
       "    </tr>\n",
       "    <tr>\n",
       "      <th>13</th>\n",
       "      <td>https://fr.wikipedia.org/wiki/Lampadaire_autonome</td>\n",
       "      <td>1.403507</td>\n",
       "    </tr>\n",
       "    <tr>\n",
       "      <th>25</th>\n",
       "      <td>https://fr.wikipedia.org/wiki/Tarif_d%27achat</td>\n",
       "      <td>1.195262</td>\n",
       "    </tr>\n",
       "    <tr>\n",
       "      <th>10</th>\n",
       "      <td>https://fr.wikipedia.org/wiki/Gaz_renouvelable</td>\n",
       "      <td>1.107425</td>\n",
       "    </tr>\n",
       "    <tr>\n",
       "      <th>17</th>\n",
       "      <td>https://fr.wikipedia.org/wiki/Plastiki</td>\n",
       "      <td>0.890737</td>\n",
       "    </tr>\n",
       "    <tr>\n",
       "      <th>12</th>\n",
       "      <td>https://fr.wikipedia.org/wiki/Intelligent_Ener...</td>\n",
       "      <td>0.577366</td>\n",
       "    </tr>\n",
       "    <tr>\n",
       "      <th>3</th>\n",
       "      <td>https://fr.wikipedia.org/wiki/Conf%C3%A9rence_...</td>\n",
       "      <td>0.548701</td>\n",
       "    </tr>\n",
       "    <tr>\n",
       "      <th>23</th>\n",
       "      <td>https://fr.wikipedia.org/wiki/SE4All</td>\n",
       "      <td>0.450723</td>\n",
       "    </tr>\n",
       "    <tr>\n",
       "      <th>6</th>\n",
       "      <td>https://fr.wikipedia.org/wiki/%C3%89nergie_a%C...</td>\n",
       "      <td>0.297856</td>\n",
       "    </tr>\n",
       "  </tbody>\n",
       "</table>\n",
       "</div>"
      ],
      "text/plain": [
       "                                                  url      score\n",
       "0   https://fr.wikipedia.org/wiki/%C3%89nergie_ren...  92.504894\n",
       "16  https://fr.wikipedia.org/wiki/Parit%C3%A9_r%C3...  15.961787\n",
       "4   https://fr.wikipedia.org/wiki/Coop%C3%A9rative...  13.333892\n",
       "15         https://fr.wikipedia.org/wiki/Net_metering  10.301277\n",
       "2   https://fr.wikipedia.org/wiki/Centre_d%27essai...   9.856232\n",
       "1               https://fr.wikipedia.org/wiki/Badguir   9.025966\n",
       "9   https://fr.wikipedia.org/wiki/Financement_part...   8.848467\n",
       "24  https://fr.wikipedia.org/wiki/Source_d%27%C3%A...   8.095770\n",
       "20            https://fr.wikipedia.org/wiki/RETScreen   7.878680\n",
       "14            https://fr.wikipedia.org/wiki/Nice_Grid   7.533983\n",
       "11     https://fr.wikipedia.org/wiki/Hors_r%C3%A9seau   6.190193\n",
       "7   https://fr.wikipedia.org/wiki/%C3%89nergie_dur...   5.947999\n",
       "18  https://fr.wikipedia.org/wiki/Politique_des_%C...   5.457388\n",
       "8   https://fr.wikipedia.org/wiki/%C3%89nergies_re...   4.503050\n",
       "5   https://fr.wikipedia.org/wiki/%C3%89lectricit%...   4.082554\n",
       "19  https://fr.wikipedia.org/wiki/Production_d%C3%...   3.563920\n",
       "22  https://fr.wikipedia.org/wiki/Sch%C3%A9ma_r%C3...   2.056729\n",
       "21           https://fr.wikipedia.org/wiki/Sams%C3%B8   2.034539\n",
       "26  https://fr.wikipedia.org/wiki/Tour_%C3%A9nerg%...   1.797762\n",
       "13  https://fr.wikipedia.org/wiki/Lampadaire_autonome   1.403507\n",
       "25      https://fr.wikipedia.org/wiki/Tarif_d%27achat   1.195262\n",
       "10     https://fr.wikipedia.org/wiki/Gaz_renouvelable   1.107425\n",
       "17             https://fr.wikipedia.org/wiki/Plastiki   0.890737\n",
       "12  https://fr.wikipedia.org/wiki/Intelligent_Ener...   0.577366\n",
       "3   https://fr.wikipedia.org/wiki/Conf%C3%A9rence_...   0.548701\n",
       "23               https://fr.wikipedia.org/wiki/SE4All   0.450723\n",
       "6   https://fr.wikipedia.org/wiki/%C3%89nergie_a%C...   0.297856"
      ]
     },
     "execution_count": 16,
     "metadata": {},
     "output_type": "execute_result"
    }
   ],
   "source": [
    "work.queryScore()"
   ]
  }
 ],
 "metadata": {
  "kernelspec": {
   "display_name": "Python 3",
   "language": "python",
   "name": "python3"
  },
  "language_info": {
   "codemirror_mode": {
    "name": "ipython",
    "version": 3
   },
   "file_extension": ".py",
   "mimetype": "text/x-python",
   "name": "python",
   "nbconvert_exporter": "python",
   "pygments_lexer": "ipython3",
   "version": "3.7.6"
  }
 },
 "nbformat": 4,
 "nbformat_minor": 4
}
