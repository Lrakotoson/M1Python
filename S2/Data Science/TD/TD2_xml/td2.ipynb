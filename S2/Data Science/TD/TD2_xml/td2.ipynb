{
 "cells": [
  {
   "cell_type": "code",
   "execution_count": 1,
   "metadata": {},
   "outputs": [
    {
     "data": {
      "text/plain": [
       "\"Script permettant d'explorer les données d'un fichier XML\""
      ]
     },
     "execution_count": 1,
     "metadata": {},
     "output_type": "execute_result"
    }
   ],
   "source": [
    "\"\"\"Script permettant d'explorer les données d'un fichier XML\"\"\"\n",
    "################################################################################\n",
    "# fichier  : td1.py\n",
    "# Auteur : RAKOTOSON Loic\n",
    "################################################################################"
   ]
  },
  {
   "cell_type": "code",
   "execution_count": 1,
   "metadata": {},
   "outputs": [],
   "source": [
    "################################################################################\n",
    "# Importation de fonctions externes :\n",
    "from lxml import etree\n",
    "# Definition locale de fonctions :"
   ]
  },
  {
   "cell_type": "code",
   "execution_count": 79,
   "metadata": {},
   "outputs": [],
   "source": [
    "def afficheTexte(listElement):\n",
    "    for element in listElement:\n",
    "        print(\"-----\\n\")\n",
    "        for item in element.xpath(\"child::node()\"):\n",
    "            if item != \"\\n\":\n",
    "                print(item.text)"
   ]
  },
  {
   "cell_type": "code",
   "execution_count": 92,
   "metadata": {},
   "outputs": [],
   "source": [
    "def afficheResultatRequete(listElement):\n",
    "    for element in listElement:\n",
    "        if isinstance(element, etree._Element):\n",
    "            print(etree.tostring(element, encoding='unicode', method='xml'))"
   ]
  },
  {
   "cell_type": "code",
   "execution_count": 129,
   "metadata": {},
   "outputs": [],
   "source": [
    "def infoFilm(listFilm):\n",
    "    for film in listFilm:\n",
    "        chaine = \"\"\n",
    "        for item in film.xpath(\"child::node()\"):\n",
    "            if isinstance(item, etree._Element) and item.text:\n",
    "                if item.getchildren():\n",
    "                    chaine += \"{}: {}\\n\".format(\n",
    "                        item.tag, \", \".join([\n",
    "                            role.text for role in item.xpath(\"child::ROLE\")\n",
    "                            if role.text\n",
    "                        ]))\n",
    "                else:\n",
    "                    chaine += \"{}: {}\\n\".format(item.tag, item.text)\n",
    "        print(chaine)"
   ]
  },
  {
   "cell_type": "code",
   "execution_count": 3,
   "metadata": {},
   "outputs": [],
   "source": [
    "################################################################################\n",
    "# Definition des classes :"
   ]
  },
  {
   "cell_type": "code",
   "execution_count": 4,
   "metadata": {},
   "outputs": [],
   "source": [
    "################################################################################\n",
    "# Corps principal du programme :"
   ]
  },
  {
   "cell_type": "markdown",
   "metadata": {},
   "source": [
    "# Préambule\n",
    "Écrire le code permettant de lire le fichier films.xml et de récupérer l'élément racine de l'arbre XML correspondant. Afficher cet arbre dans la console."
   ]
  },
  {
   "cell_type": "code",
   "execution_count": 2,
   "metadata": {},
   "outputs": [],
   "source": [
    "tree = etree.parse(\"films.xml\")\n",
    "root = tree.getroot()\n",
    "print(etree.tostring(root, encoding = \"unicode\"))"
   ]
  },
  {
   "cell_type": "markdown",
   "metadata": {},
   "source": [
    "Écrire le code Python permettant d'obtenir la liste des éléments FILM de l'arbre XML"
   ]
  },
  {
   "cell_type": "code",
   "execution_count": 7,
   "metadata": {},
   "outputs": [],
   "source": [
    "listFilm = root.xpath(\"FILM\")"
   ]
  },
  {
   "cell_type": "markdown",
   "metadata": {},
   "source": [
    "# EXO 1\n",
    "1. Écrire une fonction `afficheTexte()` permettant d'afficher le contenu textuel d'une liste d'éléments XML passée en paramètre, et de tous leurs sous-éléments. Tester sur la liste des élément FILM obtenue en préambule."
   ]
  },
  {
   "cell_type": "code",
   "execution_count": 82,
   "metadata": {
    "scrolled": true
   },
   "outputs": [
    {
     "name": "stdout",
     "output_type": "stream",
     "text": [
      "-----\n",
      "\n",
      "Titanic\n",
      "1997\n",
      "Drame\n",
      "None\n",
      "None\n",
      "\n",
      "\n",
      "Conduite par Brock Lovett, une expédition américaine fouillant l'épave du Titanic remonte à la\n",
      " surface le croquis d'une femme nue. Alertée par les médias la dame en question, Rose DeWitt\n",
      " Bukater, aujourd'hui centenaire, rejoint les lieux du naufrage, d'où elle entreprend de conter le\n",
      " récit de son fascinant, étrange et tragique voyage... \n",
      "-----\n",
      "\n",
      "Sacrifice\n",
      "1986\n",
      "Drame\n",
      "None\n",
      "None\n",
      "\n",
      "\n",
      "None\n"
     ]
    }
   ],
   "source": [
    "afficheTexte(listFilm[2:4])"
   ]
  },
  {
   "cell_type": "markdown",
   "metadata": {},
   "source": [
    "2. Écrire une fonction `afficheResultatRequete()` permettant d'afficher le code (XML ou texte) d'une liste d'éléments résultant d’une requête Xpath (cette liste sera passée en paramètre de la fonction).  \n",
    "Indication: on pourra tester si les éléments dans cette liste sont des éléments XML en utilisant la fonction `isinstance()` de Python; la classe d’un élément XML dans etree est etree._Element."
   ]
  },
  {
   "cell_type": "code",
   "execution_count": 94,
   "metadata": {
    "scrolled": true
   },
   "outputs": [
    {
     "name": "stdout",
     "output_type": "stream",
     "text": [
      "<FILM>\n",
      "<TITRE>Vertigo</TITRE>\n",
      "<ANNEE>1958</ANNEE><GENRE>Drame</GENRE><PAYS/><MES idref=\"A3\"/>\n",
      "<ROLES>\n",
      "<ROLE idref=\"A15\">John Ferguson</ROLE><ROLE idref=\"A16\">Madeleine Elster</ROLE></ROLES>\n",
      "</FILM>\n",
      "\n",
      "<FILM>\n",
      "<TITRE>Alien</TITRE>\n",
      "<ANNEE>1979</ANNEE><GENRE>Science-fiction</GENRE><PAYS/><MES idref=\"A4\"/>\n",
      "<ROLES>\n",
      "<ROLE idref=\"A5\">Ripley</ROLE></ROLES>\n",
      "<RESUME>Près d'un vaisseau spatial échoué sur une lointaine planète, des Terriens en mission découvrent\n",
      " de bien étranges \"oeufs\". Ils en ramènent un à bord, ignorant qu'ils viennent d'introduire parmi\n",
      " eux un huitième passager particulièrement féroce et meurtrier. </RESUME>\n",
      "</FILM>\n",
      "\n",
      "<FILM>\n",
      "<TITRE>Titanic</TITRE>\n",
      "<ANNEE>1997</ANNEE><GENRE>Drame</GENRE><PAYS/><MES idref=\"A6\"/>\n",
      "<ROLES>\n",
      "<ROLE idref=\"A109\">Rose DeWitt Bukater</ROLE><ROLE idref=\"A110\">Jack Dawson</ROLE></ROLES>\n",
      "<RESUME>Conduite par Brock Lovett, une expédition américaine fouillant l'épave du Titanic remonte à la\n",
      " surface le croquis d'une femme nue. Alertée par les médias la dame en question, Rose DeWitt\n",
      " Bukater, aujourd'hui centenaire, rejoint les lieux du naufrage, d'où elle entreprend de conter le\n",
      " récit de son fascinant, étrange et tragique voyage... </RESUME>\n",
      "</FILM>\n",
      "\n"
     ]
    }
   ],
   "source": [
    "afficheResultatRequete(listFilm[:3])"
   ]
  },
  {
   "cell_type": "markdown",
   "metadata": {},
   "source": [
    "3. Écrire une fonction permettant d'afficher les informations d'une liste d'éléments FILM passée en paramètre. Chaque élément FILM sera affiché de la façon suivante (attention, il faudra gérer le cas où le résumé est absent)"
   ]
  },
  {
   "cell_type": "code",
   "execution_count": 131,
   "metadata": {
    "scrolled": true
   },
   "outputs": [
    {
     "name": "stdout",
     "output_type": "stream",
     "text": [
      "TITRE: Vertigo\n",
      "ANNEE: 1958\n",
      "GENRE: Drame\n",
      "ROLES: John Ferguson, Madeleine Elster\n",
      "\n",
      "TITRE: Alien\n",
      "ANNEE: 1979\n",
      "GENRE: Science-fiction\n",
      "ROLES: Ripley\n",
      "RESUME: Près d'un vaisseau spatial échoué sur une lointaine planète, des Terriens en mission découvrent\n",
      " de bien étranges \"oeufs\". Ils en ramènent un à bord, ignorant qu'ils viennent d'introduire parmi\n",
      " eux un huitième passager particulièrement féroce et meurtrier. \n",
      "\n",
      "TITRE: Titanic\n",
      "ANNEE: 1997\n",
      "GENRE: Drame\n",
      "ROLES: Rose DeWitt Bukater, Jack Dawson\n",
      "RESUME: Conduite par Brock Lovett, une expédition américaine fouillant l'épave du Titanic remonte à la\n",
      " surface le croquis d'une femme nue. Alertée par les médias la dame en question, Rose DeWitt\n",
      " Bukater, aujourd'hui centenaire, rejoint les lieux du naufrage, d'où elle entreprend de conter le\n",
      " récit de son fascinant, étrange et tragique voyage... \n",
      "\n"
     ]
    }
   ],
   "source": [
    "infoFilm(listFilm[:3])"
   ]
  },
  {
   "cell_type": "markdown",
   "metadata": {},
   "source": [
    "# EXO 2\n",
    "Écrire le code Python permettant d'afficher les informations suivantes en utilisant une seule requête **Xpath** (on pourra utiliser la fonction afficheResultatRequete() pour visualiser les résultats lorsque celaest approprié):\n",
    "\n",
    "1. La liste des noms de tous les artistes"
   ]
  },
  {
   "cell_type": "code",
   "execution_count": 148,
   "metadata": {},
   "outputs": [
    {
     "data": {
      "text/plain": [
       "['James', 'Alfred', 'Ridley', 'Sigourney', 'Andrei']"
      ]
     },
     "execution_count": 148,
     "metadata": {},
     "output_type": "execute_result"
    }
   ],
   "source": [
    "query_1 = \"ARTISTE/ACTPNOM//text()\"\n",
    "root.xpath(query_1)[:5]"
   ]
  },
  {
   "cell_type": "markdown",
   "metadata": {},
   "source": [
    "2. Même question mais avec affichage des balises"
   ]
  },
  {
   "cell_type": "code",
   "execution_count": 150,
   "metadata": {},
   "outputs": [
    {
     "name": "stdout",
     "output_type": "stream",
     "text": [
      "<ACTPNOM>James</ACTPNOM>\n",
      "<ACTPNOM>Alfred</ACTPNOM>\n",
      "<ACTPNOM>Ridley</ACTPNOM>\n",
      "<ACTPNOM>Sigourney</ACTPNOM>\n",
      "<ACTPNOM>Andrei</ACTPNOM>\n"
     ]
    }
   ],
   "source": [
    "query_2 = \"ARTISTE/ACTPNOM\"\n",
    "afficheResultatRequete(root.xpath(query_2)[:5])"
   ]
  },
  {
   "cell_type": "markdown",
   "metadata": {},
   "source": [
    "3. Afficher le titre des films sortis après 1990"
   ]
  }
 ],
 "metadata": {
  "kernelspec": {
   "display_name": "Python 3",
   "language": "python",
   "name": "python3"
  },
  "language_info": {
   "codemirror_mode": {
    "name": "ipython",
    "version": 3
   },
   "file_extension": ".py",
   "mimetype": "text/x-python",
   "name": "python",
   "nbconvert_exporter": "python",
   "pygments_lexer": "ipython3",
   "version": "3.7.6"
  }
 },
 "nbformat": 4,
 "nbformat_minor": 4
}
