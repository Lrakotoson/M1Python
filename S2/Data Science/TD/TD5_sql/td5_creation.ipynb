{
 "cells": [
  {
   "cell_type": "code",
   "execution_count": 1,
   "metadata": {},
   "outputs": [
    {
     "data": {
      "text/plain": [
       "\"Script permettant de créer et d'interroger une base de données SQL\""
      ]
     },
     "execution_count": 1,
     "metadata": {},
     "output_type": "execute_result"
    }
   ],
   "source": [
    "\"\"\"Script permettant de créer et d'interroger une base de données SQL\"\"\"\n",
    "################################################################################\n",
    "# fichier  : td5_creation.py\n",
    "# Auteur : RAKOTOSON Loic\n",
    "################################################################################"
   ]
  },
  {
   "cell_type": "code",
   "execution_count": 2,
   "metadata": {},
   "outputs": [],
   "source": [
    "################################################################################\n",
    "# Importation de fonctions externes :\n",
    "import sqlite3 as db\n",
    "import csv\n",
    "\n",
    "# Definition locale de fonctions :"
   ]
  },
  {
   "cell_type": "code",
   "execution_count": 3,
   "metadata": {},
   "outputs": [],
   "source": [
    "def sqlQuery(query):\n",
    "    \"\"\"\n",
    "    Execute une requête SQL\n",
    "    query: str, requête\n",
    "    Un objet de classe Connection doit exister\n",
    "    \"\"\"\n",
    "    global cnx\n",
    "    cursor = cnx.cursor()\n",
    "    \n",
    "    try:\n",
    "        cursor.execute(query)\n",
    "        cnx.commit()\n",
    "    except:\n",
    "        cnx.rollback()\n",
    "    "
   ]
  },
  {
   "cell_type": "code",
   "execution_count": 4,
   "metadata": {},
   "outputs": [],
   "source": [
    "################################################################################\n",
    "# Corps principal du programme :"
   ]
  },
  {
   "cell_type": "markdown",
   "metadata": {},
   "source": [
    "# Exercice 1: Création de la base\n",
    "Lire le fichier agenda_culturel.csv à l'aide du module csv de Python et placer les données dans une liste Python `dataCSV`."
   ]
  },
  {
   "cell_type": "code",
   "execution_count": 5,
   "metadata": {},
   "outputs": [],
   "source": [
    "with open(\"agenda_culturel.csv\", \"r\", encoding=\"UTF8\") as f:\n",
    "    dataCSV = list(csv.reader(f, delimiter=\";\"))"
   ]
  },
  {
   "cell_type": "markdown",
   "metadata": {},
   "source": [
    "## Question 1\n",
    "#### 1.1 Placer en premier les instructions permettant de supprimer les tables si elles existent (utile pour repartir à zéro lorsqu'on fait plusieurs essais). On veillera à supprimer en premier la table qui possède des clés étrangères."
   ]
  },
  {
   "cell_type": "code",
   "execution_count": 6,
   "metadata": {},
   "outputs": [],
   "source": [
    "tables = [\"typeEvenement\", \"organisme\", \"commune\", \"evenement\"]\n",
    "cnx = db.connect(\"base.sqlite\")\n",
    "cursor = cnx.cursor()\n",
    "for tb in tables:\n",
    "    query = \"DROP TABLE IF EXISTS \" + tb\n",
    "    cursor.execute(query)\n",
    "    cnx.commit()"
   ]
  },
  {
   "cell_type": "markdown",
   "metadata": {},
   "source": [
    "#### 1.2 Créer ensuite les tables ne possédant pas de clé étrangère."
   ]
  },
  {
   "cell_type": "code",
   "execution_count": 7,
   "metadata": {},
   "outputs": [],
   "source": [
    "typeEvenement = \"\"\"CREATE TABLE IF NOT EXISTS typeEvenement(\n",
    "                   TE_id TINYINT(2) PRIMARY KEY,\n",
    "                   TE_nom VARCHAR(25) NOT NULL,\n",
    "                   TE_theme TEXT CHECK(TE_theme IN ('Loisir', 'Pratique')) NOT NULL\n",
    "                   )\n",
    "                \"\"\"\n",
    "organisme = \"\"\"CREATE TABLE IF NOT EXISTS organisme(\n",
    "               O_id INTEGER PRIMARY KEY,\n",
    "               O_nom VARCHAR(25) NOT NULL,\n",
    "               O_type VARCHAR(25) NOT NULL\n",
    "               )\n",
    "            \"\"\"\n",
    "\n",
    "commune = \"\"\"CREATE TABLE IF NOT EXISTS commune(\n",
    "             C_INSEE INTEGER PRIMARY KEY,\n",
    "             C_nom VARCHAR(25) NOT NULL,\n",
    "             C_dep TINYINT(2) NOT NULL,\n",
    "             C_cp SMALLINT NOT NULL\n",
    "             )\n",
    "          \"\"\"\n",
    "for query in [typeEvenement, organisme, commune]:\n",
    "    sqlQuery(query)"
   ]
  },
  {
   "cell_type": "markdown",
   "metadata": {},
   "source": [
    "#### 1.3 Créer en dernier la table qui possède des clés étrangères."
   ]
  },
  {
   "cell_type": "code",
   "execution_count": 8,
   "metadata": {},
   "outputs": [],
   "source": [
    "evenement = \"\"\"CREATE TABLE IF NOT EXISTS evenement(\n",
    "               E_id INTEGER PRIMARY KEY,\n",
    "               E_titre VARCHAR(25) NOT NULL,\n",
    "               E_typeID TINYINT(2),\n",
    "               E_dateDebut DATE,\n",
    "               E_dateFin DATE,\n",
    "               E_organismeID INTEGER,\n",
    "               E_communeID INTEGER,\n",
    "               E_gps VARCHAR(25) NOT NULL,\n",
    "               E_tarifGene FLOAT,\n",
    "               E_tarifReduit FLOAT,\n",
    "               E_gratuit BOOL NOT NULL,\n",
    "               E_complet BOOL,\n",
    "               E_ageMin TINYINT(2),\n",
    "               E_ageMax TINYINT(3),\n",
    "               E_accessibilite CHAR,\n",
    "               E_description LONGTEXT,\n",
    "               FOREIGN KEY (E_typeID) REFERENCES typeEvenement(TE_id),\n",
    "               FOREIGN KEY (E_organismeID) REFERENCES organisme(O_id),\n",
    "               FOREIGN KEY (E_communeID) REFERENCES commune(C_INSEE)\n",
    "               )\n",
    "            \"\"\"\n",
    "\n",
    "sqlQuery(evenement)"
   ]
  },
  {
   "cell_type": "code",
   "execution_count": 9,
   "metadata": {},
   "outputs": [],
   "source": [
    "cnx.close()"
   ]
  }
 ],
 "metadata": {
  "kernelspec": {
   "display_name": "Python 3",
   "language": "python",
   "name": "python3"
  },
  "language_info": {
   "codemirror_mode": {
    "name": "ipython",
    "version": 3
   },
   "file_extension": ".py",
   "mimetype": "text/x-python",
   "name": "python",
   "nbconvert_exporter": "python",
   "pygments_lexer": "ipython3",
   "version": "3.7.6"
  }
 },
 "nbformat": 4,
 "nbformat_minor": 4
}
