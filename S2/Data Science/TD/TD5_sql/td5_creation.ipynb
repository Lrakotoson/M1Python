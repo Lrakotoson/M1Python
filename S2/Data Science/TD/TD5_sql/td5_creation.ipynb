{
 "cells": [
  {
   "cell_type": "code",
   "execution_count": 1,
   "metadata": {},
   "outputs": [
    {
     "data": {
      "text/plain": [
       "\"Script permettant de créer et d'interroger une base de données SQL\""
      ]
     },
     "execution_count": 1,
     "metadata": {},
     "output_type": "execute_result"
    }
   ],
   "source": [
    "\"\"\"Script permettant de créer et d'interroger une base de données SQL\"\"\"\n",
    "################################################################################\n",
    "# fichier  : td5_creation.py\n",
    "# Auteur : RAKOTOSON Loic\n",
    "################################################################################"
   ]
  },
  {
   "cell_type": "code",
   "execution_count": 2,
   "metadata": {},
   "outputs": [],
   "source": [
    "################################################################################\n",
    "# Importation de fonctions externes :\n",
    "import sqlite3 as db\n",
    "import csv\n",
    "\n",
    "# Definition locale de fonctions :"
   ]
  },
  {
   "cell_type": "code",
   "execution_count": 3,
   "metadata": {},
   "outputs": [],
   "source": [
    "def sqlQuery(query):\n",
    "    \"\"\"\n",
    "    Execute une requête SQL\n",
    "    query: str, requête\n",
    "    Un objet de classe Connection doit exister\n",
    "    \"\"\"\n",
    "    global cnx\n",
    "    cursor = cnx.cursor()\n",
    "    \n",
    "    try:\n",
    "        cursor.execute(query)\n",
    "        cnx.commit()\n",
    "    except:\n",
    "        cnx.rollback()\n",
    "    "
   ]
  },
  {
   "cell_type": "code",
   "execution_count": 4,
   "metadata": {},
   "outputs": [],
   "source": [
    "def typage(data):\n",
    "    \"\"\"\n",
    "    Adapte et crée les données pour être sql-friendly\n",
    "    :data: liste de liste\n",
    "    :return: liste de liste\n",
    "    \"\"\"\n",
    "    for i, ligne in enumerate(data):\n",
    "        data[i].append(\" \".join(\n",
    "            [data[i][k] for k in [14, 15, 16, 55, 56, 57] if data[i][k]]))\n",
    "        for j, col in enumerate(ligne):\n",
    "            if col == \"\":\n",
    "                data[i][j] = \"NULL\"\n",
    "            elif col.strip().isdigit():\n",
    "                data[i][j] = int(data[i][j])\n",
    "            else:\n",
    "                data[i][j] = \"'{}'\".format(data[i][j].replace(\"'\", \" \"))\n",
    "    return data"
   ]
  },
  {
   "cell_type": "code",
   "execution_count": 5,
   "metadata": {},
   "outputs": [],
   "source": [
    "def insertInto(table, listValues):\n",
    "    \"\"\"\n",
    "    Insère une liste de valeurs dans une table existante\n",
    "    :table: str, nom de la table\n",
    "    :listValues: liste de liste de valeurs\n",
    "    :return: None\n",
    "    \"\"\"\n",
    "    for values in listValues:\n",
    "        query = \"\"\"INSERT INTO \"\"\" + table + \"\"\" VALUES(\n",
    "                \"\"\" + (\"{},\" * len(values))[:-1] + \"\"\"\n",
    "                )\"\"\"\n",
    "        \n",
    "        sqlQuery(query.format(*values))"
   ]
  },
  {
   "cell_type": "code",
   "execution_count": 6,
   "metadata": {},
   "outputs": [],
   "source": [
    "################################################################################\n",
    "# Corps principal du programme :"
   ]
  },
  {
   "cell_type": "markdown",
   "metadata": {},
   "source": [
    "# Exercice 1: Création de la base\n",
    "Lire le fichier agenda_culturel.csv à l'aide du module csv de Python et placer les données dans une liste Python `dataCSV`.\n",
    "\n",
    "La fonction `typage( )` a été créée pour formater les données afin qu'elles soient sql-friendly et adaptées à notre structure."
   ]
  },
  {
   "cell_type": "code",
   "execution_count": 7,
   "metadata": {},
   "outputs": [],
   "source": [
    "with open(\"agenda_culturel.csv\", \"r\", encoding=\"UTF8\") as f:\n",
    "    dataCSV = list(csv.reader(f, delimiter=\";\"))"
   ]
  },
  {
   "cell_type": "code",
   "execution_count": 8,
   "metadata": {},
   "outputs": [],
   "source": [
    "dataCSV = typage(dataCSV)"
   ]
  },
  {
   "cell_type": "markdown",
   "metadata": {},
   "source": [
    "## Question 1\n",
    "#### 1.1 Placer en premier les instructions permettant de supprimer les tables si elles existent (utile pour repartir à zéro lorsqu'on fait plusieurs essais). On veillera à supprimer en premier la table qui possède des clés étrangères."
   ]
  },
  {
   "cell_type": "code",
   "execution_count": 10,
   "metadata": {},
   "outputs": [],
   "source": [
    "tables = [\"typeEvenement\", \"organisme\", \"commune\", \"evenement\"]\n",
    "cnx = db.connect(\"base.sqlite\")\n",
    "cursor = cnx.cursor()\n",
    "for tb in tables:\n",
    "    query = \"DROP TABLE IF EXISTS \" + tb\n",
    "    cursor.execute(query)\n",
    "    cnx.commit()"
   ]
  },
  {
   "cell_type": "markdown",
   "metadata": {},
   "source": [
    "#### 1.2 Créer ensuite les tables ne possédant pas de clé étrangère.\n",
    "La fonction `sqlQuery( )` a été créée pour exécuter et commit les requêtes en gérant les exceptions."
   ]
  },
  {
   "cell_type": "code",
   "execution_count": 11,
   "metadata": {},
   "outputs": [],
   "source": [
    "typeEvenement = \"\"\"CREATE TABLE IF NOT EXISTS typeEvenement(\n",
    "                   TE_id TINYINT(2) PRIMARY KEY,\n",
    "                   TE_nom VARCHAR(30) NOT NULL,\n",
    "                   TE_theme TEXT CHECK(TE_theme IN ('Loisir', 'Pratique')) NOT NULL\n",
    "                   )\n",
    "                \"\"\"\n",
    "organisme = \"\"\"CREATE TABLE IF NOT EXISTS organisme(\n",
    "               O_id INTEGER PRIMARY KEY,\n",
    "               O_nom VARCHAR(30) NOT NULL,\n",
    "               O_type VARCHAR(25) NOT NULL\n",
    "               )\n",
    "            \"\"\"\n",
    "\n",
    "commune = \"\"\"CREATE TABLE IF NOT EXISTS commune(\n",
    "             C_INSEE INTEGER PRIMARY KEY,\n",
    "             C_nom VARCHAR(25) NOT NULL,\n",
    "             C_dep TINYINT(2) NOT NULL,\n",
    "             C_cp SMALLINT NOT NULL\n",
    "             )\n",
    "          \"\"\"\n",
    "for query in [typeEvenement, organisme, commune]:\n",
    "    sqlQuery(query)"
   ]
  },
  {
   "cell_type": "markdown",
   "metadata": {},
   "source": [
    "#### 1.3 Créer en dernier la table qui possède des clés étrangères."
   ]
  },
  {
   "cell_type": "code",
   "execution_count": 12,
   "metadata": {},
   "outputs": [],
   "source": [
    "evenement = \"\"\"CREATE TABLE IF NOT EXISTS evenement(\n",
    "               E_id INTEGER PRIMARY KEY,\n",
    "               E_titre VARCHAR(50) NOT NULL,\n",
    "               E_typeID TINYINT(2),\n",
    "               E_dateDebut DATE,\n",
    "               E_dateFin DATE,\n",
    "               E_organismeID INTEGER,\n",
    "               E_communeID INTEGER,\n",
    "               E_gps VARCHAR(25) NOT NULL,\n",
    "               E_tarifGene FLOAT,\n",
    "               E_tarifReduit FLOAT,\n",
    "               E_gratuit BOOL NOT NULL,\n",
    "               E_complet BOOL,\n",
    "               E_ageMin TINYINT(2),\n",
    "               E_ageMax TINYINT(3),\n",
    "               E_accessibilite CHAR,\n",
    "               E_description LONGTEXT,\n",
    "               FOREIGN KEY (E_typeID) REFERENCES typeEvenement(TE_id),\n",
    "               FOREIGN KEY (E_organismeID) REFERENCES organisme(O_id),\n",
    "               FOREIGN KEY (E_communeID) REFERENCES commune(C_INSEE)\n",
    "               )\n",
    "            \"\"\"\n",
    "\n",
    "sqlQuery(evenement)"
   ]
  },
  {
   "cell_type": "markdown",
   "metadata": {},
   "source": [
    "## Question 2\n",
    "Remplir les tables créées grâce aux données contenues dans le fichier CSV.\n",
    "#### 1. Remplir d'abord les tables ne possédant pas de clé étrangères\n",
    "La fonction `insertInto( )` a été créée pour effectuer l'insertion des données en fonction de la structure de la table."
   ]
  },
  {
   "cell_type": "code",
   "execution_count": 13,
   "metadata": {},
   "outputs": [],
   "source": [
    "typeEvent = list({tuple(data[i] for i in [2, 1, 8]) for data in dataCSV[1:]})\n",
    "insertInto(\"typeEvenement\", typeEvent)"
   ]
  },
  {
   "cell_type": "code",
   "execution_count": 14,
   "metadata": {},
   "outputs": [],
   "source": [
    "orga = list({tuple(data[i] for i in [6, 4, 5]) for data in dataCSV[1:]})\n",
    "insertInto(\"organisme\", orga)"
   ]
  },
  {
   "cell_type": "code",
   "execution_count": 15,
   "metadata": {},
   "outputs": [],
   "source": [
    "comm = list({tuple(data[i] for i in [19, 17, 18, 20]) for data in dataCSV[1:]})\n",
    "insertInto(\"commune\", comm)"
   ]
  },
  {
   "cell_type": "markdown",
   "metadata": {},
   "source": [
    "#### 2. Remplir ensuite la table possédant des clés étrangères"
   ]
  },
  {
   "cell_type": "code",
   "execution_count": 16,
   "metadata": {},
   "outputs": [],
   "source": [
    "event = list({\n",
    "    tuple(\n",
    "        data[i]\n",
    "        for i in [0, 13, 2, 28, 29, 6, 19, 21, 32, 33, 30, 47, 44, 45, 48, 70])\n",
    "    for data in dataCSV[1:]\n",
    "})"
   ]
  },
  {
   "cell_type": "code",
   "execution_count": 17,
   "metadata": {},
   "outputs": [],
   "source": [
    "insertInto(\"evenement\", event)"
   ]
  },
  {
   "cell_type": "markdown",
   "metadata": {},
   "source": [
    "<hr>\n",
    "Fermeture de la connexion."
   ]
  },
  {
   "cell_type": "code",
   "execution_count": 18,
   "metadata": {},
   "outputs": [],
   "source": [
    "cnx.close()"
   ]
  }
 ],
 "metadata": {
  "kernelspec": {
   "display_name": "Python 3",
   "language": "python",
   "name": "python3"
  },
  "language_info": {
   "codemirror_mode": {
    "name": "ipython",
    "version": 3
   },
   "file_extension": ".py",
   "mimetype": "text/x-python",
   "name": "python",
   "nbconvert_exporter": "python",
   "pygments_lexer": "ipython3",
   "version": "3.7.6"
  }
 },
 "nbformat": 4,
 "nbformat_minor": 4
}
